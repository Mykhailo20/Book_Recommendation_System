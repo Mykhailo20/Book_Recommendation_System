{
 "cells": [
  {
   "cell_type": "code",
   "execution_count": 107,
   "id": "ccbcc394-b673-4312-868f-daf6897bd0da",
   "metadata": {},
   "outputs": [],
   "source": [
    "from datetime import date\n",
    "\n",
    "import pandas as pd\n",
    "from scipy.sparse import coo_matrix"
   ]
  },
  {
   "cell_type": "code",
   "execution_count": 51,
   "id": "a193580b-298b-4522-9e9e-47164cca3330",
   "metadata": {},
   "outputs": [],
   "source": [
    "MIN_USERS_OVERLAP_COEFF = 0.5 # The minimum percentage of co-read books between current_user and overlapped_user to be used to create a recommendation\n",
    "MIN_BOOKS_NO_TO_USE_OVERLAP_COEFF = 2 # The minimum number of books read and rated by current_user before the MIN_USERS_OVERLAP_COEFF factor will be used to filter overlapped_users"
   ]
  },
  {
   "cell_type": "markdown",
   "id": "dd4752de-7359-4469-a657-50287f767ee0",
   "metadata": {
    "jp-MarkdownHeadingCollapsed": true
   },
   "source": [
    "## Read and check datasets"
   ]
  },
  {
   "cell_type": "code",
   "execution_count": 2,
   "id": "427888ee-56ed-46f6-8141-b5cab5f1d6c3",
   "metadata": {},
   "outputs": [
    {
     "name": "stdout",
     "output_type": "stream",
     "text": [
      "books_df.shape = (271360, 8)\n",
      "users_df.shape = (278858, 3)\n",
      "ratings_df.shape = (1149780, 3)\n"
     ]
    }
   ],
   "source": [
    "books_df = pd.read_csv('../data/processed_data/Books.csv')\n",
    "users_df = pd.read_csv('../data/processed_data/Users.csv')\n",
    "ratings_df = pd.read_csv('../data/processed_data/Ratings.csv')\n",
    "\n",
    "print(f\"books_df.shape = {books_df.shape}\")\n",
    "print(f\"users_df.shape = {users_df.shape}\")\n",
    "print(f\"ratings_df.shape = {ratings_df.shape}\")"
   ]
  },
  {
   "cell_type": "code",
   "execution_count": 3,
   "id": "78aa32ee-d893-4ac5-9ee2-0da66adfaf80",
   "metadata": {},
   "outputs": [
    {
     "data": {
      "text/html": [
       "<div>\n",
       "<style scoped>\n",
       "    .dataframe tbody tr th:only-of-type {\n",
       "        vertical-align: middle;\n",
       "    }\n",
       "\n",
       "    .dataframe tbody tr th {\n",
       "        vertical-align: top;\n",
       "    }\n",
       "\n",
       "    .dataframe thead th {\n",
       "        text-align: right;\n",
       "    }\n",
       "</style>\n",
       "<table border=\"1\" class=\"dataframe\">\n",
       "  <thead>\n",
       "    <tr style=\"text-align: right;\">\n",
       "      <th></th>\n",
       "      <th>column</th>\n",
       "      <th>missing_count</th>\n",
       "      <th>missing_percentage</th>\n",
       "    </tr>\n",
       "  </thead>\n",
       "  <tbody>\n",
       "    <tr>\n",
       "      <th>0</th>\n",
       "      <td>isbn</td>\n",
       "      <td>0</td>\n",
       "      <td>0.000000</td>\n",
       "    </tr>\n",
       "    <tr>\n",
       "      <th>1</th>\n",
       "      <td>title</td>\n",
       "      <td>0</td>\n",
       "      <td>0.000000</td>\n",
       "    </tr>\n",
       "    <tr>\n",
       "      <th>2</th>\n",
       "      <td>author</td>\n",
       "      <td>0</td>\n",
       "      <td>0.000000</td>\n",
       "    </tr>\n",
       "    <tr>\n",
       "      <th>3</th>\n",
       "      <td>publication_year</td>\n",
       "      <td>0</td>\n",
       "      <td>0.000000</td>\n",
       "    </tr>\n",
       "    <tr>\n",
       "      <th>4</th>\n",
       "      <td>publisher</td>\n",
       "      <td>2</td>\n",
       "      <td>0.000737</td>\n",
       "    </tr>\n",
       "    <tr>\n",
       "      <th>5</th>\n",
       "      <td>image-url-s</td>\n",
       "      <td>0</td>\n",
       "      <td>0.000000</td>\n",
       "    </tr>\n",
       "    <tr>\n",
       "      <th>6</th>\n",
       "      <td>image-url-m</td>\n",
       "      <td>0</td>\n",
       "      <td>0.000000</td>\n",
       "    </tr>\n",
       "    <tr>\n",
       "      <th>7</th>\n",
       "      <td>image-url-l</td>\n",
       "      <td>0</td>\n",
       "      <td>0.000000</td>\n",
       "    </tr>\n",
       "  </tbody>\n",
       "</table>\n",
       "</div>"
      ],
      "text/plain": [
       "             column  missing_count  missing_percentage\n",
       "0              isbn              0            0.000000\n",
       "1             title              0            0.000000\n",
       "2            author              0            0.000000\n",
       "3  publication_year              0            0.000000\n",
       "4         publisher              2            0.000737\n",
       "5       image-url-s              0            0.000000\n",
       "6       image-url-m              0            0.000000\n",
       "7       image-url-l              0            0.000000"
      ]
     },
     "execution_count": 3,
     "metadata": {},
     "output_type": "execute_result"
    }
   ],
   "source": [
    "missing_info_df = pd.DataFrame({\n",
    "    'missing_count': books_df.isnull().sum(),\n",
    "    'missing_percentage': (books_df.isnull().sum() / len(books_df)) * 100\n",
    "}).reset_index().rename(columns={'index': 'column'})\n",
    "\n",
    "# author - 0, image-url-l - 0\n",
    "missing_info_df"
   ]
  },
  {
   "cell_type": "code",
   "execution_count": 6,
   "id": "9142e1a2-4cb9-493c-9817-f3397df41a0a",
   "metadata": {},
   "outputs": [
    {
     "data": {
      "text/html": [
       "<div>\n",
       "<style scoped>\n",
       "    .dataframe tbody tr th:only-of-type {\n",
       "        vertical-align: middle;\n",
       "    }\n",
       "\n",
       "    .dataframe tbody tr th {\n",
       "        vertical-align: top;\n",
       "    }\n",
       "\n",
       "    .dataframe thead th {\n",
       "        text-align: right;\n",
       "    }\n",
       "</style>\n",
       "<table border=\"1\" class=\"dataframe\">\n",
       "  <thead>\n",
       "    <tr style=\"text-align: right;\">\n",
       "      <th></th>\n",
       "      <th>isbn</th>\n",
       "      <th>title</th>\n",
       "      <th>author</th>\n",
       "      <th>publication_year</th>\n",
       "      <th>publisher</th>\n",
       "      <th>image-url-s</th>\n",
       "      <th>image-url-m</th>\n",
       "      <th>image-url-l</th>\n",
       "    </tr>\n",
       "  </thead>\n",
       "  <tbody>\n",
       "  </tbody>\n",
       "</table>\n",
       "</div>"
      ],
      "text/plain": [
       "Empty DataFrame\n",
       "Columns: [isbn, title, author, publication_year, publisher, image-url-s, image-url-m, image-url-l]\n",
       "Index: []"
      ]
     },
     "execution_count": 6,
     "metadata": {},
     "output_type": "execute_result"
    }
   ],
   "source": [
    "# Should be zero records\n",
    "books_df[books_df['publication_year'] > date.today().year]"
   ]
  },
  {
   "cell_type": "code",
   "execution_count": 7,
   "id": "8100ec8d-d8d3-4d22-b233-0ffed233664c",
   "metadata": {},
   "outputs": [
    {
     "data": {
      "text/html": [
       "<div>\n",
       "<style scoped>\n",
       "    .dataframe tbody tr th:only-of-type {\n",
       "        vertical-align: middle;\n",
       "    }\n",
       "\n",
       "    .dataframe tbody tr th {\n",
       "        vertical-align: top;\n",
       "    }\n",
       "\n",
       "    .dataframe thead th {\n",
       "        text-align: right;\n",
       "    }\n",
       "</style>\n",
       "<table border=\"1\" class=\"dataframe\">\n",
       "  <thead>\n",
       "    <tr style=\"text-align: right;\">\n",
       "      <th></th>\n",
       "      <th>isbn</th>\n",
       "      <th>title</th>\n",
       "      <th>author</th>\n",
       "      <th>publication_year</th>\n",
       "      <th>publisher</th>\n",
       "      <th>image-url-s</th>\n",
       "      <th>image-url-m</th>\n",
       "      <th>image-url-l</th>\n",
       "    </tr>\n",
       "  </thead>\n",
       "  <tbody>\n",
       "    <tr>\n",
       "      <th>0</th>\n",
       "      <td>0195153448</td>\n",
       "      <td>Classical Mythology</td>\n",
       "      <td>Mark P. O. Morford</td>\n",
       "      <td>2002</td>\n",
       "      <td>Oxford University Press</td>\n",
       "      <td>http://images.amazon.com/images/P/0195153448.0...</td>\n",
       "      <td>http://images.amazon.com/images/P/0195153448.0...</td>\n",
       "      <td>http://images.amazon.com/images/P/0195153448.0...</td>\n",
       "    </tr>\n",
       "    <tr>\n",
       "      <th>1</th>\n",
       "      <td>0002005018</td>\n",
       "      <td>Clara Callan</td>\n",
       "      <td>Richard Bruce Wright</td>\n",
       "      <td>2001</td>\n",
       "      <td>HarperFlamingo Canada</td>\n",
       "      <td>http://images.amazon.com/images/P/0002005018.0...</td>\n",
       "      <td>http://images.amazon.com/images/P/0002005018.0...</td>\n",
       "      <td>http://images.amazon.com/images/P/0002005018.0...</td>\n",
       "    </tr>\n",
       "    <tr>\n",
       "      <th>2</th>\n",
       "      <td>0060973129</td>\n",
       "      <td>Decision in Normandy</td>\n",
       "      <td>Carlo D'Este</td>\n",
       "      <td>1991</td>\n",
       "      <td>HarperPerennial</td>\n",
       "      <td>http://images.amazon.com/images/P/0060973129.0...</td>\n",
       "      <td>http://images.amazon.com/images/P/0060973129.0...</td>\n",
       "      <td>http://images.amazon.com/images/P/0060973129.0...</td>\n",
       "    </tr>\n",
       "  </tbody>\n",
       "</table>\n",
       "</div>"
      ],
      "text/plain": [
       "         isbn                 title                author  publication_year  \\\n",
       "0  0195153448   Classical Mythology    Mark P. O. Morford              2002   \n",
       "1  0002005018          Clara Callan  Richard Bruce Wright              2001   \n",
       "2  0060973129  Decision in Normandy          Carlo D'Este              1991   \n",
       "\n",
       "                 publisher                                        image-url-s  \\\n",
       "0  Oxford University Press  http://images.amazon.com/images/P/0195153448.0...   \n",
       "1    HarperFlamingo Canada  http://images.amazon.com/images/P/0002005018.0...   \n",
       "2          HarperPerennial  http://images.amazon.com/images/P/0060973129.0...   \n",
       "\n",
       "                                         image-url-m  \\\n",
       "0  http://images.amazon.com/images/P/0195153448.0...   \n",
       "1  http://images.amazon.com/images/P/0002005018.0...   \n",
       "2  http://images.amazon.com/images/P/0060973129.0...   \n",
       "\n",
       "                                         image-url-l  \n",
       "0  http://images.amazon.com/images/P/0195153448.0...  \n",
       "1  http://images.amazon.com/images/P/0002005018.0...  \n",
       "2  http://images.amazon.com/images/P/0060973129.0...  "
      ]
     },
     "execution_count": 7,
     "metadata": {},
     "output_type": "execute_result"
    }
   ],
   "source": [
    "books_df.head(3)"
   ]
  },
  {
   "cell_type": "code",
   "execution_count": 8,
   "id": "287d9c54-1351-47c1-93af-ff22c2a494a7",
   "metadata": {},
   "outputs": [
    {
     "data": {
      "text/html": [
       "<div>\n",
       "<style scoped>\n",
       "    .dataframe tbody tr th:only-of-type {\n",
       "        vertical-align: middle;\n",
       "    }\n",
       "\n",
       "    .dataframe tbody tr th {\n",
       "        vertical-align: top;\n",
       "    }\n",
       "\n",
       "    .dataframe thead th {\n",
       "        text-align: right;\n",
       "    }\n",
       "</style>\n",
       "<table border=\"1\" class=\"dataframe\">\n",
       "  <thead>\n",
       "    <tr style=\"text-align: right;\">\n",
       "      <th></th>\n",
       "      <th>user_id</th>\n",
       "      <th>location</th>\n",
       "      <th>age</th>\n",
       "    </tr>\n",
       "  </thead>\n",
       "  <tbody>\n",
       "    <tr>\n",
       "      <th>0</th>\n",
       "      <td>1</td>\n",
       "      <td>nyc, new york, usa</td>\n",
       "      <td>NaN</td>\n",
       "    </tr>\n",
       "    <tr>\n",
       "      <th>1</th>\n",
       "      <td>2</td>\n",
       "      <td>stockton, california, usa</td>\n",
       "      <td>18.0</td>\n",
       "    </tr>\n",
       "    <tr>\n",
       "      <th>2</th>\n",
       "      <td>3</td>\n",
       "      <td>moscow, yukon territory, russia</td>\n",
       "      <td>NaN</td>\n",
       "    </tr>\n",
       "  </tbody>\n",
       "</table>\n",
       "</div>"
      ],
      "text/plain": [
       "   user_id                         location   age\n",
       "0        1               nyc, new york, usa   NaN\n",
       "1        2        stockton, california, usa  18.0\n",
       "2        3  moscow, yukon territory, russia   NaN"
      ]
     },
     "execution_count": 8,
     "metadata": {},
     "output_type": "execute_result"
    }
   ],
   "source": [
    "users_df.head(3)"
   ]
  },
  {
   "cell_type": "code",
   "execution_count": 10,
   "id": "b7a50fe4-d744-4c7d-99cf-86a0d846e925",
   "metadata": {},
   "outputs": [
    {
     "data": {
      "text/html": [
       "<div>\n",
       "<style scoped>\n",
       "    .dataframe tbody tr th:only-of-type {\n",
       "        vertical-align: middle;\n",
       "    }\n",
       "\n",
       "    .dataframe tbody tr th {\n",
       "        vertical-align: top;\n",
       "    }\n",
       "\n",
       "    .dataframe thead th {\n",
       "        text-align: right;\n",
       "    }\n",
       "</style>\n",
       "<table border=\"1\" class=\"dataframe\">\n",
       "  <thead>\n",
       "    <tr style=\"text-align: right;\">\n",
       "      <th></th>\n",
       "      <th>user_id</th>\n",
       "      <th>isbn</th>\n",
       "      <th>rating</th>\n",
       "    </tr>\n",
       "  </thead>\n",
       "  <tbody>\n",
       "    <tr>\n",
       "      <th>0</th>\n",
       "      <td>276725</td>\n",
       "      <td>034545104X</td>\n",
       "      <td>0</td>\n",
       "    </tr>\n",
       "    <tr>\n",
       "      <th>1</th>\n",
       "      <td>276726</td>\n",
       "      <td>0155061224</td>\n",
       "      <td>5</td>\n",
       "    </tr>\n",
       "    <tr>\n",
       "      <th>2</th>\n",
       "      <td>276727</td>\n",
       "      <td>0446520802</td>\n",
       "      <td>0</td>\n",
       "    </tr>\n",
       "  </tbody>\n",
       "</table>\n",
       "</div>"
      ],
      "text/plain": [
       "   user_id        isbn  rating\n",
       "0   276725  034545104X       0\n",
       "1   276726  0155061224       5\n",
       "2   276727  0446520802       0"
      ]
     },
     "execution_count": 10,
     "metadata": {},
     "output_type": "execute_result"
    }
   ],
   "source": [
    "ratings_df.head(3)"
   ]
  },
  {
   "cell_type": "markdown",
   "id": "f9769cac-b0dc-4088-acac-4c24931ac5bd",
   "metadata": {
    "jp-MarkdownHeadingCollapsed": true
   },
   "source": [
    "## Find users with similar book preferences as the current user"
   ]
  },
  {
   "cell_type": "code",
   "execution_count": 15,
   "id": "69d7ad4b-ab45-4c64-8def-dca842b366f3",
   "metadata": {},
   "outputs": [],
   "source": [
    "books_user_like = [\n",
    "    '0590353403',   # Harry Potter and the Sorcerer's Stone (Book 1)\n",
    "    '0439064872',   # Harry Potter and the Chamber of Secrets (Book 2)\n",
    "    '0345350499'    # The Mists of Avalon\n",
    "]\n",
    "\n",
    "books_user_like_titles = [\n",
    "    \"Harry Potter and the Sorcerer's Stone (Book 1)\", \n",
    "    \"Harry Potter and the Chamber of Secrets (Book 2)\",\n",
    "    \"The Mists of Avalon\"\n",
    "]"
   ]
  },
  {
   "cell_type": "code",
   "execution_count": 99,
   "id": "dc6ee76f-b0bd-4f4b-bd25-650098ddc09e",
   "metadata": {},
   "outputs": [
    {
     "data": {
      "text/html": [
       "<div>\n",
       "<style scoped>\n",
       "    .dataframe tbody tr th:only-of-type {\n",
       "        vertical-align: middle;\n",
       "    }\n",
       "\n",
       "    .dataframe tbody tr th {\n",
       "        vertical-align: top;\n",
       "    }\n",
       "\n",
       "    .dataframe thead th {\n",
       "        text-align: right;\n",
       "    }\n",
       "</style>\n",
       "<table border=\"1\" class=\"dataframe\">\n",
       "  <thead>\n",
       "    <tr style=\"text-align: right;\">\n",
       "      <th></th>\n",
       "      <th>user_id</th>\n",
       "      <th>isbn</th>\n",
       "      <th>title</th>\n",
       "      <th>rating</th>\n",
       "    </tr>\n",
       "  </thead>\n",
       "  <tbody>\n",
       "    <tr>\n",
       "      <th>0</th>\n",
       "      <td>-1</td>\n",
       "      <td>0590353403</td>\n",
       "      <td>Harry Potter and the Sorcerer's Stone (Book 1)</td>\n",
       "      <td>10</td>\n",
       "    </tr>\n",
       "    <tr>\n",
       "      <th>1</th>\n",
       "      <td>-1</td>\n",
       "      <td>0439064872</td>\n",
       "      <td>Harry Potter and the Chamber of Secrets (Book 2)</td>\n",
       "      <td>9</td>\n",
       "    </tr>\n",
       "    <tr>\n",
       "      <th>2</th>\n",
       "      <td>-1</td>\n",
       "      <td>0345350499</td>\n",
       "      <td>The Mists of Avalon</td>\n",
       "      <td>10</td>\n",
       "    </tr>\n",
       "  </tbody>\n",
       "</table>\n",
       "</div>"
      ],
      "text/plain": [
       "   user_id        isbn                                             title  \\\n",
       "0       -1  0590353403    Harry Potter and the Sorcerer's Stone (Book 1)   \n",
       "1       -1  0439064872  Harry Potter and the Chamber of Secrets (Book 2)   \n",
       "2       -1  0345350499                               The Mists of Avalon   \n",
       "\n",
       "   rating  \n",
       "0      10  \n",
       "1       9  \n",
       "2      10  "
      ]
     },
     "execution_count": 99,
     "metadata": {},
     "output_type": "execute_result"
    }
   ],
   "source": [
    "current_user_id = -1\n",
    "\n",
    "books_user_like_dict = {\n",
    "    'user_id': [current_user_id for _ in range(len(books_user_like))],\n",
    "    'isbn': books_user_like,\n",
    "    'title': books_user_like_titles,\n",
    "    'rating': [10, 9, 10]\n",
    "}\n",
    "\n",
    "books_user_like_df = pd.DataFrame.from_dict(books_user_like_dict)\n",
    "books_user_like_df"
   ]
  },
  {
   "cell_type": "code",
   "execution_count": 100,
   "id": "e008d47b-8f8b-4b14-a0e8-7cf8825caa8b",
   "metadata": {},
   "outputs": [
    {
     "name": "stdout",
     "output_type": "stream",
     "text": [
      "books_user_like_set = {'0439064872', '0590353403', '0345350499'}\n"
     ]
    }
   ],
   "source": [
    "books_user_like_set = set(books_user_like_df['isbn'])   # Because theoretically, a user could give several ratings to a book with the same title\n",
    "print(f\"books_user_like_set = {books_user_like_set}\")"
   ]
  },
  {
   "cell_type": "code",
   "execution_count": 29,
   "id": "3bb29da2-d975-4360-9ffd-c469fa96021c",
   "metadata": {},
   "outputs": [
    {
     "name": "stdout",
     "output_type": "stream",
     "text": [
      "len(overlap_users) = 664\n"
     ]
    }
   ],
   "source": [
    "# Users who read the same books as the current_user\n",
    "overlap_users = {}\n",
    "\n",
    "for index, row in ratings_df.iterrows():\n",
    "    user_id = row['user_id']\n",
    "    book_isbn = row['isbn']\n",
    "    if book_isbn in books_user_like_set:\n",
    "        if user_id not in overlap_users:\n",
    "            overlap_users[user_id] = 1\n",
    "        else:\n",
    "            overlap_users[user_id] += 1 # Track how many books read and rated by current_user have been read and rated by the current user in a loop\n",
    "\n",
    "print(f\"len(overlap_users) = {len(overlap_users)}\")"
   ]
  },
  {
   "cell_type": "code",
   "execution_count": 35,
   "id": "43349ecd-8d88-4dd1-83ef-1e5f8d2ea610",
   "metadata": {},
   "outputs": [
    {
     "name": "stdout",
     "output_type": "stream",
     "text": [
      "len(overlap_user_ids_list) = 664\n",
      "overlap_user_ids_list[:10] = [277427, 278356, 278582, 254, 1725, 2033, 2179, 2337, 2793, 2855]\n"
     ]
    }
   ],
   "source": [
    "# To check the results\n",
    "overlap_user_ids_list = list(overlap_users.keys())\n",
    "print(f\"len(overlap_user_ids_list) = {len(overlap_user_ids_list)}\")\n",
    "print(f\"overlap_user_ids_list[:10] = {overlap_user_ids_list[:10]}\")"
   ]
  },
  {
   "cell_type": "code",
   "execution_count": 43,
   "id": "f1721ad3-d634-461d-b454-98b8a72be8c1",
   "metadata": {},
   "outputs": [
    {
     "data": {
      "text/html": [
       "<div>\n",
       "<style scoped>\n",
       "    .dataframe tbody tr th:only-of-type {\n",
       "        vertical-align: middle;\n",
       "    }\n",
       "\n",
       "    .dataframe tbody tr th {\n",
       "        vertical-align: top;\n",
       "    }\n",
       "\n",
       "    .dataframe thead th {\n",
       "        text-align: right;\n",
       "    }\n",
       "</style>\n",
       "<table border=\"1\" class=\"dataframe\">\n",
       "  <thead>\n",
       "    <tr style=\"text-align: right;\">\n",
       "      <th></th>\n",
       "      <th>user_id</th>\n",
       "      <th>isbn</th>\n",
       "      <th>rating</th>\n",
       "    </tr>\n",
       "  </thead>\n",
       "  <tbody>\n",
       "    <tr>\n",
       "      <th>1629</th>\n",
       "      <td>277427</td>\n",
       "      <td>0439064872</td>\n",
       "      <td>0</td>\n",
       "    </tr>\n",
       "  </tbody>\n",
       "</table>\n",
       "</div>"
      ],
      "text/plain": [
       "      user_id        isbn  rating\n",
       "1629   277427  0439064872       0"
      ]
     },
     "execution_count": 43,
     "metadata": {},
     "output_type": "execute_result"
    }
   ],
   "source": [
    "# Check the results for one user\n",
    "result = (\n",
    "    ratings_df[['user_id', 'isbn']]\n",
    "    .apply(lambda row: row['user_id'] == 277427 and row['isbn'] in books_user_like_set, axis=1)\n",
    ")\n",
    "ratings_df[result]"
   ]
  },
  {
   "cell_type": "code",
   "execution_count": 44,
   "id": "3bb9b731-2020-4cf3-ba2a-fea88373b799",
   "metadata": {},
   "outputs": [
    {
     "data": {
      "text/html": [
       "<div>\n",
       "<style scoped>\n",
       "    .dataframe tbody tr th:only-of-type {\n",
       "        vertical-align: middle;\n",
       "    }\n",
       "\n",
       "    .dataframe tbody tr th {\n",
       "        vertical-align: top;\n",
       "    }\n",
       "\n",
       "    .dataframe thead th {\n",
       "        text-align: right;\n",
       "    }\n",
       "</style>\n",
       "<table border=\"1\" class=\"dataframe\">\n",
       "  <thead>\n",
       "    <tr style=\"text-align: right;\">\n",
       "      <th></th>\n",
       "      <th>user_id</th>\n",
       "      <th>isbn</th>\n",
       "      <th>rating</th>\n",
       "    </tr>\n",
       "  </thead>\n",
       "  <tbody>\n",
       "    <tr>\n",
       "      <th>1629</th>\n",
       "      <td>277427</td>\n",
       "      <td>0439064872</td>\n",
       "      <td>0</td>\n",
       "    </tr>\n",
       "    <tr>\n",
       "      <th>4257</th>\n",
       "      <td>278356</td>\n",
       "      <td>0439064872</td>\n",
       "      <td>8</td>\n",
       "    </tr>\n",
       "    <tr>\n",
       "      <th>9138</th>\n",
       "      <td>278582</td>\n",
       "      <td>0345350499</td>\n",
       "      <td>10</td>\n",
       "    </tr>\n",
       "    <tr>\n",
       "      <th>10106</th>\n",
       "      <td>254</td>\n",
       "      <td>0345350499</td>\n",
       "      <td>0</td>\n",
       "    </tr>\n",
       "    <tr>\n",
       "      <th>10209</th>\n",
       "      <td>254</td>\n",
       "      <td>0439064872</td>\n",
       "      <td>9</td>\n",
       "    </tr>\n",
       "    <tr>\n",
       "      <th>10279</th>\n",
       "      <td>254</td>\n",
       "      <td>0590353403</td>\n",
       "      <td>9</td>\n",
       "    </tr>\n",
       "    <tr>\n",
       "      <th>13327</th>\n",
       "      <td>1725</td>\n",
       "      <td>0345350499</td>\n",
       "      <td>0</td>\n",
       "    </tr>\n",
       "  </tbody>\n",
       "</table>\n",
       "</div>"
      ],
      "text/plain": [
       "       user_id        isbn  rating\n",
       "1629    277427  0439064872       0\n",
       "4257    278356  0439064872       8\n",
       "9138    278582  0345350499      10\n",
       "10106      254  0345350499       0\n",
       "10209      254  0439064872       9\n",
       "10279      254  0590353403       9\n",
       "13327     1725  0345350499       0"
      ]
     },
     "execution_count": 44,
     "metadata": {},
     "output_type": "execute_result"
    }
   ],
   "source": [
    "# Check the results for 5 users\n",
    "result = (\n",
    "    ratings_df[['user_id', 'isbn']]\n",
    "    .apply(lambda row: row['user_id'] in overlap_user_ids_list[:5] and row['isbn'] in books_user_like_set, axis=1)\n",
    ")\n",
    "ratings_df[result]"
   ]
  },
  {
   "cell_type": "code",
   "execution_count": 83,
   "id": "957a62ca-be85-40c2-ae99-e4dbdb9c1066",
   "metadata": {},
   "outputs": [
    {
     "name": "stdout",
     "output_type": "stream",
     "text": [
      "len(books_user_like) > MIN_BOOKS_NO_TO_USE_OVERLAP_COEFF: 3 > 2\n",
      "books_thresh = 1\n",
      "len(filtered_overlap_user_ids_set) = 32\n"
     ]
    }
   ],
   "source": [
    "\"\"\" \n",
    "    Filter users, leaving only those who have read all the books of current_user \n",
    "        (if len(books_user_like) <= MIN_BOOKS_NO_TO_USE_OVERLAP_COEFF) \n",
    "    or MIN_USERS_OVERLAP_COEFF a part of the books read by current_user \n",
    "        (if len(books_user_like) > MIN_BOOKS_NO_TO_USE_OVERLAP_COEFF)\n",
    "\"\"\"\n",
    "\n",
    "filtered_overlap_user_ids_set = None\n",
    "if len(books_user_like) <= MIN_BOOKS_NO_TO_USE_OVERLAP_COEFF: \n",
    "    print(f\"len(books_user_like) <= MIN_BOOKS_NO_TO_USE_OVERLAP_COEFF: {len(books_user_like)} <= {MIN_BOOKS_NO_TO_USE_OVERLAP_COEFF}\")\n",
    "    books_thresh = len(books_user_like)\n",
    "    filtered_overlap_user_ids_set = set([k for k in overlap_users if overlap_users[k] >= books_thresh])\n",
    "else:\n",
    "    print(f\"len(books_user_like) > MIN_BOOKS_NO_TO_USE_OVERLAP_COEFF: {len(books_user_like)} > {MIN_BOOKS_NO_TO_USE_OVERLAP_COEFF}\")\n",
    "    books_thresh = int(len(books_user_like) * MIN_USERS_OVERLAP_COEFF)\n",
    "    print(f\"books_thresh = {books_thresh}\")\n",
    "    filtered_overlap_user_ids_set = set([k for k in overlap_users if overlap_users[k] > books_thresh])\n",
    "\n",
    "print(f\"len(filtered_overlap_user_ids_set) = {len(filtered_overlap_user_ids_set)}\")"
   ]
  },
  {
   "cell_type": "markdown",
   "id": "981dae84-0b94-48ad-8966-2a68228400e3",
   "metadata": {
    "jp-MarkdownHeadingCollapsed": true
   },
   "source": [
    "### Check the results"
   ]
  },
  {
   "cell_type": "code",
   "execution_count": 84,
   "id": "f730482f-bc15-444a-b8d1-734f757b30c7",
   "metadata": {},
   "outputs": [
    {
     "name": "stdout",
     "output_type": "stream",
     "text": [
      "len(filtered_overlap_user_ids_set) = 32\n",
      "list(filtered_overlap_user_ids_set)[:10] = [148744, 131594, 30735, 240144, 272786, 226965, 21014, 11676, 252829, 36256]\n"
     ]
    }
   ],
   "source": [
    "# To check the results\n",
    "print(f\"len(filtered_overlap_user_ids_set) = {len(filtered_overlap_user_ids_set)}\")\n",
    "print(f\"list(filtered_overlap_user_ids_set)[:10] = {list(filtered_overlap_user_ids_set)[:10]}\")"
   ]
  },
  {
   "cell_type": "code",
   "execution_count": 85,
   "id": "d84a0480-281f-44ae-b34c-e453056e09a7",
   "metadata": {},
   "outputs": [
    {
     "name": "stdout",
     "output_type": "stream",
     "text": [
      "len(filtered_ratings_df) = 32\n"
     ]
    },
    {
     "data": {
      "text/html": [
       "<div>\n",
       "<style scoped>\n",
       "    .dataframe tbody tr th:only-of-type {\n",
       "        vertical-align: middle;\n",
       "    }\n",
       "\n",
       "    .dataframe tbody tr th {\n",
       "        vertical-align: top;\n",
       "    }\n",
       "\n",
       "    .dataframe thead th {\n",
       "        text-align: right;\n",
       "    }\n",
       "</style>\n",
       "<table border=\"1\" class=\"dataframe\">\n",
       "  <thead>\n",
       "    <tr style=\"text-align: right;\">\n",
       "      <th></th>\n",
       "      <th>user_id</th>\n",
       "      <th>isbn</th>\n",
       "      <th>ratings_no</th>\n",
       "    </tr>\n",
       "  </thead>\n",
       "  <tbody>\n",
       "    <tr>\n",
       "      <th>15</th>\n",
       "      <td>100906</td>\n",
       "      <td>2</td>\n",
       "      <td>2</td>\n",
       "    </tr>\n",
       "    <tr>\n",
       "      <th>29</th>\n",
       "      <td>240144</td>\n",
       "      <td>2</td>\n",
       "      <td>2</td>\n",
       "    </tr>\n",
       "    <tr>\n",
       "      <th>28</th>\n",
       "      <td>238120</td>\n",
       "      <td>2</td>\n",
       "      <td>2</td>\n",
       "    </tr>\n",
       "    <tr>\n",
       "      <th>27</th>\n",
       "      <td>235842</td>\n",
       "      <td>2</td>\n",
       "      <td>2</td>\n",
       "    </tr>\n",
       "    <tr>\n",
       "      <th>26</th>\n",
       "      <td>229741</td>\n",
       "      <td>2</td>\n",
       "      <td>2</td>\n",
       "    </tr>\n",
       "    <tr>\n",
       "      <th>25</th>\n",
       "      <td>226965</td>\n",
       "      <td>2</td>\n",
       "      <td>2</td>\n",
       "    </tr>\n",
       "    <tr>\n",
       "      <th>24</th>\n",
       "      <td>225996</td>\n",
       "      <td>2</td>\n",
       "      <td>2</td>\n",
       "    </tr>\n",
       "    <tr>\n",
       "      <th>23</th>\n",
       "      <td>211426</td>\n",
       "      <td>2</td>\n",
       "      <td>2</td>\n",
       "    </tr>\n",
       "    <tr>\n",
       "      <th>22</th>\n",
       "      <td>190448</td>\n",
       "      <td>2</td>\n",
       "      <td>2</td>\n",
       "    </tr>\n",
       "    <tr>\n",
       "      <th>20</th>\n",
       "      <td>150124</td>\n",
       "      <td>2</td>\n",
       "      <td>2</td>\n",
       "    </tr>\n",
       "    <tr>\n",
       "      <th>19</th>\n",
       "      <td>148744</td>\n",
       "      <td>2</td>\n",
       "      <td>2</td>\n",
       "    </tr>\n",
       "    <tr>\n",
       "      <th>18</th>\n",
       "      <td>131594</td>\n",
       "      <td>2</td>\n",
       "      <td>2</td>\n",
       "    </tr>\n",
       "    <tr>\n",
       "      <th>17</th>\n",
       "      <td>115572</td>\n",
       "      <td>2</td>\n",
       "      <td>2</td>\n",
       "    </tr>\n",
       "    <tr>\n",
       "      <th>16</th>\n",
       "      <td>110973</td>\n",
       "      <td>2</td>\n",
       "      <td>2</td>\n",
       "    </tr>\n",
       "    <tr>\n",
       "      <th>30</th>\n",
       "      <td>252829</td>\n",
       "      <td>2</td>\n",
       "      <td>2</td>\n",
       "    </tr>\n",
       "    <tr>\n",
       "      <th>31</th>\n",
       "      <td>272786</td>\n",
       "      <td>2</td>\n",
       "      <td>2</td>\n",
       "    </tr>\n",
       "    <tr>\n",
       "      <th>13</th>\n",
       "      <td>85426</td>\n",
       "      <td>2</td>\n",
       "      <td>2</td>\n",
       "    </tr>\n",
       "    <tr>\n",
       "      <th>12</th>\n",
       "      <td>76223</td>\n",
       "      <td>2</td>\n",
       "      <td>2</td>\n",
       "    </tr>\n",
       "    <tr>\n",
       "      <th>11</th>\n",
       "      <td>68256</td>\n",
       "      <td>2</td>\n",
       "      <td>2</td>\n",
       "    </tr>\n",
       "    <tr>\n",
       "      <th>10</th>\n",
       "      <td>52584</td>\n",
       "      <td>2</td>\n",
       "      <td>2</td>\n",
       "    </tr>\n",
       "    <tr>\n",
       "      <th>9</th>\n",
       "      <td>52350</td>\n",
       "      <td>2</td>\n",
       "      <td>2</td>\n",
       "    </tr>\n",
       "    <tr>\n",
       "      <th>8</th>\n",
       "      <td>40943</td>\n",
       "      <td>2</td>\n",
       "      <td>2</td>\n",
       "    </tr>\n",
       "    <tr>\n",
       "      <th>7</th>\n",
       "      <td>36256</td>\n",
       "      <td>2</td>\n",
       "      <td>2</td>\n",
       "    </tr>\n",
       "    <tr>\n",
       "      <th>5</th>\n",
       "      <td>28523</td>\n",
       "      <td>2</td>\n",
       "      <td>2</td>\n",
       "    </tr>\n",
       "    <tr>\n",
       "      <th>4</th>\n",
       "      <td>21014</td>\n",
       "      <td>2</td>\n",
       "      <td>2</td>\n",
       "    </tr>\n",
       "    <tr>\n",
       "      <th>3</th>\n",
       "      <td>15418</td>\n",
       "      <td>2</td>\n",
       "      <td>2</td>\n",
       "    </tr>\n",
       "    <tr>\n",
       "      <th>1</th>\n",
       "      <td>8681</td>\n",
       "      <td>2</td>\n",
       "      <td>2</td>\n",
       "    </tr>\n",
       "    <tr>\n",
       "      <th>14</th>\n",
       "      <td>98741</td>\n",
       "      <td>2</td>\n",
       "      <td>2</td>\n",
       "    </tr>\n",
       "    <tr>\n",
       "      <th>21</th>\n",
       "      <td>156150</td>\n",
       "      <td>3</td>\n",
       "      <td>3</td>\n",
       "    </tr>\n",
       "    <tr>\n",
       "      <th>6</th>\n",
       "      <td>30735</td>\n",
       "      <td>3</td>\n",
       "      <td>3</td>\n",
       "    </tr>\n",
       "    <tr>\n",
       "      <th>2</th>\n",
       "      <td>11676</td>\n",
       "      <td>3</td>\n",
       "      <td>3</td>\n",
       "    </tr>\n",
       "    <tr>\n",
       "      <th>0</th>\n",
       "      <td>254</td>\n",
       "      <td>3</td>\n",
       "      <td>3</td>\n",
       "    </tr>\n",
       "  </tbody>\n",
       "</table>\n",
       "</div>"
      ],
      "text/plain": [
       "    user_id  isbn  ratings_no\n",
       "15   100906     2           2\n",
       "29   240144     2           2\n",
       "28   238120     2           2\n",
       "27   235842     2           2\n",
       "26   229741     2           2\n",
       "25   226965     2           2\n",
       "24   225996     2           2\n",
       "23   211426     2           2\n",
       "22   190448     2           2\n",
       "20   150124     2           2\n",
       "19   148744     2           2\n",
       "18   131594     2           2\n",
       "17   115572     2           2\n",
       "16   110973     2           2\n",
       "30   252829     2           2\n",
       "31   272786     2           2\n",
       "13    85426     2           2\n",
       "12    76223     2           2\n",
       "11    68256     2           2\n",
       "10    52584     2           2\n",
       "9     52350     2           2\n",
       "8     40943     2           2\n",
       "7     36256     2           2\n",
       "5     28523     2           2\n",
       "4     21014     2           2\n",
       "3     15418     2           2\n",
       "1      8681     2           2\n",
       "14    98741     2           2\n",
       "21   156150     3           3\n",
       "6     30735     3           3\n",
       "2     11676     3           3\n",
       "0       254     3           3"
      ]
     },
     "execution_count": 85,
     "metadata": {},
     "output_type": "execute_result"
    }
   ],
   "source": [
    "# Check the results\n",
    "filtered_ratings_df = ratings_df[result]\n",
    "filtered_ratings_df = (\n",
    "    filtered_ratings_df\n",
    "    .groupby('user_id')\n",
    "    .count()\n",
    "    .reset_index()\n",
    "    .rename(columns={'rating': 'ratings_no'})\n",
    "    .sort_values(by='ratings_no')\n",
    ")\n",
    "\n",
    "print(f\"len(filtered_ratings_df) = {len(filtered_ratings_df)}\")\n",
    "\n",
    "filtered_ratings_df"
   ]
  },
  {
   "cell_type": "markdown",
   "id": "5676c77d-aae2-45c9-a85f-26b29d13aece",
   "metadata": {
    "jp-MarkdownHeadingCollapsed": true
   },
   "source": [
    "## Find similar user book ratings"
   ]
  },
  {
   "cell_type": "code",
   "execution_count": 88,
   "id": "9c6c0183-b347-4c0a-bcdb-47a73016f32d",
   "metadata": {},
   "outputs": [
    {
     "name": "stdout",
     "output_type": "stream",
     "text": [
      "len(interactions_arr) = 68\n"
     ]
    }
   ],
   "source": [
    "# For filtered users, user_id, book_isbn and rating will be stored in interactions_list\n",
    "interactions_arr = ratings_df[(\n",
    "    ratings_df[['user_id', 'isbn']]\n",
    "    .apply(lambda row: row['user_id'] in filtered_overlap_user_ids_set and row['isbn'] in books_user_like_set, axis=1)\n",
    ")].values\n",
    "\n",
    "print(f\"len(interactions_arr) = {len(interactions_arr)}\")"
   ]
  },
  {
   "cell_type": "code",
   "execution_count": 89,
   "id": "74616e9d-a200-4b1b-bb58-84074a1d8c05",
   "metadata": {},
   "outputs": [
    {
     "data": {
      "text/plain": [
       "array([[254, '0345350499', 0],\n",
       "       [254, '0439064872', 9],\n",
       "       [254, '0590353403', 9]], dtype=object)"
      ]
     },
     "execution_count": 89,
     "metadata": {},
     "output_type": "execute_result"
    }
   ],
   "source": [
    "interactions_arr[:3]"
   ]
  },
  {
   "cell_type": "code",
   "execution_count": 91,
   "id": "0d1d44d9-5619-431b-a043-bc8fecfcad15",
   "metadata": {},
   "outputs": [
    {
     "name": "stdout",
     "output_type": "stream",
     "text": [
      "sum(filtered_ratings_df['ratings_no'].values) = 68)\n",
      "len(interactions_arr) = 68\n"
     ]
    }
   ],
   "source": [
    "# Check the correctness\n",
    "print(f\"sum(filtered_ratings_df['ratings_no'].values) = {sum(filtered_ratings_df['ratings_no'].values)})\")\n",
    "print(f\"len(interactions_arr) = {len(interactions_arr)}\")"
   ]
  },
  {
   "cell_type": "markdown",
   "id": "9022d2be-c37b-4670-80df-271864de295c",
   "metadata": {},
   "source": [
    "The results show that the previous operation successfully selected all records from filtered_overlap_user_ids_set and their ratings for books from books_user_like_set.  \n",
    "However, in order to make recommendations, users in filtered_overlap_user_ids_set need to select **all the books they have read**, **not just books in books_user_like_set** (since the task is to recommend new books to the user (books they haven't read yet))."
   ]
  },
  {
   "cell_type": "code",
   "execution_count": 94,
   "id": "19f0eba2-f0c1-4495-90e4-4ac391f810ef",
   "metadata": {},
   "outputs": [
    {
     "name": "stdout",
     "output_type": "stream",
     "text": [
      "len(interactions_arr) = 35418\n",
      "interactions_arr[:5] = [[254 '006000438X' 0]\n",
      " [254 '0060013117' 0]\n",
      " [254 '0060199563' 0]\n",
      " [254 '0060391448' 0]\n",
      " [254 '0060502320' 7]]\n"
     ]
    }
   ],
   "source": [
    "# For filtered users, user_id, book_isbn and rating will be stored in interactions_list\n",
    "interactions_arr = ratings_df[(\n",
    "    ratings_df['user_id']\n",
    "    .apply(lambda user_id: user_id in filtered_overlap_user_ids_set) # Maybe also filter: isbn not in books_user_like_set - no need, because it will be used later to find the users with the same book tastes as current_user \n",
    ")].values\n",
    "\n",
    "print(f\"len(interactions_arr) = {len(interactions_arr)}\")\n",
    "print(f\"interactions_arr[:5] = {interactions_arr[:5]}\")"
   ]
  },
  {
   "cell_type": "code",
   "execution_count": 97,
   "id": "62ad354f-ac37-4b31-bf9e-ef27e546f692",
   "metadata": {},
   "outputs": [
    {
     "name": "stdout",
     "output_type": "stream",
     "text": [
      "len(interactions_df) = 35418\n",
      "interactions_df['user_id'].nunique() = 32\n"
     ]
    }
   ],
   "source": [
    "interactions_df = pd.DataFrame(data=interactions_arr, columns=['user_id', 'isbn', 'rating'])\n",
    "\n",
    "# Check the results\n",
    "print(f\"len(interactions_df) = {len(interactions_df)}\")\n",
    "print(f\"interactions_df['user_id'].nunique() = {interactions_df['user_id'].nunique()}\")"
   ]
  },
  {
   "cell_type": "code",
   "execution_count": 98,
   "id": "6ec5d981-ab4d-4719-b9ce-6414e992b062",
   "metadata": {},
   "outputs": [
    {
     "data": {
      "text/html": [
       "<div>\n",
       "<style scoped>\n",
       "    .dataframe tbody tr th:only-of-type {\n",
       "        vertical-align: middle;\n",
       "    }\n",
       "\n",
       "    .dataframe tbody tr th {\n",
       "        vertical-align: top;\n",
       "    }\n",
       "\n",
       "    .dataframe thead th {\n",
       "        text-align: right;\n",
       "    }\n",
       "</style>\n",
       "<table border=\"1\" class=\"dataframe\">\n",
       "  <thead>\n",
       "    <tr style=\"text-align: right;\">\n",
       "      <th></th>\n",
       "      <th>user_id</th>\n",
       "      <th>isbn</th>\n",
       "      <th>rating</th>\n",
       "    </tr>\n",
       "  </thead>\n",
       "  <tbody>\n",
       "    <tr>\n",
       "      <th>0</th>\n",
       "      <td>254</td>\n",
       "      <td>006000438X</td>\n",
       "      <td>0</td>\n",
       "    </tr>\n",
       "    <tr>\n",
       "      <th>1</th>\n",
       "      <td>254</td>\n",
       "      <td>0060013117</td>\n",
       "      <td>0</td>\n",
       "    </tr>\n",
       "    <tr>\n",
       "      <th>2</th>\n",
       "      <td>254</td>\n",
       "      <td>0060199563</td>\n",
       "      <td>0</td>\n",
       "    </tr>\n",
       "  </tbody>\n",
       "</table>\n",
       "</div>"
      ],
      "text/plain": [
       "  user_id        isbn rating\n",
       "0     254  006000438X      0\n",
       "1     254  0060013117      0\n",
       "2     254  0060199563      0"
      ]
     },
     "execution_count": 98,
     "metadata": {},
     "output_type": "execute_result"
    }
   ],
   "source": [
    "interactions_df.head(3)"
   ]
  },
  {
   "cell_type": "markdown",
   "id": "59652cdf-0f57-49cd-bfec-7b09b6925e5f",
   "metadata": {},
   "source": [
    "## Create a user/book matrix"
   ]
  },
  {
   "cell_type": "code",
   "execution_count": 102,
   "id": "530bd122-b57b-4056-ac6f-b4999cef7f47",
   "metadata": {},
   "outputs": [
    {
     "data": {
      "text/html": [
       "<div>\n",
       "<style scoped>\n",
       "    .dataframe tbody tr th:only-of-type {\n",
       "        vertical-align: middle;\n",
       "    }\n",
       "\n",
       "    .dataframe tbody tr th {\n",
       "        vertical-align: top;\n",
       "    }\n",
       "\n",
       "    .dataframe thead th {\n",
       "        text-align: right;\n",
       "    }\n",
       "</style>\n",
       "<table border=\"1\" class=\"dataframe\">\n",
       "  <thead>\n",
       "    <tr style=\"text-align: right;\">\n",
       "      <th></th>\n",
       "      <th>user_id</th>\n",
       "      <th>isbn</th>\n",
       "      <th>rating</th>\n",
       "    </tr>\n",
       "  </thead>\n",
       "  <tbody>\n",
       "    <tr>\n",
       "      <th>0</th>\n",
       "      <td>-1</td>\n",
       "      <td>0590353403</td>\n",
       "      <td>10</td>\n",
       "    </tr>\n",
       "    <tr>\n",
       "      <th>1</th>\n",
       "      <td>-1</td>\n",
       "      <td>0439064872</td>\n",
       "      <td>9</td>\n",
       "    </tr>\n",
       "    <tr>\n",
       "      <th>2</th>\n",
       "      <td>-1</td>\n",
       "      <td>0345350499</td>\n",
       "      <td>10</td>\n",
       "    </tr>\n",
       "    <tr>\n",
       "      <th>0</th>\n",
       "      <td>254</td>\n",
       "      <td>006000438X</td>\n",
       "      <td>0</td>\n",
       "    </tr>\n",
       "    <tr>\n",
       "      <th>1</th>\n",
       "      <td>254</td>\n",
       "      <td>0060013117</td>\n",
       "      <td>0</td>\n",
       "    </tr>\n",
       "    <tr>\n",
       "      <th>...</th>\n",
       "      <td>...</td>\n",
       "      <td>...</td>\n",
       "      <td>...</td>\n",
       "    </tr>\n",
       "    <tr>\n",
       "      <th>35413</th>\n",
       "      <td>272786</td>\n",
       "      <td>0446672211</td>\n",
       "      <td>8</td>\n",
       "    </tr>\n",
       "    <tr>\n",
       "      <th>35414</th>\n",
       "      <td>272786</td>\n",
       "      <td>0465017606</td>\n",
       "      <td>0</td>\n",
       "    </tr>\n",
       "    <tr>\n",
       "      <th>35415</th>\n",
       "      <td>272786</td>\n",
       "      <td>059035342X</td>\n",
       "      <td>9</td>\n",
       "    </tr>\n",
       "    <tr>\n",
       "      <th>35416</th>\n",
       "      <td>272786</td>\n",
       "      <td>0679723161</td>\n",
       "      <td>0</td>\n",
       "    </tr>\n",
       "    <tr>\n",
       "      <th>35417</th>\n",
       "      <td>272786</td>\n",
       "      <td>0684845164</td>\n",
       "      <td>0</td>\n",
       "    </tr>\n",
       "  </tbody>\n",
       "</table>\n",
       "<p>35421 rows × 3 columns</p>\n",
       "</div>"
      ],
      "text/plain": [
       "      user_id        isbn rating\n",
       "0          -1  0590353403     10\n",
       "1          -1  0439064872      9\n",
       "2          -1  0345350499     10\n",
       "0         254  006000438X      0\n",
       "1         254  0060013117      0\n",
       "...       ...         ...    ...\n",
       "35413  272786  0446672211      8\n",
       "35414  272786  0465017606      0\n",
       "35415  272786  059035342X      9\n",
       "35416  272786  0679723161      0\n",
       "35417  272786  0684845164      0\n",
       "\n",
       "[35421 rows x 3 columns]"
      ]
     },
     "execution_count": 102,
     "metadata": {},
     "output_type": "execute_result"
    }
   ],
   "source": [
    "interactions_df = pd.concat([books_user_like_df[['user_id', 'isbn', 'rating']], interactions_df])\n",
    "interactions_df"
   ]
  },
  {
   "cell_type": "code",
   "execution_count": 103,
   "id": "4a414c3b-9ee5-4a8f-a478-10ea06b8eec2",
   "metadata": {},
   "outputs": [
    {
     "name": "stdout",
     "output_type": "stream",
     "text": [
      "<class 'pandas.core.frame.DataFrame'>\n",
      "Index: 35421 entries, 0 to 35417\n",
      "Data columns (total 3 columns):\n",
      " #   Column   Non-Null Count  Dtype \n",
      "---  ------   --------------  ----- \n",
      " 0   user_id  35421 non-null  object\n",
      " 1   isbn     35421 non-null  object\n",
      " 2   rating   35421 non-null  object\n",
      "dtypes: object(3)\n",
      "memory usage: 1.1+ MB\n"
     ]
    }
   ],
   "source": [
    "interactions_df.info()"
   ]
  },
  {
   "cell_type": "code",
   "execution_count": 105,
   "id": "6a082687-2962-434a-a661-5c1bbef34e03",
   "metadata": {},
   "outputs": [
    {
     "name": "stdout",
     "output_type": "stream",
     "text": [
      "<class 'pandas.core.frame.DataFrame'>\n",
      "Index: 35421 entries, 0 to 35417\n",
      "Data columns (total 3 columns):\n",
      " #   Column   Non-Null Count  Dtype \n",
      "---  ------   --------------  ----- \n",
      " 0   user_id  35421 non-null  int64 \n",
      " 1   isbn     35421 non-null  object\n",
      " 2   rating   35421 non-null  int64 \n",
      "dtypes: int64(2), object(1)\n",
      "memory usage: 1.1+ MB\n"
     ]
    }
   ],
   "source": [
    "interactions_df['user_id'] = pd.to_numeric(interactions_df['user_id'])\n",
    "interactions_df['rating'] = pd.to_numeric(interactions_df['rating'])\n",
    "interactions_df.info()"
   ]
  },
  {
   "cell_type": "code",
   "execution_count": 106,
   "id": "6d54e4bb-c39e-4a69-96e5-5d0094ea8a10",
   "metadata": {},
   "outputs": [
    {
     "name": "stdout",
     "output_type": "stream",
     "text": [
      "interactions_df['user_id'].nunique() = 33\n",
      "interactions_df['isbn'].nunique() = 28928\n"
     ]
    }
   ],
   "source": [
    "print(f\"interactions_df['user_id'].nunique() = {interactions_df['user_id'].nunique()}\")\n",
    "print(f\"interactions_df['isbn'].nunique() = {interactions_df['isbn'].nunique()}\")"
   ]
  },
  {
   "cell_type": "markdown",
   "id": "32b4b27c-d52c-4ba6-918c-e3dd688a84d2",
   "metadata": {},
   "source": [
    "The obtained results show that there are far fewer users than books (this is logical, because different users could read different books). This indicates the need to use a **sparse matrix to save memory**."
   ]
  },
  {
   "cell_type": "code",
   "execution_count": 109,
   "id": "c9f53bca-4016-4fd3-9ff5-1ed11704f247",
   "metadata": {},
   "outputs": [
    {
     "name": "stdout",
     "output_type": "stream",
     "text": [
      "interactions_df['user_id'].nunique() = 33\n",
      "interactions_df['user_index'].nunique() = 33\n",
      "\n",
      "interactions_df['isbn'].nunique() = 28928\n",
      "interactions_df['book_index'].nunique() = 28928\n",
      "\n"
     ]
    },
    {
     "data": {
      "text/html": [
       "<div>\n",
       "<style scoped>\n",
       "    .dataframe tbody tr th:only-of-type {\n",
       "        vertical-align: middle;\n",
       "    }\n",
       "\n",
       "    .dataframe tbody tr th {\n",
       "        vertical-align: top;\n",
       "    }\n",
       "\n",
       "    .dataframe thead th {\n",
       "        text-align: right;\n",
       "    }\n",
       "</style>\n",
       "<table border=\"1\" class=\"dataframe\">\n",
       "  <thead>\n",
       "    <tr style=\"text-align: right;\">\n",
       "      <th></th>\n",
       "      <th>user_id</th>\n",
       "      <th>isbn</th>\n",
       "      <th>rating</th>\n",
       "      <th>user_index</th>\n",
       "      <th>book_index</th>\n",
       "    </tr>\n",
       "  </thead>\n",
       "  <tbody>\n",
       "    <tr>\n",
       "      <th>0</th>\n",
       "      <td>-1</td>\n",
       "      <td>0590353403</td>\n",
       "      <td>10</td>\n",
       "      <td>0</td>\n",
       "      <td>15720</td>\n",
       "    </tr>\n",
       "    <tr>\n",
       "      <th>1</th>\n",
       "      <td>-1</td>\n",
       "      <td>0439064872</td>\n",
       "      <td>9</td>\n",
       "      <td>0</td>\n",
       "      <td>10025</td>\n",
       "    </tr>\n",
       "    <tr>\n",
       "      <th>2</th>\n",
       "      <td>-1</td>\n",
       "      <td>0345350499</td>\n",
       "      <td>10</td>\n",
       "      <td>0</td>\n",
       "      <td>4603</td>\n",
       "    </tr>\n",
       "  </tbody>\n",
       "</table>\n",
       "</div>"
      ],
      "text/plain": [
       "   user_id        isbn  rating  user_index  book_index\n",
       "0       -1  0590353403      10           0       15720\n",
       "1       -1  0439064872       9           0       10025\n",
       "2       -1  0345350499      10           0        4603"
      ]
     },
     "execution_count": 109,
     "metadata": {},
     "output_type": "execute_result"
    }
   ],
   "source": [
    "interactions_df['user_index'] = interactions_df['user_id'].astype('category').cat.codes\n",
    "interactions_df['book_index'] = interactions_df['isbn'].astype('category').cat.codes\n",
    "\n",
    "# To check the correctness of creating cols 'user_index' and 'book_index'\n",
    "print(f\"interactions_df['user_id'].nunique() = {interactions_df['user_id'].nunique()}\")\n",
    "print(f\"interactions_df['user_index'].nunique() = {interactions_df['user_index'].nunique()}\\n\")\n",
    "\n",
    "print(f\"interactions_df['isbn'].nunique() = {interactions_df['isbn'].nunique()}\")\n",
    "print(f\"interactions_df['book_index'].nunique() = {interactions_df['book_index'].nunique()}\\n\")\n",
    "\n",
    "interactions_df.head(3)"
   ]
  },
  {
   "cell_type": "code",
   "execution_count": 110,
   "id": "8d030b86-00a0-4148-9378-0d62618d2420",
   "metadata": {},
   "outputs": [
    {
     "data": {
      "text/plain": [
       "<33x28928 sparse matrix of type '<class 'numpy.int64'>'\n",
       "\twith 35421 stored elements in COOrdinate format>"
      ]
     },
     "execution_count": 110,
     "metadata": {},
     "output_type": "execute_result"
    }
   ],
   "source": [
    "ratings_matrix_coo = coo_matrix((interactions_df['rating'], (interactions_df['user_index'], interactions_df['book_index'])))\n",
    "ratings_matrix_coo"
   ]
  },
  {
   "cell_type": "code",
   "execution_count": 111,
   "id": "65407a71-e338-40af-9653-6f872c6a8f38",
   "metadata": {},
   "outputs": [],
   "source": [
    "ratings_matrix = ratings_matrix_coo.tocsr()"
   ]
  }
 ],
 "metadata": {
  "kernelspec": {
   "display_name": "Python 3 (ipykernel)",
   "language": "python",
   "name": "python3"
  },
  "language_info": {
   "codemirror_mode": {
    "name": "ipython",
    "version": 3
   },
   "file_extension": ".py",
   "mimetype": "text/x-python",
   "name": "python",
   "nbconvert_exporter": "python",
   "pygments_lexer": "ipython3",
   "version": "3.10.8"
  }
 },
 "nbformat": 4,
 "nbformat_minor": 5
}
