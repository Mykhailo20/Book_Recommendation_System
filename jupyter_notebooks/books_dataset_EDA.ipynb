{
 "cells": [
  {
   "cell_type": "code",
   "execution_count": 4,
   "id": "d4e35662-f5cc-49d8-9d62-1827e42cac64",
   "metadata": {},
   "outputs": [],
   "source": [
    "import numpy as np\n",
    "import pandas as pd\n",
    "\n",
    "import matplotlib.pyplot as plt\n",
    "import seaborn as sns\n",
    "\n",
    "# to ignore warnings\n",
    "import warnings\n",
    "warnings.filterwarnings('ignore')"
   ]
  },
  {
   "cell_type": "markdown",
   "id": "a5117f20-e53a-499a-824e-1702f8ba7d0f",
   "metadata": {},
   "source": [
    "# Context"
   ]
  },
  {
   "cell_type": "markdown",
   "id": "e1f7c043-a985-43a5-a1c1-301bf9902255",
   "metadata": {},
   "source": [
    "## Functions"
   ]
  },
  {
   "cell_type": "markdown",
   "id": "d8c35515-e691-4a05-ae59-6acf96542bea",
   "metadata": {},
   "source": [
    "### Fix dataset errors"
   ]
  },
  {
   "cell_type": "code",
   "execution_count": 38,
   "id": "7bb182ce-44ac-49ee-aafb-be10fd3e805e",
   "metadata": {},
   "outputs": [],
   "source": [
    "# Function to fix the erroneous rows\n",
    "def fix_row(row):\n",
    "    # Shift values to the right\n",
    "    for col in ['image-url-l', 'image-url-m', 'image-url-s', 'publisher', 'publication_year']:\n",
    "        row[col] = row.shift(1)[col]\n",
    "        \n",
    "    title_author_split = row['title'].split(';')\n",
    "    row['title'] = title_author_split[0][:-2]\n",
    "    row['author'] = title_author_split[1][:-1]\n",
    "    return row"
   ]
  },
  {
   "cell_type": "markdown",
   "id": "7f0f0a44-088a-4d09-9ead-c9fab45cca8e",
   "metadata": {},
   "source": [
    "## Read the datasets, view several records and rename columns"
   ]
  },
  {
   "cell_type": "code",
   "execution_count": 6,
   "id": "957ca1a8-bbb3-4160-a8f6-5428ad04bac4",
   "metadata": {},
   "outputs": [
    {
     "name": "stdout",
     "output_type": "stream",
     "text": [
      "books_df.shape = (271360, 8)\n",
      "users_df.shape = (278858, 3)\n",
      "ratings_df.shape = (1149780, 3)\n"
     ]
    }
   ],
   "source": [
    "books_df = pd.read_csv('../data/original_data/Books.csv')\n",
    "users_df = pd.read_csv('../data/original_data/Users.csv')\n",
    "ratings_df = pd.read_csv('../data/original_data/Ratings.csv')\n",
    "\n",
    "print(f\"books_df.shape = {books_df.shape}\")\n",
    "print(f\"users_df.shape = {users_df.shape}\")\n",
    "print(f\"ratings_df.shape = {ratings_df.shape}\")"
   ]
  },
  {
   "cell_type": "markdown",
   "id": "5d16ff96-b0a0-4c8a-a707-182e469f2de9",
   "metadata": {},
   "source": [
    "### books_df"
   ]
  },
  {
   "cell_type": "code",
   "execution_count": 7,
   "id": "7a555130-970c-49f7-8c2c-abd20bc116d4",
   "metadata": {},
   "outputs": [
    {
     "data": {
      "text/html": [
       "<div>\n",
       "<style scoped>\n",
       "    .dataframe tbody tr th:only-of-type {\n",
       "        vertical-align: middle;\n",
       "    }\n",
       "\n",
       "    .dataframe tbody tr th {\n",
       "        vertical-align: top;\n",
       "    }\n",
       "\n",
       "    .dataframe thead th {\n",
       "        text-align: right;\n",
       "    }\n",
       "</style>\n",
       "<table border=\"1\" class=\"dataframe\">\n",
       "  <thead>\n",
       "    <tr style=\"text-align: right;\">\n",
       "      <th></th>\n",
       "      <th>ISBN</th>\n",
       "      <th>Book-Title</th>\n",
       "      <th>Book-Author</th>\n",
       "      <th>Year-Of-Publication</th>\n",
       "      <th>Publisher</th>\n",
       "      <th>Image-URL-S</th>\n",
       "      <th>Image-URL-M</th>\n",
       "      <th>Image-URL-L</th>\n",
       "    </tr>\n",
       "  </thead>\n",
       "  <tbody>\n",
       "    <tr>\n",
       "      <th>0</th>\n",
       "      <td>0195153448</td>\n",
       "      <td>Classical Mythology</td>\n",
       "      <td>Mark P. O. Morford</td>\n",
       "      <td>2002</td>\n",
       "      <td>Oxford University Press</td>\n",
       "      <td>http://images.amazon.com/images/P/0195153448.0...</td>\n",
       "      <td>http://images.amazon.com/images/P/0195153448.0...</td>\n",
       "      <td>http://images.amazon.com/images/P/0195153448.0...</td>\n",
       "    </tr>\n",
       "    <tr>\n",
       "      <th>1</th>\n",
       "      <td>0002005018</td>\n",
       "      <td>Clara Callan</td>\n",
       "      <td>Richard Bruce Wright</td>\n",
       "      <td>2001</td>\n",
       "      <td>HarperFlamingo Canada</td>\n",
       "      <td>http://images.amazon.com/images/P/0002005018.0...</td>\n",
       "      <td>http://images.amazon.com/images/P/0002005018.0...</td>\n",
       "      <td>http://images.amazon.com/images/P/0002005018.0...</td>\n",
       "    </tr>\n",
       "    <tr>\n",
       "      <th>2</th>\n",
       "      <td>0060973129</td>\n",
       "      <td>Decision in Normandy</td>\n",
       "      <td>Carlo D'Este</td>\n",
       "      <td>1991</td>\n",
       "      <td>HarperPerennial</td>\n",
       "      <td>http://images.amazon.com/images/P/0060973129.0...</td>\n",
       "      <td>http://images.amazon.com/images/P/0060973129.0...</td>\n",
       "      <td>http://images.amazon.com/images/P/0060973129.0...</td>\n",
       "    </tr>\n",
       "  </tbody>\n",
       "</table>\n",
       "</div>"
      ],
      "text/plain": [
       "         ISBN            Book-Title           Book-Author Year-Of-Publication  \\\n",
       "0  0195153448   Classical Mythology    Mark P. O. Morford                2002   \n",
       "1  0002005018          Clara Callan  Richard Bruce Wright                2001   \n",
       "2  0060973129  Decision in Normandy          Carlo D'Este                1991   \n",
       "\n",
       "                 Publisher                                        Image-URL-S  \\\n",
       "0  Oxford University Press  http://images.amazon.com/images/P/0195153448.0...   \n",
       "1    HarperFlamingo Canada  http://images.amazon.com/images/P/0002005018.0...   \n",
       "2          HarperPerennial  http://images.amazon.com/images/P/0060973129.0...   \n",
       "\n",
       "                                         Image-URL-M  \\\n",
       "0  http://images.amazon.com/images/P/0195153448.0...   \n",
       "1  http://images.amazon.com/images/P/0002005018.0...   \n",
       "2  http://images.amazon.com/images/P/0060973129.0...   \n",
       "\n",
       "                                         Image-URL-L  \n",
       "0  http://images.amazon.com/images/P/0195153448.0...  \n",
       "1  http://images.amazon.com/images/P/0002005018.0...  \n",
       "2  http://images.amazon.com/images/P/0060973129.0...  "
      ]
     },
     "execution_count": 7,
     "metadata": {},
     "output_type": "execute_result"
    }
   ],
   "source": [
    "books_df.head(3)"
   ]
  },
  {
   "cell_type": "code",
   "execution_count": 8,
   "id": "0c841eaf-57f8-4963-b166-1d9fd149d169",
   "metadata": {},
   "outputs": [
    {
     "data": {
      "text/html": [
       "<div>\n",
       "<style scoped>\n",
       "    .dataframe tbody tr th:only-of-type {\n",
       "        vertical-align: middle;\n",
       "    }\n",
       "\n",
       "    .dataframe tbody tr th {\n",
       "        vertical-align: top;\n",
       "    }\n",
       "\n",
       "    .dataframe thead th {\n",
       "        text-align: right;\n",
       "    }\n",
       "</style>\n",
       "<table border=\"1\" class=\"dataframe\">\n",
       "  <thead>\n",
       "    <tr style=\"text-align: right;\">\n",
       "      <th></th>\n",
       "      <th>ISBN</th>\n",
       "      <th>Book-Title</th>\n",
       "      <th>Book-Author</th>\n",
       "      <th>Year-Of-Publication</th>\n",
       "      <th>Publisher</th>\n",
       "      <th>Image-URL-S</th>\n",
       "      <th>Image-URL-M</th>\n",
       "      <th>Image-URL-L</th>\n",
       "    </tr>\n",
       "  </thead>\n",
       "  <tbody>\n",
       "    <tr>\n",
       "      <th>271357</th>\n",
       "      <td>006008667X</td>\n",
       "      <td>Lily Dale : The True Story of the Town that Ta...</td>\n",
       "      <td>Christine Wicker</td>\n",
       "      <td>2004</td>\n",
       "      <td>HarperSanFrancisco</td>\n",
       "      <td>http://images.amazon.com/images/P/006008667X.0...</td>\n",
       "      <td>http://images.amazon.com/images/P/006008667X.0...</td>\n",
       "      <td>http://images.amazon.com/images/P/006008667X.0...</td>\n",
       "    </tr>\n",
       "    <tr>\n",
       "      <th>271358</th>\n",
       "      <td>0192126040</td>\n",
       "      <td>Republic (World's Classics)</td>\n",
       "      <td>Plato</td>\n",
       "      <td>1996</td>\n",
       "      <td>Oxford University Press</td>\n",
       "      <td>http://images.amazon.com/images/P/0192126040.0...</td>\n",
       "      <td>http://images.amazon.com/images/P/0192126040.0...</td>\n",
       "      <td>http://images.amazon.com/images/P/0192126040.0...</td>\n",
       "    </tr>\n",
       "    <tr>\n",
       "      <th>271359</th>\n",
       "      <td>0767409752</td>\n",
       "      <td>A Guided Tour of Rene Descartes' Meditations o...</td>\n",
       "      <td>Christopher  Biffle</td>\n",
       "      <td>2000</td>\n",
       "      <td>McGraw-Hill Humanities/Social Sciences/Languages</td>\n",
       "      <td>http://images.amazon.com/images/P/0767409752.0...</td>\n",
       "      <td>http://images.amazon.com/images/P/0767409752.0...</td>\n",
       "      <td>http://images.amazon.com/images/P/0767409752.0...</td>\n",
       "    </tr>\n",
       "  </tbody>\n",
       "</table>\n",
       "</div>"
      ],
      "text/plain": [
       "              ISBN                                         Book-Title  \\\n",
       "271357  006008667X  Lily Dale : The True Story of the Town that Ta...   \n",
       "271358  0192126040                        Republic (World's Classics)   \n",
       "271359  0767409752  A Guided Tour of Rene Descartes' Meditations o...   \n",
       "\n",
       "                Book-Author Year-Of-Publication  \\\n",
       "271357     Christine Wicker                2004   \n",
       "271358                Plato                1996   \n",
       "271359  Christopher  Biffle                2000   \n",
       "\n",
       "                                               Publisher  \\\n",
       "271357                                HarperSanFrancisco   \n",
       "271358                           Oxford University Press   \n",
       "271359  McGraw-Hill Humanities/Social Sciences/Languages   \n",
       "\n",
       "                                              Image-URL-S  \\\n",
       "271357  http://images.amazon.com/images/P/006008667X.0...   \n",
       "271358  http://images.amazon.com/images/P/0192126040.0...   \n",
       "271359  http://images.amazon.com/images/P/0767409752.0...   \n",
       "\n",
       "                                              Image-URL-M  \\\n",
       "271357  http://images.amazon.com/images/P/006008667X.0...   \n",
       "271358  http://images.amazon.com/images/P/0192126040.0...   \n",
       "271359  http://images.amazon.com/images/P/0767409752.0...   \n",
       "\n",
       "                                              Image-URL-L  \n",
       "271357  http://images.amazon.com/images/P/006008667X.0...  \n",
       "271358  http://images.amazon.com/images/P/0192126040.0...  \n",
       "271359  http://images.amazon.com/images/P/0767409752.0...  "
      ]
     },
     "execution_count": 8,
     "metadata": {},
     "output_type": "execute_result"
    }
   ],
   "source": [
    "books_df.tail(3)"
   ]
  },
  {
   "cell_type": "markdown",
   "id": "c12b5ce4-918b-457c-8908-c2261c423577",
   "metadata": {},
   "source": [
    "#### Rename columns"
   ]
  },
  {
   "cell_type": "markdown",
   "id": "eadf47f1-2951-4075-bc82-66dd93371e55",
   "metadata": {},
   "source": [
    "Since the column names available in the dataframe are quite long, it will be inconvenient to access them in the program, so it was decided to rename the columns using the 'snake_case' naming convention. Also, the names of some columns were shortened."
   ]
  },
  {
   "cell_type": "code",
   "execution_count": 9,
   "id": "b6a1d1d5-9358-474f-a708-f1e84ad34058",
   "metadata": {},
   "outputs": [
    {
     "data": {
      "text/html": [
       "<div>\n",
       "<style scoped>\n",
       "    .dataframe tbody tr th:only-of-type {\n",
       "        vertical-align: middle;\n",
       "    }\n",
       "\n",
       "    .dataframe tbody tr th {\n",
       "        vertical-align: top;\n",
       "    }\n",
       "\n",
       "    .dataframe thead th {\n",
       "        text-align: right;\n",
       "    }\n",
       "</style>\n",
       "<table border=\"1\" class=\"dataframe\">\n",
       "  <thead>\n",
       "    <tr style=\"text-align: right;\">\n",
       "      <th></th>\n",
       "      <th>isbn</th>\n",
       "      <th>title</th>\n",
       "      <th>author</th>\n",
       "      <th>publication_year</th>\n",
       "      <th>publisher</th>\n",
       "      <th>image-url-s</th>\n",
       "      <th>image-url-m</th>\n",
       "      <th>image-url-l</th>\n",
       "    </tr>\n",
       "  </thead>\n",
       "  <tbody>\n",
       "    <tr>\n",
       "      <th>0</th>\n",
       "      <td>0195153448</td>\n",
       "      <td>Classical Mythology</td>\n",
       "      <td>Mark P. O. Morford</td>\n",
       "      <td>2002</td>\n",
       "      <td>Oxford University Press</td>\n",
       "      <td>http://images.amazon.com/images/P/0195153448.0...</td>\n",
       "      <td>http://images.amazon.com/images/P/0195153448.0...</td>\n",
       "      <td>http://images.amazon.com/images/P/0195153448.0...</td>\n",
       "    </tr>\n",
       "    <tr>\n",
       "      <th>1</th>\n",
       "      <td>0002005018</td>\n",
       "      <td>Clara Callan</td>\n",
       "      <td>Richard Bruce Wright</td>\n",
       "      <td>2001</td>\n",
       "      <td>HarperFlamingo Canada</td>\n",
       "      <td>http://images.amazon.com/images/P/0002005018.0...</td>\n",
       "      <td>http://images.amazon.com/images/P/0002005018.0...</td>\n",
       "      <td>http://images.amazon.com/images/P/0002005018.0...</td>\n",
       "    </tr>\n",
       "    <tr>\n",
       "      <th>2</th>\n",
       "      <td>0060973129</td>\n",
       "      <td>Decision in Normandy</td>\n",
       "      <td>Carlo D'Este</td>\n",
       "      <td>1991</td>\n",
       "      <td>HarperPerennial</td>\n",
       "      <td>http://images.amazon.com/images/P/0060973129.0...</td>\n",
       "      <td>http://images.amazon.com/images/P/0060973129.0...</td>\n",
       "      <td>http://images.amazon.com/images/P/0060973129.0...</td>\n",
       "    </tr>\n",
       "  </tbody>\n",
       "</table>\n",
       "</div>"
      ],
      "text/plain": [
       "         isbn                 title                author publication_year  \\\n",
       "0  0195153448   Classical Mythology    Mark P. O. Morford             2002   \n",
       "1  0002005018          Clara Callan  Richard Bruce Wright             2001   \n",
       "2  0060973129  Decision in Normandy          Carlo D'Este             1991   \n",
       "\n",
       "                 publisher                                        image-url-s  \\\n",
       "0  Oxford University Press  http://images.amazon.com/images/P/0195153448.0...   \n",
       "1    HarperFlamingo Canada  http://images.amazon.com/images/P/0002005018.0...   \n",
       "2          HarperPerennial  http://images.amazon.com/images/P/0060973129.0...   \n",
       "\n",
       "                                         image-url-m  \\\n",
       "0  http://images.amazon.com/images/P/0195153448.0...   \n",
       "1  http://images.amazon.com/images/P/0002005018.0...   \n",
       "2  http://images.amazon.com/images/P/0060973129.0...   \n",
       "\n",
       "                                         image-url-l  \n",
       "0  http://images.amazon.com/images/P/0195153448.0...  \n",
       "1  http://images.amazon.com/images/P/0002005018.0...  \n",
       "2  http://images.amazon.com/images/P/0060973129.0...  "
      ]
     },
     "execution_count": 9,
     "metadata": {},
     "output_type": "execute_result"
    }
   ],
   "source": [
    "books_df.rename(\n",
    "    columns = {\n",
    "        \"ISBN\": \"ISBN\".lower(),\n",
    "        \"Book-Title\": \"title\",\n",
    "        \"Book-Author\": \"author\",\n",
    "        \"Year-Of-Publication\": \"publication_year\",\n",
    "        \"Publisher\": \"Publisher\".lower(),\n",
    "        \"Image-URL-S\": \"Image-URL-S\".lower(),\n",
    "        \"Image-URL-M\": \"Image-URL-M\".lower(),\n",
    "        \"Image-URL-L\": \"Image-URL-L\".lower()\n",
    "    }, \n",
    "    inplace=True\n",
    ")\n",
    "books_df.head(3)"
   ]
  },
  {
   "cell_type": "markdown",
   "id": "f71174c4-345f-42ef-b38d-5ed2e19d7094",
   "metadata": {},
   "source": [
    "### users_df"
   ]
  },
  {
   "cell_type": "code",
   "execution_count": 10,
   "id": "44986f10-cf88-423b-989b-20b93435a77e",
   "metadata": {},
   "outputs": [
    {
     "data": {
      "text/html": [
       "<div>\n",
       "<style scoped>\n",
       "    .dataframe tbody tr th:only-of-type {\n",
       "        vertical-align: middle;\n",
       "    }\n",
       "\n",
       "    .dataframe tbody tr th {\n",
       "        vertical-align: top;\n",
       "    }\n",
       "\n",
       "    .dataframe thead th {\n",
       "        text-align: right;\n",
       "    }\n",
       "</style>\n",
       "<table border=\"1\" class=\"dataframe\">\n",
       "  <thead>\n",
       "    <tr style=\"text-align: right;\">\n",
       "      <th></th>\n",
       "      <th>User-ID</th>\n",
       "      <th>Location</th>\n",
       "      <th>Age</th>\n",
       "    </tr>\n",
       "  </thead>\n",
       "  <tbody>\n",
       "    <tr>\n",
       "      <th>0</th>\n",
       "      <td>1</td>\n",
       "      <td>nyc, new york, usa</td>\n",
       "      <td>NaN</td>\n",
       "    </tr>\n",
       "    <tr>\n",
       "      <th>1</th>\n",
       "      <td>2</td>\n",
       "      <td>stockton, california, usa</td>\n",
       "      <td>18.0</td>\n",
       "    </tr>\n",
       "    <tr>\n",
       "      <th>2</th>\n",
       "      <td>3</td>\n",
       "      <td>moscow, yukon territory, russia</td>\n",
       "      <td>NaN</td>\n",
       "    </tr>\n",
       "  </tbody>\n",
       "</table>\n",
       "</div>"
      ],
      "text/plain": [
       "   User-ID                         Location   Age\n",
       "0        1               nyc, new york, usa   NaN\n",
       "1        2        stockton, california, usa  18.0\n",
       "2        3  moscow, yukon territory, russia   NaN"
      ]
     },
     "execution_count": 10,
     "metadata": {},
     "output_type": "execute_result"
    }
   ],
   "source": [
    "users_df.head(3)"
   ]
  },
  {
   "cell_type": "code",
   "execution_count": 11,
   "id": "58bc91c8-1e18-47fb-a37c-baa5549df664",
   "metadata": {},
   "outputs": [
    {
     "data": {
      "text/html": [
       "<div>\n",
       "<style scoped>\n",
       "    .dataframe tbody tr th:only-of-type {\n",
       "        vertical-align: middle;\n",
       "    }\n",
       "\n",
       "    .dataframe tbody tr th {\n",
       "        vertical-align: top;\n",
       "    }\n",
       "\n",
       "    .dataframe thead th {\n",
       "        text-align: right;\n",
       "    }\n",
       "</style>\n",
       "<table border=\"1\" class=\"dataframe\">\n",
       "  <thead>\n",
       "    <tr style=\"text-align: right;\">\n",
       "      <th></th>\n",
       "      <th>User-ID</th>\n",
       "      <th>Location</th>\n",
       "      <th>Age</th>\n",
       "    </tr>\n",
       "  </thead>\n",
       "  <tbody>\n",
       "    <tr>\n",
       "      <th>278855</th>\n",
       "      <td>278856</td>\n",
       "      <td>brampton, ontario, canada</td>\n",
       "      <td>NaN</td>\n",
       "    </tr>\n",
       "    <tr>\n",
       "      <th>278856</th>\n",
       "      <td>278857</td>\n",
       "      <td>knoxville, tennessee, usa</td>\n",
       "      <td>NaN</td>\n",
       "    </tr>\n",
       "    <tr>\n",
       "      <th>278857</th>\n",
       "      <td>278858</td>\n",
       "      <td>dublin, n/a, ireland</td>\n",
       "      <td>NaN</td>\n",
       "    </tr>\n",
       "  </tbody>\n",
       "</table>\n",
       "</div>"
      ],
      "text/plain": [
       "        User-ID                   Location  Age\n",
       "278855   278856  brampton, ontario, canada  NaN\n",
       "278856   278857  knoxville, tennessee, usa  NaN\n",
       "278857   278858       dublin, n/a, ireland  NaN"
      ]
     },
     "execution_count": 11,
     "metadata": {},
     "output_type": "execute_result"
    }
   ],
   "source": [
    "users_df.tail(3)"
   ]
  },
  {
   "cell_type": "code",
   "execution_count": 12,
   "id": "0913de1a-8749-48e6-88ec-f977d2955826",
   "metadata": {},
   "outputs": [
    {
     "data": {
      "text/html": [
       "<div>\n",
       "<style scoped>\n",
       "    .dataframe tbody tr th:only-of-type {\n",
       "        vertical-align: middle;\n",
       "    }\n",
       "\n",
       "    .dataframe tbody tr th {\n",
       "        vertical-align: top;\n",
       "    }\n",
       "\n",
       "    .dataframe thead th {\n",
       "        text-align: right;\n",
       "    }\n",
       "</style>\n",
       "<table border=\"1\" class=\"dataframe\">\n",
       "  <thead>\n",
       "    <tr style=\"text-align: right;\">\n",
       "      <th></th>\n",
       "      <th>user_id</th>\n",
       "      <th>location</th>\n",
       "      <th>age</th>\n",
       "    </tr>\n",
       "  </thead>\n",
       "  <tbody>\n",
       "    <tr>\n",
       "      <th>0</th>\n",
       "      <td>1</td>\n",
       "      <td>nyc, new york, usa</td>\n",
       "      <td>NaN</td>\n",
       "    </tr>\n",
       "    <tr>\n",
       "      <th>1</th>\n",
       "      <td>2</td>\n",
       "      <td>stockton, california, usa</td>\n",
       "      <td>18.0</td>\n",
       "    </tr>\n",
       "    <tr>\n",
       "      <th>2</th>\n",
       "      <td>3</td>\n",
       "      <td>moscow, yukon territory, russia</td>\n",
       "      <td>NaN</td>\n",
       "    </tr>\n",
       "  </tbody>\n",
       "</table>\n",
       "</div>"
      ],
      "text/plain": [
       "   user_id                         location   age\n",
       "0        1               nyc, new york, usa   NaN\n",
       "1        2        stockton, california, usa  18.0\n",
       "2        3  moscow, yukon territory, russia   NaN"
      ]
     },
     "execution_count": 12,
     "metadata": {},
     "output_type": "execute_result"
    }
   ],
   "source": [
    "users_df.rename(\n",
    "    columns = {\n",
    "        \"User-ID\": \"user_id\",\n",
    "        \"Location\": \"Location\".lower(),\n",
    "        \"Age\": \"Age\".lower()\n",
    "    },\n",
    "    inplace = True\n",
    ")\n",
    "users_df.head(3)"
   ]
  },
  {
   "cell_type": "markdown",
   "id": "38415dbb-f21a-4336-a965-3865d4a538ce",
   "metadata": {},
   "source": [
    "### ratings_df"
   ]
  },
  {
   "cell_type": "code",
   "execution_count": 13,
   "id": "3dabd6a3-b4eb-4dc5-a957-54fa45b652e6",
   "metadata": {},
   "outputs": [
    {
     "data": {
      "text/html": [
       "<div>\n",
       "<style scoped>\n",
       "    .dataframe tbody tr th:only-of-type {\n",
       "        vertical-align: middle;\n",
       "    }\n",
       "\n",
       "    .dataframe tbody tr th {\n",
       "        vertical-align: top;\n",
       "    }\n",
       "\n",
       "    .dataframe thead th {\n",
       "        text-align: right;\n",
       "    }\n",
       "</style>\n",
       "<table border=\"1\" class=\"dataframe\">\n",
       "  <thead>\n",
       "    <tr style=\"text-align: right;\">\n",
       "      <th></th>\n",
       "      <th>User-ID</th>\n",
       "      <th>ISBN</th>\n",
       "      <th>Book-Rating</th>\n",
       "    </tr>\n",
       "  </thead>\n",
       "  <tbody>\n",
       "    <tr>\n",
       "      <th>0</th>\n",
       "      <td>276725</td>\n",
       "      <td>034545104X</td>\n",
       "      <td>0</td>\n",
       "    </tr>\n",
       "    <tr>\n",
       "      <th>1</th>\n",
       "      <td>276726</td>\n",
       "      <td>0155061224</td>\n",
       "      <td>5</td>\n",
       "    </tr>\n",
       "    <tr>\n",
       "      <th>2</th>\n",
       "      <td>276727</td>\n",
       "      <td>0446520802</td>\n",
       "      <td>0</td>\n",
       "    </tr>\n",
       "  </tbody>\n",
       "</table>\n",
       "</div>"
      ],
      "text/plain": [
       "   User-ID        ISBN  Book-Rating\n",
       "0   276725  034545104X            0\n",
       "1   276726  0155061224            5\n",
       "2   276727  0446520802            0"
      ]
     },
     "execution_count": 13,
     "metadata": {},
     "output_type": "execute_result"
    }
   ],
   "source": [
    "ratings_df.head(3)"
   ]
  },
  {
   "cell_type": "code",
   "execution_count": 14,
   "id": "1de24ae4-ddf5-491c-bdb2-d43313563f1a",
   "metadata": {},
   "outputs": [
    {
     "data": {
      "text/html": [
       "<div>\n",
       "<style scoped>\n",
       "    .dataframe tbody tr th:only-of-type {\n",
       "        vertical-align: middle;\n",
       "    }\n",
       "\n",
       "    .dataframe tbody tr th {\n",
       "        vertical-align: top;\n",
       "    }\n",
       "\n",
       "    .dataframe thead th {\n",
       "        text-align: right;\n",
       "    }\n",
       "</style>\n",
       "<table border=\"1\" class=\"dataframe\">\n",
       "  <thead>\n",
       "    <tr style=\"text-align: right;\">\n",
       "      <th></th>\n",
       "      <th>User-ID</th>\n",
       "      <th>ISBN</th>\n",
       "      <th>Book-Rating</th>\n",
       "    </tr>\n",
       "  </thead>\n",
       "  <tbody>\n",
       "    <tr>\n",
       "      <th>1149777</th>\n",
       "      <td>276709</td>\n",
       "      <td>0515107662</td>\n",
       "      <td>10</td>\n",
       "    </tr>\n",
       "    <tr>\n",
       "      <th>1149778</th>\n",
       "      <td>276721</td>\n",
       "      <td>0590442449</td>\n",
       "      <td>10</td>\n",
       "    </tr>\n",
       "    <tr>\n",
       "      <th>1149779</th>\n",
       "      <td>276723</td>\n",
       "      <td>05162443314</td>\n",
       "      <td>8</td>\n",
       "    </tr>\n",
       "  </tbody>\n",
       "</table>\n",
       "</div>"
      ],
      "text/plain": [
       "         User-ID         ISBN  Book-Rating\n",
       "1149777   276709   0515107662           10\n",
       "1149778   276721   0590442449           10\n",
       "1149779   276723  05162443314            8"
      ]
     },
     "execution_count": 14,
     "metadata": {},
     "output_type": "execute_result"
    }
   ],
   "source": [
    "ratings_df.tail(3)"
   ]
  },
  {
   "cell_type": "code",
   "execution_count": 15,
   "id": "38a34efa-35bd-40a5-8722-0b505e5e3cfb",
   "metadata": {},
   "outputs": [
    {
     "data": {
      "text/html": [
       "<div>\n",
       "<style scoped>\n",
       "    .dataframe tbody tr th:only-of-type {\n",
       "        vertical-align: middle;\n",
       "    }\n",
       "\n",
       "    .dataframe tbody tr th {\n",
       "        vertical-align: top;\n",
       "    }\n",
       "\n",
       "    .dataframe thead th {\n",
       "        text-align: right;\n",
       "    }\n",
       "</style>\n",
       "<table border=\"1\" class=\"dataframe\">\n",
       "  <thead>\n",
       "    <tr style=\"text-align: right;\">\n",
       "      <th></th>\n",
       "      <th>user_id</th>\n",
       "      <th>isbn</th>\n",
       "      <th>rating</th>\n",
       "    </tr>\n",
       "  </thead>\n",
       "  <tbody>\n",
       "    <tr>\n",
       "      <th>0</th>\n",
       "      <td>276725</td>\n",
       "      <td>034545104X</td>\n",
       "      <td>0</td>\n",
       "    </tr>\n",
       "    <tr>\n",
       "      <th>1</th>\n",
       "      <td>276726</td>\n",
       "      <td>0155061224</td>\n",
       "      <td>5</td>\n",
       "    </tr>\n",
       "    <tr>\n",
       "      <th>2</th>\n",
       "      <td>276727</td>\n",
       "      <td>0446520802</td>\n",
       "      <td>0</td>\n",
       "    </tr>\n",
       "  </tbody>\n",
       "</table>\n",
       "</div>"
      ],
      "text/plain": [
       "   user_id        isbn  rating\n",
       "0   276725  034545104X       0\n",
       "1   276726  0155061224       5\n",
       "2   276727  0446520802       0"
      ]
     },
     "execution_count": 15,
     "metadata": {},
     "output_type": "execute_result"
    }
   ],
   "source": [
    "ratings_df.rename(\n",
    "    columns = {\n",
    "        \"User-ID\": \"user_id\",\n",
    "        \"ISBN\": \"ISBN\".lower(),\n",
    "        \"Book-Rating\": \"rating\"\n",
    "    },\n",
    "    inplace = True\n",
    ")\n",
    "ratings_df.head(3)"
   ]
  },
  {
   "cell_type": "markdown",
   "id": "4f7593d8-e93b-4ea6-abb5-571992a1ed15",
   "metadata": {},
   "source": [
    "# Data quality assessment"
   ]
  },
  {
   "cell_type": "markdown",
   "id": "6c9070ef-0eff-4d26-9351-848411a3c228",
   "metadata": {},
   "source": [
    "## Missing data examination"
   ]
  },
  {
   "cell_type": "markdown",
   "id": "6a1665eb-7555-4555-ac6d-ed3b07a3196a",
   "metadata": {},
   "source": [
    "### Determine the number of missing values for each column"
   ]
  },
  {
   "cell_type": "markdown",
   "id": "d1c4d314-51aa-477b-875d-e2391eb4eeb1",
   "metadata": {},
   "source": [
    "#### books_df"
   ]
  },
  {
   "cell_type": "code",
   "execution_count": 16,
   "id": "c3f99d2d-9692-4676-92b9-611076966670",
   "metadata": {},
   "outputs": [
    {
     "name": "stdout",
     "output_type": "stream",
     "text": [
      "books_df.shape = (271360, 8)\n",
      "<class 'pandas.core.frame.DataFrame'>\n",
      "RangeIndex: 271360 entries, 0 to 271359\n",
      "Data columns (total 8 columns):\n",
      " #   Column            Non-Null Count   Dtype \n",
      "---  ------            --------------   ----- \n",
      " 0   isbn              271360 non-null  object\n",
      " 1   title             271360 non-null  object\n",
      " 2   author            271358 non-null  object\n",
      " 3   publication_year  271360 non-null  object\n",
      " 4   publisher         271358 non-null  object\n",
      " 5   image-url-s       271360 non-null  object\n",
      " 6   image-url-m       271360 non-null  object\n",
      " 7   image-url-l       271357 non-null  object\n",
      "dtypes: object(8)\n",
      "memory usage: 16.6+ MB\n"
     ]
    }
   ],
   "source": [
    "print(f\"books_df.shape = {books_df.shape}\")\n",
    "books_df.info()"
   ]
  },
  {
   "cell_type": "code",
   "execution_count": 17,
   "id": "d1e3797f-a4c4-4429-9eb4-f7f663f0ac47",
   "metadata": {},
   "outputs": [
    {
     "data": {
      "text/html": [
       "<div>\n",
       "<style scoped>\n",
       "    .dataframe tbody tr th:only-of-type {\n",
       "        vertical-align: middle;\n",
       "    }\n",
       "\n",
       "    .dataframe tbody tr th {\n",
       "        vertical-align: top;\n",
       "    }\n",
       "\n",
       "    .dataframe thead th {\n",
       "        text-align: right;\n",
       "    }\n",
       "</style>\n",
       "<table border=\"1\" class=\"dataframe\">\n",
       "  <thead>\n",
       "    <tr style=\"text-align: right;\">\n",
       "      <th></th>\n",
       "      <th>column</th>\n",
       "      <th>missing_count</th>\n",
       "      <th>missing_percentage</th>\n",
       "    </tr>\n",
       "  </thead>\n",
       "  <tbody>\n",
       "    <tr>\n",
       "      <th>0</th>\n",
       "      <td>isbn</td>\n",
       "      <td>0</td>\n",
       "      <td>0.000000</td>\n",
       "    </tr>\n",
       "    <tr>\n",
       "      <th>1</th>\n",
       "      <td>title</td>\n",
       "      <td>0</td>\n",
       "      <td>0.000000</td>\n",
       "    </tr>\n",
       "    <tr>\n",
       "      <th>2</th>\n",
       "      <td>author</td>\n",
       "      <td>2</td>\n",
       "      <td>0.000737</td>\n",
       "    </tr>\n",
       "    <tr>\n",
       "      <th>3</th>\n",
       "      <td>publication_year</td>\n",
       "      <td>0</td>\n",
       "      <td>0.000000</td>\n",
       "    </tr>\n",
       "    <tr>\n",
       "      <th>4</th>\n",
       "      <td>publisher</td>\n",
       "      <td>2</td>\n",
       "      <td>0.000737</td>\n",
       "    </tr>\n",
       "    <tr>\n",
       "      <th>5</th>\n",
       "      <td>image-url-s</td>\n",
       "      <td>0</td>\n",
       "      <td>0.000000</td>\n",
       "    </tr>\n",
       "    <tr>\n",
       "      <th>6</th>\n",
       "      <td>image-url-m</td>\n",
       "      <td>0</td>\n",
       "      <td>0.000000</td>\n",
       "    </tr>\n",
       "    <tr>\n",
       "      <th>7</th>\n",
       "      <td>image-url-l</td>\n",
       "      <td>3</td>\n",
       "      <td>0.001106</td>\n",
       "    </tr>\n",
       "  </tbody>\n",
       "</table>\n",
       "</div>"
      ],
      "text/plain": [
       "             column  missing_count  missing_percentage\n",
       "0              isbn              0            0.000000\n",
       "1             title              0            0.000000\n",
       "2            author              2            0.000737\n",
       "3  publication_year              0            0.000000\n",
       "4         publisher              2            0.000737\n",
       "5       image-url-s              0            0.000000\n",
       "6       image-url-m              0            0.000000\n",
       "7       image-url-l              3            0.001106"
      ]
     },
     "execution_count": 17,
     "metadata": {},
     "output_type": "execute_result"
    }
   ],
   "source": [
    "missing_info_df = pd.DataFrame({\n",
    "    'missing_count': books_df.isnull().sum(),\n",
    "    'missing_percentage': (books_df.isnull().sum() / len(books_df)) * 100\n",
    "}).reset_index().rename(columns={'index': 'column'})\n",
    "\n",
    "missing_info_df"
   ]
  },
  {
   "cell_type": "markdown",
   "id": "1d209049-7335-4872-a60e-59b775717e4e",
   "metadata": {
    "jp-MarkdownHeadingCollapsed": true
   },
   "source": [
    "##### Fill NaN values for 'author' column "
   ]
  },
  {
   "cell_type": "code",
   "execution_count": 18,
   "id": "d837cf06-fd60-465a-9119-fb9763692bf2",
   "metadata": {},
   "outputs": [
    {
     "data": {
      "text/html": [
       "<div>\n",
       "<style scoped>\n",
       "    .dataframe tbody tr th:only-of-type {\n",
       "        vertical-align: middle;\n",
       "    }\n",
       "\n",
       "    .dataframe tbody tr th {\n",
       "        vertical-align: top;\n",
       "    }\n",
       "\n",
       "    .dataframe thead th {\n",
       "        text-align: right;\n",
       "    }\n",
       "</style>\n",
       "<table border=\"1\" class=\"dataframe\">\n",
       "  <thead>\n",
       "    <tr style=\"text-align: right;\">\n",
       "      <th></th>\n",
       "      <th>isbn</th>\n",
       "      <th>title</th>\n",
       "      <th>author</th>\n",
       "      <th>publication_year</th>\n",
       "      <th>publisher</th>\n",
       "      <th>image-url-s</th>\n",
       "      <th>image-url-m</th>\n",
       "      <th>image-url-l</th>\n",
       "    </tr>\n",
       "  </thead>\n",
       "  <tbody>\n",
       "    <tr>\n",
       "      <th>118033</th>\n",
       "      <td>0751352497</td>\n",
       "      <td>A+ Quiz Masters:01 Earth</td>\n",
       "      <td>NaN</td>\n",
       "      <td>1999</td>\n",
       "      <td>Dorling Kindersley</td>\n",
       "      <td>http://images.amazon.com/images/P/0751352497.0...</td>\n",
       "      <td>http://images.amazon.com/images/P/0751352497.0...</td>\n",
       "      <td>http://images.amazon.com/images/P/0751352497.0...</td>\n",
       "    </tr>\n",
       "    <tr>\n",
       "      <th>187689</th>\n",
       "      <td>9627982032</td>\n",
       "      <td>The Credit Suisse Guide to Managing Your Perso...</td>\n",
       "      <td>NaN</td>\n",
       "      <td>1995</td>\n",
       "      <td>Edinburgh Financial Publishing</td>\n",
       "      <td>http://images.amazon.com/images/P/9627982032.0...</td>\n",
       "      <td>http://images.amazon.com/images/P/9627982032.0...</td>\n",
       "      <td>http://images.amazon.com/images/P/9627982032.0...</td>\n",
       "    </tr>\n",
       "  </tbody>\n",
       "</table>\n",
       "</div>"
      ],
      "text/plain": [
       "              isbn                                              title author  \\\n",
       "118033  0751352497                           A+ Quiz Masters:01 Earth    NaN   \n",
       "187689  9627982032  The Credit Suisse Guide to Managing Your Perso...    NaN   \n",
       "\n",
       "       publication_year                       publisher  \\\n",
       "118033             1999              Dorling Kindersley   \n",
       "187689             1995  Edinburgh Financial Publishing   \n",
       "\n",
       "                                              image-url-s  \\\n",
       "118033  http://images.amazon.com/images/P/0751352497.0...   \n",
       "187689  http://images.amazon.com/images/P/9627982032.0...   \n",
       "\n",
       "                                              image-url-m  \\\n",
       "118033  http://images.amazon.com/images/P/0751352497.0...   \n",
       "187689  http://images.amazon.com/images/P/9627982032.0...   \n",
       "\n",
       "                                              image-url-l  \n",
       "118033  http://images.amazon.com/images/P/0751352497.0...  \n",
       "187689  http://images.amazon.com/images/P/9627982032.0...  "
      ]
     },
     "execution_count": 18,
     "metadata": {},
     "output_type": "execute_result"
    }
   ],
   "source": [
    "books_df[books_df['author'].isnull()]"
   ]
  },
  {
   "cell_type": "markdown",
   "id": "cbbfce0a-e53e-4184-8f78-2afe93f3a3ab",
   "metadata": {},
   "source": [
    "<img src=\"books_dataset_EDA_images/fillna_books_A_quiz_masters.png\">"
   ]
  },
  {
   "cell_type": "code",
   "execution_count": 19,
   "id": "d647173c-5a5c-4fe9-a1d9-2bd39ae340ab",
   "metadata": {},
   "outputs": [],
   "source": [
    "books_df.loc[118033, 'author'] = 'Unknown'"
   ]
  },
  {
   "cell_type": "markdown",
   "id": "55faab31-7e81-4c53-9eb2-be0e16c6c6a5",
   "metadata": {},
   "source": [
    "<img src=\"books_dataset_EDA_images/fillna_books_The_Credit_Suisse_Guide.png\">"
   ]
  },
  {
   "cell_type": "code",
   "execution_count": 20,
   "id": "209cce8d-787e-45fc-8cc9-f82cafc7e8f2",
   "metadata": {},
   "outputs": [
    {
     "data": {
      "text/html": [
       "<div>\n",
       "<style scoped>\n",
       "    .dataframe tbody tr th:only-of-type {\n",
       "        vertical-align: middle;\n",
       "    }\n",
       "\n",
       "    .dataframe tbody tr th {\n",
       "        vertical-align: top;\n",
       "    }\n",
       "\n",
       "    .dataframe thead th {\n",
       "        text-align: right;\n",
       "    }\n",
       "</style>\n",
       "<table border=\"1\" class=\"dataframe\">\n",
       "  <thead>\n",
       "    <tr style=\"text-align: right;\">\n",
       "      <th></th>\n",
       "      <th>isbn</th>\n",
       "      <th>title</th>\n",
       "      <th>author</th>\n",
       "      <th>publication_year</th>\n",
       "      <th>publisher</th>\n",
       "      <th>image-url-s</th>\n",
       "      <th>image-url-m</th>\n",
       "      <th>image-url-l</th>\n",
       "    </tr>\n",
       "  </thead>\n",
       "  <tbody>\n",
       "  </tbody>\n",
       "</table>\n",
       "</div>"
      ],
      "text/plain": [
       "Empty DataFrame\n",
       "Columns: [isbn, title, author, publication_year, publisher, image-url-s, image-url-m, image-url-l]\n",
       "Index: []"
      ]
     },
     "execution_count": 20,
     "metadata": {},
     "output_type": "execute_result"
    }
   ],
   "source": [
    "books_df[books_df['author'].str.contains('Larissa Anne', case=False, na=False)]"
   ]
  },
  {
   "cell_type": "code",
   "execution_count": 21,
   "id": "d0ef4160-fbab-4667-b37f-ea09868d6ef6",
   "metadata": {},
   "outputs": [],
   "source": [
    "books_df.loc[187689, 'author'] = 'Downes, Larissa Anne'"
   ]
  },
  {
   "cell_type": "code",
   "execution_count": 22,
   "id": "972651ec-e9ec-428f-b64e-8b63ffac1cfd",
   "metadata": {},
   "outputs": [
    {
     "data": {
      "text/html": [
       "<div>\n",
       "<style scoped>\n",
       "    .dataframe tbody tr th:only-of-type {\n",
       "        vertical-align: middle;\n",
       "    }\n",
       "\n",
       "    .dataframe tbody tr th {\n",
       "        vertical-align: top;\n",
       "    }\n",
       "\n",
       "    .dataframe thead th {\n",
       "        text-align: right;\n",
       "    }\n",
       "</style>\n",
       "<table border=\"1\" class=\"dataframe\">\n",
       "  <thead>\n",
       "    <tr style=\"text-align: right;\">\n",
       "      <th></th>\n",
       "      <th>isbn</th>\n",
       "      <th>title</th>\n",
       "      <th>author</th>\n",
       "      <th>publication_year</th>\n",
       "      <th>publisher</th>\n",
       "      <th>image-url-s</th>\n",
       "      <th>image-url-m</th>\n",
       "      <th>image-url-l</th>\n",
       "    </tr>\n",
       "  </thead>\n",
       "  <tbody>\n",
       "  </tbody>\n",
       "</table>\n",
       "</div>"
      ],
      "text/plain": [
       "Empty DataFrame\n",
       "Columns: [isbn, title, author, publication_year, publisher, image-url-s, image-url-m, image-url-l]\n",
       "Index: []"
      ]
     },
     "execution_count": 22,
     "metadata": {},
     "output_type": "execute_result"
    }
   ],
   "source": [
    "books_df[books_df['author'].isnull()]"
   ]
  },
  {
   "cell_type": "code",
   "execution_count": 23,
   "id": "6b879024-8716-4b7c-bacf-e35e35d1fe3a",
   "metadata": {},
   "outputs": [
    {
     "data": {
      "text/html": [
       "<div>\n",
       "<style scoped>\n",
       "    .dataframe tbody tr th:only-of-type {\n",
       "        vertical-align: middle;\n",
       "    }\n",
       "\n",
       "    .dataframe tbody tr th {\n",
       "        vertical-align: top;\n",
       "    }\n",
       "\n",
       "    .dataframe thead th {\n",
       "        text-align: right;\n",
       "    }\n",
       "</style>\n",
       "<table border=\"1\" class=\"dataframe\">\n",
       "  <thead>\n",
       "    <tr style=\"text-align: right;\">\n",
       "      <th></th>\n",
       "      <th>isbn</th>\n",
       "      <th>title</th>\n",
       "      <th>author</th>\n",
       "      <th>publication_year</th>\n",
       "      <th>publisher</th>\n",
       "      <th>image-url-s</th>\n",
       "      <th>image-url-m</th>\n",
       "      <th>image-url-l</th>\n",
       "    </tr>\n",
       "  </thead>\n",
       "  <tbody>\n",
       "    <tr>\n",
       "      <th>118033</th>\n",
       "      <td>0751352497</td>\n",
       "      <td>A+ Quiz Masters:01 Earth</td>\n",
       "      <td>Unknown</td>\n",
       "      <td>1999</td>\n",
       "      <td>Dorling Kindersley</td>\n",
       "      <td>http://images.amazon.com/images/P/0751352497.0...</td>\n",
       "      <td>http://images.amazon.com/images/P/0751352497.0...</td>\n",
       "      <td>http://images.amazon.com/images/P/0751352497.0...</td>\n",
       "    </tr>\n",
       "    <tr>\n",
       "      <th>187689</th>\n",
       "      <td>9627982032</td>\n",
       "      <td>The Credit Suisse Guide to Managing Your Perso...</td>\n",
       "      <td>Downes, Larissa Anne</td>\n",
       "      <td>1995</td>\n",
       "      <td>Edinburgh Financial Publishing</td>\n",
       "      <td>http://images.amazon.com/images/P/9627982032.0...</td>\n",
       "      <td>http://images.amazon.com/images/P/9627982032.0...</td>\n",
       "      <td>http://images.amazon.com/images/P/9627982032.0...</td>\n",
       "    </tr>\n",
       "  </tbody>\n",
       "</table>\n",
       "</div>"
      ],
      "text/plain": [
       "              isbn                                              title  \\\n",
       "118033  0751352497                           A+ Quiz Masters:01 Earth   \n",
       "187689  9627982032  The Credit Suisse Guide to Managing Your Perso...   \n",
       "\n",
       "                      author publication_year                       publisher  \\\n",
       "118033               Unknown             1999              Dorling Kindersley   \n",
       "187689  Downes, Larissa Anne             1995  Edinburgh Financial Publishing   \n",
       "\n",
       "                                              image-url-s  \\\n",
       "118033  http://images.amazon.com/images/P/0751352497.0...   \n",
       "187689  http://images.amazon.com/images/P/9627982032.0...   \n",
       "\n",
       "                                              image-url-m  \\\n",
       "118033  http://images.amazon.com/images/P/0751352497.0...   \n",
       "187689  http://images.amazon.com/images/P/9627982032.0...   \n",
       "\n",
       "                                              image-url-l  \n",
       "118033  http://images.amazon.com/images/P/0751352497.0...  \n",
       "187689  http://images.amazon.com/images/P/9627982032.0...  "
      ]
     },
     "execution_count": 23,
     "metadata": {},
     "output_type": "execute_result"
    }
   ],
   "source": [
    "books_df[books_df['isbn'].apply(lambda x: x in ['0751352497', '9627982032'])]"
   ]
  },
  {
   "cell_type": "markdown",
   "id": "8b9a9cb8-b683-43b2-940c-0dc5eb7b1dd5",
   "metadata": {
    "jp-MarkdownHeadingCollapsed": true
   },
   "source": [
    "#### users_df"
   ]
  },
  {
   "cell_type": "code",
   "execution_count": 24,
   "id": "3e75d254-6e66-463d-a53f-37c17685bf49",
   "metadata": {},
   "outputs": [
    {
     "name": "stdout",
     "output_type": "stream",
     "text": [
      "users_df.shape = (278858, 3)\n",
      "<class 'pandas.core.frame.DataFrame'>\n",
      "RangeIndex: 278858 entries, 0 to 278857\n",
      "Data columns (total 3 columns):\n",
      " #   Column    Non-Null Count   Dtype  \n",
      "---  ------    --------------   -----  \n",
      " 0   user_id   278858 non-null  int64  \n",
      " 1   location  278858 non-null  object \n",
      " 2   age       168096 non-null  float64\n",
      "dtypes: float64(1), int64(1), object(1)\n",
      "memory usage: 6.4+ MB\n"
     ]
    }
   ],
   "source": [
    "print(f\"users_df.shape = {users_df.shape}\")\n",
    "users_df.info()"
   ]
  },
  {
   "cell_type": "code",
   "execution_count": 25,
   "id": "9a32ecb1-73e0-4576-93a1-c40735bfdb44",
   "metadata": {},
   "outputs": [
    {
     "data": {
      "text/html": [
       "<div>\n",
       "<style scoped>\n",
       "    .dataframe tbody tr th:only-of-type {\n",
       "        vertical-align: middle;\n",
       "    }\n",
       "\n",
       "    .dataframe tbody tr th {\n",
       "        vertical-align: top;\n",
       "    }\n",
       "\n",
       "    .dataframe thead th {\n",
       "        text-align: right;\n",
       "    }\n",
       "</style>\n",
       "<table border=\"1\" class=\"dataframe\">\n",
       "  <thead>\n",
       "    <tr style=\"text-align: right;\">\n",
       "      <th></th>\n",
       "      <th>column</th>\n",
       "      <th>missing_count</th>\n",
       "      <th>missing_percentage</th>\n",
       "    </tr>\n",
       "  </thead>\n",
       "  <tbody>\n",
       "    <tr>\n",
       "      <th>0</th>\n",
       "      <td>user_id</td>\n",
       "      <td>0</td>\n",
       "      <td>0.000000</td>\n",
       "    </tr>\n",
       "    <tr>\n",
       "      <th>1</th>\n",
       "      <td>location</td>\n",
       "      <td>0</td>\n",
       "      <td>0.000000</td>\n",
       "    </tr>\n",
       "    <tr>\n",
       "      <th>2</th>\n",
       "      <td>age</td>\n",
       "      <td>110762</td>\n",
       "      <td>39.719857</td>\n",
       "    </tr>\n",
       "  </tbody>\n",
       "</table>\n",
       "</div>"
      ],
      "text/plain": [
       "     column  missing_count  missing_percentage\n",
       "0   user_id              0            0.000000\n",
       "1  location              0            0.000000\n",
       "2       age         110762           39.719857"
      ]
     },
     "execution_count": 25,
     "metadata": {},
     "output_type": "execute_result"
    }
   ],
   "source": [
    "missing_info_df = pd.DataFrame({\n",
    "    'missing_count': users_df.isnull().sum(),\n",
    "    'missing_percentage': (users_df.isnull().sum() / len(users_df)) * 100\n",
    "}).reset_index().rename(columns={'index': 'column'})\n",
    "\n",
    "missing_info_df"
   ]
  },
  {
   "cell_type": "markdown",
   "id": "d5afccac-d6d0-4437-bab1-892eff1a6ed8",
   "metadata": {},
   "source": [
    "Given the fact that the 'age' column contains ~40% missing values and is not intended to be used to build a recommendation model, it can be removed from the dataset."
   ]
  },
  {
   "cell_type": "markdown",
   "id": "a6adf197-a7d0-4a50-899e-d5bcd866403c",
   "metadata": {
    "jp-MarkdownHeadingCollapsed": true
   },
   "source": [
    "#### ratings_df"
   ]
  },
  {
   "cell_type": "code",
   "execution_count": 26,
   "id": "53e3da9e-46bc-4091-894d-ccfc6f1e8405",
   "metadata": {},
   "outputs": [
    {
     "name": "stdout",
     "output_type": "stream",
     "text": [
      "ratings_df.shape = (1149780, 3)\n",
      "<class 'pandas.core.frame.DataFrame'>\n",
      "RangeIndex: 1149780 entries, 0 to 1149779\n",
      "Data columns (total 3 columns):\n",
      " #   Column   Non-Null Count    Dtype \n",
      "---  ------   --------------    ----- \n",
      " 0   user_id  1149780 non-null  int64 \n",
      " 1   isbn     1149780 non-null  object\n",
      " 2   rating   1149780 non-null  int64 \n",
      "dtypes: int64(2), object(1)\n",
      "memory usage: 26.3+ MB\n"
     ]
    }
   ],
   "source": [
    "print(f\"ratings_df.shape = {ratings_df.shape}\")\n",
    "ratings_df.info()"
   ]
  },
  {
   "cell_type": "code",
   "execution_count": 27,
   "id": "896cb5e5-6266-4a7a-95a9-e6e918d0740d",
   "metadata": {},
   "outputs": [
    {
     "data": {
      "text/html": [
       "<div>\n",
       "<style scoped>\n",
       "    .dataframe tbody tr th:only-of-type {\n",
       "        vertical-align: middle;\n",
       "    }\n",
       "\n",
       "    .dataframe tbody tr th {\n",
       "        vertical-align: top;\n",
       "    }\n",
       "\n",
       "    .dataframe thead th {\n",
       "        text-align: right;\n",
       "    }\n",
       "</style>\n",
       "<table border=\"1\" class=\"dataframe\">\n",
       "  <thead>\n",
       "    <tr style=\"text-align: right;\">\n",
       "      <th></th>\n",
       "      <th>column</th>\n",
       "      <th>missing_count</th>\n",
       "      <th>missing_percentage</th>\n",
       "    </tr>\n",
       "  </thead>\n",
       "  <tbody>\n",
       "    <tr>\n",
       "      <th>0</th>\n",
       "      <td>user_id</td>\n",
       "      <td>0</td>\n",
       "      <td>0.0</td>\n",
       "    </tr>\n",
       "    <tr>\n",
       "      <th>1</th>\n",
       "      <td>isbn</td>\n",
       "      <td>0</td>\n",
       "      <td>0.0</td>\n",
       "    </tr>\n",
       "    <tr>\n",
       "      <th>2</th>\n",
       "      <td>rating</td>\n",
       "      <td>0</td>\n",
       "      <td>0.0</td>\n",
       "    </tr>\n",
       "  </tbody>\n",
       "</table>\n",
       "</div>"
      ],
      "text/plain": [
       "    column  missing_count  missing_percentage\n",
       "0  user_id              0                 0.0\n",
       "1     isbn              0                 0.0\n",
       "2   rating              0                 0.0"
      ]
     },
     "execution_count": 27,
     "metadata": {},
     "output_type": "execute_result"
    }
   ],
   "source": [
    "missing_info_df = pd.DataFrame({\n",
    "    'missing_count': ratings_df.isnull().sum(),\n",
    "    'missing_percentage': (ratings_df.isnull().sum() / len(ratings_df)) * 100\n",
    "}).reset_index().rename(columns={'index': 'column'})\n",
    "\n",
    "missing_info_df"
   ]
  },
  {
   "cell_type": "markdown",
   "id": "e62df6fa-a1db-4409-9005-07dd580f6f40",
   "metadata": {},
   "source": [
    "## Explore the data type and contents of each field"
   ]
  },
  {
   "cell_type": "markdown",
   "id": "61c20096-4f41-4348-a166-790993f0f235",
   "metadata": {
    "jp-MarkdownHeadingCollapsed": true
   },
   "source": [
    "### Assess data type of each field"
   ]
  },
  {
   "cell_type": "markdown",
   "id": "dfba2fd4-5043-4703-8135-e7b9ff4700c0",
   "metadata": {
    "jp-MarkdownHeadingCollapsed": true
   },
   "source": [
    "#### books_df"
   ]
  },
  {
   "cell_type": "code",
   "execution_count": 28,
   "id": "abc2475f-ccfc-4515-b39f-0251aa1a414a",
   "metadata": {},
   "outputs": [
    {
     "name": "stdout",
     "output_type": "stream",
     "text": [
      "<class 'pandas.core.frame.DataFrame'>\n",
      "RangeIndex: 271360 entries, 0 to 271359\n",
      "Data columns (total 8 columns):\n",
      " #   Column            Non-Null Count   Dtype \n",
      "---  ------            --------------   ----- \n",
      " 0   isbn              271360 non-null  object\n",
      " 1   title             271360 non-null  object\n",
      " 2   author            271360 non-null  object\n",
      " 3   publication_year  271360 non-null  object\n",
      " 4   publisher         271358 non-null  object\n",
      " 5   image-url-s       271360 non-null  object\n",
      " 6   image-url-m       271360 non-null  object\n",
      " 7   image-url-l       271357 non-null  object\n",
      "dtypes: object(8)\n",
      "memory usage: 16.6+ MB\n"
     ]
    }
   ],
   "source": [
    "books_df.info()"
   ]
  },
  {
   "cell_type": "code",
   "execution_count": 29,
   "id": "cd7dfb43-0922-4000-877b-148dead9d966",
   "metadata": {},
   "outputs": [
    {
     "name": "stdout",
     "output_type": "stream",
     "text": [
      "type(isbn) = <class 'str'>\n",
      "All entries of the column isbn have the type <class 'str'>: True\n",
      "\n",
      "type(title) = <class 'str'>\n",
      "All entries of the column title have the type <class 'str'>: True\n",
      "\n",
      "type(author) = <class 'str'>\n",
      "All entries of the column author have the type <class 'str'>: True\n",
      "\n",
      "type(publication_year) = <class 'int'>\n",
      "All entries of the column publication_year have the type <class 'int'>: False\n",
      "All non-null entries of the column publication_year have the type <class 'int'>: False\n",
      "\n",
      "type(publisher) = <class 'str'>\n",
      "All entries of the column publisher have the type <class 'str'>: False\n",
      "All non-null entries of the column publisher have the type <class 'str'>: True\n",
      "\n",
      "type(image-url-s) = <class 'str'>\n",
      "All entries of the column image-url-s have the type <class 'str'>: True\n",
      "\n",
      "type(image-url-m) = <class 'str'>\n",
      "All entries of the column image-url-m have the type <class 'str'>: True\n",
      "\n",
      "type(image-url-l) = <class 'str'>\n",
      "All entries of the column image-url-l have the type <class 'str'>: False\n",
      "All non-null entries of the column image-url-l have the type <class 'str'>: True\n",
      "\n"
     ]
    }
   ],
   "source": [
    "for column in books_df.select_dtypes(include='object').columns:\n",
    "    column_type = type(books_df[column].iloc[0])\n",
    "    print(f\"type({column}) = {column_type}\")\n",
    "    \n",
    "    all_entries_are_same_type = books_df[column].apply(lambda x: isinstance(x, column_type)).all()\n",
    "    print(f\"All entries of the column {column} have the type {column_type}: {all_entries_are_same_type}\")\n",
    "    \n",
    "    if all_entries_are_same_type == False:\n",
    "        all_entries_non_null_are_same_type = books_df[books_df[column].isnull() == False][column].apply(lambda x: isinstance(x, column_type)).all()\n",
    "        print(f\"All non-null entries of the column {column} have the type {column_type}: {all_entries_non_null_are_same_type}\")\n",
    "    print(\"\")"
   ]
  },
  {
   "cell_type": "markdown",
   "id": "7355f7f3-b990-4268-99e0-6fc666a90c41",
   "metadata": {},
   "source": [
    "The obtained results show that all fields have object data type.  \n",
    "For the **'publication_year'** column, it would be more appropriate to make the **int** data type rather than **object (str)**.  \n",
    "For the other columns, the results are as expected because each of them stores string information."
   ]
  },
  {
   "cell_type": "markdown",
   "id": "36c9a964-b7c2-420d-96d6-b37a0e7e3253",
   "metadata": {
    "jp-MarkdownHeadingCollapsed": true
   },
   "source": [
    "##### Explore 'publication_year' column"
   ]
  },
  {
   "cell_type": "markdown",
   "id": "1a148340-5a75-4867-b47a-837603af79c0",
   "metadata": {},
   "source": [
    "Let's consider the problem with the records of the 'Year-Of-Publication' column (why not all non-null entries of this column have the type 'int')."
   ]
  },
  {
   "cell_type": "code",
   "execution_count": 30,
   "id": "74217055-191f-4a8a-9614-21820fbd38e7",
   "metadata": {},
   "outputs": [
    {
     "data": {
      "text/plain": [
       "(271360, 8)"
      ]
     },
     "execution_count": 30,
     "metadata": {},
     "output_type": "execute_result"
    }
   ],
   "source": [
    "books_df.shape"
   ]
  },
  {
   "cell_type": "code",
   "execution_count": 31,
   "id": "266f858d-1179-46bb-8a1f-fa92ff714851",
   "metadata": {},
   "outputs": [
    {
     "data": {
      "text/html": [
       "<div>\n",
       "<style scoped>\n",
       "    .dataframe tbody tr th:only-of-type {\n",
       "        vertical-align: middle;\n",
       "    }\n",
       "\n",
       "    .dataframe tbody tr th {\n",
       "        vertical-align: top;\n",
       "    }\n",
       "\n",
       "    .dataframe thead th {\n",
       "        text-align: right;\n",
       "    }\n",
       "</style>\n",
       "<table border=\"1\" class=\"dataframe\">\n",
       "  <thead>\n",
       "    <tr style=\"text-align: right;\">\n",
       "      <th></th>\n",
       "      <th>isbn</th>\n",
       "      <th>title</th>\n",
       "      <th>author</th>\n",
       "      <th>publication_year</th>\n",
       "      <th>publisher</th>\n",
       "      <th>image-url-s</th>\n",
       "      <th>image-url-m</th>\n",
       "      <th>image-url-l</th>\n",
       "    </tr>\n",
       "  </thead>\n",
       "  <tbody>\n",
       "    <tr>\n",
       "      <th>196608</th>\n",
       "      <td>0425176967</td>\n",
       "      <td>Self-Portrait With Ghosts</td>\n",
       "      <td>Kelly Dwyer</td>\n",
       "      <td>2000</td>\n",
       "      <td>Berkley Publishing Group</td>\n",
       "      <td>http://images.amazon.com/images/P/0425176967.0...</td>\n",
       "      <td>http://images.amazon.com/images/P/0425176967.0...</td>\n",
       "      <td>http://images.amazon.com/images/P/0425176967.0...</td>\n",
       "    </tr>\n",
       "    <tr>\n",
       "      <th>196609</th>\n",
       "      <td>0373239971</td>\n",
       "      <td>Baby'S First Christmas (The Baby Of The Month ...</td>\n",
       "      <td>Marie Ferrarella</td>\n",
       "      <td>1995</td>\n",
       "      <td>Silhouette</td>\n",
       "      <td>http://images.amazon.com/images/P/0373239971.0...</td>\n",
       "      <td>http://images.amazon.com/images/P/0373239971.0...</td>\n",
       "      <td>http://images.amazon.com/images/P/0373239971.0...</td>\n",
       "    </tr>\n",
       "    <tr>\n",
       "      <th>196610</th>\n",
       "      <td>0373201613</td>\n",
       "      <td>Man She Married (By Request) (By Request)</td>\n",
       "      <td>Ann Major</td>\n",
       "      <td>1999</td>\n",
       "      <td>Harlequin</td>\n",
       "      <td>http://images.amazon.com/images/P/0373201613.0...</td>\n",
       "      <td>http://images.amazon.com/images/P/0373201613.0...</td>\n",
       "      <td>http://images.amazon.com/images/P/0373201613.0...</td>\n",
       "    </tr>\n",
       "    <tr>\n",
       "      <th>196611</th>\n",
       "      <td>159071024X</td>\n",
       "      <td>The Gilded Chamber</td>\n",
       "      <td>Rebecca Kohn</td>\n",
       "      <td>2004</td>\n",
       "      <td>Rugged Land</td>\n",
       "      <td>http://images.amazon.com/images/P/159071024X.0...</td>\n",
       "      <td>http://images.amazon.com/images/P/159071024X.0...</td>\n",
       "      <td>http://images.amazon.com/images/P/159071024X.0...</td>\n",
       "    </tr>\n",
       "    <tr>\n",
       "      <th>196612</th>\n",
       "      <td>0066210747</td>\n",
       "      <td>The Bielski Brothers: The True Story of Three ...</td>\n",
       "      <td>Peter Duffy</td>\n",
       "      <td>2003</td>\n",
       "      <td>HarperCollins</td>\n",
       "      <td>http://images.amazon.com/images/P/0066210747.0...</td>\n",
       "      <td>http://images.amazon.com/images/P/0066210747.0...</td>\n",
       "      <td>http://images.amazon.com/images/P/0066210747.0...</td>\n",
       "    </tr>\n",
       "    <tr>\n",
       "      <th>...</th>\n",
       "      <td>...</td>\n",
       "      <td>...</td>\n",
       "      <td>...</td>\n",
       "      <td>...</td>\n",
       "      <td>...</td>\n",
       "      <td>...</td>\n",
       "      <td>...</td>\n",
       "      <td>...</td>\n",
       "    </tr>\n",
       "    <tr>\n",
       "      <th>262139</th>\n",
       "      <td>0897332032</td>\n",
       "      <td>The Age of Agony: The Art of Healing, 1700-1800</td>\n",
       "      <td>Guy R. Williams</td>\n",
       "      <td>1986</td>\n",
       "      <td>Academy Chicago Publishers</td>\n",
       "      <td>http://images.amazon.com/images/P/0897332032.0...</td>\n",
       "      <td>http://images.amazon.com/images/P/0897332032.0...</td>\n",
       "      <td>http://images.amazon.com/images/P/0897332032.0...</td>\n",
       "    </tr>\n",
       "    <tr>\n",
       "      <th>262140</th>\n",
       "      <td>0897332857</td>\n",
       "      <td>The Age of Miracles</td>\n",
       "      <td>Guy Williams</td>\n",
       "      <td>1987</td>\n",
       "      <td>Academy Chicago Publishers</td>\n",
       "      <td>http://images.amazon.com/images/P/0897332857.0...</td>\n",
       "      <td>http://images.amazon.com/images/P/0897332857.0...</td>\n",
       "      <td>http://images.amazon.com/images/P/0897332857.0...</td>\n",
       "    </tr>\n",
       "    <tr>\n",
       "      <th>262141</th>\n",
       "      <td>0897333918</td>\n",
       "      <td>The Common Stream: Two Thousand Years of the E...</td>\n",
       "      <td>Rowland Parker</td>\n",
       "      <td>1994</td>\n",
       "      <td>Academy Chicago Publishers</td>\n",
       "      <td>http://images.amazon.com/images/P/0897333918.0...</td>\n",
       "      <td>http://images.amazon.com/images/P/0897333918.0...</td>\n",
       "      <td>http://images.amazon.com/images/P/0897333918.0...</td>\n",
       "    </tr>\n",
       "    <tr>\n",
       "      <th>262142</th>\n",
       "      <td>0906540631</td>\n",
       "      <td>The Essene Odyssey: The Mystery of the True Te...</td>\n",
       "      <td>Hugh J. Schonfield</td>\n",
       "      <td>1993</td>\n",
       "      <td>Element Books</td>\n",
       "      <td>http://images.amazon.com/images/P/0906540631.0...</td>\n",
       "      <td>http://images.amazon.com/images/P/0906540631.0...</td>\n",
       "      <td>http://images.amazon.com/images/P/0906540631.0...</td>\n",
       "    </tr>\n",
       "    <tr>\n",
       "      <th>262143</th>\n",
       "      <td>0906540798</td>\n",
       "      <td>The Pentecost Revolution: The Story of the Jes...</td>\n",
       "      <td>Hugh J. Schonfield</td>\n",
       "      <td>1991</td>\n",
       "      <td>Element Books</td>\n",
       "      <td>http://images.amazon.com/images/P/0906540798.0...</td>\n",
       "      <td>http://images.amazon.com/images/P/0906540798.0...</td>\n",
       "      <td>http://images.amazon.com/images/P/0906540798.0...</td>\n",
       "    </tr>\n",
       "  </tbody>\n",
       "</table>\n",
       "<p>65536 rows × 8 columns</p>\n",
       "</div>"
      ],
      "text/plain": [
       "              isbn                                              title  \\\n",
       "196608  0425176967                          Self-Portrait With Ghosts   \n",
       "196609  0373239971  Baby'S First Christmas (The Baby Of The Month ...   \n",
       "196610  0373201613          Man She Married (By Request) (By Request)   \n",
       "196611  159071024X                                 The Gilded Chamber   \n",
       "196612  0066210747  The Bielski Brothers: The True Story of Three ...   \n",
       "...            ...                                                ...   \n",
       "262139  0897332032    The Age of Agony: The Art of Healing, 1700-1800   \n",
       "262140  0897332857                                The Age of Miracles   \n",
       "262141  0897333918  The Common Stream: Two Thousand Years of the E...   \n",
       "262142  0906540631  The Essene Odyssey: The Mystery of the True Te...   \n",
       "262143  0906540798  The Pentecost Revolution: The Story of the Jes...   \n",
       "\n",
       "                    author publication_year                   publisher  \\\n",
       "196608         Kelly Dwyer             2000    Berkley Publishing Group   \n",
       "196609    Marie Ferrarella             1995                  Silhouette   \n",
       "196610           Ann Major             1999                   Harlequin   \n",
       "196611        Rebecca Kohn             2004                 Rugged Land   \n",
       "196612         Peter Duffy             2003               HarperCollins   \n",
       "...                    ...              ...                         ...   \n",
       "262139     Guy R. Williams             1986  Academy Chicago Publishers   \n",
       "262140        Guy Williams             1987  Academy Chicago Publishers   \n",
       "262141      Rowland Parker             1994  Academy Chicago Publishers   \n",
       "262142  Hugh J. Schonfield             1993               Element Books   \n",
       "262143  Hugh J. Schonfield             1991               Element Books   \n",
       "\n",
       "                                              image-url-s  \\\n",
       "196608  http://images.amazon.com/images/P/0425176967.0...   \n",
       "196609  http://images.amazon.com/images/P/0373239971.0...   \n",
       "196610  http://images.amazon.com/images/P/0373201613.0...   \n",
       "196611  http://images.amazon.com/images/P/159071024X.0...   \n",
       "196612  http://images.amazon.com/images/P/0066210747.0...   \n",
       "...                                                   ...   \n",
       "262139  http://images.amazon.com/images/P/0897332032.0...   \n",
       "262140  http://images.amazon.com/images/P/0897332857.0...   \n",
       "262141  http://images.amazon.com/images/P/0897333918.0...   \n",
       "262142  http://images.amazon.com/images/P/0906540631.0...   \n",
       "262143  http://images.amazon.com/images/P/0906540798.0...   \n",
       "\n",
       "                                              image-url-m  \\\n",
       "196608  http://images.amazon.com/images/P/0425176967.0...   \n",
       "196609  http://images.amazon.com/images/P/0373239971.0...   \n",
       "196610  http://images.amazon.com/images/P/0373201613.0...   \n",
       "196611  http://images.amazon.com/images/P/159071024X.0...   \n",
       "196612  http://images.amazon.com/images/P/0066210747.0...   \n",
       "...                                                   ...   \n",
       "262139  http://images.amazon.com/images/P/0897332032.0...   \n",
       "262140  http://images.amazon.com/images/P/0897332857.0...   \n",
       "262141  http://images.amazon.com/images/P/0897333918.0...   \n",
       "262142  http://images.amazon.com/images/P/0906540631.0...   \n",
       "262143  http://images.amazon.com/images/P/0906540798.0...   \n",
       "\n",
       "                                              image-url-l  \n",
       "196608  http://images.amazon.com/images/P/0425176967.0...  \n",
       "196609  http://images.amazon.com/images/P/0373239971.0...  \n",
       "196610  http://images.amazon.com/images/P/0373201613.0...  \n",
       "196611  http://images.amazon.com/images/P/159071024X.0...  \n",
       "196612  http://images.amazon.com/images/P/0066210747.0...  \n",
       "...                                                   ...  \n",
       "262139  http://images.amazon.com/images/P/0897332032.0...  \n",
       "262140  http://images.amazon.com/images/P/0897332857.0...  \n",
       "262141  http://images.amazon.com/images/P/0897333918.0...  \n",
       "262142  http://images.amazon.com/images/P/0906540631.0...  \n",
       "262143  http://images.amazon.com/images/P/0906540798.0...  \n",
       "\n",
       "[65536 rows x 8 columns]"
      ]
     },
     "execution_count": 31,
     "metadata": {},
     "output_type": "execute_result"
    }
   ],
   "source": [
    "books_df[books_df['publication_year'].apply(lambda x: isinstance(x, int) == False)]"
   ]
  },
  {
   "cell_type": "markdown",
   "id": "28cdd8e0-1481-4fa9-8bbc-097bac2b8a38",
   "metadata": {},
   "source": [
    "From the output, we can see that some records contain an int value for the 'publication_year' column, but have a data type of str.  \n",
    "Before casting the 'publication_year' column to type int, we need to check that all records contain numeric values in that column."
   ]
  },
  {
   "cell_type": "code",
   "execution_count": 39,
   "id": "f5225dd1-fd33-4240-bff5-d54110368224",
   "metadata": {},
   "outputs": [
    {
     "name": "stdout",
     "output_type": "stream",
     "text": [
      "len(non_integer_records) = 3\n"
     ]
    }
   ],
   "source": [
    "# Convert the 'publication_year' column to strings\n",
    "books_df['publication_year'] = books_df['publication_year'].astype(str)\n",
    "\n",
    "# Identify records where 'publication_year' is not an integer\n",
    "non_integer_records = books_df[~books_df['publication_year'].str.isdigit()]\n",
    "print(f\"len(non_integer_records) = {len(non_integer_records)}\")"
   ]
  },
  {
   "cell_type": "code",
   "execution_count": 40,
   "id": "04aff33e-3601-4293-bea0-9e906c3a38c9",
   "metadata": {},
   "outputs": [
    {
     "data": {
      "text/html": [
       "<div>\n",
       "<style scoped>\n",
       "    .dataframe tbody tr th:only-of-type {\n",
       "        vertical-align: middle;\n",
       "    }\n",
       "\n",
       "    .dataframe tbody tr th {\n",
       "        vertical-align: top;\n",
       "    }\n",
       "\n",
       "    .dataframe thead th {\n",
       "        text-align: right;\n",
       "    }\n",
       "</style>\n",
       "<table border=\"1\" class=\"dataframe\">\n",
       "  <thead>\n",
       "    <tr style=\"text-align: right;\">\n",
       "      <th></th>\n",
       "      <th>isbn</th>\n",
       "      <th>title</th>\n",
       "      <th>author</th>\n",
       "      <th>publication_year</th>\n",
       "      <th>publisher</th>\n",
       "      <th>image-url-s</th>\n",
       "      <th>image-url-m</th>\n",
       "      <th>image-url-l</th>\n",
       "    </tr>\n",
       "  </thead>\n",
       "  <tbody>\n",
       "    <tr>\n",
       "      <th>209538</th>\n",
       "      <td>078946697X</td>\n",
       "      <td>DK Readers: Creating the X-Men, How It All Beg...</td>\n",
       "      <td>2000</td>\n",
       "      <td>DK Publishing Inc</td>\n",
       "      <td>http://images.amazon.com/images/P/078946697X.0...</td>\n",
       "      <td>http://images.amazon.com/images/P/078946697X.0...</td>\n",
       "      <td>http://images.amazon.com/images/P/078946697X.0...</td>\n",
       "      <td>NaN</td>\n",
       "    </tr>\n",
       "    <tr>\n",
       "      <th>220731</th>\n",
       "      <td>2070426769</td>\n",
       "      <td>Peuple du ciel, suivi de 'Les Bergers\\\";Jean-M...</td>\n",
       "      <td>2003</td>\n",
       "      <td>Gallimard</td>\n",
       "      <td>http://images.amazon.com/images/P/2070426769.0...</td>\n",
       "      <td>http://images.amazon.com/images/P/2070426769.0...</td>\n",
       "      <td>http://images.amazon.com/images/P/2070426769.0...</td>\n",
       "      <td>NaN</td>\n",
       "    </tr>\n",
       "    <tr>\n",
       "      <th>221678</th>\n",
       "      <td>0789466953</td>\n",
       "      <td>DK Readers: Creating the X-Men, How Comic Book...</td>\n",
       "      <td>2000</td>\n",
       "      <td>DK Publishing Inc</td>\n",
       "      <td>http://images.amazon.com/images/P/0789466953.0...</td>\n",
       "      <td>http://images.amazon.com/images/P/0789466953.0...</td>\n",
       "      <td>http://images.amazon.com/images/P/0789466953.0...</td>\n",
       "      <td>NaN</td>\n",
       "    </tr>\n",
       "  </tbody>\n",
       "</table>\n",
       "</div>"
      ],
      "text/plain": [
       "              isbn                                              title author  \\\n",
       "209538  078946697X  DK Readers: Creating the X-Men, How It All Beg...   2000   \n",
       "220731  2070426769  Peuple du ciel, suivi de 'Les Bergers\\\";Jean-M...   2003   \n",
       "221678  0789466953  DK Readers: Creating the X-Men, How Comic Book...   2000   \n",
       "\n",
       "         publication_year                                          publisher  \\\n",
       "209538  DK Publishing Inc  http://images.amazon.com/images/P/078946697X.0...   \n",
       "220731          Gallimard  http://images.amazon.com/images/P/2070426769.0...   \n",
       "221678  DK Publishing Inc  http://images.amazon.com/images/P/0789466953.0...   \n",
       "\n",
       "                                              image-url-s  \\\n",
       "209538  http://images.amazon.com/images/P/078946697X.0...   \n",
       "220731  http://images.amazon.com/images/P/2070426769.0...   \n",
       "221678  http://images.amazon.com/images/P/0789466953.0...   \n",
       "\n",
       "                                              image-url-m image-url-l  \n",
       "209538  http://images.amazon.com/images/P/078946697X.0...         NaN  \n",
       "220731  http://images.amazon.com/images/P/2070426769.0...         NaN  \n",
       "221678  http://images.amazon.com/images/P/0789466953.0...         NaN  "
      ]
     },
     "execution_count": 40,
     "metadata": {},
     "output_type": "execute_result"
    }
   ],
   "source": [
    "non_integer_records"
   ]
  },
  {
   "cell_type": "code",
   "execution_count": 41,
   "id": "29394ba0-8b0c-4201-b54a-2ed9f699faf3",
   "metadata": {},
   "outputs": [
    {
     "name": "stdout",
     "output_type": "stream",
     "text": [
      "209538) isbn=078946697X; title=DK Readers: Creating the X-Men, How It All Began (Level 4: Proficient Readers)\\\";Michael Teitelbaum\"\n",
      "220731) isbn=2070426769; title=Peuple du ciel, suivi de 'Les Bergers\\\";Jean-Marie Gustave Le ClÃ?Â©zio\"\n",
      "221678) isbn=0789466953; title=DK Readers: Creating the X-Men, How Comic Books Come to Life (Level 4: Proficient Readers)\\\";James Buckley\"\n"
     ]
    }
   ],
   "source": [
    "for index, row in non_integer_records.iterrows():\n",
    "    print(f\"{index}) isbn={row['isbn']}; title={row['title']}\")"
   ]
  },
  {
   "cell_type": "markdown",
   "id": "52aa0708-30ed-4ea7-a62b-f216c2e12d97",
   "metadata": {},
   "source": [
    "From the obtained results, it can be concluded that the dataset contains errors (for 3 records, 'title' and 'author' are separated by the sign ';', not ',').  \n",
    "Therefore, the 'title' column for these records contains both the title of the book and its author."
   ]
  },
  {
   "cell_type": "code",
   "execution_count": 42,
   "id": "28fe6040-c06a-4950-971f-d745f90c92ad",
   "metadata": {},
   "outputs": [
    {
     "data": {
      "text/html": [
       "<div>\n",
       "<style scoped>\n",
       "    .dataframe tbody tr th:only-of-type {\n",
       "        vertical-align: middle;\n",
       "    }\n",
       "\n",
       "    .dataframe tbody tr th {\n",
       "        vertical-align: top;\n",
       "    }\n",
       "\n",
       "    .dataframe thead th {\n",
       "        text-align: right;\n",
       "    }\n",
       "</style>\n",
       "<table border=\"1\" class=\"dataframe\">\n",
       "  <thead>\n",
       "    <tr style=\"text-align: right;\">\n",
       "      <th></th>\n",
       "      <th>isbn</th>\n",
       "      <th>title</th>\n",
       "      <th>author</th>\n",
       "      <th>publication_year</th>\n",
       "      <th>publisher</th>\n",
       "      <th>image-url-s</th>\n",
       "      <th>image-url-m</th>\n",
       "      <th>image-url-l</th>\n",
       "    </tr>\n",
       "  </thead>\n",
       "  <tbody>\n",
       "    <tr>\n",
       "      <th>209538</th>\n",
       "      <td>078946697X</td>\n",
       "      <td>DK Readers: Creating the X-Men, How It All Beg...</td>\n",
       "      <td>Michael Teitelbaum</td>\n",
       "      <td>2000</td>\n",
       "      <td>DK Publishing Inc</td>\n",
       "      <td>http://images.amazon.com/images/P/078946697X.0...</td>\n",
       "      <td>http://images.amazon.com/images/P/078946697X.0...</td>\n",
       "      <td>http://images.amazon.com/images/P/078946697X.0...</td>\n",
       "    </tr>\n",
       "    <tr>\n",
       "      <th>220731</th>\n",
       "      <td>2070426769</td>\n",
       "      <td>Peuple du ciel, suivi de 'Les Bergers</td>\n",
       "      <td>Jean-Marie Gustave Le ClÃ?Â©zio</td>\n",
       "      <td>2003</td>\n",
       "      <td>Gallimard</td>\n",
       "      <td>http://images.amazon.com/images/P/2070426769.0...</td>\n",
       "      <td>http://images.amazon.com/images/P/2070426769.0...</td>\n",
       "      <td>http://images.amazon.com/images/P/2070426769.0...</td>\n",
       "    </tr>\n",
       "    <tr>\n",
       "      <th>221678</th>\n",
       "      <td>0789466953</td>\n",
       "      <td>DK Readers: Creating the X-Men, How Comic Book...</td>\n",
       "      <td>James Buckley</td>\n",
       "      <td>2000</td>\n",
       "      <td>DK Publishing Inc</td>\n",
       "      <td>http://images.amazon.com/images/P/0789466953.0...</td>\n",
       "      <td>http://images.amazon.com/images/P/0789466953.0...</td>\n",
       "      <td>http://images.amazon.com/images/P/0789466953.0...</td>\n",
       "    </tr>\n",
       "  </tbody>\n",
       "</table>\n",
       "</div>"
      ],
      "text/plain": [
       "              isbn                                              title  \\\n",
       "209538  078946697X  DK Readers: Creating the X-Men, How It All Beg...   \n",
       "220731  2070426769              Peuple du ciel, suivi de 'Les Bergers   \n",
       "221678  0789466953  DK Readers: Creating the X-Men, How Comic Book...   \n",
       "\n",
       "                                 author publication_year          publisher  \\\n",
       "209538               Michael Teitelbaum             2000  DK Publishing Inc   \n",
       "220731  Jean-Marie Gustave Le ClÃ?Â©zio             2003          Gallimard   \n",
       "221678                    James Buckley             2000  DK Publishing Inc   \n",
       "\n",
       "                                              image-url-s  \\\n",
       "209538  http://images.amazon.com/images/P/078946697X.0...   \n",
       "220731  http://images.amazon.com/images/P/2070426769.0...   \n",
       "221678  http://images.amazon.com/images/P/0789466953.0...   \n",
       "\n",
       "                                              image-url-m  \\\n",
       "209538  http://images.amazon.com/images/P/078946697X.0...   \n",
       "220731  http://images.amazon.com/images/P/2070426769.0...   \n",
       "221678  http://images.amazon.com/images/P/0789466953.0...   \n",
       "\n",
       "                                              image-url-l  \n",
       "209538  http://images.amazon.com/images/P/078946697X.0...  \n",
       "220731  http://images.amazon.com/images/P/2070426769.0...  \n",
       "221678  http://images.amazon.com/images/P/0789466953.0...  "
      ]
     },
     "execution_count": 42,
     "metadata": {},
     "output_type": "execute_result"
    }
   ],
   "source": [
    "non_integer_records = non_integer_records.apply(fix_row, axis=1)\n",
    "non_integer_records"
   ]
  },
  {
   "cell_type": "code",
   "execution_count": 43,
   "id": "64f91d52-9ae0-4a71-a0cc-e68a464057e4",
   "metadata": {},
   "outputs": [
    {
     "name": "stdout",
     "output_type": "stream",
     "text": [
      "209538) isbn=078946697X; title=DK Readers: Creating the X-Men, How It All Began (Level 4: Proficient Readers)\n",
      "220731) isbn=2070426769; title=Peuple du ciel, suivi de 'Les Bergers\n",
      "221678) isbn=0789466953; title=DK Readers: Creating the X-Men, How Comic Books Come to Life (Level 4: Proficient Readers)\n"
     ]
    }
   ],
   "source": [
    "for index, row in non_integer_records.iterrows():\n",
    "    print(f\"{index}) isbn={row['isbn']}; title={row['title']}\")"
   ]
  },
  {
   "cell_type": "code",
   "execution_count": 44,
   "id": "7411808c-ee35-40e0-880d-eb27bbdcc364",
   "metadata": {},
   "outputs": [
    {
     "data": {
      "text/plain": [
       "Index([209538, 220731, 221678], dtype='int64')"
      ]
     },
     "execution_count": 44,
     "metadata": {},
     "output_type": "execute_result"
    }
   ],
   "source": [
    "error_indices = non_integer_records.index\n",
    "error_indices"
   ]
  },
  {
   "cell_type": "code",
   "execution_count": 45,
   "id": "49ca6c75-ce5c-490a-a055-6c993d0cb976",
   "metadata": {},
   "outputs": [
    {
     "name": "stdout",
     "output_type": "stream",
     "text": [
      "len(non_integer_records) = 0\n"
     ]
    }
   ],
   "source": [
    "books_df.loc[error_indices] = books_df.loc[error_indices].apply(fix_row, axis=1)\n",
    "\n",
    "# Identify records where 'publication_year' is not an integer\n",
    "non_integer_records = books_df[~books_df['publication_year'].str.isdigit()]\n",
    "print(f\"len(non_integer_records) = {len(non_integer_records)}\")"
   ]
  },
  {
   "cell_type": "code",
   "execution_count": 48,
   "id": "17db2976-42b1-454f-aad3-9f69b0f719e7",
   "metadata": {},
   "outputs": [
    {
     "data": {
      "text/html": [
       "<div>\n",
       "<style scoped>\n",
       "    .dataframe tbody tr th:only-of-type {\n",
       "        vertical-align: middle;\n",
       "    }\n",
       "\n",
       "    .dataframe tbody tr th {\n",
       "        vertical-align: top;\n",
       "    }\n",
       "\n",
       "    .dataframe thead th {\n",
       "        text-align: right;\n",
       "    }\n",
       "</style>\n",
       "<table border=\"1\" class=\"dataframe\">\n",
       "  <thead>\n",
       "    <tr style=\"text-align: right;\">\n",
       "      <th></th>\n",
       "      <th>isbn</th>\n",
       "      <th>title</th>\n",
       "      <th>author</th>\n",
       "      <th>publication_year</th>\n",
       "      <th>publisher</th>\n",
       "      <th>image-url-s</th>\n",
       "      <th>image-url-m</th>\n",
       "      <th>image-url-l</th>\n",
       "    </tr>\n",
       "  </thead>\n",
       "  <tbody>\n",
       "    <tr>\n",
       "      <th>0</th>\n",
       "      <td>0195153448</td>\n",
       "      <td>Classical Mythology</td>\n",
       "      <td>Mark P. O. Morford</td>\n",
       "      <td>2002</td>\n",
       "      <td>Oxford University Press</td>\n",
       "      <td>http://images.amazon.com/images/P/0195153448.0...</td>\n",
       "      <td>http://images.amazon.com/images/P/0195153448.0...</td>\n",
       "      <td>http://images.amazon.com/images/P/0195153448.0...</td>\n",
       "    </tr>\n",
       "    <tr>\n",
       "      <th>1</th>\n",
       "      <td>0002005018</td>\n",
       "      <td>Clara Callan</td>\n",
       "      <td>Richard Bruce Wright</td>\n",
       "      <td>2001</td>\n",
       "      <td>HarperFlamingo Canada</td>\n",
       "      <td>http://images.amazon.com/images/P/0002005018.0...</td>\n",
       "      <td>http://images.amazon.com/images/P/0002005018.0...</td>\n",
       "      <td>http://images.amazon.com/images/P/0002005018.0...</td>\n",
       "    </tr>\n",
       "    <tr>\n",
       "      <th>2</th>\n",
       "      <td>0060973129</td>\n",
       "      <td>Decision in Normandy</td>\n",
       "      <td>Carlo D'Este</td>\n",
       "      <td>1991</td>\n",
       "      <td>HarperPerennial</td>\n",
       "      <td>http://images.amazon.com/images/P/0060973129.0...</td>\n",
       "      <td>http://images.amazon.com/images/P/0060973129.0...</td>\n",
       "      <td>http://images.amazon.com/images/P/0060973129.0...</td>\n",
       "    </tr>\n",
       "  </tbody>\n",
       "</table>\n",
       "</div>"
      ],
      "text/plain": [
       "         isbn                 title                author  publication_year  \\\n",
       "0  0195153448   Classical Mythology    Mark P. O. Morford              2002   \n",
       "1  0002005018          Clara Callan  Richard Bruce Wright              2001   \n",
       "2  0060973129  Decision in Normandy          Carlo D'Este              1991   \n",
       "\n",
       "                 publisher                                        image-url-s  \\\n",
       "0  Oxford University Press  http://images.amazon.com/images/P/0195153448.0...   \n",
       "1    HarperFlamingo Canada  http://images.amazon.com/images/P/0002005018.0...   \n",
       "2          HarperPerennial  http://images.amazon.com/images/P/0060973129.0...   \n",
       "\n",
       "                                         image-url-m  \\\n",
       "0  http://images.amazon.com/images/P/0195153448.0...   \n",
       "1  http://images.amazon.com/images/P/0002005018.0...   \n",
       "2  http://images.amazon.com/images/P/0060973129.0...   \n",
       "\n",
       "                                         image-url-l  \n",
       "0  http://images.amazon.com/images/P/0195153448.0...  \n",
       "1  http://images.amazon.com/images/P/0002005018.0...  \n",
       "2  http://images.amazon.com/images/P/0060973129.0...  "
      ]
     },
     "execution_count": 48,
     "metadata": {},
     "output_type": "execute_result"
    }
   ],
   "source": [
    "books_df.head(3)"
   ]
  },
  {
   "cell_type": "code",
   "execution_count": 49,
   "id": "d4e506ec-08e2-4120-b2be-d681f25eb5fc",
   "metadata": {},
   "outputs": [
    {
     "data": {
      "text/html": [
       "<div>\n",
       "<style scoped>\n",
       "    .dataframe tbody tr th:only-of-type {\n",
       "        vertical-align: middle;\n",
       "    }\n",
       "\n",
       "    .dataframe tbody tr th {\n",
       "        vertical-align: top;\n",
       "    }\n",
       "\n",
       "    .dataframe thead th {\n",
       "        text-align: right;\n",
       "    }\n",
       "</style>\n",
       "<table border=\"1\" class=\"dataframe\">\n",
       "  <thead>\n",
       "    <tr style=\"text-align: right;\">\n",
       "      <th></th>\n",
       "      <th>isbn</th>\n",
       "      <th>title</th>\n",
       "      <th>author</th>\n",
       "      <th>publication_year</th>\n",
       "      <th>publisher</th>\n",
       "      <th>image-url-s</th>\n",
       "      <th>image-url-m</th>\n",
       "      <th>image-url-l</th>\n",
       "    </tr>\n",
       "  </thead>\n",
       "  <tbody>\n",
       "    <tr>\n",
       "      <th>209538</th>\n",
       "      <td>078946697X</td>\n",
       "      <td>DK Readers: Creating the X-Men, How It All Beg...</td>\n",
       "      <td>Michael Teitelbaum</td>\n",
       "      <td>2000</td>\n",
       "      <td>DK Publishing Inc</td>\n",
       "      <td>http://images.amazon.com/images/P/078946697X.0...</td>\n",
       "      <td>http://images.amazon.com/images/P/078946697X.0...</td>\n",
       "      <td>http://images.amazon.com/images/P/078946697X.0...</td>\n",
       "    </tr>\n",
       "    <tr>\n",
       "      <th>220731</th>\n",
       "      <td>2070426769</td>\n",
       "      <td>Peuple du ciel, suivi de 'Les Bergers</td>\n",
       "      <td>Jean-Marie Gustave Le ClÃ?Â©zio</td>\n",
       "      <td>2003</td>\n",
       "      <td>Gallimard</td>\n",
       "      <td>http://images.amazon.com/images/P/2070426769.0...</td>\n",
       "      <td>http://images.amazon.com/images/P/2070426769.0...</td>\n",
       "      <td>http://images.amazon.com/images/P/2070426769.0...</td>\n",
       "    </tr>\n",
       "    <tr>\n",
       "      <th>221678</th>\n",
       "      <td>0789466953</td>\n",
       "      <td>DK Readers: Creating the X-Men, How Comic Book...</td>\n",
       "      <td>James Buckley</td>\n",
       "      <td>2000</td>\n",
       "      <td>DK Publishing Inc</td>\n",
       "      <td>http://images.amazon.com/images/P/0789466953.0...</td>\n",
       "      <td>http://images.amazon.com/images/P/0789466953.0...</td>\n",
       "      <td>http://images.amazon.com/images/P/0789466953.0...</td>\n",
       "    </tr>\n",
       "  </tbody>\n",
       "</table>\n",
       "</div>"
      ],
      "text/plain": [
       "              isbn                                              title  \\\n",
       "209538  078946697X  DK Readers: Creating the X-Men, How It All Beg...   \n",
       "220731  2070426769              Peuple du ciel, suivi de 'Les Bergers   \n",
       "221678  0789466953  DK Readers: Creating the X-Men, How Comic Book...   \n",
       "\n",
       "                                 author  publication_year          publisher  \\\n",
       "209538               Michael Teitelbaum              2000  DK Publishing Inc   \n",
       "220731  Jean-Marie Gustave Le ClÃ?Â©zio              2003          Gallimard   \n",
       "221678                    James Buckley              2000  DK Publishing Inc   \n",
       "\n",
       "                                              image-url-s  \\\n",
       "209538  http://images.amazon.com/images/P/078946697X.0...   \n",
       "220731  http://images.amazon.com/images/P/2070426769.0...   \n",
       "221678  http://images.amazon.com/images/P/0789466953.0...   \n",
       "\n",
       "                                              image-url-m  \\\n",
       "209538  http://images.amazon.com/images/P/078946697X.0...   \n",
       "220731  http://images.amazon.com/images/P/2070426769.0...   \n",
       "221678  http://images.amazon.com/images/P/0789466953.0...   \n",
       "\n",
       "                                              image-url-l  \n",
       "209538  http://images.amazon.com/images/P/078946697X.0...  \n",
       "220731  http://images.amazon.com/images/P/2070426769.0...  \n",
       "221678  http://images.amazon.com/images/P/0789466953.0...  "
      ]
     },
     "execution_count": 49,
     "metadata": {},
     "output_type": "execute_result"
    }
   ],
   "source": [
    "books_df.loc[error_indices]"
   ]
  },
  {
   "cell_type": "markdown",
   "id": "b1756bc5-74c6-41e8-b376-509d0af5fd0e",
   "metadata": {},
   "source": [
    "From the obtained results, it can be assumed that all values ​​of the column 'publication_year' can now be cast to the data type int."
   ]
  },
  {
   "cell_type": "code",
   "execution_count": 46,
   "id": "7841a3de-907a-4ff7-8f06-7591941b0079",
   "metadata": {},
   "outputs": [
    {
     "name": "stdout",
     "output_type": "stream",
     "text": [
      "<class 'pandas.core.frame.DataFrame'>\n",
      "RangeIndex: 271360 entries, 0 to 271359\n",
      "Data columns (total 8 columns):\n",
      " #   Column            Non-Null Count   Dtype \n",
      "---  ------            --------------   ----- \n",
      " 0   isbn              271360 non-null  object\n",
      " 1   title             271360 non-null  object\n",
      " 2   author            271360 non-null  object\n",
      " 3   publication_year  271360 non-null  int32 \n",
      " 4   publisher         271358 non-null  object\n",
      " 5   image-url-s       271360 non-null  object\n",
      " 6   image-url-m       271360 non-null  object\n",
      " 7   image-url-l       271360 non-null  object\n",
      "dtypes: int32(1), object(7)\n",
      "memory usage: 15.5+ MB\n"
     ]
    }
   ],
   "source": [
    "books_df['publication_year'] = books_df['publication_year'].astype(int)\n",
    "books_df.info()"
   ]
  },
  {
   "cell_type": "code",
   "execution_count": 47,
   "id": "75981641-0317-4602-b63f-0176c4115a5d",
   "metadata": {},
   "outputs": [
    {
     "data": {
      "text/html": [
       "<div>\n",
       "<style scoped>\n",
       "    .dataframe tbody tr th:only-of-type {\n",
       "        vertical-align: middle;\n",
       "    }\n",
       "\n",
       "    .dataframe tbody tr th {\n",
       "        vertical-align: top;\n",
       "    }\n",
       "\n",
       "    .dataframe thead th {\n",
       "        text-align: right;\n",
       "    }\n",
       "</style>\n",
       "<table border=\"1\" class=\"dataframe\">\n",
       "  <thead>\n",
       "    <tr style=\"text-align: right;\">\n",
       "      <th></th>\n",
       "      <th>column</th>\n",
       "      <th>missing_count</th>\n",
       "      <th>missing_percentage</th>\n",
       "    </tr>\n",
       "  </thead>\n",
       "  <tbody>\n",
       "    <tr>\n",
       "      <th>0</th>\n",
       "      <td>isbn</td>\n",
       "      <td>0</td>\n",
       "      <td>0.000000</td>\n",
       "    </tr>\n",
       "    <tr>\n",
       "      <th>1</th>\n",
       "      <td>title</td>\n",
       "      <td>0</td>\n",
       "      <td>0.000000</td>\n",
       "    </tr>\n",
       "    <tr>\n",
       "      <th>2</th>\n",
       "      <td>author</td>\n",
       "      <td>0</td>\n",
       "      <td>0.000000</td>\n",
       "    </tr>\n",
       "    <tr>\n",
       "      <th>3</th>\n",
       "      <td>publication_year</td>\n",
       "      <td>0</td>\n",
       "      <td>0.000000</td>\n",
       "    </tr>\n",
       "    <tr>\n",
       "      <th>4</th>\n",
       "      <td>publisher</td>\n",
       "      <td>2</td>\n",
       "      <td>0.000737</td>\n",
       "    </tr>\n",
       "    <tr>\n",
       "      <th>5</th>\n",
       "      <td>image-url-s</td>\n",
       "      <td>0</td>\n",
       "      <td>0.000000</td>\n",
       "    </tr>\n",
       "    <tr>\n",
       "      <th>6</th>\n",
       "      <td>image-url-m</td>\n",
       "      <td>0</td>\n",
       "      <td>0.000000</td>\n",
       "    </tr>\n",
       "    <tr>\n",
       "      <th>7</th>\n",
       "      <td>image-url-l</td>\n",
       "      <td>0</td>\n",
       "      <td>0.000000</td>\n",
       "    </tr>\n",
       "  </tbody>\n",
       "</table>\n",
       "</div>"
      ],
      "text/plain": [
       "             column  missing_count  missing_percentage\n",
       "0              isbn              0            0.000000\n",
       "1             title              0            0.000000\n",
       "2            author              0            0.000000\n",
       "3  publication_year              0            0.000000\n",
       "4         publisher              2            0.000737\n",
       "5       image-url-s              0            0.000000\n",
       "6       image-url-m              0            0.000000\n",
       "7       image-url-l              0            0.000000"
      ]
     },
     "execution_count": 47,
     "metadata": {},
     "output_type": "execute_result"
    }
   ],
   "source": [
    "missing_info_df = pd.DataFrame({\n",
    "    'missing_count': books_df.isnull().sum(),\n",
    "    'missing_percentage': (books_df.isnull().sum() / len(books_df)) * 100\n",
    "}).reset_index().rename(columns={'index': 'column'})\n",
    "\n",
    "missing_info_df"
   ]
  },
  {
   "cell_type": "markdown",
   "id": "14c43d7d-4348-4806-8df0-550525315692",
   "metadata": {},
   "source": [
    "The results show that solving the problem with the 'publication_year' column also solved the problem with the missing values of the 'image-url-l' column."
   ]
  },
  {
   "cell_type": "markdown",
   "id": "0ae7d344-7938-4e57-8d65-89074f147187",
   "metadata": {
    "jp-MarkdownHeadingCollapsed": true
   },
   "source": [
    "#### users_df"
   ]
  },
  {
   "cell_type": "code",
   "execution_count": 50,
   "id": "93daa5ae-8c3f-4217-976a-2e05afe2aec3",
   "metadata": {},
   "outputs": [
    {
     "name": "stdout",
     "output_type": "stream",
     "text": [
      "<class 'pandas.core.frame.DataFrame'>\n",
      "RangeIndex: 278858 entries, 0 to 278857\n",
      "Data columns (total 3 columns):\n",
      " #   Column    Non-Null Count   Dtype  \n",
      "---  ------    --------------   -----  \n",
      " 0   user_id   278858 non-null  int64  \n",
      " 1   location  278858 non-null  object \n",
      " 2   age       168096 non-null  float64\n",
      "dtypes: float64(1), int64(1), object(1)\n",
      "memory usage: 6.4+ MB\n"
     ]
    }
   ],
   "source": [
    "users_df.info()"
   ]
  },
  {
   "cell_type": "markdown",
   "id": "622adae6-de74-431d-b062-946d1a5efea5",
   "metadata": {
    "jp-MarkdownHeadingCollapsed": true
   },
   "source": [
    "#### ratings_df"
   ]
  },
  {
   "cell_type": "code",
   "execution_count": 51,
   "id": "5947f246-a2d0-4950-9154-113dd5c9cf51",
   "metadata": {},
   "outputs": [
    {
     "name": "stdout",
     "output_type": "stream",
     "text": [
      "<class 'pandas.core.frame.DataFrame'>\n",
      "RangeIndex: 1149780 entries, 0 to 1149779\n",
      "Data columns (total 3 columns):\n",
      " #   Column   Non-Null Count    Dtype \n",
      "---  ------   --------------    ----- \n",
      " 0   user_id  1149780 non-null  int64 \n",
      " 1   isbn     1149780 non-null  object\n",
      " 2   rating   1149780 non-null  int64 \n",
      "dtypes: int64(2), object(1)\n",
      "memory usage: 26.3+ MB\n"
     ]
    }
   ],
   "source": [
    "ratings_df.info()"
   ]
  },
  {
   "cell_type": "markdown",
   "id": "2d007634-0e6f-4b6c-9f81-c0fe48f11a19",
   "metadata": {
    "jp-MarkdownHeadingCollapsed": true
   },
   "source": [
    "### Check for duplication"
   ]
  },
  {
   "cell_type": "markdown",
   "id": "64bfe093-3627-46b6-8a7d-e54eae2d1408",
   "metadata": {
    "jp-MarkdownHeadingCollapsed": true
   },
   "source": [
    "#### books_df"
   ]
  },
  {
   "cell_type": "code",
   "execution_count": 52,
   "id": "06bc5677-a27f-4fbd-8ada-6cf7af94c19f",
   "metadata": {},
   "outputs": [
    {
     "name": "stdout",
     "output_type": "stream",
     "text": [
      "books_df.shape = (271360, 8)\n"
     ]
    },
    {
     "data": {
      "text/plain": [
       "isbn                271360\n",
       "title               242135\n",
       "author              102021\n",
       "publication_year       116\n",
       "publisher            16804\n",
       "image-url-s         271044\n",
       "image-url-m         271044\n",
       "image-url-l         271044\n",
       "dtype: int64"
      ]
     },
     "execution_count": 52,
     "metadata": {},
     "output_type": "execute_result"
    }
   ],
   "source": [
    "print(f\"books_df.shape = {books_df.shape}\")\n",
    "books_df.nunique()"
   ]
  },
  {
   "cell_type": "markdown",
   "id": "2f3877bb-fd90-4f9a-8779-3c2dd9b54537",
   "metadata": {},
   "source": [
    "From the obtained results it can be concluded that:\n",
    "1) The dataset contains books that have the same title but different ISBNs.\n",
    "2) For some books, the cover image is missing.\n",
    "3) Since each record is characterized by a unique ISBN value, it could be set as a dataframe index. However, in the future, this column will be used to join dataframes, so making it a dataframe index makes no sense."
   ]
  },
  {
   "cell_type": "markdown",
   "id": "58eecdbf-6c27-4c83-b139-3428b509daba",
   "metadata": {
    "jp-MarkdownHeadingCollapsed": true
   },
   "source": [
    "#### users_df"
   ]
  },
  {
   "cell_type": "code",
   "execution_count": 53,
   "id": "d3917b7e-7806-4e1f-81be-43e216853fa7",
   "metadata": {},
   "outputs": [
    {
     "name": "stdout",
     "output_type": "stream",
     "text": [
      "users_df.shape = (278858, 3)\n"
     ]
    },
    {
     "data": {
      "text/plain": [
       "user_id     278858\n",
       "location     57339\n",
       "age            165\n",
       "dtype: int64"
      ]
     },
     "execution_count": 53,
     "metadata": {},
     "output_type": "execute_result"
    }
   ],
   "source": [
    "print(f\"users_df.shape = {users_df.shape}\")\n",
    "users_df.nunique()"
   ]
  },
  {
   "cell_type": "markdown",
   "id": "6f38c5e2-b53b-4912-9e86-948252e4a0d0",
   "metadata": {},
   "source": [
    "Since each record in the users_df is characterized by a unique 'User-ID' value, it could be set as a dataframe index.  \n",
    "However, in the future, this column will be used to join dataframes, so making it a dataframe index makes no sense."
   ]
  },
  {
   "cell_type": "markdown",
   "id": "762c7ab9-a600-4df9-8792-4f5fd44658c3",
   "metadata": {
    "jp-MarkdownHeadingCollapsed": true
   },
   "source": [
    "#### ratings_df "
   ]
  },
  {
   "cell_type": "code",
   "execution_count": 54,
   "id": "25b6e237-28ae-4341-bf3c-f9c3840a7d3d",
   "metadata": {},
   "outputs": [
    {
     "name": "stdout",
     "output_type": "stream",
     "text": [
      "ratings_df.shape = (1149780, 3)\n"
     ]
    },
    {
     "data": {
      "text/plain": [
       "user_id    105283\n",
       "isbn       340556\n",
       "rating         11\n",
       "dtype: int64"
      ]
     },
     "execution_count": 54,
     "metadata": {},
     "output_type": "execute_result"
    }
   ],
   "source": [
    "print(f\"ratings_df.shape = {ratings_df.shape}\")\n",
    "ratings_df.nunique()"
   ]
  },
  {
   "cell_type": "markdown",
   "id": "c564109e-841d-4109-a998-e9b63d8d3f0e",
   "metadata": {},
   "source": [
    "The obtained results show that:\n",
    "1) The number of unique 'User-ID's in ratings_df is smaller than in users_df. This means that not all users rated the books.\n",
    "2) The number of unique ISBNs in ratings_df is greater than in users_df. This means that the rating_df dataframe contains information about books that is not in books_df."
   ]
  },
  {
   "cell_type": "markdown",
   "id": "0f5a999f-dcc3-41a0-a79b-71154e0d72b6",
   "metadata": {
    "jp-MarkdownHeadingCollapsed": true
   },
   "source": [
    "### Analyse statistics summary"
   ]
  },
  {
   "cell_type": "markdown",
   "id": "c3d722e9-d49d-4709-a368-3c3c682f4202",
   "metadata": {
    "jp-MarkdownHeadingCollapsed": true
   },
   "source": [
    "#### books_df"
   ]
  },
  {
   "cell_type": "code",
   "execution_count": 55,
   "id": "c59d33e1-2eec-442b-ac20-6322c96045df",
   "metadata": {},
   "outputs": [
    {
     "data": {
      "text/html": [
       "<div>\n",
       "<style scoped>\n",
       "    .dataframe tbody tr th:only-of-type {\n",
       "        vertical-align: middle;\n",
       "    }\n",
       "\n",
       "    .dataframe tbody tr th {\n",
       "        vertical-align: top;\n",
       "    }\n",
       "\n",
       "    .dataframe thead th {\n",
       "        text-align: right;\n",
       "    }\n",
       "</style>\n",
       "<table border=\"1\" class=\"dataframe\">\n",
       "  <thead>\n",
       "    <tr style=\"text-align: right;\">\n",
       "      <th></th>\n",
       "      <th>isbn</th>\n",
       "      <th>title</th>\n",
       "      <th>author</th>\n",
       "      <th>publication_year</th>\n",
       "      <th>publisher</th>\n",
       "      <th>image-url-s</th>\n",
       "      <th>image-url-m</th>\n",
       "      <th>image-url-l</th>\n",
       "    </tr>\n",
       "  </thead>\n",
       "  <tbody>\n",
       "    <tr>\n",
       "      <th>count</th>\n",
       "      <td>271360</td>\n",
       "      <td>271360</td>\n",
       "      <td>271360</td>\n",
       "      <td>271360.000000</td>\n",
       "      <td>271358</td>\n",
       "      <td>271360</td>\n",
       "      <td>271360</td>\n",
       "      <td>271360</td>\n",
       "    </tr>\n",
       "    <tr>\n",
       "      <th>unique</th>\n",
       "      <td>271360</td>\n",
       "      <td>242135</td>\n",
       "      <td>102021</td>\n",
       "      <td>NaN</td>\n",
       "      <td>16804</td>\n",
       "      <td>271044</td>\n",
       "      <td>271044</td>\n",
       "      <td>271044</td>\n",
       "    </tr>\n",
       "    <tr>\n",
       "      <th>top</th>\n",
       "      <td>0195153448</td>\n",
       "      <td>Selected Poems</td>\n",
       "      <td>Agatha Christie</td>\n",
       "      <td>NaN</td>\n",
       "      <td>Harlequin</td>\n",
       "      <td>http://images.amazon.com/images/P/185326119X.0...</td>\n",
       "      <td>http://images.amazon.com/images/P/185326119X.0...</td>\n",
       "      <td>http://images.amazon.com/images/P/185326119X.0...</td>\n",
       "    </tr>\n",
       "    <tr>\n",
       "      <th>freq</th>\n",
       "      <td>1</td>\n",
       "      <td>27</td>\n",
       "      <td>632</td>\n",
       "      <td>NaN</td>\n",
       "      <td>7535</td>\n",
       "      <td>2</td>\n",
       "      <td>2</td>\n",
       "      <td>2</td>\n",
       "    </tr>\n",
       "    <tr>\n",
       "      <th>mean</th>\n",
       "      <td>NaN</td>\n",
       "      <td>NaN</td>\n",
       "      <td>NaN</td>\n",
       "      <td>1959.761273</td>\n",
       "      <td>NaN</td>\n",
       "      <td>NaN</td>\n",
       "      <td>NaN</td>\n",
       "      <td>NaN</td>\n",
       "    </tr>\n",
       "    <tr>\n",
       "      <th>std</th>\n",
       "      <td>NaN</td>\n",
       "      <td>NaN</td>\n",
       "      <td>NaN</td>\n",
       "      <td>257.992836</td>\n",
       "      <td>NaN</td>\n",
       "      <td>NaN</td>\n",
       "      <td>NaN</td>\n",
       "      <td>NaN</td>\n",
       "    </tr>\n",
       "    <tr>\n",
       "      <th>min</th>\n",
       "      <td>NaN</td>\n",
       "      <td>NaN</td>\n",
       "      <td>NaN</td>\n",
       "      <td>0.000000</td>\n",
       "      <td>NaN</td>\n",
       "      <td>NaN</td>\n",
       "      <td>NaN</td>\n",
       "      <td>NaN</td>\n",
       "    </tr>\n",
       "    <tr>\n",
       "      <th>25%</th>\n",
       "      <td>NaN</td>\n",
       "      <td>NaN</td>\n",
       "      <td>NaN</td>\n",
       "      <td>1989.000000</td>\n",
       "      <td>NaN</td>\n",
       "      <td>NaN</td>\n",
       "      <td>NaN</td>\n",
       "      <td>NaN</td>\n",
       "    </tr>\n",
       "    <tr>\n",
       "      <th>50%</th>\n",
       "      <td>NaN</td>\n",
       "      <td>NaN</td>\n",
       "      <td>NaN</td>\n",
       "      <td>1995.000000</td>\n",
       "      <td>NaN</td>\n",
       "      <td>NaN</td>\n",
       "      <td>NaN</td>\n",
       "      <td>NaN</td>\n",
       "    </tr>\n",
       "    <tr>\n",
       "      <th>75%</th>\n",
       "      <td>NaN</td>\n",
       "      <td>NaN</td>\n",
       "      <td>NaN</td>\n",
       "      <td>2000.000000</td>\n",
       "      <td>NaN</td>\n",
       "      <td>NaN</td>\n",
       "      <td>NaN</td>\n",
       "      <td>NaN</td>\n",
       "    </tr>\n",
       "    <tr>\n",
       "      <th>max</th>\n",
       "      <td>NaN</td>\n",
       "      <td>NaN</td>\n",
       "      <td>NaN</td>\n",
       "      <td>2050.000000</td>\n",
       "      <td>NaN</td>\n",
       "      <td>NaN</td>\n",
       "      <td>NaN</td>\n",
       "      <td>NaN</td>\n",
       "    </tr>\n",
       "  </tbody>\n",
       "</table>\n",
       "</div>"
      ],
      "text/plain": [
       "              isbn           title           author  publication_year  \\\n",
       "count       271360          271360           271360     271360.000000   \n",
       "unique      271360          242135           102021               NaN   \n",
       "top     0195153448  Selected Poems  Agatha Christie               NaN   \n",
       "freq             1              27              632               NaN   \n",
       "mean           NaN             NaN              NaN       1959.761273   \n",
       "std            NaN             NaN              NaN        257.992836   \n",
       "min            NaN             NaN              NaN          0.000000   \n",
       "25%            NaN             NaN              NaN       1989.000000   \n",
       "50%            NaN             NaN              NaN       1995.000000   \n",
       "75%            NaN             NaN              NaN       2000.000000   \n",
       "max            NaN             NaN              NaN       2050.000000   \n",
       "\n",
       "        publisher                                        image-url-s  \\\n",
       "count      271358                                             271360   \n",
       "unique      16804                                             271044   \n",
       "top     Harlequin  http://images.amazon.com/images/P/185326119X.0...   \n",
       "freq         7535                                                  2   \n",
       "mean          NaN                                                NaN   \n",
       "std           NaN                                                NaN   \n",
       "min           NaN                                                NaN   \n",
       "25%           NaN                                                NaN   \n",
       "50%           NaN                                                NaN   \n",
       "75%           NaN                                                NaN   \n",
       "max           NaN                                                NaN   \n",
       "\n",
       "                                              image-url-m  \\\n",
       "count                                              271360   \n",
       "unique                                             271044   \n",
       "top     http://images.amazon.com/images/P/185326119X.0...   \n",
       "freq                                                    2   \n",
       "mean                                                  NaN   \n",
       "std                                                   NaN   \n",
       "min                                                   NaN   \n",
       "25%                                                   NaN   \n",
       "50%                                                   NaN   \n",
       "75%                                                   NaN   \n",
       "max                                                   NaN   \n",
       "\n",
       "                                              image-url-l  \n",
       "count                                              271360  \n",
       "unique                                             271044  \n",
       "top     http://images.amazon.com/images/P/185326119X.0...  \n",
       "freq                                                    2  \n",
       "mean                                                  NaN  \n",
       "std                                                   NaN  \n",
       "min                                                   NaN  \n",
       "25%                                                   NaN  \n",
       "50%                                                   NaN  \n",
       "75%                                                   NaN  \n",
       "max                                                   NaN  "
      ]
     },
     "execution_count": 55,
     "metadata": {},
     "output_type": "execute_result"
    }
   ],
   "source": [
    "books_df.describe(include='all')"
   ]
  },
  {
   "cell_type": "markdown",
   "id": "8059a529-99e5-4c07-9bee-3b2bb148295c",
   "metadata": {},
   "source": [
    "The following conclusions can be drawn from the obtained results:\n",
    "1) The fact that the title 'Selected Poems' appears 27 times in the books_df dataframe confirms the fact that it contains books with the same title but different ISBNs.\n",
    "2) The largest number of books in the dataset is by Agatha Christie (632 books).\n",
    "3) The fact that a certain URL occurs 2 times may indicate the presence of duplicates or errors in the dataset, since each book should have an individual cover image."
   ]
  },
  {
   "cell_type": "markdown",
   "id": "10275f5c-2013-46a9-a22b-16c5f6092c59",
   "metadata": {
    "jp-MarkdownHeadingCollapsed": true
   },
   "source": [
    "#### users_df"
   ]
  },
  {
   "cell_type": "code",
   "execution_count": 56,
   "id": "66a980dc-0d1f-45e4-8cbe-78ce735088ff",
   "metadata": {},
   "outputs": [
    {
     "data": {
      "text/html": [
       "<div>\n",
       "<style scoped>\n",
       "    .dataframe tbody tr th:only-of-type {\n",
       "        vertical-align: middle;\n",
       "    }\n",
       "\n",
       "    .dataframe tbody tr th {\n",
       "        vertical-align: top;\n",
       "    }\n",
       "\n",
       "    .dataframe thead th {\n",
       "        text-align: right;\n",
       "    }\n",
       "</style>\n",
       "<table border=\"1\" class=\"dataframe\">\n",
       "  <thead>\n",
       "    <tr style=\"text-align: right;\">\n",
       "      <th></th>\n",
       "      <th>user_id</th>\n",
       "      <th>location</th>\n",
       "      <th>age</th>\n",
       "    </tr>\n",
       "  </thead>\n",
       "  <tbody>\n",
       "    <tr>\n",
       "      <th>count</th>\n",
       "      <td>278858.00000</td>\n",
       "      <td>278858</td>\n",
       "      <td>168096.000000</td>\n",
       "    </tr>\n",
       "    <tr>\n",
       "      <th>unique</th>\n",
       "      <td>NaN</td>\n",
       "      <td>57339</td>\n",
       "      <td>NaN</td>\n",
       "    </tr>\n",
       "    <tr>\n",
       "      <th>top</th>\n",
       "      <td>NaN</td>\n",
       "      <td>london, england, united kingdom</td>\n",
       "      <td>NaN</td>\n",
       "    </tr>\n",
       "    <tr>\n",
       "      <th>freq</th>\n",
       "      <td>NaN</td>\n",
       "      <td>2506</td>\n",
       "      <td>NaN</td>\n",
       "    </tr>\n",
       "    <tr>\n",
       "      <th>mean</th>\n",
       "      <td>139429.50000</td>\n",
       "      <td>NaN</td>\n",
       "      <td>34.751434</td>\n",
       "    </tr>\n",
       "    <tr>\n",
       "      <th>std</th>\n",
       "      <td>80499.51502</td>\n",
       "      <td>NaN</td>\n",
       "      <td>14.428097</td>\n",
       "    </tr>\n",
       "    <tr>\n",
       "      <th>min</th>\n",
       "      <td>1.00000</td>\n",
       "      <td>NaN</td>\n",
       "      <td>0.000000</td>\n",
       "    </tr>\n",
       "    <tr>\n",
       "      <th>25%</th>\n",
       "      <td>69715.25000</td>\n",
       "      <td>NaN</td>\n",
       "      <td>24.000000</td>\n",
       "    </tr>\n",
       "    <tr>\n",
       "      <th>50%</th>\n",
       "      <td>139429.50000</td>\n",
       "      <td>NaN</td>\n",
       "      <td>32.000000</td>\n",
       "    </tr>\n",
       "    <tr>\n",
       "      <th>75%</th>\n",
       "      <td>209143.75000</td>\n",
       "      <td>NaN</td>\n",
       "      <td>44.000000</td>\n",
       "    </tr>\n",
       "    <tr>\n",
       "      <th>max</th>\n",
       "      <td>278858.00000</td>\n",
       "      <td>NaN</td>\n",
       "      <td>244.000000</td>\n",
       "    </tr>\n",
       "  </tbody>\n",
       "</table>\n",
       "</div>"
      ],
      "text/plain": [
       "             user_id                         location            age\n",
       "count   278858.00000                           278858  168096.000000\n",
       "unique           NaN                            57339            NaN\n",
       "top              NaN  london, england, united kingdom            NaN\n",
       "freq             NaN                             2506            NaN\n",
       "mean    139429.50000                              NaN      34.751434\n",
       "std      80499.51502                              NaN      14.428097\n",
       "min          1.00000                              NaN       0.000000\n",
       "25%      69715.25000                              NaN      24.000000\n",
       "50%     139429.50000                              NaN      32.000000\n",
       "75%     209143.75000                              NaN      44.000000\n",
       "max     278858.00000                              NaN     244.000000"
      ]
     },
     "execution_count": 56,
     "metadata": {},
     "output_type": "execute_result"
    }
   ],
   "source": [
    "users_df.describe(include='all')"
   ]
  },
  {
   "cell_type": "markdown",
   "id": "281e78bc-66df-4069-a3ab-824c9c8ccc64",
   "metadata": {
    "jp-MarkdownHeadingCollapsed": true
   },
   "source": [
    "#### ratings_df"
   ]
  },
  {
   "cell_type": "code",
   "execution_count": 57,
   "id": "bb99bdb7-7d39-46df-8fb4-eed296c881db",
   "metadata": {},
   "outputs": [
    {
     "data": {
      "text/html": [
       "<div>\n",
       "<style scoped>\n",
       "    .dataframe tbody tr th:only-of-type {\n",
       "        vertical-align: middle;\n",
       "    }\n",
       "\n",
       "    .dataframe tbody tr th {\n",
       "        vertical-align: top;\n",
       "    }\n",
       "\n",
       "    .dataframe thead th {\n",
       "        text-align: right;\n",
       "    }\n",
       "</style>\n",
       "<table border=\"1\" class=\"dataframe\">\n",
       "  <thead>\n",
       "    <tr style=\"text-align: right;\">\n",
       "      <th></th>\n",
       "      <th>user_id</th>\n",
       "      <th>isbn</th>\n",
       "      <th>rating</th>\n",
       "    </tr>\n",
       "  </thead>\n",
       "  <tbody>\n",
       "    <tr>\n",
       "      <th>count</th>\n",
       "      <td>1.149780e+06</td>\n",
       "      <td>1149780</td>\n",
       "      <td>1.149780e+06</td>\n",
       "    </tr>\n",
       "    <tr>\n",
       "      <th>unique</th>\n",
       "      <td>NaN</td>\n",
       "      <td>340556</td>\n",
       "      <td>NaN</td>\n",
       "    </tr>\n",
       "    <tr>\n",
       "      <th>top</th>\n",
       "      <td>NaN</td>\n",
       "      <td>0971880107</td>\n",
       "      <td>NaN</td>\n",
       "    </tr>\n",
       "    <tr>\n",
       "      <th>freq</th>\n",
       "      <td>NaN</td>\n",
       "      <td>2502</td>\n",
       "      <td>NaN</td>\n",
       "    </tr>\n",
       "    <tr>\n",
       "      <th>mean</th>\n",
       "      <td>1.403864e+05</td>\n",
       "      <td>NaN</td>\n",
       "      <td>2.866950e+00</td>\n",
       "    </tr>\n",
       "    <tr>\n",
       "      <th>std</th>\n",
       "      <td>8.056228e+04</td>\n",
       "      <td>NaN</td>\n",
       "      <td>3.854184e+00</td>\n",
       "    </tr>\n",
       "    <tr>\n",
       "      <th>min</th>\n",
       "      <td>2.000000e+00</td>\n",
       "      <td>NaN</td>\n",
       "      <td>0.000000e+00</td>\n",
       "    </tr>\n",
       "    <tr>\n",
       "      <th>25%</th>\n",
       "      <td>7.034500e+04</td>\n",
       "      <td>NaN</td>\n",
       "      <td>0.000000e+00</td>\n",
       "    </tr>\n",
       "    <tr>\n",
       "      <th>50%</th>\n",
       "      <td>1.410100e+05</td>\n",
       "      <td>NaN</td>\n",
       "      <td>0.000000e+00</td>\n",
       "    </tr>\n",
       "    <tr>\n",
       "      <th>75%</th>\n",
       "      <td>2.110280e+05</td>\n",
       "      <td>NaN</td>\n",
       "      <td>7.000000e+00</td>\n",
       "    </tr>\n",
       "    <tr>\n",
       "      <th>max</th>\n",
       "      <td>2.788540e+05</td>\n",
       "      <td>NaN</td>\n",
       "      <td>1.000000e+01</td>\n",
       "    </tr>\n",
       "  </tbody>\n",
       "</table>\n",
       "</div>"
      ],
      "text/plain": [
       "             user_id        isbn        rating\n",
       "count   1.149780e+06     1149780  1.149780e+06\n",
       "unique           NaN      340556           NaN\n",
       "top              NaN  0971880107           NaN\n",
       "freq             NaN        2502           NaN\n",
       "mean    1.403864e+05         NaN  2.866950e+00\n",
       "std     8.056228e+04         NaN  3.854184e+00\n",
       "min     2.000000e+00         NaN  0.000000e+00\n",
       "25%     7.034500e+04         NaN  0.000000e+00\n",
       "50%     1.410100e+05         NaN  0.000000e+00\n",
       "75%     2.110280e+05         NaN  7.000000e+00\n",
       "max     2.788540e+05         NaN  1.000000e+01"
      ]
     },
     "execution_count": 57,
     "metadata": {},
     "output_type": "execute_result"
    }
   ],
   "source": [
    "ratings_df.describe(include='all')"
   ]
  },
  {
   "cell_type": "markdown",
   "id": "428c12a2-2d69-4525-82b5-117e54aad0bd",
   "metadata": {},
   "source": [
    "The obtained results show that:\n",
    "1) The value of the 'rating' column varies in the range \\[0; 10].\n",
    "2) The average value of the 'Book-Rating' column is ~2.87/10, which indicates that users mostly gave poor ratings to the books they read."
   ]
  }
 ],
 "metadata": {
  "kernelspec": {
   "display_name": "Python 3 (ipykernel)",
   "language": "python",
   "name": "python3"
  },
  "language_info": {
   "codemirror_mode": {
    "name": "ipython",
    "version": 3
   },
   "file_extension": ".py",
   "mimetype": "text/x-python",
   "name": "python",
   "nbconvert_exporter": "python",
   "pygments_lexer": "ipython3",
   "version": "3.10.8"
  }
 },
 "nbformat": 4,
 "nbformat_minor": 5
}
