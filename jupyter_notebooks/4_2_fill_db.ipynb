{
 "cells": [
  {
   "cell_type": "code",
   "execution_count": 1,
   "id": "2d7957f7-7376-4a34-9771-573efecb950e",
   "metadata": {},
   "outputs": [],
   "source": [
    "import time\n",
    "from datetime import date\n",
    "from dataclasses import dataclass\n",
    "import random\n",
    "\n",
    "import numpy as np\n",
    "import pandas as pd\n",
    "\n",
    "import psycopg2 as pg2\n",
    "\n",
    "from faker import Faker\n",
    "from passlib.context import CryptContext\n",
    "\n",
    "# to ignore warnings\n",
    "import warnings\n",
    "warnings.filterwarnings('ignore')\n",
    "import logging\n",
    "logging.getLogger('passlib').setLevel(logging.ERROR)\n",
    "\n",
    "from db_config import get_db_config"
   ]
  },
  {
   "cell_type": "markdown",
   "id": "bd6235f9-e520-4aa4-a072-c04890a3c516",
   "metadata": {},
   "source": [
    "## Classes"
   ]
  },
  {
   "cell_type": "code",
   "execution_count": 40,
   "id": "3f0797c5-84dd-454b-8d69-b9b652ffb59a",
   "metadata": {},
   "outputs": [],
   "source": [
    "@dataclass\n",
    "class Book:\n",
    "    isbn: str\n",
    "    title: str\n",
    "    author: str\n",
    "    publication_year: int\n",
    "    publisher: str\n",
    "    image_url: str"
   ]
  },
  {
   "cell_type": "code",
   "execution_count": 3,
   "id": "5bc28283-ec1b-4801-879e-b7a4a8db371c",
   "metadata": {},
   "outputs": [],
   "source": [
    "@dataclass\n",
    "class User:\n",
    "    # user_id: int\n",
    "    username: str\n",
    "    email: str\n",
    "    password: str"
   ]
  },
  {
   "cell_type": "code",
   "execution_count": 4,
   "id": "da24f269-9743-4fd0-ac8a-57cbc4ff49f9",
   "metadata": {},
   "outputs": [],
   "source": [
    "@dataclass\n",
    "class Rating:\n",
    "    isbn: str\n",
    "    user_id: int\n",
    "    rating: int"
   ]
  },
  {
   "cell_type": "code",
   "execution_count": 5,
   "id": "3baf6f42-5ce8-48d5-95c4-8bcf6731dd83",
   "metadata": {},
   "outputs": [],
   "source": [
    "pwd_ctx = CryptContext(schemes='bcrypt', deprecated='auto')\n",
    "\n",
    "class Hash():\n",
    "    def bcrypt(password: str):\n",
    "        return pwd_ctx.hash(password)"
   ]
  },
  {
   "cell_type": "markdown",
   "id": "7d230536-d2c9-407a-822b-c8b024b85e7d",
   "metadata": {},
   "source": [
    "## Functions"
   ]
  },
  {
   "cell_type": "code",
   "execution_count": 6,
   "id": "9e45c353-e036-40e5-8a9e-1ff2ca764fd5",
   "metadata": {},
   "outputs": [],
   "source": [
    "def insert_data(conn, query, data, table_name):\n",
    "    try:\n",
    "        with conn.cursor() as cur:\n",
    "            if isinstance(data, list):\n",
    "                cur.executemany(query, data)\n",
    "            else:\n",
    "                cur.execute(query, data)\n",
    "                \n",
    "            conn.commit()\n",
    "            print(f\"Data successfully inserted into table '{table_name}'!\")\n",
    "            \n",
    "    except (Exception, pg2.DatabaseError) as error:\n",
    "        print(f\"Error inserting data into table '{table_name}':\", error)\n",
    "        conn.rollback()"
   ]
  },
  {
   "cell_type": "code",
   "execution_count": 7,
   "id": "8d082688-ef23-41c3-b161-aed2257c7a60",
   "metadata": {},
   "outputs": [],
   "source": [
    "def insert_autoincrement_data(conn, query, data, table_name):\n",
    "    try:\n",
    "        with conn.cursor() as cur:\n",
    "            cur.execute(query, data)\n",
    "            res = cur.fetchone()[0]  # Fetch the returned user_id\n",
    "            conn.commit()\n",
    "            # print(f\"Data successfully inserted into table '{table_name}'!\")\n",
    "            return res\n",
    "            \n",
    "    except (Exception, pg2.DatabaseError) as error:\n",
    "        print(f\"Error inserting data into table '{table_name}':\", error)\n",
    "        conn.rollback()"
   ]
  },
  {
   "cell_type": "markdown",
   "id": "8c8ff297-9755-410b-a7af-0fe6f3abc17f",
   "metadata": {},
   "source": [
    "### user"
   ]
  },
  {
   "cell_type": "code",
   "execution_count": 8,
   "id": "d381d50b-6de5-4bbd-bbee-1aee973f7b41",
   "metadata": {},
   "outputs": [],
   "source": [
    "def generate_random_user(faker, user_id):\n",
    "    \"\"\"\n",
    "    Generates a random user using Faker library.\n",
    "\n",
    "    Parameters:\n",
    "    - faker: Faker instance\n",
    "    - user_id: int, ID of the user\n",
    "\n",
    "    Returns:\n",
    "    - User: instance of User class with random data\n",
    "    \"\"\"\n",
    "    # Generate random data using Faker\n",
    "    username = f\"{faker.first_name()}{user_id}\"\n",
    "    # username = f\"{faker.user_name()}{user_id}\"\n",
    "    email = f\"{username}@gmail.com\"\n",
    "    password = Hash.bcrypt(\"12345\")\n",
    "\n",
    "    # Create and return User instance\n",
    "    return User(username=username, email=email, password=password)  "
   ]
  },
  {
   "cell_type": "code",
   "execution_count": 9,
   "id": "434c79fc-0863-4e63-97af-c92abd3dde55",
   "metadata": {},
   "outputs": [],
   "source": [
    "def insert_into_user_table(conn, user):\n",
    "    # Construct the SQL query\n",
    "    query = \"\"\"\n",
    "        INSERT INTO \"user\" (\n",
    "            username, email, password\n",
    "        )\n",
    "        VALUES (%s, %s, %s)\n",
    "        RETURNING user_id;\n",
    "    \"\"\"\n",
    "    data = (\n",
    "            user.username,\n",
    "            user.email,\n",
    "            user.password\n",
    "    )\n",
    "    return insert_autoincrement_data(conn, query, data, 'user')   "
   ]
  },
  {
   "cell_type": "code",
   "execution_count": 10,
   "id": "b57d551e-6811-4ec6-a57b-ff4b55637446",
   "metadata": {},
   "outputs": [],
   "source": [
    "def delete_from_user_table(conn, user_id):\n",
    "    try:\n",
    "        with conn.cursor() as cur:\n",
    "            query = \"\"\"\n",
    "                DELETE FROM \"user\" \n",
    "                WHERE user_id = %s;\n",
    "            \"\"\"\n",
    "            cur.execute(query, (user_id,))\n",
    "            conn.commit()\n",
    "    except (Exception, pg2.DatabaseError) as error:\n",
    "        print(f\"Error deleting data from table 'user': {error}\")\n",
    "        conn.rollback()"
   ]
  },
  {
   "cell_type": "markdown",
   "id": "cfa26dfb-0f98-4f6b-8909-113b479ec023",
   "metadata": {},
   "source": [
    "### book"
   ]
  },
  {
   "cell_type": "code",
   "execution_count": 43,
   "id": "3a8e6b86-f3d0-44a5-9959-093c1be290d3",
   "metadata": {},
   "outputs": [],
   "source": [
    "def create_book(row):\n",
    "    return Book(\n",
    "        isbn = row['isbn'],\n",
    "        title = row['title'],\n",
    "        author = row['author'],\n",
    "        publication_year = row['publication_year'],\n",
    "        publisher = row['publisher'],\n",
    "        image_url = row['image_url']\n",
    "    )"
   ]
  },
  {
   "cell_type": "code",
   "execution_count": 36,
   "id": "75737ee9-37f4-41f5-8006-f07e4f524ebe",
   "metadata": {},
   "outputs": [],
   "source": [
    "def insert_into_book_table(conn, books):\n",
    "    # Construct the SQL query\n",
    "    query = \"\"\"\n",
    "        INSERT INTO book (\n",
    "            isbn, title, author, publication_year, publisher, image_url\n",
    "        )\n",
    "        VALUES (%s, %s, %s, %s, %s, %s);\n",
    "    \"\"\"\n",
    "    data = [\n",
    "        (\n",
    "            book.isbn,\n",
    "            book.title,\n",
    "            book.author,\n",
    "            book.publication_year, \n",
    "            book.publisher, \n",
    "            book.image_url\n",
    "        )\n",
    "        for book in books\n",
    "    ]\n",
    "    if len(data) == 1:\n",
    "        data = data[0]\n",
    "    insert_data(conn, query, data, 'book')"
   ]
  },
  {
   "cell_type": "markdown",
   "id": "f61367a3-8607-44e0-8cf2-f44aaa4372e4",
   "metadata": {
    "jp-MarkdownHeadingCollapsed": true
   },
   "source": [
    "## Read and check datasets"
   ]
  },
  {
   "cell_type": "code",
   "execution_count": 11,
   "id": "a6b667aa-07ea-4318-8950-5cb60e1747e6",
   "metadata": {},
   "outputs": [
    {
     "name": "stdout",
     "output_type": "stream",
     "text": [
      "books_df.shape = (271358, 6)\n",
      "users_df.shape = (278858, 3)\n",
      "ratings_df.shape = (1031136, 3)\n"
     ]
    }
   ],
   "source": [
    "books_df = pd.read_csv('../data/db_data/Books.csv')\n",
    "users_df = pd.read_csv('../data/db_data/Users.csv')\n",
    "ratings_df = pd.read_csv('../data/db_data/Ratings.csv')\n",
    "\n",
    "print(f\"books_df.shape = {books_df.shape}\")\n",
    "print(f\"users_df.shape = {users_df.shape}\")\n",
    "print(f\"ratings_df.shape = {ratings_df.shape}\")"
   ]
  },
  {
   "cell_type": "code",
   "execution_count": 12,
   "id": "6fcf3063-8437-4583-b6bc-d6ea17c89176",
   "metadata": {},
   "outputs": [
    {
     "name": "stdout",
     "output_type": "stream",
     "text": [
      "books_df['isbn_len'].unique() = [10]\n",
      "ratings_df['isbn_len'].unique() = [10]\n",
      "\n",
      "len(ratings_df) = 1031136\n"
     ]
    }
   ],
   "source": [
    "books_df['isbn_len'] = books_df['isbn'].apply(lambda x: len(x))\n",
    "ratings_df['isbn_len'] = ratings_df['isbn'].apply(lambda x: len(x))\n",
    "\n",
    "# There should be only 1 value - 10\n",
    "print(f\"books_df['isbn_len'].unique() = {books_df['isbn_len'].unique()}\")\n",
    "print(f\"ratings_df['isbn_len'].unique() = {ratings_df['isbn_len'].unique()}\\n\")\n",
    "\n",
    "books_df.drop('isbn_len', axis=1, inplace=True)\n",
    "ratings_df.drop('isbn_len', axis=1, inplace=True)\n",
    "\n",
    "# len(ratings_df) should be equal to 1031136\n",
    "print(f\"len(ratings_df) = {len(ratings_df)}\")"
   ]
  },
  {
   "cell_type": "markdown",
   "id": "e1452351-8422-497a-8b7d-6c7f0aa2cd94",
   "metadata": {
    "jp-MarkdownHeadingCollapsed": true
   },
   "source": [
    "## Datasets Analysis for SQL tables"
   ]
  },
  {
   "cell_type": "markdown",
   "id": "f9685533-c0b7-4f18-a7fb-3e40cc192e27",
   "metadata": {
    "jp-MarkdownHeadingCollapsed": true
   },
   "source": [
    "### books_df"
   ]
  },
  {
   "cell_type": "code",
   "execution_count": 13,
   "id": "2e48c75c-b6a7-438e-8c20-e8e527bd7ae2",
   "metadata": {},
   "outputs": [
    {
     "data": {
      "text/html": [
       "<div>\n",
       "<style scoped>\n",
       "    .dataframe tbody tr th:only-of-type {\n",
       "        vertical-align: middle;\n",
       "    }\n",
       "\n",
       "    .dataframe tbody tr th {\n",
       "        vertical-align: top;\n",
       "    }\n",
       "\n",
       "    .dataframe thead th {\n",
       "        text-align: right;\n",
       "    }\n",
       "</style>\n",
       "<table border=\"1\" class=\"dataframe\">\n",
       "  <thead>\n",
       "    <tr style=\"text-align: right;\">\n",
       "      <th></th>\n",
       "      <th>isbn</th>\n",
       "      <th>title</th>\n",
       "      <th>author</th>\n",
       "      <th>publication_year</th>\n",
       "      <th>publisher</th>\n",
       "      <th>image_url</th>\n",
       "    </tr>\n",
       "  </thead>\n",
       "  <tbody>\n",
       "    <tr>\n",
       "      <th>0</th>\n",
       "      <td>0195153448</td>\n",
       "      <td>Classical Mythology</td>\n",
       "      <td>Mark P. O. Morford</td>\n",
       "      <td>2002</td>\n",
       "      <td>Oxford University Press</td>\n",
       "      <td>http://images.amazon.com/images/P/0195153448.0...</td>\n",
       "    </tr>\n",
       "    <tr>\n",
       "      <th>1</th>\n",
       "      <td>0002005018</td>\n",
       "      <td>Clara Callan</td>\n",
       "      <td>Richard Bruce Wright</td>\n",
       "      <td>2001</td>\n",
       "      <td>HarperFlamingo Canada</td>\n",
       "      <td>http://images.amazon.com/images/P/0002005018.0...</td>\n",
       "    </tr>\n",
       "  </tbody>\n",
       "</table>\n",
       "</div>"
      ],
      "text/plain": [
       "         isbn                title                author  publication_year  \\\n",
       "0  0195153448  Classical Mythology    Mark P. O. Morford              2002   \n",
       "1  0002005018         Clara Callan  Richard Bruce Wright              2001   \n",
       "\n",
       "                 publisher                                          image_url  \n",
       "0  Oxford University Press  http://images.amazon.com/images/P/0195153448.0...  \n",
       "1    HarperFlamingo Canada  http://images.amazon.com/images/P/0002005018.0...  "
      ]
     },
     "execution_count": 13,
     "metadata": {},
     "output_type": "execute_result"
    }
   ],
   "source": [
    "books_df.head(2)"
   ]
  },
  {
   "cell_type": "code",
   "execution_count": 14,
   "id": "839ad609-9926-43dc-95ab-009eb4d2ebdf",
   "metadata": {},
   "outputs": [
    {
     "name": "stdout",
     "output_type": "stream",
     "text": [
      "<class 'pandas.core.frame.DataFrame'>\n",
      "RangeIndex: 271358 entries, 0 to 271357\n",
      "Data columns (total 6 columns):\n",
      " #   Column            Non-Null Count   Dtype \n",
      "---  ------            --------------   ----- \n",
      " 0   isbn              271358 non-null  object\n",
      " 1   title             271358 non-null  object\n",
      " 2   author            271358 non-null  object\n",
      " 3   publication_year  271358 non-null  int64 \n",
      " 4   publisher         271356 non-null  object\n",
      " 5   image_url         271358 non-null  object\n",
      "dtypes: int64(1), object(5)\n",
      "memory usage: 12.4+ MB\n"
     ]
    }
   ],
   "source": [
    "books_df.info()"
   ]
  },
  {
   "cell_type": "code",
   "execution_count": 15,
   "id": "1380acb5-4f49-444b-9716-bdbbac73b91f",
   "metadata": {},
   "outputs": [
    {
     "name": "stdout",
     "output_type": "stream",
     "text": [
      "books_df['publication_year'].min() = 0; books_df['publication_year'].max() = 2023\n"
     ]
    }
   ],
   "source": [
    "print(f\"books_df['publication_year'].min() = {books_df['publication_year'].min()}; books_df['publication_year'].max() = {books_df['publication_year'].max()}\")"
   ]
  },
  {
   "cell_type": "code",
   "execution_count": 17,
   "id": "b26ba4ec-d0a2-436c-a19b-f37691d16990",
   "metadata": {},
   "outputs": [
    {
     "data": {
      "text/plain": [
       "isbn          10\n",
       "title        256\n",
       "author       143\n",
       "publisher    134\n",
       "image_url     60\n",
       "dtype: int64"
      ]
     },
     "execution_count": 17,
     "metadata": {},
     "output_type": "execute_result"
    }
   ],
   "source": [
    "books_df_filled = books_df.fillna('')\n",
    "\n",
    "# Determine the maximum length of the record in each column with object data type\n",
    "max_length_series = books_df_filled.select_dtypes(include=['object']).applymap(len).max()\n",
    "\n",
    "max_length_series"
   ]
  },
  {
   "cell_type": "code",
   "execution_count": 18,
   "id": "f1e03afb-72a2-4c4a-a18b-8a1d7d43b569",
   "metadata": {},
   "outputs": [
    {
     "data": {
      "text/html": [
       "<div>\n",
       "<style scoped>\n",
       "    .dataframe tbody tr th:only-of-type {\n",
       "        vertical-align: middle;\n",
       "    }\n",
       "\n",
       "    .dataframe tbody tr th {\n",
       "        vertical-align: top;\n",
       "    }\n",
       "\n",
       "    .dataframe thead th {\n",
       "        text-align: right;\n",
       "    }\n",
       "</style>\n",
       "<table border=\"1\" class=\"dataframe\">\n",
       "  <thead>\n",
       "    <tr style=\"text-align: right;\">\n",
       "      <th></th>\n",
       "      <th>isbn</th>\n",
       "      <th>title</th>\n",
       "      <th>author</th>\n",
       "      <th>publication_year</th>\n",
       "      <th>publisher</th>\n",
       "      <th>image_url</th>\n",
       "    </tr>\n",
       "  </thead>\n",
       "  <tbody>\n",
       "    <tr>\n",
       "      <th>22</th>\n",
       "      <td>1879384493</td>\n",
       "      <td>If I'd Known Then What I Know Now: Why Not Lea...</td>\n",
       "      <td>J. R. Parrish</td>\n",
       "      <td>2003</td>\n",
       "      <td>Cypress House</td>\n",
       "      <td>http://images.amazon.com/images/P/1879384493.0...</td>\n",
       "    </tr>\n",
       "    <tr>\n",
       "      <th>101</th>\n",
       "      <td>0446677450</td>\n",
       "      <td>Rich Dad, Poor Dad: What the Rich Teach Their ...</td>\n",
       "      <td>Robert T. Kiyosaki</td>\n",
       "      <td>2000</td>\n",
       "      <td>Warner Books</td>\n",
       "      <td>http://images.amazon.com/images/P/0446677450.0...</td>\n",
       "    </tr>\n",
       "    <tr>\n",
       "      <th>106</th>\n",
       "      <td>0684822733</td>\n",
       "      <td>Love, Miracles, and Animal Healing : A heartwa...</td>\n",
       "      <td>Pam Proctor</td>\n",
       "      <td>1996</td>\n",
       "      <td>Fireside</td>\n",
       "      <td>http://images.amazon.com/images/P/0684822733.0...</td>\n",
       "    </tr>\n",
       "    <tr>\n",
       "      <th>159</th>\n",
       "      <td>0061030147</td>\n",
       "      <td>Cybill Disobedience: How I Survived Beauty Pag...</td>\n",
       "      <td>Cybill Shepherd</td>\n",
       "      <td>2001</td>\n",
       "      <td>Avon Books</td>\n",
       "      <td>http://images.amazon.com/images/P/0061030147.0...</td>\n",
       "    </tr>\n",
       "    <tr>\n",
       "      <th>276</th>\n",
       "      <td>0380730448</td>\n",
       "      <td>The Adrian Mole Diaries : The Secret Diary of ...</td>\n",
       "      <td>Sue Townsend</td>\n",
       "      <td>1997</td>\n",
       "      <td>Perennial</td>\n",
       "      <td>http://images.amazon.com/images/P/0380730448.0...</td>\n",
       "    </tr>\n",
       "    <tr>\n",
       "      <th>...</th>\n",
       "      <td>...</td>\n",
       "      <td>...</td>\n",
       "      <td>...</td>\n",
       "      <td>...</td>\n",
       "      <td>...</td>\n",
       "      <td>...</td>\n",
       "    </tr>\n",
       "    <tr>\n",
       "      <th>271241</th>\n",
       "      <td>0321196775</td>\n",
       "      <td>A Brief History of Western Civilization : The ...</td>\n",
       "      <td>Mark Kishlansky</td>\n",
       "      <td>2004</td>\n",
       "      <td>Longman</td>\n",
       "      <td>http://images.amazon.com/images/P/0321196775.0...</td>\n",
       "    </tr>\n",
       "    <tr>\n",
       "      <th>271283</th>\n",
       "      <td>1584857447</td>\n",
       "      <td>True Stories: Girls' Inspiring Stories of Cour...</td>\n",
       "      <td>Trula Magruder</td>\n",
       "      <td>2003</td>\n",
       "      <td>American Girl</td>\n",
       "      <td>http://images.amazon.com/images/P/1584857447.0...</td>\n",
       "    </tr>\n",
       "    <tr>\n",
       "      <th>271319</th>\n",
       "      <td>3453047192</td>\n",
       "      <td>Die amerikanische Zumutung: PlÃ¤doyers gegen d...</td>\n",
       "      <td>Rolf Winter</td>\n",
       "      <td>1990</td>\n",
       "      <td>W. Heyne</td>\n",
       "      <td>http://images.amazon.com/images/P/3453047192.0...</td>\n",
       "    </tr>\n",
       "    <tr>\n",
       "      <th>271327</th>\n",
       "      <td>8420614556</td>\n",
       "      <td>Lewis Carroll: A Traves Del Espejo Y Lo Que Al...</td>\n",
       "      <td>Lewis Carroll</td>\n",
       "      <td>1986</td>\n",
       "      <td>Lectorum Pubns (Adult)</td>\n",
       "      <td>http://images.amazon.com/images/P/8420614556.0...</td>\n",
       "    </tr>\n",
       "    <tr>\n",
       "      <th>271357</th>\n",
       "      <td>0767409752</td>\n",
       "      <td>A Guided Tour of Rene Descartes' Meditations o...</td>\n",
       "      <td>Christopher  Biffle</td>\n",
       "      <td>2000</td>\n",
       "      <td>McGraw-Hill Humanities/Social Sciences/Languages</td>\n",
       "      <td>http://images.amazon.com/images/P/0767409752.0...</td>\n",
       "    </tr>\n",
       "  </tbody>\n",
       "</table>\n",
       "<p>6824 rows × 6 columns</p>\n",
       "</div>"
      ],
      "text/plain": [
       "              isbn                                              title  \\\n",
       "22      1879384493  If I'd Known Then What I Know Now: Why Not Lea...   \n",
       "101     0446677450  Rich Dad, Poor Dad: What the Rich Teach Their ...   \n",
       "106     0684822733  Love, Miracles, and Animal Healing : A heartwa...   \n",
       "159     0061030147  Cybill Disobedience: How I Survived Beauty Pag...   \n",
       "276     0380730448  The Adrian Mole Diaries : The Secret Diary of ...   \n",
       "...            ...                                                ...   \n",
       "271241  0321196775  A Brief History of Western Civilization : The ...   \n",
       "271283  1584857447  True Stories: Girls' Inspiring Stories of Cour...   \n",
       "271319  3453047192  Die amerikanische Zumutung: PlÃ¤doyers gegen d...   \n",
       "271327  8420614556  Lewis Carroll: A Traves Del Espejo Y Lo Que Al...   \n",
       "271357  0767409752  A Guided Tour of Rene Descartes' Meditations o...   \n",
       "\n",
       "                     author  publication_year  \\\n",
       "22            J. R. Parrish              2003   \n",
       "101      Robert T. Kiyosaki              2000   \n",
       "106             Pam Proctor              1996   \n",
       "159         Cybill Shepherd              2001   \n",
       "276            Sue Townsend              1997   \n",
       "...                     ...               ...   \n",
       "271241      Mark Kishlansky              2004   \n",
       "271283       Trula Magruder              2003   \n",
       "271319          Rolf Winter              1990   \n",
       "271327        Lewis Carroll              1986   \n",
       "271357  Christopher  Biffle              2000   \n",
       "\n",
       "                                               publisher  \\\n",
       "22                                         Cypress House   \n",
       "101                                         Warner Books   \n",
       "106                                             Fireside   \n",
       "159                                           Avon Books   \n",
       "276                                            Perennial   \n",
       "...                                                  ...   \n",
       "271241                                           Longman   \n",
       "271283                                     American Girl   \n",
       "271319                                          W. Heyne   \n",
       "271327                            Lectorum Pubns (Adult)   \n",
       "271357  McGraw-Hill Humanities/Social Sciences/Languages   \n",
       "\n",
       "                                                image_url  \n",
       "22      http://images.amazon.com/images/P/1879384493.0...  \n",
       "101     http://images.amazon.com/images/P/0446677450.0...  \n",
       "106     http://images.amazon.com/images/P/0684822733.0...  \n",
       "159     http://images.amazon.com/images/P/0061030147.0...  \n",
       "276     http://images.amazon.com/images/P/0380730448.0...  \n",
       "...                                                   ...  \n",
       "271241  http://images.amazon.com/images/P/0321196775.0...  \n",
       "271283  http://images.amazon.com/images/P/1584857447.0...  \n",
       "271319  http://images.amazon.com/images/P/3453047192.0...  \n",
       "271327  http://images.amazon.com/images/P/8420614556.0...  \n",
       "271357  http://images.amazon.com/images/P/0767409752.0...  \n",
       "\n",
       "[6824 rows x 6 columns]"
      ]
     },
     "execution_count": 18,
     "metadata": {},
     "output_type": "execute_result"
    }
   ],
   "source": [
    "books_df[books_df['title'].apply(lambda title: len(title) >= 100)]"
   ]
  },
  {
   "cell_type": "code",
   "execution_count": 19,
   "id": "824d14f9-feda-46a3-8129-74cce90b71c0",
   "metadata": {},
   "outputs": [
    {
     "name": "stdout",
     "output_type": "stream",
     "text": [
      "1) title length: 200; title: Frankenstein: Complete, Authoritative Text With Biographical, Historical, and Cultural Contexts, Critical History, and Essays from Contemporary Critic ... tive (Case Studies in Contemporary Criticism)\n",
      "2) title length: 200; title: The Girlfriends' Guide to Surviving the First Year of Motherhood: Wise and Witty Advice on Everything from Coping With Postpartum Mood Swings to Salva ...  to  Fitting into That Favorite Pair of Jeans\n",
      "3) title length: 200; title: The House of Mirth: Complete, Authoritative Text With Biographical and Historical Contexts, Critical History, and Essays from Five Contemporary Critic ... ives (Case Studies in Contemporary Criticism)\n",
      "4) title length: 201; title: The American Country Inn And Bed &amp; Breakfast Cookbook, Volume I : More than 1,700 crowd-pleasing recipes from 500 American Inns (American Country Inn &amp; Bed &amp; Breakfast Cookbook (Hardcover))\n",
      "5) title length: 204; title: The New Strong's exhaustive concordance of the Bible: With main concordance, appendix to the main concordance, key verse comparison chart, dictionary of the Hebrew Bible, dictionary of the Greek Testament\n",
      "6) title length: 200; title: Don't Sweat the Small Stuff in Love : Simple Ways to Nurture, and Strengthen Your Relationships While Avoiding the Habits That Break Down Your Loving  ... tion (Don't Sweat the Small Stuff (Hyperion))\n",
      "7) title length: 200; title: Polish Cookery : Poland's bestselling cookbook adapted for American kitchens. Includes recipes for Mushroom-Barley Soup, Cucumber Salad, Bigos, Cheese ... Almond Babka. (Crown Classic Cookbook Series)\n",
      "8) title length: 253; title: The Book of the SubGenius : Being the Divine Wisdom, Guidance, and Prophecy of J.R. 'Bob' Dobbs, High Epopt of the Church of the SubGenius, Here Inscribed for the Salvation of Future Generations and in the Hope that Slack May Someday Reign on this Earth\n",
      "9) title length: 255; title: Claudius the god and his wife Messalina: The troublesome reign of Tiberius Claudius Caesar, Emperor of the Romans (born 10 B.C., died A.D. 54), as described by himself, also his murder at the hands of the notorious Agrippina (mother of the Emperor Nero) a\n",
      "10) title length: 205; title: The Awakening: Complete, Authoritative Text With Biographical &amp; Historical Contexts, Critical History, &amp; Essays from Five Contemporary Critica. Perspectives (Case Studies in Contemporary Criticism)\n"
     ]
    },
    {
     "data": {
      "text/plain": [
       "[None, None, None, None, None, None, None, None, None, None]"
      ]
     },
     "execution_count": 19,
     "metadata": {},
     "output_type": "execute_result"
    }
   ],
   "source": [
    "example_titles_no = 10\n",
    "example_long_titles = list(books_df[books_df['title'].apply(lambda title: len(title) >= 200)][:example_titles_no]['title'])\n",
    "\n",
    "[print(f\"{index + 1}) title length: {len(example_long_titles[index])}; title: {example_long_titles[index]}\") for index in range(example_titles_no)]"
   ]
  },
  {
   "cell_type": "code",
   "execution_count": 20,
   "id": "db0bb9f3-4610-4a8c-8286-f2409d289294",
   "metadata": {},
   "outputs": [
    {
     "name": "stdout",
     "output_type": "stream",
     "text": [
      "1) author name length: 122; author name: Based on the Larger Work'the Book of Garden Flowers'by G.a.R.Phillips Compiled by David Pycraft Illustrated by Joan Lupton\n",
      "2) author name length: 107; author name: Staceyann Chin, Dot Antoniades, Aileen Reyes, Meaghan Williams, Miriam Stanley, Amy Ouzoonian Kyrce Swenson\n",
      "3) author name length: 143; author name: Dale D. Johnson, Theodore Clymer, Roselmina Indrisano, Richard L. Venezky, James F. Baumann, Elfrieda Hiebert, and Marian Toth P. David Pearson\n"
     ]
    },
    {
     "data": {
      "text/plain": [
       "[None, None, None]"
      ]
     },
     "execution_count": 20,
     "metadata": {},
     "output_type": "execute_result"
    }
   ],
   "source": [
    "example_authors_no = 5\n",
    "\n",
    "example_long_authors = list(books_df[books_df['author'].apply(lambda author: len(author) >= 100)][:example_authors_no]['author'])\n",
    "example_authors_no = len(example_long_authors)\n",
    "\n",
    "[print(f\"{index + 1}) author name length: {len(example_long_authors[index])}; author name: {example_long_authors[index]}\") for index in range(example_authors_no)]"
   ]
  },
  {
   "cell_type": "code",
   "execution_count": 21,
   "id": "763fc79f-2ac0-4108-9ee8-55ea1253d998",
   "metadata": {},
   "outputs": [
    {
     "name": "stdout",
     "output_type": "stream",
     "text": [
      "1) publisher name length: 121; publisher name: Instituto Nacional de InvestigaÃ§Ã£o CientÃ­fica, Centro de Estudos ClÃ¡ssicos e HumanÃ­sticos da Universidade de Coimbra\n",
      "2) publisher name length: 134; publisher name: Published by Natural Heritage/Natural History Inc. for the Ontario Heritage Foundation, Ontario Ministry of Culture and Communications\n",
      "3) publisher name length: 115; publisher name: Narcissus Publications in association with Central Europe Review and Central and East European New Media Initiative\n"
     ]
    },
    {
     "data": {
      "text/plain": [
       "[None, None, None]"
      ]
     },
     "execution_count": 21,
     "metadata": {},
     "output_type": "execute_result"
    }
   ],
   "source": [
    "example_publishers_no = 5\n",
    "\n",
    "example_long_publishers = list(books_df[books_df['publisher'].apply(lambda publisher: len(publisher) >= 100 if type(publisher) != float else False)][:example_publishers_no]['publisher'])\n",
    "example_publishers_no = len(example_long_publishers)\n",
    "\n",
    "[print(f\"{index + 1}) publisher name length: {len(example_long_publishers[index])}; publisher name: {example_long_publishers[index]}\") for index in range(example_publishers_no)]"
   ]
  },
  {
   "cell_type": "markdown",
   "id": "8a2e3377-1ae6-4fbf-8e63-339369d9c876",
   "metadata": {
    "jp-MarkdownHeadingCollapsed": true
   },
   "source": [
    "### users_df"
   ]
  },
  {
   "cell_type": "code",
   "execution_count": 22,
   "id": "6afba765-4e4c-435e-a8ee-2106900bf08e",
   "metadata": {},
   "outputs": [
    {
     "name": "stdout",
     "output_type": "stream",
     "text": [
      "type(user_ids) = <class 'numpy.ndarray'>; len(user_ids) = 278858\n"
     ]
    }
   ],
   "source": [
    "user_ids = users_df['user_id'].values\n",
    "print(f\"type(user_ids) = {type(user_ids)}; len(user_ids) = {len(user_ids)}\")"
   ]
  },
  {
   "cell_type": "code",
   "execution_count": 23,
   "id": "f1d776e8-1499-47da-ba8b-fa07367e33dd",
   "metadata": {},
   "outputs": [
    {
     "name": "stdout",
     "output_type": "stream",
     "text": [
      "type(check_user_ids_array) = <class 'numpy.ndarray'>; len(check_user_ids_array) = 278858\n"
     ]
    }
   ],
   "source": [
    "check_user_ids_array = np.arange(1, len(users_df)+ 1)\n",
    "print(f\"type(check_user_ids_array) = {type(check_user_ids_array)}; len(check_user_ids_array) = {len(check_user_ids_array)}\")"
   ]
  },
  {
   "cell_type": "code",
   "execution_count": 24,
   "id": "d1e14178-f687-4698-be83-986c02b63249",
   "metadata": {},
   "outputs": [
    {
     "data": {
      "text/plain": [
       "True"
      ]
     },
     "execution_count": 24,
     "metadata": {},
     "output_type": "execute_result"
    }
   ],
   "source": [
    "np.array_equal(user_ids, check_user_ids_array)"
   ]
  },
  {
   "cell_type": "markdown",
   "id": "7eef43c8-5b04-4c11-a6b1-78b6877eab97",
   "metadata": {},
   "source": [
    "## Connect to the PostgreSQL database"
   ]
  },
  {
   "cell_type": "code",
   "execution_count": 25,
   "id": "183bcb4c-527f-482f-8660-e40048f92495",
   "metadata": {},
   "outputs": [
    {
     "data": {
      "text/plain": [
       "dict_keys(['database', 'user', 'password'])"
      ]
     },
     "execution_count": 25,
     "metadata": {},
     "output_type": "execute_result"
    }
   ],
   "source": [
    "config_dict = get_db_config()\n",
    "config_dict.keys()"
   ]
  },
  {
   "cell_type": "code",
   "execution_count": 54,
   "id": "c3f0cc03-184b-4f84-87e0-bc9d5cc4f384",
   "metadata": {},
   "outputs": [
    {
     "name": "stdout",
     "output_type": "stream",
     "text": [
      "data = None\n"
     ]
    }
   ],
   "source": [
    "conn = pg2.connect(database=config_dict['database'], user=config_dict['user'], password=config_dict['password'])\n",
    "\n",
    "# View some data from db\n",
    "with conn.cursor() as cur:\n",
    "    cur.execute('SELECT * FROM book')\n",
    "    data = cur.fetchone()\n",
    "    print(f\"data = {data}\")"
   ]
  },
  {
   "cell_type": "markdown",
   "id": "8faa7569-b0d7-4d53-a43d-83cabfa08af7",
   "metadata": {
    "jp-MarkdownHeadingCollapsed": true
   },
   "source": [
    "## Filling the database tables"
   ]
  },
  {
   "cell_type": "code",
   "execution_count": 49,
   "id": "b8230a90-26b8-42eb-af8c-8c7d9989fddc",
   "metadata": {},
   "outputs": [],
   "source": [
    "faker = Faker()\n",
    "BATCH_SIZE = 200"
   ]
  },
  {
   "cell_type": "markdown",
   "id": "5ebc7154-bf91-414f-a31d-5743ce69b081",
   "metadata": {},
   "source": [
    "### user table"
   ]
  },
  {
   "cell_type": "markdown",
   "id": "74923884-9039-46ab-ae14-7bcdbd261d8b",
   "metadata": {
    "jp-MarkdownHeadingCollapsed": true
   },
   "source": [
    "#### Test insertion"
   ]
  },
  {
   "cell_type": "code",
   "execution_count": 28,
   "id": "3e552fb4-545d-4cc6-b912-d5b255ce2355",
   "metadata": {},
   "outputs": [
    {
     "name": "stdout",
     "output_type": "stream",
     "text": [
      "random_user = User(username='Oscar1', email='Oscar1@gmail.com', password='$2b$12$E0RjuejjJiqawWkw6SnrOOzfxRknyKwSBC1AcKqTjXrdlhPUC9o3u')\n",
      "user_id = 1\n"
     ]
    }
   ],
   "source": [
    "for index, row in users_df.iterrows():\n",
    "    user = generate_random_user(faker, row['user_id'])\n",
    "    print(f\"random_user = {user}\")\n",
    "    user_id = insert_into_user_table(conn, user)\n",
    "    print(f\"user_id = {user_id}\")\n",
    "    if user_id != row['user_id']:\n",
    "        print(f\"Error inserting data into table 'user': user_id ({user_id}) != row['user_id'] ({row['user_id']}).\")\n",
    "        break\n",
    "    break"
   ]
  },
  {
   "cell_type": "code",
   "execution_count": 29,
   "id": "8ef006d4-ec9a-4996-9a3b-38887711c549",
   "metadata": {},
   "outputs": [
    {
     "name": "stdout",
     "output_type": "stream",
     "text": [
      "random_user = User(username='Elizabeth2', email='Elizabeth2@gmail.com', password='$2b$12$37D/sQU.fu37Qldbs1ThZuFGwDz8YlYXQvByVrGIbTsGmy667EvSS')\n",
      "user_id = 2\n",
      "\n",
      "random_user = User(username='Jonathan3', email='Jonathan3@gmail.com', password='$2b$12$R78x9OFUQLL361jZ7lcDduMgkqejUY1tNaOTi18/jNdx8byq2CA1e')\n",
      "user_id = 3\n",
      "\n",
      "random_user = User(username='Christopher4', email='Christopher4@gmail.com', password='$2b$12$AkgAMzEXsomEsZET3/no5ucueKQW8oCUPnL1PhxOSesFKpqp/bw4G')\n",
      "user_id = 4\n",
      "\n",
      "random_user = User(username='Samuel5', email='Samuel5@gmail.com', password='$2b$12$VFWsILN4TF4hNpVwcHk7uOgTW0wbvo.VzYlNe3KSj5rnP0bnChju.')\n",
      "user_id = 5\n",
      "\n"
     ]
    }
   ],
   "source": [
    "start_index = 1\n",
    "end_index = 5\n",
    "current_users_df = users_df[start_index:end_index]\n",
    "for index, row in current_users_df.iterrows():\n",
    "    user = generate_random_user(faker, row['user_id'])\n",
    "    print(f\"random_user = {user}\")\n",
    "    user_id = insert_into_user_table(conn, user)\n",
    "    print(f\"user_id = {user_id}\")\n",
    "    if user_id != row['user_id']:\n",
    "        print(f\"Error inserting data into table 'user': user_id ({user_id}) != row['user_id'] ({row['user_id']}).\")\n",
    "        break\n",
    "    print(\"\")"
   ]
  },
  {
   "cell_type": "code",
   "execution_count": 30,
   "id": "3a1fae1b-c749-4abd-81ea-2ff448b9731b",
   "metadata": {},
   "outputs": [
    {
     "data": {
      "text/html": [
       "<div>\n",
       "<style scoped>\n",
       "    .dataframe tbody tr th:only-of-type {\n",
       "        vertical-align: middle;\n",
       "    }\n",
       "\n",
       "    .dataframe tbody tr th {\n",
       "        vertical-align: top;\n",
       "    }\n",
       "\n",
       "    .dataframe thead th {\n",
       "        text-align: right;\n",
       "    }\n",
       "</style>\n",
       "<table border=\"1\" class=\"dataframe\">\n",
       "  <thead>\n",
       "    <tr style=\"text-align: right;\">\n",
       "      <th></th>\n",
       "      <th>user_id</th>\n",
       "      <th>location</th>\n",
       "      <th>age</th>\n",
       "    </tr>\n",
       "  </thead>\n",
       "  <tbody>\n",
       "    <tr>\n",
       "      <th>5</th>\n",
       "      <td>6</td>\n",
       "      <td>santa monica, california, usa</td>\n",
       "      <td>61.0</td>\n",
       "    </tr>\n",
       "    <tr>\n",
       "      <th>6</th>\n",
       "      <td>7</td>\n",
       "      <td>washington, dc, usa</td>\n",
       "      <td>NaN</td>\n",
       "    </tr>\n",
       "    <tr>\n",
       "      <th>7</th>\n",
       "      <td>8</td>\n",
       "      <td>timmins, ontario, canada</td>\n",
       "      <td>NaN</td>\n",
       "    </tr>\n",
       "    <tr>\n",
       "      <th>8</th>\n",
       "      <td>9</td>\n",
       "      <td>germantown, tennessee, usa</td>\n",
       "      <td>NaN</td>\n",
       "    </tr>\n",
       "    <tr>\n",
       "      <th>9</th>\n",
       "      <td>10</td>\n",
       "      <td>albacete, wisconsin, spain</td>\n",
       "      <td>26.0</td>\n",
       "    </tr>\n",
       "  </tbody>\n",
       "</table>\n",
       "</div>"
      ],
      "text/plain": [
       "   user_id                       location   age\n",
       "5        6  santa monica, california, usa  61.0\n",
       "6        7            washington, dc, usa   NaN\n",
       "7        8       timmins, ontario, canada   NaN\n",
       "8        9     germantown, tennessee, usa   NaN\n",
       "9       10     albacete, wisconsin, spain  26.0"
      ]
     },
     "execution_count": 30,
     "metadata": {},
     "output_type": "execute_result"
    }
   ],
   "source": [
    "start_index = 5\n",
    "end_index = 10\n",
    "current_users_df = users_df[start_index:end_index]\n",
    "current_users_df"
   ]
  },
  {
   "cell_type": "code",
   "execution_count": 31,
   "id": "35d1c376-8244-4e01-a8c2-ffdf6fe1be9e",
   "metadata": {},
   "outputs": [
    {
     "name": "stdout",
     "output_type": "stream",
     "text": [
      "data = [(1, 'Oscar1', 'Oscar1@gmail.com', '$2b$12$E0RjuejjJiqawWkw6SnrOOzfxRknyKwSBC1AcKqTjXrdlhPUC9o3u'), (2, 'Elizabeth2', 'Elizabeth2@gmail.com', '$2b$12$37D/sQU.fu37Qldbs1ThZuFGwDz8YlYXQvByVrGIbTsGmy667EvSS'), (3, 'Jonathan3', 'Jonathan3@gmail.com', '$2b$12$R78x9OFUQLL361jZ7lcDduMgkqejUY1tNaOTi18/jNdx8byq2CA1e'), (4, 'Christopher4', 'Christopher4@gmail.com', '$2b$12$AkgAMzEXsomEsZET3/no5ucueKQW8oCUPnL1PhxOSesFKpqp/bw4G'), (5, 'Samuel5', 'Samuel5@gmail.com', '$2b$12$VFWsILN4TF4hNpVwcHk7uOgTW0wbvo.VzYlNe3KSj5rnP0bnChju.')]\n"
     ]
    }
   ],
   "source": [
    "# View some data from db\n",
    "with conn.cursor() as cur:\n",
    "    cur.execute('SELECT * FROM \"user\"')\n",
    "    data = cur.fetchall()\n",
    "    print(f\"data = {data}\")"
   ]
  },
  {
   "cell_type": "markdown",
   "id": "f173b192-05ad-4c57-88c0-ecfdbd26af9c",
   "metadata": {},
   "source": [
    "#### Continue data insertion"
   ]
  },
  {
   "cell_type": "code",
   "execution_count": 50,
   "id": "c64af72d-2973-4f02-8205-3cd5e8f466ff",
   "metadata": {},
   "outputs": [
    {
     "name": "stdout",
     "output_type": "stream",
     "text": [
      "200) 200 records successfully inserted into table 'user'!\n",
      "400) 200 records successfully inserted into table 'user'!\n",
      "600) 200 records successfully inserted into table 'user'!\n",
      "800) 200 records successfully inserted into table 'user'!\n",
      "1000) 200 records successfully inserted into table 'user'!\n",
      "Data insertion time:  3m  44s\n",
      "\n"
     ]
    }
   ],
   "source": [
    "start_index = 5\n",
    "end_index = 1000\n",
    "current_users_df = users_df[start_index:end_index]\n",
    "data_insertion_start_time = time.time()\n",
    "for index, row in current_users_df.iterrows():\n",
    "    user = generate_random_user(faker, row['user_id'])\n",
    "    user_id = insert_into_user_table(conn, user)\n",
    "    if user_id != row['user_id']:\n",
    "        print(f\"Error inserting data into table 'user': user_id ({user_id}) != row['user_id'] ({row['user_id']}).\")\n",
    "        break\n",
    "\n",
    "    if user_id % BATCH_SIZE == 0:\n",
    "        print(f\"{user_id}) {BATCH_SIZE} records successfully inserted into table 'user'!\")\n",
    "    \n",
    "data_insertion_duration = time.time() - data_insertion_start_time\n",
    "print(f\"Data insertion time: {data_insertion_duration // 60: .0f}m {data_insertion_duration % 60: .0f}s\\n\")"
   ]
  },
  {
   "cell_type": "code",
   "execution_count": 51,
   "id": "eb7cb809-21ce-43cc-8e4c-7a02280c0850",
   "metadata": {},
   "outputs": [
    {
     "name": "stdout",
     "output_type": "stream",
     "text": [
      "1200) 200 records successfully inserted into table 'user'!\n",
      "1400) 200 records successfully inserted into table 'user'!\n",
      "1600) 200 records successfully inserted into table 'user'!\n",
      "1800) 200 records successfully inserted into table 'user'!\n",
      "2000) 200 records successfully inserted into table 'user'!\n",
      "Data insertion time:  3m  45s\n",
      "\n"
     ]
    }
   ],
   "source": [
    "start_index = 1000\n",
    "end_index = 2000\n",
    "current_users_df = users_df[start_index:end_index]\n",
    "data_insertion_start_time = time.time()\n",
    "for index, row in current_users_df.iterrows():\n",
    "    user = generate_random_user(faker, row['user_id'])\n",
    "    user_id = insert_into_user_table(conn, user)\n",
    "    if user_id != row['user_id']:\n",
    "        print(f\"Error inserting data into table 'user': user_id ({user_id}) != row['user_id'] ({row['user_id']}).\")\n",
    "        break\n",
    "\n",
    "    if user_id % BATCH_SIZE == 0:\n",
    "        print(f\"{user_id}) {BATCH_SIZE} records successfully inserted into table 'user'!\")\n",
    "    \n",
    "data_insertion_duration = time.time() - data_insertion_start_time\n",
    "print(f\"Data insertion time: {data_insertion_duration // 60: .0f}m {data_insertion_duration % 60: .0f}s\\n\")"
   ]
  },
  {
   "cell_type": "markdown",
   "id": "a68a9ed1-6c9a-4c19-bc1b-669d4a9a21b3",
   "metadata": {},
   "source": [
    "### book table"
   ]
  },
  {
   "cell_type": "code",
   "execution_count": 32,
   "id": "93f95623-7a37-4f3d-ba41-82f5cbeeb4da",
   "metadata": {},
   "outputs": [
    {
     "data": {
      "text/plain": [
       "(271358, 6)"
      ]
     },
     "execution_count": 32,
     "metadata": {},
     "output_type": "execute_result"
    }
   ],
   "source": [
    "books_df.shape"
   ]
  },
  {
   "cell_type": "code",
   "execution_count": 41,
   "id": "f3dbc6aa-c84e-490d-b426-b6eb51b852c4",
   "metadata": {},
   "outputs": [
    {
     "data": {
      "text/html": [
       "<div>\n",
       "<style scoped>\n",
       "    .dataframe tbody tr th:only-of-type {\n",
       "        vertical-align: middle;\n",
       "    }\n",
       "\n",
       "    .dataframe tbody tr th {\n",
       "        vertical-align: top;\n",
       "    }\n",
       "\n",
       "    .dataframe thead th {\n",
       "        text-align: right;\n",
       "    }\n",
       "</style>\n",
       "<table border=\"1\" class=\"dataframe\">\n",
       "  <thead>\n",
       "    <tr style=\"text-align: right;\">\n",
       "      <th></th>\n",
       "      <th>isbn</th>\n",
       "      <th>title</th>\n",
       "      <th>author</th>\n",
       "      <th>publication_year</th>\n",
       "      <th>publisher</th>\n",
       "      <th>image_url</th>\n",
       "    </tr>\n",
       "  </thead>\n",
       "  <tbody>\n",
       "    <tr>\n",
       "      <th>0</th>\n",
       "      <td>0195153448</td>\n",
       "      <td>Classical Mythology</td>\n",
       "      <td>Mark P. O. Morford</td>\n",
       "      <td>2002</td>\n",
       "      <td>Oxford University Press</td>\n",
       "      <td>http://images.amazon.com/images/P/0195153448.0...</td>\n",
       "    </tr>\n",
       "    <tr>\n",
       "      <th>1</th>\n",
       "      <td>0002005018</td>\n",
       "      <td>Clara Callan</td>\n",
       "      <td>Richard Bruce Wright</td>\n",
       "      <td>2001</td>\n",
       "      <td>HarperFlamingo Canada</td>\n",
       "      <td>http://images.amazon.com/images/P/0002005018.0...</td>\n",
       "    </tr>\n",
       "  </tbody>\n",
       "</table>\n",
       "</div>"
      ],
      "text/plain": [
       "         isbn                title                author  publication_year  \\\n",
       "0  0195153448  Classical Mythology    Mark P. O. Morford              2002   \n",
       "1  0002005018         Clara Callan  Richard Bruce Wright              2001   \n",
       "\n",
       "                 publisher                                          image_url  \n",
       "0  Oxford University Press  http://images.amazon.com/images/P/0195153448.0...  \n",
       "1    HarperFlamingo Canada  http://images.amazon.com/images/P/0002005018.0...  "
      ]
     },
     "execution_count": 41,
     "metadata": {},
     "output_type": "execute_result"
    }
   ],
   "source": [
    "books_df.head(2)"
   ]
  },
  {
   "cell_type": "markdown",
   "id": "dbdc117a-001b-4b97-84ec-eb1d68791ae9",
   "metadata": {},
   "source": [
    "#### Test insertion"
   ]
  },
  {
   "cell_type": "code",
   "execution_count": 44,
   "id": "69a25b75-c26f-43a8-83eb-58fac6943f1d",
   "metadata": {},
   "outputs": [
    {
     "name": "stdout",
     "output_type": "stream",
     "text": [
      "book = Book(isbn='0195153448', title='Classical Mythology', author='Mark P. O. Morford', publication_year=2002, publisher='Oxford University Press', image_url='http://images.amazon.com/images/P/0195153448.01.MZZZZZZZ.jpg')\n",
      "Data successfully inserted into table 'book'!\n"
     ]
    }
   ],
   "source": [
    "for index, row in books_df.iterrows():\n",
    "    book = create_book(row)\n",
    "    print(f\"book = {book}\")\n",
    "    insert_into_book_table(conn, [book])\n",
    "    break"
   ]
  },
  {
   "cell_type": "code",
   "execution_count": 45,
   "id": "8a3a480d-869c-486b-b8f6-18bf48d7c8f7",
   "metadata": {},
   "outputs": [
    {
     "name": "stdout",
     "output_type": "stream",
     "text": [
      "book = Book(isbn='0002005018', title='Clara Callan', author='Richard Bruce Wright', publication_year=2001, publisher='HarperFlamingo Canada', image_url='http://images.amazon.com/images/P/0002005018.01.MZZZZZZZ.jpg')\n",
      "Data successfully inserted into table 'book'!\n",
      "\n",
      "book = Book(isbn='0060973129', title='Decision in Normandy', author=\"Carlo D'Este\", publication_year=1991, publisher='HarperPerennial', image_url='http://images.amazon.com/images/P/0060973129.01.MZZZZZZZ.jpg')\n",
      "Data successfully inserted into table 'book'!\n",
      "\n",
      "book = Book(isbn='0374157065', title='Flu: The Story of the Great Influenza Pandemic of 1918 and the Search for the Virus That Caused It', author='Gina Bari Kolata', publication_year=1999, publisher='Farrar Straus Giroux', image_url='http://images.amazon.com/images/P/0374157065.01.MZZZZZZZ.jpg')\n",
      "Data successfully inserted into table 'book'!\n",
      "\n",
      "book = Book(isbn='0393045218', title='The Mummies of Urumchi', author='E. J. W. Barber', publication_year=1999, publisher='W. W. Norton &amp; Company', image_url='http://images.amazon.com/images/P/0393045218.01.MZZZZZZZ.jpg')\n",
      "Data successfully inserted into table 'book'!\n",
      "\n"
     ]
    }
   ],
   "source": [
    "start_index = 1\n",
    "end_index = 5\n",
    "current_books_df = books_df[start_index:end_index]\n",
    "for index, row in current_books_df.iterrows():\n",
    "    book = create_book(row)\n",
    "    print(f\"book = {book}\")\n",
    "    insert_into_book_table(conn, [book])\n",
    "    print(\"\")"
   ]
  },
  {
   "cell_type": "markdown",
   "id": "bc8b096d-dd15-46d9-8d51-df8a0d1ae3c7",
   "metadata": {},
   "source": [
    "#### Continue data insertion"
   ]
  },
  {
   "cell_type": "code",
   "execution_count": 52,
   "id": "80755b0d-221c-4a12-a7b2-cbe8ec0d3c47",
   "metadata": {},
   "outputs": [
    {
     "name": "stdout",
     "output_type": "stream",
     "text": [
      "Data successfully inserted into table 'book'!\n",
      "\n",
      "Iteration №1 duration:  0m  0.041s\n",
      "Data successfully inserted into table 'book'!\n",
      "\n",
      "Iteration №2 duration:  0m  0.039s\n",
      "Data successfully inserted into table 'book'!\n",
      "\n",
      "Iteration №3 duration:  0m  0.038s\n",
      "Data successfully inserted into table 'book'!\n",
      "\n",
      "Iteration №4 duration:  0m  0.038s\n",
      "Data successfully inserted into table 'book'!\n",
      "\n",
      "Iteration №5 duration:  0m  0.037s\n",
      "Data insertion time:  0m  0s\n",
      "\n"
     ]
    }
   ],
   "source": [
    "start_index = 5\n",
    "total_records = 1000 # len(books_df)\n",
    "\n",
    "iteration = 0\n",
    "data_insertion_start_time = time.time()\n",
    "\n",
    "while start_index < total_records:\n",
    "    end_index = min(start_index + BATCH_SIZE, total_records)\n",
    "    batch_df = books_df.iloc[start_index:end_index]\n",
    "    books_list = []\n",
    "    \n",
    "    iteration_start_time = time.time()\n",
    "    for index, row in batch_df.iterrows():\n",
    "         \n",
    "        book_obj = create_book(row)\n",
    "        books_list.append(book_obj)\n",
    "    \n",
    "    insert_into_book_table(conn, books_list)\n",
    "    \n",
    "    iteration_duration = time.time() - iteration_start_time\n",
    "    print(f\"\\nIteration №{iteration + 1} duration: {iteration_duration // 60: .0f}m {iteration_duration % 60: .3f}s\")\n",
    "    \n",
    "    iteration += 1\n",
    "    start_index += BATCH_SIZE\n",
    "\n",
    "data_insertion_duration = time.time() - data_insertion_start_time\n",
    "print(f\"Data insertion time: {data_insertion_duration // 60: .0f}m {data_insertion_duration % 60: .3f}s\\n\")"
   ]
  },
  {
   "cell_type": "code",
   "execution_count": 53,
   "id": "0731a737-ea29-41f3-95d6-f4ccdcc5a09e",
   "metadata": {},
   "outputs": [],
   "source": [
    "conn.close()"
   ]
  }
 ],
 "metadata": {
  "kernelspec": {
   "display_name": "Python 3 (ipykernel)",
   "language": "python",
   "name": "python3"
  },
  "language_info": {
   "codemirror_mode": {
    "name": "ipython",
    "version": 3
   },
   "file_extension": ".py",
   "mimetype": "text/x-python",
   "name": "python",
   "nbconvert_exporter": "python",
   "pygments_lexer": "ipython3",
   "version": "3.10.8"
  }
 },
 "nbformat": 4,
 "nbformat_minor": 5
}
