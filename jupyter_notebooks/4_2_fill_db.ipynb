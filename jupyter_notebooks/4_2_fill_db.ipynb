{
 "cells": [
  {
   "cell_type": "code",
   "execution_count": 1,
   "id": "2d7957f7-7376-4a34-9771-573efecb950e",
   "metadata": {},
   "outputs": [],
   "source": [
    "import time\n",
    "from datetime import date\n",
    "\n",
    "import numpy as np\n",
    "import pandas as pd\n",
    "\n",
    "import matplotlib.pyplot as plt\n",
    "import seaborn as sns\n",
    "\n",
    "# to ignore warnings\n",
    "import warnings\n",
    "warnings.filterwarnings('ignore')"
   ]
  },
  {
   "cell_type": "markdown",
   "id": "f61367a3-8607-44e0-8cf2-f44aaa4372e4",
   "metadata": {},
   "source": [
    "## Read and check datasets"
   ]
  },
  {
   "cell_type": "code",
   "execution_count": 2,
   "id": "a6b667aa-07ea-4318-8950-5cb60e1747e6",
   "metadata": {},
   "outputs": [
    {
     "name": "stdout",
     "output_type": "stream",
     "text": [
      "books_df.shape = (271358, 6)\n",
      "users_df.shape = (278858, 3)\n",
      "ratings_df.shape = (1031136, 3)\n"
     ]
    }
   ],
   "source": [
    "books_df = pd.read_csv('../data/db_data/Books.csv')\n",
    "users_df = pd.read_csv('../data/db_data/Users.csv')\n",
    "ratings_df = pd.read_csv('../data/db_data/Ratings.csv')\n",
    "\n",
    "print(f\"books_df.shape = {books_df.shape}\")\n",
    "print(f\"users_df.shape = {users_df.shape}\")\n",
    "print(f\"ratings_df.shape = {ratings_df.shape}\")"
   ]
  },
  {
   "cell_type": "code",
   "execution_count": 3,
   "id": "6fcf3063-8437-4583-b6bc-d6ea17c89176",
   "metadata": {},
   "outputs": [
    {
     "name": "stdout",
     "output_type": "stream",
     "text": [
      "books_df['isbn_len'].unique() = [10]\n",
      "ratings_df['isbn_len'].unique() = [10]\n",
      "\n",
      "len(ratings_df) = 1031136\n"
     ]
    }
   ],
   "source": [
    "books_df['isbn_len'] = books_df['isbn'].apply(lambda x: len(x))\n",
    "ratings_df['isbn_len'] = ratings_df['isbn'].apply(lambda x: len(x))\n",
    "\n",
    "# There should be only 1 value - 10\n",
    "print(f\"books_df['isbn_len'].unique() = {books_df['isbn_len'].unique()}\")\n",
    "print(f\"ratings_df['isbn_len'].unique() = {ratings_df['isbn_len'].unique()}\\n\")\n",
    "\n",
    "books_df.drop('isbn_len', axis=1, inplace=True)\n",
    "ratings_df.drop('isbn_len', axis=1, inplace=True)\n",
    "\n",
    "# len(ratings_df) should be equal to 1031136\n",
    "print(f\"len(ratings_df) = {len(ratings_df)}\")"
   ]
  },
  {
   "cell_type": "markdown",
   "id": "e1452351-8422-497a-8b7d-6c7f0aa2cd94",
   "metadata": {},
   "source": [
    "## Datasets Analysis for SQL tables"
   ]
  },
  {
   "cell_type": "markdown",
   "id": "f9685533-c0b7-4f18-a7fb-3e40cc192e27",
   "metadata": {},
   "source": [
    "### books_df"
   ]
  },
  {
   "cell_type": "code",
   "execution_count": 4,
   "id": "2e48c75c-b6a7-438e-8c20-e8e527bd7ae2",
   "metadata": {},
   "outputs": [
    {
     "data": {
      "text/html": [
       "<div>\n",
       "<style scoped>\n",
       "    .dataframe tbody tr th:only-of-type {\n",
       "        vertical-align: middle;\n",
       "    }\n",
       "\n",
       "    .dataframe tbody tr th {\n",
       "        vertical-align: top;\n",
       "    }\n",
       "\n",
       "    .dataframe thead th {\n",
       "        text-align: right;\n",
       "    }\n",
       "</style>\n",
       "<table border=\"1\" class=\"dataframe\">\n",
       "  <thead>\n",
       "    <tr style=\"text-align: right;\">\n",
       "      <th></th>\n",
       "      <th>isbn</th>\n",
       "      <th>title</th>\n",
       "      <th>author</th>\n",
       "      <th>publication_year</th>\n",
       "      <th>publisher</th>\n",
       "      <th>image_url</th>\n",
       "    </tr>\n",
       "  </thead>\n",
       "  <tbody>\n",
       "    <tr>\n",
       "      <th>0</th>\n",
       "      <td>0195153448</td>\n",
       "      <td>Classical Mythology</td>\n",
       "      <td>Mark P. O. Morford</td>\n",
       "      <td>2002</td>\n",
       "      <td>Oxford University Press</td>\n",
       "      <td>http://images.amazon.com/images/P/0195153448.0...</td>\n",
       "    </tr>\n",
       "    <tr>\n",
       "      <th>1</th>\n",
       "      <td>0002005018</td>\n",
       "      <td>Clara Callan</td>\n",
       "      <td>Richard Bruce Wright</td>\n",
       "      <td>2001</td>\n",
       "      <td>HarperFlamingo Canada</td>\n",
       "      <td>http://images.amazon.com/images/P/0002005018.0...</td>\n",
       "    </tr>\n",
       "  </tbody>\n",
       "</table>\n",
       "</div>"
      ],
      "text/plain": [
       "         isbn                title                author  publication_year  \\\n",
       "0  0195153448  Classical Mythology    Mark P. O. Morford              2002   \n",
       "1  0002005018         Clara Callan  Richard Bruce Wright              2001   \n",
       "\n",
       "                 publisher                                          image_url  \n",
       "0  Oxford University Press  http://images.amazon.com/images/P/0195153448.0...  \n",
       "1    HarperFlamingo Canada  http://images.amazon.com/images/P/0002005018.0...  "
      ]
     },
     "execution_count": 4,
     "metadata": {},
     "output_type": "execute_result"
    }
   ],
   "source": [
    "books_df.head(2)"
   ]
  },
  {
   "cell_type": "code",
   "execution_count": 5,
   "id": "839ad609-9926-43dc-95ab-009eb4d2ebdf",
   "metadata": {},
   "outputs": [
    {
     "name": "stdout",
     "output_type": "stream",
     "text": [
      "<class 'pandas.core.frame.DataFrame'>\n",
      "RangeIndex: 271358 entries, 0 to 271357\n",
      "Data columns (total 6 columns):\n",
      " #   Column            Non-Null Count   Dtype \n",
      "---  ------            --------------   ----- \n",
      " 0   isbn              271358 non-null  object\n",
      " 1   title             271358 non-null  object\n",
      " 2   author            271358 non-null  object\n",
      " 3   publication_year  271358 non-null  int64 \n",
      " 4   publisher         271356 non-null  object\n",
      " 5   image_url         271358 non-null  object\n",
      "dtypes: int64(1), object(5)\n",
      "memory usage: 12.4+ MB\n"
     ]
    }
   ],
   "source": [
    "books_df.info()"
   ]
  },
  {
   "cell_type": "code",
   "execution_count": 11,
   "id": "b26ba4ec-d0a2-436c-a19b-f37691d16990",
   "metadata": {},
   "outputs": [
    {
     "data": {
      "text/plain": [
       "isbn          10\n",
       "title        256\n",
       "author       143\n",
       "publisher    134\n",
       "image_url     60\n",
       "dtype: int64"
      ]
     },
     "execution_count": 11,
     "metadata": {},
     "output_type": "execute_result"
    }
   ],
   "source": [
    "books_df_filled = books_df.fillna('')\n",
    "\n",
    "# Determine the maximum length of the record in each column with object data type\n",
    "max_length_series = books_df_filled.select_dtypes(include=['object']).applymap(len).max()\n",
    "\n",
    "max_length_series"
   ]
  },
  {
   "cell_type": "code",
   "execution_count": 13,
   "id": "f1e03afb-72a2-4c4a-a18b-8a1d7d43b569",
   "metadata": {},
   "outputs": [
    {
     "data": {
      "text/html": [
       "<div>\n",
       "<style scoped>\n",
       "    .dataframe tbody tr th:only-of-type {\n",
       "        vertical-align: middle;\n",
       "    }\n",
       "\n",
       "    .dataframe tbody tr th {\n",
       "        vertical-align: top;\n",
       "    }\n",
       "\n",
       "    .dataframe thead th {\n",
       "        text-align: right;\n",
       "    }\n",
       "</style>\n",
       "<table border=\"1\" class=\"dataframe\">\n",
       "  <thead>\n",
       "    <tr style=\"text-align: right;\">\n",
       "      <th></th>\n",
       "      <th>isbn</th>\n",
       "      <th>title</th>\n",
       "      <th>author</th>\n",
       "      <th>publication_year</th>\n",
       "      <th>publisher</th>\n",
       "      <th>image_url</th>\n",
       "    </tr>\n",
       "  </thead>\n",
       "  <tbody>\n",
       "    <tr>\n",
       "      <th>22</th>\n",
       "      <td>1879384493</td>\n",
       "      <td>If I'd Known Then What I Know Now: Why Not Lea...</td>\n",
       "      <td>J. R. Parrish</td>\n",
       "      <td>2003</td>\n",
       "      <td>Cypress House</td>\n",
       "      <td>http://images.amazon.com/images/P/1879384493.0...</td>\n",
       "    </tr>\n",
       "    <tr>\n",
       "      <th>101</th>\n",
       "      <td>0446677450</td>\n",
       "      <td>Rich Dad, Poor Dad: What the Rich Teach Their ...</td>\n",
       "      <td>Robert T. Kiyosaki</td>\n",
       "      <td>2000</td>\n",
       "      <td>Warner Books</td>\n",
       "      <td>http://images.amazon.com/images/P/0446677450.0...</td>\n",
       "    </tr>\n",
       "    <tr>\n",
       "      <th>106</th>\n",
       "      <td>0684822733</td>\n",
       "      <td>Love, Miracles, and Animal Healing : A heartwa...</td>\n",
       "      <td>Pam Proctor</td>\n",
       "      <td>1996</td>\n",
       "      <td>Fireside</td>\n",
       "      <td>http://images.amazon.com/images/P/0684822733.0...</td>\n",
       "    </tr>\n",
       "    <tr>\n",
       "      <th>159</th>\n",
       "      <td>0061030147</td>\n",
       "      <td>Cybill Disobedience: How I Survived Beauty Pag...</td>\n",
       "      <td>Cybill Shepherd</td>\n",
       "      <td>2001</td>\n",
       "      <td>Avon Books</td>\n",
       "      <td>http://images.amazon.com/images/P/0061030147.0...</td>\n",
       "    </tr>\n",
       "    <tr>\n",
       "      <th>276</th>\n",
       "      <td>0380730448</td>\n",
       "      <td>The Adrian Mole Diaries : The Secret Diary of ...</td>\n",
       "      <td>Sue Townsend</td>\n",
       "      <td>1997</td>\n",
       "      <td>Perennial</td>\n",
       "      <td>http://images.amazon.com/images/P/0380730448.0...</td>\n",
       "    </tr>\n",
       "    <tr>\n",
       "      <th>...</th>\n",
       "      <td>...</td>\n",
       "      <td>...</td>\n",
       "      <td>...</td>\n",
       "      <td>...</td>\n",
       "      <td>...</td>\n",
       "      <td>...</td>\n",
       "    </tr>\n",
       "    <tr>\n",
       "      <th>271241</th>\n",
       "      <td>0321196775</td>\n",
       "      <td>A Brief History of Western Civilization : The ...</td>\n",
       "      <td>Mark Kishlansky</td>\n",
       "      <td>2004</td>\n",
       "      <td>Longman</td>\n",
       "      <td>http://images.amazon.com/images/P/0321196775.0...</td>\n",
       "    </tr>\n",
       "    <tr>\n",
       "      <th>271283</th>\n",
       "      <td>1584857447</td>\n",
       "      <td>True Stories: Girls' Inspiring Stories of Cour...</td>\n",
       "      <td>Trula Magruder</td>\n",
       "      <td>2003</td>\n",
       "      <td>American Girl</td>\n",
       "      <td>http://images.amazon.com/images/P/1584857447.0...</td>\n",
       "    </tr>\n",
       "    <tr>\n",
       "      <th>271319</th>\n",
       "      <td>3453047192</td>\n",
       "      <td>Die amerikanische Zumutung: PlÃ¤doyers gegen d...</td>\n",
       "      <td>Rolf Winter</td>\n",
       "      <td>1990</td>\n",
       "      <td>W. Heyne</td>\n",
       "      <td>http://images.amazon.com/images/P/3453047192.0...</td>\n",
       "    </tr>\n",
       "    <tr>\n",
       "      <th>271327</th>\n",
       "      <td>8420614556</td>\n",
       "      <td>Lewis Carroll: A Traves Del Espejo Y Lo Que Al...</td>\n",
       "      <td>Lewis Carroll</td>\n",
       "      <td>1986</td>\n",
       "      <td>Lectorum Pubns (Adult)</td>\n",
       "      <td>http://images.amazon.com/images/P/8420614556.0...</td>\n",
       "    </tr>\n",
       "    <tr>\n",
       "      <th>271357</th>\n",
       "      <td>0767409752</td>\n",
       "      <td>A Guided Tour of Rene Descartes' Meditations o...</td>\n",
       "      <td>Christopher  Biffle</td>\n",
       "      <td>2000</td>\n",
       "      <td>McGraw-Hill Humanities/Social Sciences/Languages</td>\n",
       "      <td>http://images.amazon.com/images/P/0767409752.0...</td>\n",
       "    </tr>\n",
       "  </tbody>\n",
       "</table>\n",
       "<p>6824 rows × 6 columns</p>\n",
       "</div>"
      ],
      "text/plain": [
       "              isbn                                              title  \\\n",
       "22      1879384493  If I'd Known Then What I Know Now: Why Not Lea...   \n",
       "101     0446677450  Rich Dad, Poor Dad: What the Rich Teach Their ...   \n",
       "106     0684822733  Love, Miracles, and Animal Healing : A heartwa...   \n",
       "159     0061030147  Cybill Disobedience: How I Survived Beauty Pag...   \n",
       "276     0380730448  The Adrian Mole Diaries : The Secret Diary of ...   \n",
       "...            ...                                                ...   \n",
       "271241  0321196775  A Brief History of Western Civilization : The ...   \n",
       "271283  1584857447  True Stories: Girls' Inspiring Stories of Cour...   \n",
       "271319  3453047192  Die amerikanische Zumutung: PlÃ¤doyers gegen d...   \n",
       "271327  8420614556  Lewis Carroll: A Traves Del Espejo Y Lo Que Al...   \n",
       "271357  0767409752  A Guided Tour of Rene Descartes' Meditations o...   \n",
       "\n",
       "                     author  publication_year  \\\n",
       "22            J. R. Parrish              2003   \n",
       "101      Robert T. Kiyosaki              2000   \n",
       "106             Pam Proctor              1996   \n",
       "159         Cybill Shepherd              2001   \n",
       "276            Sue Townsend              1997   \n",
       "...                     ...               ...   \n",
       "271241      Mark Kishlansky              2004   \n",
       "271283       Trula Magruder              2003   \n",
       "271319          Rolf Winter              1990   \n",
       "271327        Lewis Carroll              1986   \n",
       "271357  Christopher  Biffle              2000   \n",
       "\n",
       "                                               publisher  \\\n",
       "22                                         Cypress House   \n",
       "101                                         Warner Books   \n",
       "106                                             Fireside   \n",
       "159                                           Avon Books   \n",
       "276                                            Perennial   \n",
       "...                                                  ...   \n",
       "271241                                           Longman   \n",
       "271283                                     American Girl   \n",
       "271319                                          W. Heyne   \n",
       "271327                            Lectorum Pubns (Adult)   \n",
       "271357  McGraw-Hill Humanities/Social Sciences/Languages   \n",
       "\n",
       "                                                image_url  \n",
       "22      http://images.amazon.com/images/P/1879384493.0...  \n",
       "101     http://images.amazon.com/images/P/0446677450.0...  \n",
       "106     http://images.amazon.com/images/P/0684822733.0...  \n",
       "159     http://images.amazon.com/images/P/0061030147.0...  \n",
       "276     http://images.amazon.com/images/P/0380730448.0...  \n",
       "...                                                   ...  \n",
       "271241  http://images.amazon.com/images/P/0321196775.0...  \n",
       "271283  http://images.amazon.com/images/P/1584857447.0...  \n",
       "271319  http://images.amazon.com/images/P/3453047192.0...  \n",
       "271327  http://images.amazon.com/images/P/8420614556.0...  \n",
       "271357  http://images.amazon.com/images/P/0767409752.0...  \n",
       "\n",
       "[6824 rows x 6 columns]"
      ]
     },
     "execution_count": 13,
     "metadata": {},
     "output_type": "execute_result"
    }
   ],
   "source": [
    "books_df[books_df['title'].apply(lambda title: len(title) >= 100)]"
   ]
  },
  {
   "cell_type": "code",
   "execution_count": 20,
   "id": "824d14f9-feda-46a3-8129-74cce90b71c0",
   "metadata": {},
   "outputs": [
    {
     "name": "stdout",
     "output_type": "stream",
     "text": [
      "1) title length: 200; title: Frankenstein: Complete, Authoritative Text With Biographical, Historical, and Cultural Contexts, Critical History, and Essays from Contemporary Critic ... tive (Case Studies in Contemporary Criticism)\n",
      "2) title length: 200; title: The Girlfriends' Guide to Surviving the First Year of Motherhood: Wise and Witty Advice on Everything from Coping With Postpartum Mood Swings to Salva ...  to  Fitting into That Favorite Pair of Jeans\n",
      "3) title length: 200; title: The House of Mirth: Complete, Authoritative Text With Biographical and Historical Contexts, Critical History, and Essays from Five Contemporary Critic ... ives (Case Studies in Contemporary Criticism)\n",
      "4) title length: 201; title: The American Country Inn And Bed &amp; Breakfast Cookbook, Volume I : More than 1,700 crowd-pleasing recipes from 500 American Inns (American Country Inn &amp; Bed &amp; Breakfast Cookbook (Hardcover))\n",
      "5) title length: 204; title: The New Strong's exhaustive concordance of the Bible: With main concordance, appendix to the main concordance, key verse comparison chart, dictionary of the Hebrew Bible, dictionary of the Greek Testament\n",
      "6) title length: 200; title: Don't Sweat the Small Stuff in Love : Simple Ways to Nurture, and Strengthen Your Relationships While Avoiding the Habits That Break Down Your Loving  ... tion (Don't Sweat the Small Stuff (Hyperion))\n",
      "7) title length: 200; title: Polish Cookery : Poland's bestselling cookbook adapted for American kitchens. Includes recipes for Mushroom-Barley Soup, Cucumber Salad, Bigos, Cheese ... Almond Babka. (Crown Classic Cookbook Series)\n",
      "8) title length: 253; title: The Book of the SubGenius : Being the Divine Wisdom, Guidance, and Prophecy of J.R. 'Bob' Dobbs, High Epopt of the Church of the SubGenius, Here Inscribed for the Salvation of Future Generations and in the Hope that Slack May Someday Reign on this Earth\n",
      "9) title length: 255; title: Claudius the god and his wife Messalina: The troublesome reign of Tiberius Claudius Caesar, Emperor of the Romans (born 10 B.C., died A.D. 54), as described by himself, also his murder at the hands of the notorious Agrippina (mother of the Emperor Nero) a\n",
      "10) title length: 205; title: The Awakening: Complete, Authoritative Text With Biographical &amp; Historical Contexts, Critical History, &amp; Essays from Five Contemporary Critica. Perspectives (Case Studies in Contemporary Criticism)\n"
     ]
    },
    {
     "data": {
      "text/plain": [
       "[None, None, None, None, None, None, None, None, None, None]"
      ]
     },
     "execution_count": 20,
     "metadata": {},
     "output_type": "execute_result"
    }
   ],
   "source": [
    "example_titles_no = 10\n",
    "example_long_titles = list(books_df[books_df['title'].apply(lambda title: len(title) >= 200)][:example_titles_no]['title'])\n",
    "\n",
    "[print(f\"{index + 1}) title length: {len(example_long_titles[index])}; title: {example_long_titles[index]}\") for index in range(example_titles_no)]"
   ]
  },
  {
   "cell_type": "code",
   "execution_count": 22,
   "id": "db0bb9f3-4610-4a8c-8286-f2409d289294",
   "metadata": {},
   "outputs": [
    {
     "name": "stdout",
     "output_type": "stream",
     "text": [
      "1) author name length: 122; author name: Based on the Larger Work'the Book of Garden Flowers'by G.a.R.Phillips Compiled by David Pycraft Illustrated by Joan Lupton\n",
      "2) author name length: 107; author name: Staceyann Chin, Dot Antoniades, Aileen Reyes, Meaghan Williams, Miriam Stanley, Amy Ouzoonian Kyrce Swenson\n",
      "3) author name length: 143; author name: Dale D. Johnson, Theodore Clymer, Roselmina Indrisano, Richard L. Venezky, James F. Baumann, Elfrieda Hiebert, and Marian Toth P. David Pearson\n"
     ]
    },
    {
     "data": {
      "text/plain": [
       "[None, None, None]"
      ]
     },
     "execution_count": 22,
     "metadata": {},
     "output_type": "execute_result"
    }
   ],
   "source": [
    "example_authors_no = 5\n",
    "\n",
    "example_long_authors = list(books_df[books_df['author'].apply(lambda author: len(author) >= 100)][:example_authors_no]['author'])\n",
    "example_authors_no = len(example_long_authors)\n",
    "\n",
    "[print(f\"{index + 1}) author name length: {len(example_long_authors[index])}; author name: {example_long_authors[index]}\") for index in range(example_authors_no)]"
   ]
  },
  {
   "cell_type": "code",
   "execution_count": 27,
   "id": "763fc79f-2ac0-4108-9ee8-55ea1253d998",
   "metadata": {},
   "outputs": [
    {
     "name": "stdout",
     "output_type": "stream",
     "text": [
      "1) publisher name length: 121; publisher name: Instituto Nacional de InvestigaÃ§Ã£o CientÃ­fica, Centro de Estudos ClÃ¡ssicos e HumanÃ­sticos da Universidade de Coimbra\n",
      "2) publisher name length: 134; publisher name: Published by Natural Heritage/Natural History Inc. for the Ontario Heritage Foundation, Ontario Ministry of Culture and Communications\n",
      "3) publisher name length: 115; publisher name: Narcissus Publications in association with Central Europe Review and Central and East European New Media Initiative\n"
     ]
    },
    {
     "data": {
      "text/plain": [
       "[None, None, None]"
      ]
     },
     "execution_count": 27,
     "metadata": {},
     "output_type": "execute_result"
    }
   ],
   "source": [
    "example_publishers_no = 5\n",
    "\n",
    "example_long_publishers = list(books_df[books_df['publisher'].apply(lambda publisher: len(publisher) >= 100 if type(publisher) != float else False)][:example_publishers_no]['publisher'])\n",
    "example_publishers_no = len(example_long_publishers)\n",
    "\n",
    "[print(f\"{index + 1}) publisher name length: {len(example_long_publishers[index])}; publisher name: {example_long_publishers[index]}\") for index in range(example_publishers_no)]"
   ]
  }
 ],
 "metadata": {
  "kernelspec": {
   "display_name": "Python 3 (ipykernel)",
   "language": "python",
   "name": "python3"
  },
  "language_info": {
   "codemirror_mode": {
    "name": "ipython",
    "version": 3
   },
   "file_extension": ".py",
   "mimetype": "text/x-python",
   "name": "python",
   "nbconvert_exporter": "python",
   "pygments_lexer": "ipython3",
   "version": "3.10.8"
  }
 },
 "nbformat": 4,
 "nbformat_minor": 5
}
