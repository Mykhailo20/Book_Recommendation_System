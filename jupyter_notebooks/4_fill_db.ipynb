{
 "cells": [
  {
   "cell_type": "code",
   "execution_count": 254,
   "id": "48e92efd-0dff-4f72-b5d4-c724e2f4d338",
   "metadata": {},
   "outputs": [],
   "source": [
    "import time\n",
    "from datetime import date\n",
    "\n",
    "import numpy as np\n",
    "import pandas as pd\n",
    "\n",
    "import matplotlib.pyplot as plt\n",
    "import seaborn as sns\n",
    "\n",
    "# to ignore warnings\n",
    "import warnings\n",
    "warnings.filterwarnings('ignore')"
   ]
  },
  {
   "cell_type": "markdown",
   "id": "8b013c91-0f9b-4d2a-8663-5f2c5792c13c",
   "metadata": {
    "jp-MarkdownHeadingCollapsed": true
   },
   "source": [
    "## Read and check datasets"
   ]
  },
  {
   "cell_type": "code",
   "execution_count": 180,
   "id": "89f29011-cdbe-48ff-8689-ecd7c669b96a",
   "metadata": {},
   "outputs": [
    {
     "name": "stdout",
     "output_type": "stream",
     "text": [
      "books_df.shape = (271360, 8)\n",
      "users_df.shape = (278858, 3)\n",
      "ratings_df.shape = (1149780, 3)\n"
     ]
    }
   ],
   "source": [
    "books_df = pd.read_csv('../data/processed_data/Books.csv')\n",
    "users_df = pd.read_csv('../data/processed_data/Users.csv')\n",
    "ratings_df = pd.read_csv('../data/processed_data/Ratings.csv')\n",
    "\n",
    "print(f\"books_df.shape = {books_df.shape}\")\n",
    "print(f\"users_df.shape = {users_df.shape}\")\n",
    "print(f\"ratings_df.shape = {ratings_df.shape}\")"
   ]
  },
  {
   "cell_type": "code",
   "execution_count": 150,
   "id": "7846e948-107a-44f8-9bee-080a0df28ead",
   "metadata": {},
   "outputs": [
    {
     "data": {
      "text/html": [
       "<div>\n",
       "<style scoped>\n",
       "    .dataframe tbody tr th:only-of-type {\n",
       "        vertical-align: middle;\n",
       "    }\n",
       "\n",
       "    .dataframe tbody tr th {\n",
       "        vertical-align: top;\n",
       "    }\n",
       "\n",
       "    .dataframe thead th {\n",
       "        text-align: right;\n",
       "    }\n",
       "</style>\n",
       "<table border=\"1\" class=\"dataframe\">\n",
       "  <thead>\n",
       "    <tr style=\"text-align: right;\">\n",
       "      <th></th>\n",
       "      <th>column</th>\n",
       "      <th>missing_count</th>\n",
       "      <th>missing_percentage</th>\n",
       "    </tr>\n",
       "  </thead>\n",
       "  <tbody>\n",
       "    <tr>\n",
       "      <th>0</th>\n",
       "      <td>isbn</td>\n",
       "      <td>0</td>\n",
       "      <td>0.000000</td>\n",
       "    </tr>\n",
       "    <tr>\n",
       "      <th>1</th>\n",
       "      <td>title</td>\n",
       "      <td>0</td>\n",
       "      <td>0.000000</td>\n",
       "    </tr>\n",
       "    <tr>\n",
       "      <th>2</th>\n",
       "      <td>author</td>\n",
       "      <td>0</td>\n",
       "      <td>0.000000</td>\n",
       "    </tr>\n",
       "    <tr>\n",
       "      <th>3</th>\n",
       "      <td>publication_year</td>\n",
       "      <td>0</td>\n",
       "      <td>0.000000</td>\n",
       "    </tr>\n",
       "    <tr>\n",
       "      <th>4</th>\n",
       "      <td>publisher</td>\n",
       "      <td>2</td>\n",
       "      <td>0.000737</td>\n",
       "    </tr>\n",
       "    <tr>\n",
       "      <th>5</th>\n",
       "      <td>image-url-s</td>\n",
       "      <td>0</td>\n",
       "      <td>0.000000</td>\n",
       "    </tr>\n",
       "    <tr>\n",
       "      <th>6</th>\n",
       "      <td>image-url-m</td>\n",
       "      <td>0</td>\n",
       "      <td>0.000000</td>\n",
       "    </tr>\n",
       "    <tr>\n",
       "      <th>7</th>\n",
       "      <td>image-url-l</td>\n",
       "      <td>0</td>\n",
       "      <td>0.000000</td>\n",
       "    </tr>\n",
       "  </tbody>\n",
       "</table>\n",
       "</div>"
      ],
      "text/plain": [
       "             column  missing_count  missing_percentage\n",
       "0              isbn              0            0.000000\n",
       "1             title              0            0.000000\n",
       "2            author              0            0.000000\n",
       "3  publication_year              0            0.000000\n",
       "4         publisher              2            0.000737\n",
       "5       image-url-s              0            0.000000\n",
       "6       image-url-m              0            0.000000\n",
       "7       image-url-l              0            0.000000"
      ]
     },
     "execution_count": 150,
     "metadata": {},
     "output_type": "execute_result"
    }
   ],
   "source": [
    "missing_info_df = pd.DataFrame({\n",
    "    'missing_count': books_df.isnull().sum(),\n",
    "    'missing_percentage': (books_df.isnull().sum() / len(books_df)) * 100\n",
    "}).reset_index().rename(columns={'index': 'column'})\n",
    "\n",
    "# author - 0, image-url-l - 0\n",
    "missing_info_df"
   ]
  },
  {
   "cell_type": "code",
   "execution_count": 119,
   "id": "82a81464-d723-47d4-8924-0402006396fe",
   "metadata": {},
   "outputs": [
    {
     "data": {
      "text/html": [
       "<div>\n",
       "<style scoped>\n",
       "    .dataframe tbody tr th:only-of-type {\n",
       "        vertical-align: middle;\n",
       "    }\n",
       "\n",
       "    .dataframe tbody tr th {\n",
       "        vertical-align: top;\n",
       "    }\n",
       "\n",
       "    .dataframe thead th {\n",
       "        text-align: right;\n",
       "    }\n",
       "</style>\n",
       "<table border=\"1\" class=\"dataframe\">\n",
       "  <thead>\n",
       "    <tr style=\"text-align: right;\">\n",
       "      <th></th>\n",
       "      <th>isbn</th>\n",
       "      <th>title</th>\n",
       "      <th>author</th>\n",
       "      <th>publication_year</th>\n",
       "      <th>publisher</th>\n",
       "      <th>image-url-s</th>\n",
       "      <th>image-url-m</th>\n",
       "      <th>image-url-l</th>\n",
       "    </tr>\n",
       "  </thead>\n",
       "  <tbody>\n",
       "  </tbody>\n",
       "</table>\n",
       "</div>"
      ],
      "text/plain": [
       "Empty DataFrame\n",
       "Columns: [isbn, title, author, publication_year, publisher, image-url-s, image-url-m, image-url-l]\n",
       "Index: []"
      ]
     },
     "execution_count": 119,
     "metadata": {},
     "output_type": "execute_result"
    }
   ],
   "source": [
    "# Should be zero records\n",
    "books_df[books_df['publication_year'] > date.today().year]"
   ]
  },
  {
   "cell_type": "code",
   "execution_count": 6,
   "id": "2ecb9aaf-3f68-441b-b771-df133afbe83f",
   "metadata": {},
   "outputs": [
    {
     "data": {
      "text/html": [
       "<div>\n",
       "<style scoped>\n",
       "    .dataframe tbody tr th:only-of-type {\n",
       "        vertical-align: middle;\n",
       "    }\n",
       "\n",
       "    .dataframe tbody tr th {\n",
       "        vertical-align: top;\n",
       "    }\n",
       "\n",
       "    .dataframe thead th {\n",
       "        text-align: right;\n",
       "    }\n",
       "</style>\n",
       "<table border=\"1\" class=\"dataframe\">\n",
       "  <thead>\n",
       "    <tr style=\"text-align: right;\">\n",
       "      <th></th>\n",
       "      <th>isbn</th>\n",
       "      <th>title</th>\n",
       "      <th>author</th>\n",
       "      <th>publication_year</th>\n",
       "      <th>publisher</th>\n",
       "      <th>image-url-s</th>\n",
       "      <th>image-url-m</th>\n",
       "      <th>image-url-l</th>\n",
       "    </tr>\n",
       "  </thead>\n",
       "  <tbody>\n",
       "    <tr>\n",
       "      <th>0</th>\n",
       "      <td>0195153448</td>\n",
       "      <td>Classical Mythology</td>\n",
       "      <td>Mark P. O. Morford</td>\n",
       "      <td>2002</td>\n",
       "      <td>Oxford University Press</td>\n",
       "      <td>http://images.amazon.com/images/P/0195153448.0...</td>\n",
       "      <td>http://images.amazon.com/images/P/0195153448.0...</td>\n",
       "      <td>http://images.amazon.com/images/P/0195153448.0...</td>\n",
       "    </tr>\n",
       "    <tr>\n",
       "      <th>1</th>\n",
       "      <td>0002005018</td>\n",
       "      <td>Clara Callan</td>\n",
       "      <td>Richard Bruce Wright</td>\n",
       "      <td>2001</td>\n",
       "      <td>HarperFlamingo Canada</td>\n",
       "      <td>http://images.amazon.com/images/P/0002005018.0...</td>\n",
       "      <td>http://images.amazon.com/images/P/0002005018.0...</td>\n",
       "      <td>http://images.amazon.com/images/P/0002005018.0...</td>\n",
       "    </tr>\n",
       "  </tbody>\n",
       "</table>\n",
       "</div>"
      ],
      "text/plain": [
       "         isbn                title                author  publication_year  \\\n",
       "0  0195153448  Classical Mythology    Mark P. O. Morford              2002   \n",
       "1  0002005018         Clara Callan  Richard Bruce Wright              2001   \n",
       "\n",
       "                 publisher                                        image-url-s  \\\n",
       "0  Oxford University Press  http://images.amazon.com/images/P/0195153448.0...   \n",
       "1    HarperFlamingo Canada  http://images.amazon.com/images/P/0002005018.0...   \n",
       "\n",
       "                                         image-url-m  \\\n",
       "0  http://images.amazon.com/images/P/0195153448.0...   \n",
       "1  http://images.amazon.com/images/P/0002005018.0...   \n",
       "\n",
       "                                         image-url-l  \n",
       "0  http://images.amazon.com/images/P/0195153448.0...  \n",
       "1  http://images.amazon.com/images/P/0002005018.0...  "
      ]
     },
     "execution_count": 6,
     "metadata": {},
     "output_type": "execute_result"
    }
   ],
   "source": [
    "books_df.head(2)"
   ]
  },
  {
   "cell_type": "code",
   "execution_count": 7,
   "id": "a99c745d-815d-4ca5-8242-dd8a1f512226",
   "metadata": {},
   "outputs": [
    {
     "data": {
      "text/html": [
       "<div>\n",
       "<style scoped>\n",
       "    .dataframe tbody tr th:only-of-type {\n",
       "        vertical-align: middle;\n",
       "    }\n",
       "\n",
       "    .dataframe tbody tr th {\n",
       "        vertical-align: top;\n",
       "    }\n",
       "\n",
       "    .dataframe thead th {\n",
       "        text-align: right;\n",
       "    }\n",
       "</style>\n",
       "<table border=\"1\" class=\"dataframe\">\n",
       "  <thead>\n",
       "    <tr style=\"text-align: right;\">\n",
       "      <th></th>\n",
       "      <th>user_id</th>\n",
       "      <th>location</th>\n",
       "      <th>age</th>\n",
       "    </tr>\n",
       "  </thead>\n",
       "  <tbody>\n",
       "    <tr>\n",
       "      <th>0</th>\n",
       "      <td>1</td>\n",
       "      <td>nyc, new york, usa</td>\n",
       "      <td>NaN</td>\n",
       "    </tr>\n",
       "    <tr>\n",
       "      <th>1</th>\n",
       "      <td>2</td>\n",
       "      <td>stockton, california, usa</td>\n",
       "      <td>18.0</td>\n",
       "    </tr>\n",
       "  </tbody>\n",
       "</table>\n",
       "</div>"
      ],
      "text/plain": [
       "   user_id                   location   age\n",
       "0        1         nyc, new york, usa   NaN\n",
       "1        2  stockton, california, usa  18.0"
      ]
     },
     "execution_count": 7,
     "metadata": {},
     "output_type": "execute_result"
    }
   ],
   "source": [
    "users_df.head(2)"
   ]
  },
  {
   "cell_type": "code",
   "execution_count": 8,
   "id": "d8e872e1-9e75-45d7-a650-0140e21f0f02",
   "metadata": {},
   "outputs": [
    {
     "data": {
      "text/html": [
       "<div>\n",
       "<style scoped>\n",
       "    .dataframe tbody tr th:only-of-type {\n",
       "        vertical-align: middle;\n",
       "    }\n",
       "\n",
       "    .dataframe tbody tr th {\n",
       "        vertical-align: top;\n",
       "    }\n",
       "\n",
       "    .dataframe thead th {\n",
       "        text-align: right;\n",
       "    }\n",
       "</style>\n",
       "<table border=\"1\" class=\"dataframe\">\n",
       "  <thead>\n",
       "    <tr style=\"text-align: right;\">\n",
       "      <th></th>\n",
       "      <th>user_id</th>\n",
       "      <th>isbn</th>\n",
       "      <th>rating</th>\n",
       "    </tr>\n",
       "  </thead>\n",
       "  <tbody>\n",
       "    <tr>\n",
       "      <th>0</th>\n",
       "      <td>276725</td>\n",
       "      <td>034545104X</td>\n",
       "      <td>0</td>\n",
       "    </tr>\n",
       "    <tr>\n",
       "      <th>1</th>\n",
       "      <td>276726</td>\n",
       "      <td>0155061224</td>\n",
       "      <td>5</td>\n",
       "    </tr>\n",
       "  </tbody>\n",
       "</table>\n",
       "</div>"
      ],
      "text/plain": [
       "   user_id        isbn  rating\n",
       "0   276725  034545104X       0\n",
       "1   276726  0155061224       5"
      ]
     },
     "execution_count": 8,
     "metadata": {},
     "output_type": "execute_result"
    }
   ],
   "source": [
    "ratings_df.head(2)"
   ]
  },
  {
   "cell_type": "markdown",
   "id": "1105d94a-3234-48ee-81cc-8679d33625ec",
   "metadata": {},
   "source": [
    "## Datasets Analysis for SQL tables"
   ]
  },
  {
   "cell_type": "markdown",
   "id": "1697db3d-8c4c-4073-b14e-e687310d1ce2",
   "metadata": {},
   "source": [
    "### books_df"
   ]
  },
  {
   "cell_type": "code",
   "execution_count": 181,
   "id": "6808edc6-f173-4372-a48b-253a3a934389",
   "metadata": {},
   "outputs": [
    {
     "data": {
      "text/html": [
       "<div>\n",
       "<style scoped>\n",
       "    .dataframe tbody tr th:only-of-type {\n",
       "        vertical-align: middle;\n",
       "    }\n",
       "\n",
       "    .dataframe tbody tr th {\n",
       "        vertical-align: top;\n",
       "    }\n",
       "\n",
       "    .dataframe thead th {\n",
       "        text-align: right;\n",
       "    }\n",
       "</style>\n",
       "<table border=\"1\" class=\"dataframe\">\n",
       "  <thead>\n",
       "    <tr style=\"text-align: right;\">\n",
       "      <th></th>\n",
       "      <th>isbn</th>\n",
       "      <th>title</th>\n",
       "      <th>author</th>\n",
       "      <th>publication_year</th>\n",
       "      <th>publisher</th>\n",
       "      <th>image-url-s</th>\n",
       "      <th>image-url-m</th>\n",
       "      <th>image-url-l</th>\n",
       "    </tr>\n",
       "  </thead>\n",
       "  <tbody>\n",
       "    <tr>\n",
       "      <th>0</th>\n",
       "      <td>0195153448</td>\n",
       "      <td>Classical Mythology</td>\n",
       "      <td>Mark P. O. Morford</td>\n",
       "      <td>2002</td>\n",
       "      <td>Oxford University Press</td>\n",
       "      <td>http://images.amazon.com/images/P/0195153448.0...</td>\n",
       "      <td>http://images.amazon.com/images/P/0195153448.0...</td>\n",
       "      <td>http://images.amazon.com/images/P/0195153448.0...</td>\n",
       "    </tr>\n",
       "    <tr>\n",
       "      <th>1</th>\n",
       "      <td>0002005018</td>\n",
       "      <td>Clara Callan</td>\n",
       "      <td>Richard Bruce Wright</td>\n",
       "      <td>2001</td>\n",
       "      <td>HarperFlamingo Canada</td>\n",
       "      <td>http://images.amazon.com/images/P/0002005018.0...</td>\n",
       "      <td>http://images.amazon.com/images/P/0002005018.0...</td>\n",
       "      <td>http://images.amazon.com/images/P/0002005018.0...</td>\n",
       "    </tr>\n",
       "  </tbody>\n",
       "</table>\n",
       "</div>"
      ],
      "text/plain": [
       "         isbn                title                author  publication_year  \\\n",
       "0  0195153448  Classical Mythology    Mark P. O. Morford              2002   \n",
       "1  0002005018         Clara Callan  Richard Bruce Wright              2001   \n",
       "\n",
       "                 publisher                                        image-url-s  \\\n",
       "0  Oxford University Press  http://images.amazon.com/images/P/0195153448.0...   \n",
       "1    HarperFlamingo Canada  http://images.amazon.com/images/P/0002005018.0...   \n",
       "\n",
       "                                         image-url-m  \\\n",
       "0  http://images.amazon.com/images/P/0195153448.0...   \n",
       "1  http://images.amazon.com/images/P/0002005018.0...   \n",
       "\n",
       "                                         image-url-l  \n",
       "0  http://images.amazon.com/images/P/0195153448.0...  \n",
       "1  http://images.amazon.com/images/P/0002005018.0...  "
      ]
     },
     "execution_count": 181,
     "metadata": {},
     "output_type": "execute_result"
    }
   ],
   "source": [
    "books_df.head(2)"
   ]
  },
  {
   "cell_type": "code",
   "execution_count": 182,
   "id": "6e3ac127-3ab5-4767-b1d4-51dcf4e18ac3",
   "metadata": {},
   "outputs": [
    {
     "name": "stdout",
     "output_type": "stream",
     "text": [
      "<class 'pandas.core.frame.DataFrame'>\n",
      "RangeIndex: 271360 entries, 0 to 271359\n",
      "Data columns (total 8 columns):\n",
      " #   Column            Non-Null Count   Dtype \n",
      "---  ------            --------------   ----- \n",
      " 0   isbn              271360 non-null  object\n",
      " 1   title             271360 non-null  object\n",
      " 2   author            271360 non-null  object\n",
      " 3   publication_year  271360 non-null  int64 \n",
      " 4   publisher         271358 non-null  object\n",
      " 5   image-url-s       271360 non-null  object\n",
      " 6   image-url-m       271360 non-null  object\n",
      " 7   image-url-l       271360 non-null  object\n",
      "dtypes: int64(1), object(7)\n",
      "memory usage: 16.6+ MB\n"
     ]
    }
   ],
   "source": [
    "books_df.info()"
   ]
  },
  {
   "cell_type": "code",
   "execution_count": 183,
   "id": "17b6959a-59d9-4972-84db-abee1692813e",
   "metadata": {},
   "outputs": [
    {
     "data": {
      "text/html": [
       "<div>\n",
       "<style scoped>\n",
       "    .dataframe tbody tr th:only-of-type {\n",
       "        vertical-align: middle;\n",
       "    }\n",
       "\n",
       "    .dataframe tbody tr th {\n",
       "        vertical-align: top;\n",
       "    }\n",
       "\n",
       "    .dataframe thead th {\n",
       "        text-align: right;\n",
       "    }\n",
       "</style>\n",
       "<table border=\"1\" class=\"dataframe\">\n",
       "  <thead>\n",
       "    <tr style=\"text-align: right;\">\n",
       "      <th></th>\n",
       "      <th>column</th>\n",
       "      <th>missing_count</th>\n",
       "      <th>missing_percentage</th>\n",
       "    </tr>\n",
       "  </thead>\n",
       "  <tbody>\n",
       "    <tr>\n",
       "      <th>0</th>\n",
       "      <td>isbn</td>\n",
       "      <td>0</td>\n",
       "      <td>0.000000</td>\n",
       "    </tr>\n",
       "    <tr>\n",
       "      <th>1</th>\n",
       "      <td>title</td>\n",
       "      <td>0</td>\n",
       "      <td>0.000000</td>\n",
       "    </tr>\n",
       "    <tr>\n",
       "      <th>2</th>\n",
       "      <td>author</td>\n",
       "      <td>0</td>\n",
       "      <td>0.000000</td>\n",
       "    </tr>\n",
       "    <tr>\n",
       "      <th>3</th>\n",
       "      <td>publication_year</td>\n",
       "      <td>0</td>\n",
       "      <td>0.000000</td>\n",
       "    </tr>\n",
       "    <tr>\n",
       "      <th>4</th>\n",
       "      <td>publisher</td>\n",
       "      <td>2</td>\n",
       "      <td>0.000737</td>\n",
       "    </tr>\n",
       "    <tr>\n",
       "      <th>5</th>\n",
       "      <td>image-url-s</td>\n",
       "      <td>0</td>\n",
       "      <td>0.000000</td>\n",
       "    </tr>\n",
       "    <tr>\n",
       "      <th>6</th>\n",
       "      <td>image-url-m</td>\n",
       "      <td>0</td>\n",
       "      <td>0.000000</td>\n",
       "    </tr>\n",
       "    <tr>\n",
       "      <th>7</th>\n",
       "      <td>image-url-l</td>\n",
       "      <td>0</td>\n",
       "      <td>0.000000</td>\n",
       "    </tr>\n",
       "  </tbody>\n",
       "</table>\n",
       "</div>"
      ],
      "text/plain": [
       "             column  missing_count  missing_percentage\n",
       "0              isbn              0            0.000000\n",
       "1             title              0            0.000000\n",
       "2            author              0            0.000000\n",
       "3  publication_year              0            0.000000\n",
       "4         publisher              2            0.000737\n",
       "5       image-url-s              0            0.000000\n",
       "6       image-url-m              0            0.000000\n",
       "7       image-url-l              0            0.000000"
      ]
     },
     "execution_count": 183,
     "metadata": {},
     "output_type": "execute_result"
    }
   ],
   "source": [
    "missing_info_df = pd.DataFrame({\n",
    "    'missing_count': books_df.isnull().sum(),\n",
    "    'missing_percentage': (books_df.isnull().sum() / len(books_df)) * 100\n",
    "}).reset_index().rename(columns={'index': 'column'})\n",
    "\n",
    "missing_info_df"
   ]
  },
  {
   "cell_type": "markdown",
   "id": "315c1ccf-eb8d-4bdb-8864-343c5d20d01b",
   "metadata": {},
   "source": [
    "For the book table of the database, all the fields of the books dataset will be used, but the book table will have only one field 'image', which will contain the values of the column 'image-url-m'."
   ]
  },
  {
   "cell_type": "code",
   "execution_count": 184,
   "id": "be9a54dc-2078-4de2-ba05-26e58da3a6be",
   "metadata": {},
   "outputs": [
    {
     "data": {
      "text/html": [
       "<div>\n",
       "<style scoped>\n",
       "    .dataframe tbody tr th:only-of-type {\n",
       "        vertical-align: middle;\n",
       "    }\n",
       "\n",
       "    .dataframe tbody tr th {\n",
       "        vertical-align: top;\n",
       "    }\n",
       "\n",
       "    .dataframe thead th {\n",
       "        text-align: right;\n",
       "    }\n",
       "</style>\n",
       "<table border=\"1\" class=\"dataframe\">\n",
       "  <thead>\n",
       "    <tr style=\"text-align: right;\">\n",
       "      <th></th>\n",
       "      <th>isbn</th>\n",
       "      <th>title</th>\n",
       "      <th>author</th>\n",
       "      <th>publication_year</th>\n",
       "      <th>publisher</th>\n",
       "      <th>image_url</th>\n",
       "    </tr>\n",
       "  </thead>\n",
       "  <tbody>\n",
       "    <tr>\n",
       "      <th>0</th>\n",
       "      <td>0195153448</td>\n",
       "      <td>Classical Mythology</td>\n",
       "      <td>Mark P. O. Morford</td>\n",
       "      <td>2002</td>\n",
       "      <td>Oxford University Press</td>\n",
       "      <td>http://images.amazon.com/images/P/0195153448.0...</td>\n",
       "    </tr>\n",
       "    <tr>\n",
       "      <th>1</th>\n",
       "      <td>0002005018</td>\n",
       "      <td>Clara Callan</td>\n",
       "      <td>Richard Bruce Wright</td>\n",
       "      <td>2001</td>\n",
       "      <td>HarperFlamingo Canada</td>\n",
       "      <td>http://images.amazon.com/images/P/0002005018.0...</td>\n",
       "    </tr>\n",
       "  </tbody>\n",
       "</table>\n",
       "</div>"
      ],
      "text/plain": [
       "         isbn                title                author  publication_year  \\\n",
       "0  0195153448  Classical Mythology    Mark P. O. Morford              2002   \n",
       "1  0002005018         Clara Callan  Richard Bruce Wright              2001   \n",
       "\n",
       "                 publisher                                          image_url  \n",
       "0  Oxford University Press  http://images.amazon.com/images/P/0195153448.0...  \n",
       "1    HarperFlamingo Canada  http://images.amazon.com/images/P/0002005018.0...  "
      ]
     },
     "execution_count": 184,
     "metadata": {},
     "output_type": "execute_result"
    }
   ],
   "source": [
    "books_df.drop(['image-url-s', 'image-url-l'], axis=1, inplace=True)\n",
    "books_df.rename(columns={'image-url-m': 'image_url'}, inplace=True)\n",
    "books_df.head(2)"
   ]
  },
  {
   "cell_type": "markdown",
   "id": "0009cfc9-f1ea-41f1-8761-1b326aff9bca",
   "metadata": {},
   "source": [
    "#### Explore the isbn column"
   ]
  },
  {
   "cell_type": "markdown",
   "id": "30763444-3da9-4775-8017-ceb75ef3509e",
   "metadata": {},
   "source": [
    "First, we should make sure that all entries in the 'isbn' field have the same length."
   ]
  },
  {
   "cell_type": "code",
   "execution_count": 185,
   "id": "3e1217d4-7efe-45eb-991f-c863fb3a1368",
   "metadata": {},
   "outputs": [
    {
     "data": {
      "text/html": [
       "<div>\n",
       "<style scoped>\n",
       "    .dataframe tbody tr th:only-of-type {\n",
       "        vertical-align: middle;\n",
       "    }\n",
       "\n",
       "    .dataframe tbody tr th {\n",
       "        vertical-align: top;\n",
       "    }\n",
       "\n",
       "    .dataframe thead th {\n",
       "        text-align: right;\n",
       "    }\n",
       "</style>\n",
       "<table border=\"1\" class=\"dataframe\">\n",
       "  <thead>\n",
       "    <tr style=\"text-align: right;\">\n",
       "      <th></th>\n",
       "      <th>isbn</th>\n",
       "      <th>title</th>\n",
       "      <th>author</th>\n",
       "      <th>publication_year</th>\n",
       "      <th>publisher</th>\n",
       "      <th>image_url</th>\n",
       "      <th>isbn_len</th>\n",
       "    </tr>\n",
       "  </thead>\n",
       "  <tbody>\n",
       "    <tr>\n",
       "      <th>0</th>\n",
       "      <td>0195153448</td>\n",
       "      <td>Classical Mythology</td>\n",
       "      <td>Mark P. O. Morford</td>\n",
       "      <td>2002</td>\n",
       "      <td>Oxford University Press</td>\n",
       "      <td>http://images.amazon.com/images/P/0195153448.0...</td>\n",
       "      <td>10</td>\n",
       "    </tr>\n",
       "    <tr>\n",
       "      <th>1</th>\n",
       "      <td>0002005018</td>\n",
       "      <td>Clara Callan</td>\n",
       "      <td>Richard Bruce Wright</td>\n",
       "      <td>2001</td>\n",
       "      <td>HarperFlamingo Canada</td>\n",
       "      <td>http://images.amazon.com/images/P/0002005018.0...</td>\n",
       "      <td>10</td>\n",
       "    </tr>\n",
       "  </tbody>\n",
       "</table>\n",
       "</div>"
      ],
      "text/plain": [
       "         isbn                title                author  publication_year  \\\n",
       "0  0195153448  Classical Mythology    Mark P. O. Morford              2002   \n",
       "1  0002005018         Clara Callan  Richard Bruce Wright              2001   \n",
       "\n",
       "                 publisher                                          image_url  \\\n",
       "0  Oxford University Press  http://images.amazon.com/images/P/0195153448.0...   \n",
       "1    HarperFlamingo Canada  http://images.amazon.com/images/P/0002005018.0...   \n",
       "\n",
       "   isbn_len  \n",
       "0        10  \n",
       "1        10  "
      ]
     },
     "execution_count": 185,
     "metadata": {},
     "output_type": "execute_result"
    }
   ],
   "source": [
    "books_df['isbn_len'] = books_df['isbn'].apply(lambda x: len(x))\n",
    "books_df.head(2)"
   ]
  },
  {
   "cell_type": "code",
   "execution_count": 186,
   "id": "a294ed60-c281-4cee-8d63-b1d56aa21f30",
   "metadata": {},
   "outputs": [
    {
     "name": "stdout",
     "output_type": "stream",
     "text": [
      "books_df['isbn_len'].unique() = [10 11 13]\n"
     ]
    }
   ],
   "source": [
    "print(f\"books_df['isbn_len'].unique() = {books_df['isbn_len'].unique()}\")"
   ]
  },
  {
   "cell_type": "code",
   "execution_count": 187,
   "id": "e99a6d11-433f-4ae4-a417-b0e133dafb72",
   "metadata": {},
   "outputs": [
    {
     "name": "stdout",
     "output_type": "stream",
     "text": [
      "len(books_df[books_df['isbn_len'] == 10]) = 271356\n",
      "len(books_df[books_df['isbn_len'] == 11]) = 1\n",
      "len(books_df[books_df['isbn_len'] == 13]) = 3\n"
     ]
    }
   ],
   "source": [
    "print(f\"len(books_df[books_df['isbn_len'] == 10]) = {len(books_df[books_df['isbn_len'] == 10])}\")\n",
    "print(f\"len(books_df[books_df['isbn_len'] == 11]) = {len(books_df[books_df['isbn_len'] == 11])}\")\n",
    "print(f\"len(books_df[books_df['isbn_len'] == 13]) = {len(books_df[books_df['isbn_len'] == 13])}\")"
   ]
  },
  {
   "cell_type": "markdown",
   "id": "8a73192c-99ed-427d-9d92-47ce523baf6e",
   "metadata": {},
   "source": [
    "Let's consider books whose isbn contains more than 10 characters"
   ]
  },
  {
   "cell_type": "code",
   "execution_count": 188,
   "id": "1e0b8ee0-a360-4697-9c81-0e5076326987",
   "metadata": {},
   "outputs": [
    {
     "data": {
      "text/html": [
       "<div>\n",
       "<style scoped>\n",
       "    .dataframe tbody tr th:only-of-type {\n",
       "        vertical-align: middle;\n",
       "    }\n",
       "\n",
       "    .dataframe tbody tr th {\n",
       "        vertical-align: top;\n",
       "    }\n",
       "\n",
       "    .dataframe thead th {\n",
       "        text-align: right;\n",
       "    }\n",
       "</style>\n",
       "<table border=\"1\" class=\"dataframe\">\n",
       "  <thead>\n",
       "    <tr style=\"text-align: right;\">\n",
       "      <th></th>\n",
       "      <th>isbn</th>\n",
       "      <th>title</th>\n",
       "      <th>author</th>\n",
       "      <th>publication_year</th>\n",
       "      <th>publisher</th>\n",
       "      <th>image_url</th>\n",
       "      <th>isbn_len</th>\n",
       "    </tr>\n",
       "  </thead>\n",
       "  <tbody>\n",
       "    <tr>\n",
       "      <th>111808</th>\n",
       "      <td>0486404242\\t</td>\n",
       "      <td>War in Kind: And Other Poems (Dover Thrift Edi...</td>\n",
       "      <td>Stephen Crane</td>\n",
       "      <td>1998</td>\n",
       "      <td>Dover Publications</td>\n",
       "      <td>http://images.amazon.com/images/P/0486404242.0...</td>\n",
       "      <td>11</td>\n",
       "    </tr>\n",
       "  </tbody>\n",
       "</table>\n",
       "</div>"
      ],
      "text/plain": [
       "                isbn                                              title  \\\n",
       "111808  0486404242\\t  War in Kind: And Other Poems (Dover Thrift Edi...   \n",
       "\n",
       "               author  publication_year           publisher  \\\n",
       "111808  Stephen Crane              1998  Dover Publications   \n",
       "\n",
       "                                                image_url  isbn_len  \n",
       "111808  http://images.amazon.com/images/P/0486404242.0...        11  "
      ]
     },
     "execution_count": 188,
     "metadata": {},
     "output_type": "execute_result"
    }
   ],
   "source": [
    "books_df[books_df['isbn_len'] == 11]"
   ]
  },
  {
   "cell_type": "code",
   "execution_count": 189,
   "id": "3d97b1ed-1311-4bbb-acfa-56021b925954",
   "metadata": {},
   "outputs": [
    {
     "data": {
      "text/html": [
       "<div>\n",
       "<style scoped>\n",
       "    .dataframe tbody tr th:only-of-type {\n",
       "        vertical-align: middle;\n",
       "    }\n",
       "\n",
       "    .dataframe tbody tr th {\n",
       "        vertical-align: top;\n",
       "    }\n",
       "\n",
       "    .dataframe thead th {\n",
       "        text-align: right;\n",
       "    }\n",
       "</style>\n",
       "<table border=\"1\" class=\"dataframe\">\n",
       "  <thead>\n",
       "    <tr style=\"text-align: right;\">\n",
       "      <th></th>\n",
       "      <th>isbn</th>\n",
       "      <th>title</th>\n",
       "      <th>author</th>\n",
       "      <th>publication_year</th>\n",
       "      <th>publisher</th>\n",
       "      <th>image_url</th>\n",
       "      <th>isbn_len</th>\n",
       "    </tr>\n",
       "  </thead>\n",
       "  <tbody>\n",
       "    <tr>\n",
       "      <th>171206</th>\n",
       "      <td>3518365479&lt;90</td>\n",
       "      <td>Suhrkamp TaschenbÃ?Â¼cher, Nr.47, Frost</td>\n",
       "      <td>Thomas Bernhard</td>\n",
       "      <td>1972</td>\n",
       "      <td>Suhrkamp</td>\n",
       "      <td>http://images.amazon.com/images/P/3518365479.0...</td>\n",
       "      <td>13</td>\n",
       "    </tr>\n",
       "    <tr>\n",
       "      <th>251424</th>\n",
       "      <td>3442248027  3</td>\n",
       "      <td>Diamond Age. Die Grenzwelt.</td>\n",
       "      <td>Neal Stephenson</td>\n",
       "      <td>2000</td>\n",
       "      <td>Goldmann</td>\n",
       "      <td>http://images.amazon.com/images/P/3442248027.0...</td>\n",
       "      <td>13</td>\n",
       "    </tr>\n",
       "    <tr>\n",
       "      <th>251649</th>\n",
       "      <td>0385722206  0</td>\n",
       "      <td>Balzac and the Little Chinese Seamstress : A N...</td>\n",
       "      <td>DAI SIJIE</td>\n",
       "      <td>2002</td>\n",
       "      <td>Anchor</td>\n",
       "      <td>http://images.amazon.com/images/P/0385722206.0...</td>\n",
       "      <td>13</td>\n",
       "    </tr>\n",
       "  </tbody>\n",
       "</table>\n",
       "</div>"
      ],
      "text/plain": [
       "                 isbn                                              title  \\\n",
       "171206  3518365479<90            Suhrkamp TaschenbÃ?Â¼cher, Nr.47, Frost   \n",
       "251424  3442248027  3                        Diamond Age. Die Grenzwelt.   \n",
       "251649  0385722206  0  Balzac and the Little Chinese Seamstress : A N...   \n",
       "\n",
       "                 author  publication_year publisher  \\\n",
       "171206  Thomas Bernhard              1972  Suhrkamp   \n",
       "251424  Neal Stephenson              2000  Goldmann   \n",
       "251649        DAI SIJIE              2002    Anchor   \n",
       "\n",
       "                                                image_url  isbn_len  \n",
       "171206  http://images.amazon.com/images/P/3518365479.0...        13  \n",
       "251424  http://images.amazon.com/images/P/3442248027.0...        13  \n",
       "251649  http://images.amazon.com/images/P/0385722206.0...        13  "
      ]
     },
     "execution_count": 189,
     "metadata": {},
     "output_type": "execute_result"
    }
   ],
   "source": [
    "books_df[books_df['isbn_len'] == 13]"
   ]
  },
  {
   "cell_type": "markdown",
   "id": "e20e4ab1-ac4d-48a3-b208-509dda870f07",
   "metadata": {},
   "source": [
    "The obtained results show that such records with len(isbn) > 10 contain data incorrectly processed by the authors of the dataset.  \n",
    "In order to understand what to do with such books, it is worth considering whether books with the specified isbn are found in the ratings dataset."
   ]
  },
  {
   "cell_type": "code",
   "execution_count": 196,
   "id": "c417f8bd-6178-41b1-9722-55ec2401f9fa",
   "metadata": {},
   "outputs": [
    {
     "name": "stdout",
     "output_type": "stream",
     "text": [
      "incorrect_isbn_set = {'0486404242\\t', '0385722206  0', '3518365479<90', '3442248027  3'}\n",
      "\n"
     ]
    },
    {
     "data": {
      "text/html": [
       "<div>\n",
       "<style scoped>\n",
       "    .dataframe tbody tr th:only-of-type {\n",
       "        vertical-align: middle;\n",
       "    }\n",
       "\n",
       "    .dataframe tbody tr th {\n",
       "        vertical-align: top;\n",
       "    }\n",
       "\n",
       "    .dataframe thead th {\n",
       "        text-align: right;\n",
       "    }\n",
       "</style>\n",
       "<table border=\"1\" class=\"dataframe\">\n",
       "  <thead>\n",
       "    <tr style=\"text-align: right;\">\n",
       "      <th></th>\n",
       "      <th>user_id</th>\n",
       "      <th>isbn</th>\n",
       "      <th>rating</th>\n",
       "    </tr>\n",
       "  </thead>\n",
       "  <tbody>\n",
       "    <tr>\n",
       "      <th>443229</th>\n",
       "      <td>106173</td>\n",
       "      <td>3518365479&lt;90</td>\n",
       "      <td>0</td>\n",
       "    </tr>\n",
       "    <tr>\n",
       "      <th>624769</th>\n",
       "      <td>151546</td>\n",
       "      <td>3442248027  3</td>\n",
       "      <td>10</td>\n",
       "    </tr>\n",
       "    <tr>\n",
       "      <th>647512</th>\n",
       "      <td>156422</td>\n",
       "      <td>0385722206  0</td>\n",
       "      <td>9</td>\n",
       "    </tr>\n",
       "    <tr>\n",
       "      <th>680026</th>\n",
       "      <td>165507</td>\n",
       "      <td>3442248027  3</td>\n",
       "      <td>0</td>\n",
       "    </tr>\n",
       "  </tbody>\n",
       "</table>\n",
       "</div>"
      ],
      "text/plain": [
       "        user_id           isbn  rating\n",
       "443229   106173  3518365479<90       0\n",
       "624769   151546  3442248027  3      10\n",
       "647512   156422  0385722206  0       9\n",
       "680026   165507  3442248027  3       0"
      ]
     },
     "execution_count": 196,
     "metadata": {},
     "output_type": "execute_result"
    }
   ],
   "source": [
    "incorrect_isbn_set = set(books_df[books_df['isbn_len'] != 10]['isbn'])\n",
    "print(f\"incorrect_isbn_set = {incorrect_isbn_set}\\n\")\n",
    "ratings_df[ratings_df['isbn'].apply(lambda x: x in incorrect_isbn_set)]"
   ]
  },
  {
   "cell_type": "markdown",
   "id": "24a2669f-8417-49d4-af7b-d31eb73f7b50",
   "metadata": {
    "jp-MarkdownHeadingCollapsed": true
   },
   "source": [
    "##### Additional checking"
   ]
  },
  {
   "cell_type": "code",
   "execution_count": 197,
   "id": "66b981b8-7e9f-42b9-a788-f689f17e0153",
   "metadata": {},
   "outputs": [
    {
     "data": {
      "text/html": [
       "<div>\n",
       "<style scoped>\n",
       "    .dataframe tbody tr th:only-of-type {\n",
       "        vertical-align: middle;\n",
       "    }\n",
       "\n",
       "    .dataframe tbody tr th {\n",
       "        vertical-align: top;\n",
       "    }\n",
       "\n",
       "    .dataframe thead th {\n",
       "        text-align: right;\n",
       "    }\n",
       "</style>\n",
       "<table border=\"1\" class=\"dataframe\">\n",
       "  <thead>\n",
       "    <tr style=\"text-align: right;\">\n",
       "      <th></th>\n",
       "      <th>user_id</th>\n",
       "      <th>isbn</th>\n",
       "      <th>rating</th>\n",
       "    </tr>\n",
       "  </thead>\n",
       "  <tbody>\n",
       "  </tbody>\n",
       "</table>\n",
       "</div>"
      ],
      "text/plain": [
       "Empty DataFrame\n",
       "Columns: [user_id, isbn, rating]\n",
       "Index: []"
      ]
     },
     "execution_count": 197,
     "metadata": {},
     "output_type": "execute_result"
    }
   ],
   "source": [
    "ratings_df[ratings_df['isbn'] == '0486404242\\t']"
   ]
  },
  {
   "cell_type": "code",
   "execution_count": 198,
   "id": "720c6277-992f-4faf-8cf7-956ed9a0baf7",
   "metadata": {},
   "outputs": [
    {
     "data": {
      "text/html": [
       "<div>\n",
       "<style scoped>\n",
       "    .dataframe tbody tr th:only-of-type {\n",
       "        vertical-align: middle;\n",
       "    }\n",
       "\n",
       "    .dataframe tbody tr th {\n",
       "        vertical-align: top;\n",
       "    }\n",
       "\n",
       "    .dataframe thead th {\n",
       "        text-align: right;\n",
       "    }\n",
       "</style>\n",
       "<table border=\"1\" class=\"dataframe\">\n",
       "  <thead>\n",
       "    <tr style=\"text-align: right;\">\n",
       "      <th></th>\n",
       "      <th>user_id</th>\n",
       "      <th>isbn</th>\n",
       "      <th>rating</th>\n",
       "    </tr>\n",
       "  </thead>\n",
       "  <tbody>\n",
       "    <tr>\n",
       "      <th>443229</th>\n",
       "      <td>106173</td>\n",
       "      <td>3518365479&lt;90</td>\n",
       "      <td>0</td>\n",
       "    </tr>\n",
       "  </tbody>\n",
       "</table>\n",
       "</div>"
      ],
      "text/plain": [
       "        user_id           isbn  rating\n",
       "443229   106173  3518365479<90       0"
      ]
     },
     "execution_count": 198,
     "metadata": {},
     "output_type": "execute_result"
    }
   ],
   "source": [
    "ratings_df[ratings_df['isbn'] == '3518365479<90']"
   ]
  },
  {
   "cell_type": "code",
   "execution_count": 199,
   "id": "82bf2c9f-e80d-4def-a42e-708e97af664b",
   "metadata": {},
   "outputs": [
    {
     "data": {
      "text/html": [
       "<div>\n",
       "<style scoped>\n",
       "    .dataframe tbody tr th:only-of-type {\n",
       "        vertical-align: middle;\n",
       "    }\n",
       "\n",
       "    .dataframe tbody tr th {\n",
       "        vertical-align: top;\n",
       "    }\n",
       "\n",
       "    .dataframe thead th {\n",
       "        text-align: right;\n",
       "    }\n",
       "</style>\n",
       "<table border=\"1\" class=\"dataframe\">\n",
       "  <thead>\n",
       "    <tr style=\"text-align: right;\">\n",
       "      <th></th>\n",
       "      <th>user_id</th>\n",
       "      <th>isbn</th>\n",
       "      <th>rating</th>\n",
       "    </tr>\n",
       "  </thead>\n",
       "  <tbody>\n",
       "    <tr>\n",
       "      <th>624769</th>\n",
       "      <td>151546</td>\n",
       "      <td>3442248027  3</td>\n",
       "      <td>10</td>\n",
       "    </tr>\n",
       "    <tr>\n",
       "      <th>680026</th>\n",
       "      <td>165507</td>\n",
       "      <td>3442248027  3</td>\n",
       "      <td>0</td>\n",
       "    </tr>\n",
       "  </tbody>\n",
       "</table>\n",
       "</div>"
      ],
      "text/plain": [
       "        user_id           isbn  rating\n",
       "624769   151546  3442248027  3      10\n",
       "680026   165507  3442248027  3       0"
      ]
     },
     "execution_count": 199,
     "metadata": {},
     "output_type": "execute_result"
    }
   ],
   "source": [
    "ratings_df[ratings_df['isbn'] == '3442248027  3']"
   ]
  },
  {
   "cell_type": "code",
   "execution_count": 200,
   "id": "b93a40c5-69cc-4212-98fb-bef4e5999d94",
   "metadata": {},
   "outputs": [
    {
     "data": {
      "text/html": [
       "<div>\n",
       "<style scoped>\n",
       "    .dataframe tbody tr th:only-of-type {\n",
       "        vertical-align: middle;\n",
       "    }\n",
       "\n",
       "    .dataframe tbody tr th {\n",
       "        vertical-align: top;\n",
       "    }\n",
       "\n",
       "    .dataframe thead th {\n",
       "        text-align: right;\n",
       "    }\n",
       "</style>\n",
       "<table border=\"1\" class=\"dataframe\">\n",
       "  <thead>\n",
       "    <tr style=\"text-align: right;\">\n",
       "      <th></th>\n",
       "      <th>user_id</th>\n",
       "      <th>isbn</th>\n",
       "      <th>rating</th>\n",
       "    </tr>\n",
       "  </thead>\n",
       "  <tbody>\n",
       "    <tr>\n",
       "      <th>647512</th>\n",
       "      <td>156422</td>\n",
       "      <td>0385722206  0</td>\n",
       "      <td>9</td>\n",
       "    </tr>\n",
       "  </tbody>\n",
       "</table>\n",
       "</div>"
      ],
      "text/plain": [
       "        user_id           isbn  rating\n",
       "647512   156422  0385722206  0       9"
      ]
     },
     "execution_count": 200,
     "metadata": {},
     "output_type": "execute_result"
    }
   ],
   "source": [
    "ratings_df[ratings_df['isbn'] == '0385722206  0']"
   ]
  },
  {
   "cell_type": "markdown",
   "id": "7ac2360e-0079-4454-a596-3a476faeb31a",
   "metadata": {
    "jp-MarkdownHeadingCollapsed": true
   },
   "source": [
    "#### Solving the problem with isbn in books_df"
   ]
  },
  {
   "cell_type": "markdown",
   "id": "38ad05f5-056b-4e9e-aebb-ea639d7485e6",
   "metadata": {},
   "source": [
    "To decide what to do with records with incorrect isbns, you need to check whether the books_df and ratings_df datasets have records with corrected isbn versions:\n",
    "1) If they exist, it is enough to simply delete the corresponding record from the books_df dataset;\n",
    "2) If not, then it is worth correcting the isbn in books_df and ratings_df."
   ]
  },
  {
   "cell_type": "code",
   "execution_count": 201,
   "id": "a92ca0d8-ed48-41e0-9726-76d443c99ead",
   "metadata": {},
   "outputs": [
    {
     "data": {
      "text/html": [
       "<div>\n",
       "<style scoped>\n",
       "    .dataframe tbody tr th:only-of-type {\n",
       "        vertical-align: middle;\n",
       "    }\n",
       "\n",
       "    .dataframe tbody tr th {\n",
       "        vertical-align: top;\n",
       "    }\n",
       "\n",
       "    .dataframe thead th {\n",
       "        text-align: right;\n",
       "    }\n",
       "</style>\n",
       "<table border=\"1\" class=\"dataframe\">\n",
       "  <thead>\n",
       "    <tr style=\"text-align: right;\">\n",
       "      <th></th>\n",
       "      <th>isbn</th>\n",
       "      <th>title</th>\n",
       "      <th>author</th>\n",
       "      <th>publication_year</th>\n",
       "      <th>publisher</th>\n",
       "      <th>image_url</th>\n",
       "      <th>isbn_len</th>\n",
       "    </tr>\n",
       "  </thead>\n",
       "  <tbody>\n",
       "    <tr>\n",
       "      <th>111653</th>\n",
       "      <td>0486404242</td>\n",
       "      <td>War in Kind: And Other Poems (Dover Thrift Edi...</td>\n",
       "      <td>Stephen Crane</td>\n",
       "      <td>1998</td>\n",
       "      <td>Dover Publications</td>\n",
       "      <td>http://images.amazon.com/images/P/0486404242.0...</td>\n",
       "      <td>10</td>\n",
       "    </tr>\n",
       "  </tbody>\n",
       "</table>\n",
       "</div>"
      ],
      "text/plain": [
       "              isbn                                              title  \\\n",
       "111653  0486404242  War in Kind: And Other Poems (Dover Thrift Edi...   \n",
       "\n",
       "               author  publication_year           publisher  \\\n",
       "111653  Stephen Crane              1998  Dover Publications   \n",
       "\n",
       "                                                image_url  isbn_len  \n",
       "111653  http://images.amazon.com/images/P/0486404242.0...        10  "
      ]
     },
     "execution_count": 201,
     "metadata": {},
     "output_type": "execute_result"
    }
   ],
   "source": [
    "books_df[books_df['isbn'] == '0486404242']"
   ]
  },
  {
   "cell_type": "code",
   "execution_count": 202,
   "id": "52170b65-d630-4b75-843c-7f02111192c1",
   "metadata": {},
   "outputs": [
    {
     "data": {
      "text/html": [
       "<div>\n",
       "<style scoped>\n",
       "    .dataframe tbody tr th:only-of-type {\n",
       "        vertical-align: middle;\n",
       "    }\n",
       "\n",
       "    .dataframe tbody tr th {\n",
       "        vertical-align: top;\n",
       "    }\n",
       "\n",
       "    .dataframe thead th {\n",
       "        text-align: right;\n",
       "    }\n",
       "</style>\n",
       "<table border=\"1\" class=\"dataframe\">\n",
       "  <thead>\n",
       "    <tr style=\"text-align: right;\">\n",
       "      <th></th>\n",
       "      <th>user_id</th>\n",
       "      <th>isbn</th>\n",
       "      <th>rating</th>\n",
       "    </tr>\n",
       "  </thead>\n",
       "  <tbody>\n",
       "    <tr>\n",
       "      <th>50975</th>\n",
       "      <td>11676</td>\n",
       "      <td>0486404242</td>\n",
       "      <td>8</td>\n",
       "    </tr>\n",
       "    <tr>\n",
       "      <th>262132</th>\n",
       "      <td>60277</td>\n",
       "      <td>0486404242</td>\n",
       "      <td>0</td>\n",
       "    </tr>\n",
       "    <tr>\n",
       "      <th>262411</th>\n",
       "      <td>60283</td>\n",
       "      <td>0486404242</td>\n",
       "      <td>0</td>\n",
       "    </tr>\n",
       "    <tr>\n",
       "      <th>389126</th>\n",
       "      <td>93910</td>\n",
       "      <td>0486404242</td>\n",
       "      <td>0</td>\n",
       "    </tr>\n",
       "    <tr>\n",
       "      <th>444954</th>\n",
       "      <td>106751</td>\n",
       "      <td>0486404242</td>\n",
       "      <td>0</td>\n",
       "    </tr>\n",
       "    <tr>\n",
       "      <th>608853</th>\n",
       "      <td>147280</td>\n",
       "      <td>0486404242</td>\n",
       "      <td>0</td>\n",
       "    </tr>\n",
       "    <tr>\n",
       "      <th>617584</th>\n",
       "      <td>149422</td>\n",
       "      <td>0486404242</td>\n",
       "      <td>6</td>\n",
       "    </tr>\n",
       "    <tr>\n",
       "      <th>835853</th>\n",
       "      <td>201898</td>\n",
       "      <td>0486404242</td>\n",
       "      <td>0</td>\n",
       "    </tr>\n",
       "    <tr>\n",
       "      <th>932291</th>\n",
       "      <td>226245</td>\n",
       "      <td>0486404242</td>\n",
       "      <td>7</td>\n",
       "    </tr>\n",
       "    <tr>\n",
       "      <th>944570</th>\n",
       "      <td>228913</td>\n",
       "      <td>0486404242</td>\n",
       "      <td>0</td>\n",
       "    </tr>\n",
       "    <tr>\n",
       "      <th>1016116</th>\n",
       "      <td>243404</td>\n",
       "      <td>0486404242</td>\n",
       "      <td>0</td>\n",
       "    </tr>\n",
       "    <tr>\n",
       "      <th>1060325</th>\n",
       "      <td>253194</td>\n",
       "      <td>0486404242</td>\n",
       "      <td>9</td>\n",
       "    </tr>\n",
       "  </tbody>\n",
       "</table>\n",
       "</div>"
      ],
      "text/plain": [
       "         user_id        isbn  rating\n",
       "50975      11676  0486404242       8\n",
       "262132     60277  0486404242       0\n",
       "262411     60283  0486404242       0\n",
       "389126     93910  0486404242       0\n",
       "444954    106751  0486404242       0\n",
       "608853    147280  0486404242       0\n",
       "617584    149422  0486404242       6\n",
       "835853    201898  0486404242       0\n",
       "932291    226245  0486404242       7\n",
       "944570    228913  0486404242       0\n",
       "1016116   243404  0486404242       0\n",
       "1060325   253194  0486404242       9"
      ]
     },
     "execution_count": 202,
     "metadata": {},
     "output_type": "execute_result"
    }
   ],
   "source": [
    "ratings_df[ratings_df['isbn'] == '0486404242']"
   ]
  },
  {
   "cell_type": "markdown",
   "id": "cbff08e4-9f1b-4e45-9cb5-c8178b93cc22",
   "metadata": {},
   "source": [
    "Since there is already a book with the correct isbn in books_df and the content of the corresponding entry is exactly the same as the content of the entry with the incorrect isbn, such an entry can be deleted.  \n",
    "The ratings_df dataset does not contain any records with 'isbn' = '0486404242\\t', so it does not need to be changed."
   ]
  },
  {
   "cell_type": "code",
   "execution_count": 203,
   "id": "b78fb511-4897-4214-808b-40a57a8dd6fe",
   "metadata": {},
   "outputs": [
    {
     "name": "stdout",
     "output_type": "stream",
     "text": [
      "len(books_df) before deleting '0486404242\t' = 271360\n",
      "len(books_df) after deleting '0486404242\t' = 271359\n"
     ]
    }
   ],
   "source": [
    "print(f\"len(books_df) before deleting '0486404242\\t' = {len(books_df)}\")\n",
    "books_df = books_df[books_df['isbn'] != '0486404242\\t']\n",
    "print(f\"len(books_df) after deleting '0486404242\\t' = {len(books_df)}\")"
   ]
  },
  {
   "cell_type": "markdown",
   "id": "e197d06d-2c4c-41ab-876a-6b708a80ee2e",
   "metadata": {},
   "source": [
    "Books with isbn = '3518365479<90', '3442248027  3' and '0385722206  0' are also found in the ratings_df dataset.  \n",
    "Let's check whether books with the specified isbns exists in the books or ratings dataset."
   ]
  },
  {
   "cell_type": "code",
   "execution_count": 204,
   "id": "61aa650f-c27a-4e46-8249-5bbb09fa7542",
   "metadata": {},
   "outputs": [
    {
     "data": {
      "text/html": [
       "<div>\n",
       "<style scoped>\n",
       "    .dataframe tbody tr th:only-of-type {\n",
       "        vertical-align: middle;\n",
       "    }\n",
       "\n",
       "    .dataframe tbody tr th {\n",
       "        vertical-align: top;\n",
       "    }\n",
       "\n",
       "    .dataframe thead th {\n",
       "        text-align: right;\n",
       "    }\n",
       "</style>\n",
       "<table border=\"1\" class=\"dataframe\">\n",
       "  <thead>\n",
       "    <tr style=\"text-align: right;\">\n",
       "      <th></th>\n",
       "      <th>isbn</th>\n",
       "      <th>title</th>\n",
       "      <th>author</th>\n",
       "      <th>publication_year</th>\n",
       "      <th>publisher</th>\n",
       "      <th>image_url</th>\n",
       "      <th>isbn_len</th>\n",
       "    </tr>\n",
       "  </thead>\n",
       "  <tbody>\n",
       "  </tbody>\n",
       "</table>\n",
       "</div>"
      ],
      "text/plain": [
       "Empty DataFrame\n",
       "Columns: [isbn, title, author, publication_year, publisher, image_url, isbn_len]\n",
       "Index: []"
      ]
     },
     "execution_count": 204,
     "metadata": {},
     "output_type": "execute_result"
    }
   ],
   "source": [
    "books_df[books_df['isbn'] == '3518365479']"
   ]
  },
  {
   "cell_type": "code",
   "execution_count": 205,
   "id": "c06e0541-9a51-4692-8a23-52484ee38350",
   "metadata": {},
   "outputs": [
    {
     "data": {
      "text/html": [
       "<div>\n",
       "<style scoped>\n",
       "    .dataframe tbody tr th:only-of-type {\n",
       "        vertical-align: middle;\n",
       "    }\n",
       "\n",
       "    .dataframe tbody tr th {\n",
       "        vertical-align: top;\n",
       "    }\n",
       "\n",
       "    .dataframe thead th {\n",
       "        text-align: right;\n",
       "    }\n",
       "</style>\n",
       "<table border=\"1\" class=\"dataframe\">\n",
       "  <thead>\n",
       "    <tr style=\"text-align: right;\">\n",
       "      <th></th>\n",
       "      <th>user_id</th>\n",
       "      <th>isbn</th>\n",
       "      <th>rating</th>\n",
       "    </tr>\n",
       "  </thead>\n",
       "  <tbody>\n",
       "  </tbody>\n",
       "</table>\n",
       "</div>"
      ],
      "text/plain": [
       "Empty DataFrame\n",
       "Columns: [user_id, isbn, rating]\n",
       "Index: []"
      ]
     },
     "execution_count": 205,
     "metadata": {},
     "output_type": "execute_result"
    }
   ],
   "source": [
    "ratings_df[ratings_df['isbn'] == '3518365479']"
   ]
  },
  {
   "cell_type": "code",
   "execution_count": 206,
   "id": "7c5cad1e-8bf0-4f7c-b45d-0c0c46348a09",
   "metadata": {},
   "outputs": [
    {
     "data": {
      "text/html": [
       "<div>\n",
       "<style scoped>\n",
       "    .dataframe tbody tr th:only-of-type {\n",
       "        vertical-align: middle;\n",
       "    }\n",
       "\n",
       "    .dataframe tbody tr th {\n",
       "        vertical-align: top;\n",
       "    }\n",
       "\n",
       "    .dataframe thead th {\n",
       "        text-align: right;\n",
       "    }\n",
       "</style>\n",
       "<table border=\"1\" class=\"dataframe\">\n",
       "  <thead>\n",
       "    <tr style=\"text-align: right;\">\n",
       "      <th></th>\n",
       "      <th>isbn</th>\n",
       "      <th>title</th>\n",
       "      <th>author</th>\n",
       "      <th>publication_year</th>\n",
       "      <th>publisher</th>\n",
       "      <th>image_url</th>\n",
       "      <th>isbn_len</th>\n",
       "    </tr>\n",
       "  </thead>\n",
       "  <tbody>\n",
       "  </tbody>\n",
       "</table>\n",
       "</div>"
      ],
      "text/plain": [
       "Empty DataFrame\n",
       "Columns: [isbn, title, author, publication_year, publisher, image_url, isbn_len]\n",
       "Index: []"
      ]
     },
     "execution_count": 206,
     "metadata": {},
     "output_type": "execute_result"
    }
   ],
   "source": [
    "books_df[books_df['isbn'] == '3442248027']"
   ]
  },
  {
   "cell_type": "code",
   "execution_count": 207,
   "id": "d2427aca-d67a-48a0-95ef-65c9f48b99d1",
   "metadata": {},
   "outputs": [
    {
     "data": {
      "text/html": [
       "<div>\n",
       "<style scoped>\n",
       "    .dataframe tbody tr th:only-of-type {\n",
       "        vertical-align: middle;\n",
       "    }\n",
       "\n",
       "    .dataframe tbody tr th {\n",
       "        vertical-align: top;\n",
       "    }\n",
       "\n",
       "    .dataframe thead th {\n",
       "        text-align: right;\n",
       "    }\n",
       "</style>\n",
       "<table border=\"1\" class=\"dataframe\">\n",
       "  <thead>\n",
       "    <tr style=\"text-align: right;\">\n",
       "      <th></th>\n",
       "      <th>user_id</th>\n",
       "      <th>isbn</th>\n",
       "      <th>rating</th>\n",
       "    </tr>\n",
       "  </thead>\n",
       "  <tbody>\n",
       "  </tbody>\n",
       "</table>\n",
       "</div>"
      ],
      "text/plain": [
       "Empty DataFrame\n",
       "Columns: [user_id, isbn, rating]\n",
       "Index: []"
      ]
     },
     "execution_count": 207,
     "metadata": {},
     "output_type": "execute_result"
    }
   ],
   "source": [
    "ratings_df[ratings_df['isbn'] == '3442248027']"
   ]
  },
  {
   "cell_type": "code",
   "execution_count": 208,
   "id": "b08ac867-c20a-4681-bf3c-02261cd26450",
   "metadata": {},
   "outputs": [
    {
     "data": {
      "text/html": [
       "<div>\n",
       "<style scoped>\n",
       "    .dataframe tbody tr th:only-of-type {\n",
       "        vertical-align: middle;\n",
       "    }\n",
       "\n",
       "    .dataframe tbody tr th {\n",
       "        vertical-align: top;\n",
       "    }\n",
       "\n",
       "    .dataframe thead th {\n",
       "        text-align: right;\n",
       "    }\n",
       "</style>\n",
       "<table border=\"1\" class=\"dataframe\">\n",
       "  <thead>\n",
       "    <tr style=\"text-align: right;\">\n",
       "      <th></th>\n",
       "      <th>isbn</th>\n",
       "      <th>title</th>\n",
       "      <th>author</th>\n",
       "      <th>publication_year</th>\n",
       "      <th>publisher</th>\n",
       "      <th>image_url</th>\n",
       "      <th>isbn_len</th>\n",
       "    </tr>\n",
       "  </thead>\n",
       "  <tbody>\n",
       "    <tr>\n",
       "      <th>5248</th>\n",
       "      <td>0385722206</td>\n",
       "      <td>Balzac and the Little Chinese Seamstress : A N...</td>\n",
       "      <td>DAI SIJIE</td>\n",
       "      <td>2002</td>\n",
       "      <td>Anchor</td>\n",
       "      <td>http://images.amazon.com/images/P/0385722206.0...</td>\n",
       "      <td>10</td>\n",
       "    </tr>\n",
       "  </tbody>\n",
       "</table>\n",
       "</div>"
      ],
      "text/plain": [
       "            isbn                                              title  \\\n",
       "5248  0385722206  Balzac and the Little Chinese Seamstress : A N...   \n",
       "\n",
       "         author  publication_year publisher  \\\n",
       "5248  DAI SIJIE              2002    Anchor   \n",
       "\n",
       "                                              image_url  isbn_len  \n",
       "5248  http://images.amazon.com/images/P/0385722206.0...        10  "
      ]
     },
     "execution_count": 208,
     "metadata": {},
     "output_type": "execute_result"
    }
   ],
   "source": [
    "books_df[books_df['isbn'] == '0385722206']"
   ]
  },
  {
   "cell_type": "code",
   "execution_count": 209,
   "id": "2e4eaa9a-a6f3-4293-b5ef-c40e8e8d9f11",
   "metadata": {},
   "outputs": [
    {
     "data": {
      "text/html": [
       "<div>\n",
       "<style scoped>\n",
       "    .dataframe tbody tr th:only-of-type {\n",
       "        vertical-align: middle;\n",
       "    }\n",
       "\n",
       "    .dataframe tbody tr th {\n",
       "        vertical-align: top;\n",
       "    }\n",
       "\n",
       "    .dataframe thead th {\n",
       "        text-align: right;\n",
       "    }\n",
       "</style>\n",
       "<table border=\"1\" class=\"dataframe\">\n",
       "  <thead>\n",
       "    <tr style=\"text-align: right;\">\n",
       "      <th></th>\n",
       "      <th>user_id</th>\n",
       "      <th>isbn</th>\n",
       "      <th>rating</th>\n",
       "    </tr>\n",
       "  </thead>\n",
       "  <tbody>\n",
       "    <tr>\n",
       "      <th>1978</th>\n",
       "      <td>277453</td>\n",
       "      <td>0385722206</td>\n",
       "      <td>0</td>\n",
       "    </tr>\n",
       "    <tr>\n",
       "      <th>5967</th>\n",
       "      <td>278418</td>\n",
       "      <td>0385722206</td>\n",
       "      <td>0</td>\n",
       "    </tr>\n",
       "    <tr>\n",
       "      <th>17018</th>\n",
       "      <td>2977</td>\n",
       "      <td>0385722206</td>\n",
       "      <td>0</td>\n",
       "    </tr>\n",
       "    <tr>\n",
       "      <th>22204</th>\n",
       "      <td>4516</td>\n",
       "      <td>0385722206</td>\n",
       "      <td>8</td>\n",
       "    </tr>\n",
       "    <tr>\n",
       "      <th>24334</th>\n",
       "      <td>5680</td>\n",
       "      <td>0385722206</td>\n",
       "      <td>0</td>\n",
       "    </tr>\n",
       "    <tr>\n",
       "      <th>...</th>\n",
       "      <td>...</td>\n",
       "      <td>...</td>\n",
       "      <td>...</td>\n",
       "    </tr>\n",
       "    <tr>\n",
       "      <th>1132923</th>\n",
       "      <td>271705</td>\n",
       "      <td>0385722206</td>\n",
       "      <td>0</td>\n",
       "    </tr>\n",
       "    <tr>\n",
       "      <th>1133792</th>\n",
       "      <td>272207</td>\n",
       "      <td>0385722206</td>\n",
       "      <td>0</td>\n",
       "    </tr>\n",
       "    <tr>\n",
       "      <th>1143438</th>\n",
       "      <td>274808</td>\n",
       "      <td>0385722206</td>\n",
       "      <td>0</td>\n",
       "    </tr>\n",
       "    <tr>\n",
       "      <th>1146737</th>\n",
       "      <td>275970</td>\n",
       "      <td>0385722206</td>\n",
       "      <td>10</td>\n",
       "    </tr>\n",
       "    <tr>\n",
       "      <th>1149257</th>\n",
       "      <td>276641</td>\n",
       "      <td>0385722206</td>\n",
       "      <td>7</td>\n",
       "    </tr>\n",
       "  </tbody>\n",
       "</table>\n",
       "<p>283 rows × 3 columns</p>\n",
       "</div>"
      ],
      "text/plain": [
       "         user_id        isbn  rating\n",
       "1978      277453  0385722206       0\n",
       "5967      278418  0385722206       0\n",
       "17018       2977  0385722206       0\n",
       "22204       4516  0385722206       8\n",
       "24334       5680  0385722206       0\n",
       "...          ...         ...     ...\n",
       "1132923   271705  0385722206       0\n",
       "1133792   272207  0385722206       0\n",
       "1143438   274808  0385722206       0\n",
       "1146737   275970  0385722206      10\n",
       "1149257   276641  0385722206       7\n",
       "\n",
       "[283 rows x 3 columns]"
      ]
     },
     "execution_count": 209,
     "metadata": {},
     "output_type": "execute_result"
    }
   ],
   "source": [
    "ratings_df[ratings_df['isbn'] == '0385722206']"
   ]
  },
  {
   "cell_type": "markdown",
   "id": "acc9b295-184d-466a-877b-7ded3de3bb79",
   "metadata": {},
   "source": [
    "Since books with isbn='3518365479' and isbn='3442248027' does not exist in the books and ratings datasets, it is worth correcting corresponding isbns.  \n",
    "For the book with isbn='0385722206' there are already records in the books_df and ratings_df datasets, then:\n",
    "- For the books_df dataset, the corresponding record will simply be deleted;\n",
    "- For ratings_df the isbn value has been corrected."
   ]
  },
  {
   "cell_type": "code",
   "execution_count": 210,
   "id": "fc937933-3321-4b75-aad4-7b226f6f967c",
   "metadata": {},
   "outputs": [
    {
     "name": "stdout",
     "output_type": "stream",
     "text": [
      "len(books_df) before deleting '0385722206  0' = 271359\n",
      "len(books_df) after deleting '0385722206  0' = 271358\n"
     ]
    }
   ],
   "source": [
    "print(f\"len(books_df) before deleting '0385722206  0' = {len(books_df)}\")\n",
    "books_df = books_df[books_df['isbn'] != '0385722206  0']\n",
    "print(f\"len(books_df) after deleting '0385722206  0' = {len(books_df)}\")"
   ]
  },
  {
   "cell_type": "code",
   "execution_count": 211,
   "id": "cc92a3ae-95be-47dc-9654-8e646d8828c4",
   "metadata": {},
   "outputs": [
    {
     "data": {
      "text/html": [
       "<div>\n",
       "<style scoped>\n",
       "    .dataframe tbody tr th:only-of-type {\n",
       "        vertical-align: middle;\n",
       "    }\n",
       "\n",
       "    .dataframe tbody tr th {\n",
       "        vertical-align: top;\n",
       "    }\n",
       "\n",
       "    .dataframe thead th {\n",
       "        text-align: right;\n",
       "    }\n",
       "</style>\n",
       "<table border=\"1\" class=\"dataframe\">\n",
       "  <thead>\n",
       "    <tr style=\"text-align: right;\">\n",
       "      <th></th>\n",
       "      <th>isbn</th>\n",
       "      <th>title</th>\n",
       "      <th>author</th>\n",
       "      <th>publication_year</th>\n",
       "      <th>publisher</th>\n",
       "      <th>image_url</th>\n",
       "      <th>isbn_len</th>\n",
       "    </tr>\n",
       "  </thead>\n",
       "  <tbody>\n",
       "    <tr>\n",
       "      <th>0</th>\n",
       "      <td>0195153448</td>\n",
       "      <td>Classical Mythology</td>\n",
       "      <td>Mark P. O. Morford</td>\n",
       "      <td>2002</td>\n",
       "      <td>Oxford University Press</td>\n",
       "      <td>http://images.amazon.com/images/P/0195153448.0...</td>\n",
       "      <td>10</td>\n",
       "    </tr>\n",
       "    <tr>\n",
       "      <th>1</th>\n",
       "      <td>0002005018</td>\n",
       "      <td>Clara Callan</td>\n",
       "      <td>Richard Bruce Wright</td>\n",
       "      <td>2001</td>\n",
       "      <td>HarperFlamingo Canada</td>\n",
       "      <td>http://images.amazon.com/images/P/0002005018.0...</td>\n",
       "      <td>10</td>\n",
       "    </tr>\n",
       "  </tbody>\n",
       "</table>\n",
       "</div>"
      ],
      "text/plain": [
       "         isbn                title                author  publication_year  \\\n",
       "0  0195153448  Classical Mythology    Mark P. O. Morford              2002   \n",
       "1  0002005018         Clara Callan  Richard Bruce Wright              2001   \n",
       "\n",
       "                 publisher                                          image_url  \\\n",
       "0  Oxford University Press  http://images.amazon.com/images/P/0195153448.0...   \n",
       "1    HarperFlamingo Canada  http://images.amazon.com/images/P/0002005018.0...   \n",
       "\n",
       "   isbn_len  \n",
       "0        10  \n",
       "1        10  "
      ]
     },
     "execution_count": 211,
     "metadata": {},
     "output_type": "execute_result"
    }
   ],
   "source": [
    "books_df['isbn'] = books_df['isbn'].apply(lambda isbn: isbn[:10])\n",
    "books_df.head(2)"
   ]
  },
  {
   "cell_type": "code",
   "execution_count": 212,
   "id": "28ea0f3a-1d41-4776-ba7b-a07acf154cf5",
   "metadata": {},
   "outputs": [
    {
     "data": {
      "text/html": [
       "<div>\n",
       "<style scoped>\n",
       "    .dataframe tbody tr th:only-of-type {\n",
       "        vertical-align: middle;\n",
       "    }\n",
       "\n",
       "    .dataframe tbody tr th {\n",
       "        vertical-align: top;\n",
       "    }\n",
       "\n",
       "    .dataframe thead th {\n",
       "        text-align: right;\n",
       "    }\n",
       "</style>\n",
       "<table border=\"1\" class=\"dataframe\">\n",
       "  <thead>\n",
       "    <tr style=\"text-align: right;\">\n",
       "      <th></th>\n",
       "      <th>isbn</th>\n",
       "      <th>title</th>\n",
       "      <th>author</th>\n",
       "      <th>publication_year</th>\n",
       "      <th>publisher</th>\n",
       "      <th>image_url</th>\n",
       "      <th>isbn_len</th>\n",
       "      <th>correct_isbn_len</th>\n",
       "    </tr>\n",
       "  </thead>\n",
       "  <tbody>\n",
       "    <tr>\n",
       "      <th>0</th>\n",
       "      <td>0195153448</td>\n",
       "      <td>Classical Mythology</td>\n",
       "      <td>Mark P. O. Morford</td>\n",
       "      <td>2002</td>\n",
       "      <td>Oxford University Press</td>\n",
       "      <td>http://images.amazon.com/images/P/0195153448.0...</td>\n",
       "      <td>10</td>\n",
       "      <td>10</td>\n",
       "    </tr>\n",
       "    <tr>\n",
       "      <th>1</th>\n",
       "      <td>0002005018</td>\n",
       "      <td>Clara Callan</td>\n",
       "      <td>Richard Bruce Wright</td>\n",
       "      <td>2001</td>\n",
       "      <td>HarperFlamingo Canada</td>\n",
       "      <td>http://images.amazon.com/images/P/0002005018.0...</td>\n",
       "      <td>10</td>\n",
       "      <td>10</td>\n",
       "    </tr>\n",
       "  </tbody>\n",
       "</table>\n",
       "</div>"
      ],
      "text/plain": [
       "         isbn                title                author  publication_year  \\\n",
       "0  0195153448  Classical Mythology    Mark P. O. Morford              2002   \n",
       "1  0002005018         Clara Callan  Richard Bruce Wright              2001   \n",
       "\n",
       "                 publisher                                          image_url  \\\n",
       "0  Oxford University Press  http://images.amazon.com/images/P/0195153448.0...   \n",
       "1    HarperFlamingo Canada  http://images.amazon.com/images/P/0002005018.0...   \n",
       "\n",
       "   isbn_len  correct_isbn_len  \n",
       "0        10                10  \n",
       "1        10                10  "
      ]
     },
     "execution_count": 212,
     "metadata": {},
     "output_type": "execute_result"
    }
   ],
   "source": [
    "books_df['correct_isbn_len'] = books_df['isbn'].apply(lambda isbn: len(isbn))\n",
    "books_df.head(2)"
   ]
  },
  {
   "cell_type": "code",
   "execution_count": 215,
   "id": "8163056e-63b6-45bf-9412-0f08b3005afd",
   "metadata": {},
   "outputs": [
    {
     "name": "stdout",
     "output_type": "stream",
     "text": [
      "books_df['correct_isbn_len'].unique() = [10]\n",
      "\n"
     ]
    },
    {
     "data": {
      "text/html": [
       "<div>\n",
       "<style scoped>\n",
       "    .dataframe tbody tr th:only-of-type {\n",
       "        vertical-align: middle;\n",
       "    }\n",
       "\n",
       "    .dataframe tbody tr th {\n",
       "        vertical-align: top;\n",
       "    }\n",
       "\n",
       "    .dataframe thead th {\n",
       "        text-align: right;\n",
       "    }\n",
       "</style>\n",
       "<table border=\"1\" class=\"dataframe\">\n",
       "  <thead>\n",
       "    <tr style=\"text-align: right;\">\n",
       "      <th></th>\n",
       "      <th>isbn</th>\n",
       "      <th>title</th>\n",
       "      <th>author</th>\n",
       "      <th>publication_year</th>\n",
       "      <th>publisher</th>\n",
       "      <th>image_url</th>\n",
       "      <th>isbn_len</th>\n",
       "      <th>correct_isbn_len</th>\n",
       "    </tr>\n",
       "  </thead>\n",
       "  <tbody>\n",
       "    <tr>\n",
       "      <th>171206</th>\n",
       "      <td>3518365479</td>\n",
       "      <td>Suhrkamp TaschenbÃ?Â¼cher, Nr.47, Frost</td>\n",
       "      <td>Thomas Bernhard</td>\n",
       "      <td>1972</td>\n",
       "      <td>Suhrkamp</td>\n",
       "      <td>http://images.amazon.com/images/P/3518365479.0...</td>\n",
       "      <td>13</td>\n",
       "      <td>10</td>\n",
       "    </tr>\n",
       "    <tr>\n",
       "      <th>251424</th>\n",
       "      <td>3442248027</td>\n",
       "      <td>Diamond Age. Die Grenzwelt.</td>\n",
       "      <td>Neal Stephenson</td>\n",
       "      <td>2000</td>\n",
       "      <td>Goldmann</td>\n",
       "      <td>http://images.amazon.com/images/P/3442248027.0...</td>\n",
       "      <td>13</td>\n",
       "      <td>10</td>\n",
       "    </tr>\n",
       "  </tbody>\n",
       "</table>\n",
       "</div>"
      ],
      "text/plain": [
       "              isbn                                    title           author  \\\n",
       "171206  3518365479  Suhrkamp TaschenbÃ?Â¼cher, Nr.47, Frost  Thomas Bernhard   \n",
       "251424  3442248027              Diamond Age. Die Grenzwelt.  Neal Stephenson   \n",
       "\n",
       "        publication_year publisher  \\\n",
       "171206              1972  Suhrkamp   \n",
       "251424              2000  Goldmann   \n",
       "\n",
       "                                                image_url  isbn_len  \\\n",
       "171206  http://images.amazon.com/images/P/3518365479.0...        13   \n",
       "251424  http://images.amazon.com/images/P/3442248027.0...        13   \n",
       "\n",
       "        correct_isbn_len  \n",
       "171206                10  \n",
       "251424                10  "
      ]
     },
     "execution_count": 215,
     "metadata": {},
     "output_type": "execute_result"
    }
   ],
   "source": [
    "print(f\"books_df['correct_isbn_len'].unique() = {books_df['correct_isbn_len'].unique()}\\n\")\n",
    "books_df[books_df['isbn_len'] > 10]"
   ]
  },
  {
   "cell_type": "markdown",
   "id": "8f18b877-5bd9-4996-a8e4-fd45dd59ded1",
   "metadata": {},
   "source": [
    "The results show that the data in books_df was successfully corrected."
   ]
  },
  {
   "cell_type": "code",
   "execution_count": 229,
   "id": "a5b82ade-f725-4a3b-8060-b185b9c24b3e",
   "metadata": {},
   "outputs": [
    {
     "data": {
      "text/html": [
       "<div>\n",
       "<style scoped>\n",
       "    .dataframe tbody tr th:only-of-type {\n",
       "        vertical-align: middle;\n",
       "    }\n",
       "\n",
       "    .dataframe tbody tr th {\n",
       "        vertical-align: top;\n",
       "    }\n",
       "\n",
       "    .dataframe thead th {\n",
       "        text-align: right;\n",
       "    }\n",
       "</style>\n",
       "<table border=\"1\" class=\"dataframe\">\n",
       "  <thead>\n",
       "    <tr style=\"text-align: right;\">\n",
       "      <th></th>\n",
       "      <th>isbn</th>\n",
       "      <th>title</th>\n",
       "      <th>author</th>\n",
       "      <th>publication_year</th>\n",
       "      <th>publisher</th>\n",
       "      <th>image_url</th>\n",
       "    </tr>\n",
       "  </thead>\n",
       "  <tbody>\n",
       "    <tr>\n",
       "      <th>0</th>\n",
       "      <td>0195153448</td>\n",
       "      <td>Classical Mythology</td>\n",
       "      <td>Mark P. O. Morford</td>\n",
       "      <td>2002</td>\n",
       "      <td>Oxford University Press</td>\n",
       "      <td>http://images.amazon.com/images/P/0195153448.0...</td>\n",
       "    </tr>\n",
       "    <tr>\n",
       "      <th>1</th>\n",
       "      <td>0002005018</td>\n",
       "      <td>Clara Callan</td>\n",
       "      <td>Richard Bruce Wright</td>\n",
       "      <td>2001</td>\n",
       "      <td>HarperFlamingo Canada</td>\n",
       "      <td>http://images.amazon.com/images/P/0002005018.0...</td>\n",
       "    </tr>\n",
       "  </tbody>\n",
       "</table>\n",
       "</div>"
      ],
      "text/plain": [
       "         isbn                title                author  publication_year  \\\n",
       "0  0195153448  Classical Mythology    Mark P. O. Morford              2002   \n",
       "1  0002005018         Clara Callan  Richard Bruce Wright              2001   \n",
       "\n",
       "                 publisher                                          image_url  \n",
       "0  Oxford University Press  http://images.amazon.com/images/P/0195153448.0...  \n",
       "1    HarperFlamingo Canada  http://images.amazon.com/images/P/0002005018.0...  "
      ]
     },
     "execution_count": 229,
     "metadata": {},
     "output_type": "execute_result"
    }
   ],
   "source": [
    "books_df.drop(['isbn_len', 'correct_isbn_len'], axis=1, inplace=True)\n",
    "books_df.head(2)"
   ]
  },
  {
   "cell_type": "markdown",
   "id": "159151b8-6ea7-4ca0-99d8-dd24b42499f1",
   "metadata": {
    "jp-MarkdownHeadingCollapsed": true
   },
   "source": [
    "#### Solving the problem with isbn in ratings_df"
   ]
  },
  {
   "cell_type": "code",
   "execution_count": 216,
   "id": "01e3ec17-8eac-4fa1-acb6-92ec1db35bab",
   "metadata": {},
   "outputs": [
    {
     "data": {
      "text/html": [
       "<div>\n",
       "<style scoped>\n",
       "    .dataframe tbody tr th:only-of-type {\n",
       "        vertical-align: middle;\n",
       "    }\n",
       "\n",
       "    .dataframe tbody tr th {\n",
       "        vertical-align: top;\n",
       "    }\n",
       "\n",
       "    .dataframe thead th {\n",
       "        text-align: right;\n",
       "    }\n",
       "</style>\n",
       "<table border=\"1\" class=\"dataframe\">\n",
       "  <thead>\n",
       "    <tr style=\"text-align: right;\">\n",
       "      <th></th>\n",
       "      <th>user_id</th>\n",
       "      <th>isbn</th>\n",
       "      <th>rating</th>\n",
       "      <th>isbn_len</th>\n",
       "    </tr>\n",
       "  </thead>\n",
       "  <tbody>\n",
       "    <tr>\n",
       "      <th>0</th>\n",
       "      <td>276725</td>\n",
       "      <td>034545104X</td>\n",
       "      <td>0</td>\n",
       "      <td>10</td>\n",
       "    </tr>\n",
       "    <tr>\n",
       "      <th>1</th>\n",
       "      <td>276726</td>\n",
       "      <td>0155061224</td>\n",
       "      <td>5</td>\n",
       "      <td>10</td>\n",
       "    </tr>\n",
       "  </tbody>\n",
       "</table>\n",
       "</div>"
      ],
      "text/plain": [
       "   user_id        isbn  rating  isbn_len\n",
       "0   276725  034545104X       0        10\n",
       "1   276726  0155061224       5        10"
      ]
     },
     "execution_count": 216,
     "metadata": {},
     "output_type": "execute_result"
    }
   ],
   "source": [
    "ratings_df['isbn_len'] = ratings_df['isbn'].apply(lambda isbn: len(isbn))\n",
    "ratings_df.head(2)"
   ]
  },
  {
   "cell_type": "code",
   "execution_count": 217,
   "id": "5c11682f-82e8-46d1-b209-078913253449",
   "metadata": {},
   "outputs": [
    {
     "name": "stdout",
     "output_type": "stream",
     "text": [
      "ratings_df['isbn_len'].unique() = [10  9 11  8 12 13 14]\n"
     ]
    }
   ],
   "source": [
    "print(f\"ratings_df['isbn_len'].unique() = {ratings_df['isbn_len'].unique()}\")"
   ]
  },
  {
   "cell_type": "markdown",
   "id": "c40b56e6-acbd-4fa8-8b79-c6d90e106f3a",
   "metadata": {},
   "source": [
    "Since ratings_df has records with len(isbn) IN \\[8, 9, 11, 12, 13, 14], after correcting records with isbn IN incorrect_isbn_set, all records with incorrect isbn will be removed."
   ]
  },
  {
   "cell_type": "code",
   "execution_count": 219,
   "id": "cf60aeb9-0b13-4774-b3a0-6d910868c2dc",
   "metadata": {},
   "outputs": [
    {
     "data": {
      "text/html": [
       "<div>\n",
       "<style scoped>\n",
       "    .dataframe tbody tr th:only-of-type {\n",
       "        vertical-align: middle;\n",
       "    }\n",
       "\n",
       "    .dataframe tbody tr th {\n",
       "        vertical-align: top;\n",
       "    }\n",
       "\n",
       "    .dataframe thead th {\n",
       "        text-align: right;\n",
       "    }\n",
       "</style>\n",
       "<table border=\"1\" class=\"dataframe\">\n",
       "  <thead>\n",
       "    <tr style=\"text-align: right;\">\n",
       "      <th></th>\n",
       "      <th>user_id</th>\n",
       "      <th>isbn</th>\n",
       "      <th>rating</th>\n",
       "      <th>isbn_len</th>\n",
       "    </tr>\n",
       "  </thead>\n",
       "  <tbody>\n",
       "    <tr>\n",
       "      <th>443229</th>\n",
       "      <td>106173</td>\n",
       "      <td>3518365479&lt;90</td>\n",
       "      <td>0</td>\n",
       "      <td>13</td>\n",
       "    </tr>\n",
       "    <tr>\n",
       "      <th>624769</th>\n",
       "      <td>151546</td>\n",
       "      <td>3442248027  3</td>\n",
       "      <td>10</td>\n",
       "      <td>13</td>\n",
       "    </tr>\n",
       "    <tr>\n",
       "      <th>647512</th>\n",
       "      <td>156422</td>\n",
       "      <td>0385722206  0</td>\n",
       "      <td>9</td>\n",
       "      <td>13</td>\n",
       "    </tr>\n",
       "    <tr>\n",
       "      <th>680026</th>\n",
       "      <td>165507</td>\n",
       "      <td>3442248027  3</td>\n",
       "      <td>0</td>\n",
       "      <td>13</td>\n",
       "    </tr>\n",
       "  </tbody>\n",
       "</table>\n",
       "</div>"
      ],
      "text/plain": [
       "        user_id           isbn  rating  isbn_len\n",
       "443229   106173  3518365479<90       0        13\n",
       "624769   151546  3442248027  3      10        13\n",
       "647512   156422  0385722206  0       9        13\n",
       "680026   165507  3442248027  3       0        13"
      ]
     },
     "execution_count": 219,
     "metadata": {},
     "output_type": "execute_result"
    }
   ],
   "source": [
    "ratings_df[ratings_df['isbn'].apply(lambda isbn: isbn in incorrect_isbn_set)]"
   ]
  },
  {
   "cell_type": "code",
   "execution_count": 222,
   "id": "a80af031-fcf7-4514-8474-f51bac29787d",
   "metadata": {},
   "outputs": [
    {
     "data": {
      "text/html": [
       "<div>\n",
       "<style scoped>\n",
       "    .dataframe tbody tr th:only-of-type {\n",
       "        vertical-align: middle;\n",
       "    }\n",
       "\n",
       "    .dataframe tbody tr th {\n",
       "        vertical-align: top;\n",
       "    }\n",
       "\n",
       "    .dataframe thead th {\n",
       "        text-align: right;\n",
       "    }\n",
       "</style>\n",
       "<table border=\"1\" class=\"dataframe\">\n",
       "  <thead>\n",
       "    <tr style=\"text-align: right;\">\n",
       "      <th></th>\n",
       "      <th>user_id</th>\n",
       "      <th>isbn</th>\n",
       "      <th>rating</th>\n",
       "      <th>isbn_len</th>\n",
       "      <th>correct_isbn_len</th>\n",
       "    </tr>\n",
       "  </thead>\n",
       "  <tbody>\n",
       "    <tr>\n",
       "      <th>0</th>\n",
       "      <td>276725</td>\n",
       "      <td>034545104X</td>\n",
       "      <td>0</td>\n",
       "      <td>10</td>\n",
       "      <td>10</td>\n",
       "    </tr>\n",
       "    <tr>\n",
       "      <th>1</th>\n",
       "      <td>276726</td>\n",
       "      <td>0155061224</td>\n",
       "      <td>5</td>\n",
       "      <td>10</td>\n",
       "      <td>10</td>\n",
       "    </tr>\n",
       "  </tbody>\n",
       "</table>\n",
       "</div>"
      ],
      "text/plain": [
       "   user_id        isbn  rating  isbn_len  correct_isbn_len\n",
       "0   276725  034545104X       0        10                10\n",
       "1   276726  0155061224       5        10                10"
      ]
     },
     "execution_count": 222,
     "metadata": {},
     "output_type": "execute_result"
    }
   ],
   "source": [
    "ratings_df['isbn'] = ratings_df['isbn'].apply(lambda isbn: isbn[:10] if isbn in incorrect_isbn_set else isbn)\n",
    "ratings_df['correct_isbn_len'] = ratings_df['isbn'].apply(lambda isbn: len(isbn))\n",
    "ratings_df.head(2)"
   ]
  },
  {
   "cell_type": "code",
   "execution_count": 223,
   "id": "90323c8b-c09c-4d9a-a8a5-9dcb890d99e8",
   "metadata": {},
   "outputs": [
    {
     "name": "stdout",
     "output_type": "stream",
     "text": [
      "ratings_df['correct_isbn_len'].unique() = [10  9 11  8 12 13 14]\n"
     ]
    }
   ],
   "source": [
    "print(f\"ratings_df['correct_isbn_len'].unique() = {ratings_df['correct_isbn_len'].unique()}\")"
   ]
  },
  {
   "cell_type": "code",
   "execution_count": 224,
   "id": "5d409c2b-ae74-4d86-842d-b3bba3855cf8",
   "metadata": {},
   "outputs": [
    {
     "data": {
      "text/html": [
       "<div>\n",
       "<style scoped>\n",
       "    .dataframe tbody tr th:only-of-type {\n",
       "        vertical-align: middle;\n",
       "    }\n",
       "\n",
       "    .dataframe tbody tr th {\n",
       "        vertical-align: top;\n",
       "    }\n",
       "\n",
       "    .dataframe thead th {\n",
       "        text-align: right;\n",
       "    }\n",
       "</style>\n",
       "<table border=\"1\" class=\"dataframe\">\n",
       "  <thead>\n",
       "    <tr style=\"text-align: right;\">\n",
       "      <th></th>\n",
       "      <th>user_id</th>\n",
       "      <th>isbn</th>\n",
       "      <th>rating</th>\n",
       "      <th>isbn_len</th>\n",
       "      <th>correct_isbn_len</th>\n",
       "    </tr>\n",
       "  </thead>\n",
       "  <tbody>\n",
       "  </tbody>\n",
       "</table>\n",
       "</div>"
      ],
      "text/plain": [
       "Empty DataFrame\n",
       "Columns: [user_id, isbn, rating, isbn_len, correct_isbn_len]\n",
       "Index: []"
      ]
     },
     "execution_count": 224,
     "metadata": {},
     "output_type": "execute_result"
    }
   ],
   "source": [
    "ratings_df[ratings_df['isbn'].apply(lambda isbn: isbn in incorrect_isbn_set)]"
   ]
  },
  {
   "cell_type": "code",
   "execution_count": 225,
   "id": "0a98de30-025b-4e96-a4c5-82dcf389537d",
   "metadata": {},
   "outputs": [
    {
     "data": {
      "text/html": [
       "<div>\n",
       "<style scoped>\n",
       "    .dataframe tbody tr th:only-of-type {\n",
       "        vertical-align: middle;\n",
       "    }\n",
       "\n",
       "    .dataframe tbody tr th {\n",
       "        vertical-align: top;\n",
       "    }\n",
       "\n",
       "    .dataframe thead th {\n",
       "        text-align: right;\n",
       "    }\n",
       "</style>\n",
       "<table border=\"1\" class=\"dataframe\">\n",
       "  <thead>\n",
       "    <tr style=\"text-align: right;\">\n",
       "      <th></th>\n",
       "      <th>user_id</th>\n",
       "      <th>isbn</th>\n",
       "      <th>rating</th>\n",
       "      <th>isbn_len</th>\n",
       "      <th>correct_isbn_len</th>\n",
       "    </tr>\n",
       "  </thead>\n",
       "  <tbody>\n",
       "    <tr>\n",
       "      <th>443229</th>\n",
       "      <td>106173</td>\n",
       "      <td>3518365479</td>\n",
       "      <td>0</td>\n",
       "      <td>13</td>\n",
       "      <td>10</td>\n",
       "    </tr>\n",
       "    <tr>\n",
       "      <th>624769</th>\n",
       "      <td>151546</td>\n",
       "      <td>3442248027</td>\n",
       "      <td>10</td>\n",
       "      <td>13</td>\n",
       "      <td>10</td>\n",
       "    </tr>\n",
       "    <tr>\n",
       "      <th>647512</th>\n",
       "      <td>156422</td>\n",
       "      <td>0385722206</td>\n",
       "      <td>9</td>\n",
       "      <td>13</td>\n",
       "      <td>10</td>\n",
       "    </tr>\n",
       "    <tr>\n",
       "      <th>680026</th>\n",
       "      <td>165507</td>\n",
       "      <td>3442248027</td>\n",
       "      <td>0</td>\n",
       "      <td>13</td>\n",
       "      <td>10</td>\n",
       "    </tr>\n",
       "  </tbody>\n",
       "</table>\n",
       "</div>"
      ],
      "text/plain": [
       "        user_id        isbn  rating  isbn_len  correct_isbn_len\n",
       "443229   106173  3518365479       0        13                10\n",
       "624769   151546  3442248027      10        13                10\n",
       "647512   156422  0385722206       9        13                10\n",
       "680026   165507  3442248027       0        13                10"
      ]
     },
     "execution_count": 225,
     "metadata": {},
     "output_type": "execute_result"
    }
   ],
   "source": [
    "ratings_df[ratings_df['correct_isbn_len'] != ratings_df['isbn_len']]"
   ]
  },
  {
   "cell_type": "code",
   "execution_count": 226,
   "id": "ab0ef550-fe45-414f-a173-c3b7bb735f50",
   "metadata": {},
   "outputs": [
    {
     "name": "stdout",
     "output_type": "stream",
     "text": [
      "len(ratings_df) before cleaning: 1149780\n",
      "len(ratings_df) after cleaning: 1139367\n",
      "\n",
      "ratings_df['correct_isbn_len'].unique(): [10]\n",
      "\n"
     ]
    },
    {
     "data": {
      "text/html": [
       "<div>\n",
       "<style scoped>\n",
       "    .dataframe tbody tr th:only-of-type {\n",
       "        vertical-align: middle;\n",
       "    }\n",
       "\n",
       "    .dataframe tbody tr th {\n",
       "        vertical-align: top;\n",
       "    }\n",
       "\n",
       "    .dataframe thead th {\n",
       "        text-align: right;\n",
       "    }\n",
       "</style>\n",
       "<table border=\"1\" class=\"dataframe\">\n",
       "  <thead>\n",
       "    <tr style=\"text-align: right;\">\n",
       "      <th></th>\n",
       "      <th>user_id</th>\n",
       "      <th>isbn</th>\n",
       "      <th>rating</th>\n",
       "      <th>isbn_len</th>\n",
       "      <th>correct_isbn_len</th>\n",
       "    </tr>\n",
       "  </thead>\n",
       "  <tbody>\n",
       "    <tr>\n",
       "      <th>0</th>\n",
       "      <td>276725</td>\n",
       "      <td>034545104X</td>\n",
       "      <td>0</td>\n",
       "      <td>10</td>\n",
       "      <td>10</td>\n",
       "    </tr>\n",
       "    <tr>\n",
       "      <th>1</th>\n",
       "      <td>276726</td>\n",
       "      <td>0155061224</td>\n",
       "      <td>5</td>\n",
       "      <td>10</td>\n",
       "      <td>10</td>\n",
       "    </tr>\n",
       "  </tbody>\n",
       "</table>\n",
       "</div>"
      ],
      "text/plain": [
       "   user_id        isbn  rating  isbn_len  correct_isbn_len\n",
       "0   276725  034545104X       0        10                10\n",
       "1   276726  0155061224       5        10                10"
      ]
     },
     "execution_count": 226,
     "metadata": {},
     "output_type": "execute_result"
    }
   ],
   "source": [
    "print(f\"len(ratings_df) before cleaning: {len(ratings_df)}\")\n",
    "ratings_df = ratings_df[ratings_df['correct_isbn_len'] == 10]\n",
    "print(f\"len(ratings_df) after cleaning: {len(ratings_df)}\\n\")\n",
    "print(f\"ratings_df['correct_isbn_len'].unique(): {ratings_df['correct_isbn_len'].unique()}\\n\")\n",
    "ratings_df.head(2)"
   ]
  },
  {
   "cell_type": "markdown",
   "id": "14b953a4-8800-4683-a28d-a95879e3e24d",
   "metadata": {},
   "source": [
    "The obtained results show that the ratings_df dataframe cleanup was successful."
   ]
  },
  {
   "cell_type": "code",
   "execution_count": 228,
   "id": "c9f63d5d-6273-4bda-a732-849a8dd4661a",
   "metadata": {},
   "outputs": [
    {
     "data": {
      "text/html": [
       "<div>\n",
       "<style scoped>\n",
       "    .dataframe tbody tr th:only-of-type {\n",
       "        vertical-align: middle;\n",
       "    }\n",
       "\n",
       "    .dataframe tbody tr th {\n",
       "        vertical-align: top;\n",
       "    }\n",
       "\n",
       "    .dataframe thead th {\n",
       "        text-align: right;\n",
       "    }\n",
       "</style>\n",
       "<table border=\"1\" class=\"dataframe\">\n",
       "  <thead>\n",
       "    <tr style=\"text-align: right;\">\n",
       "      <th></th>\n",
       "      <th>user_id</th>\n",
       "      <th>isbn</th>\n",
       "      <th>rating</th>\n",
       "    </tr>\n",
       "  </thead>\n",
       "  <tbody>\n",
       "    <tr>\n",
       "      <th>0</th>\n",
       "      <td>276725</td>\n",
       "      <td>034545104X</td>\n",
       "      <td>0</td>\n",
       "    </tr>\n",
       "    <tr>\n",
       "      <th>1</th>\n",
       "      <td>276726</td>\n",
       "      <td>0155061224</td>\n",
       "      <td>5</td>\n",
       "    </tr>\n",
       "  </tbody>\n",
       "</table>\n",
       "</div>"
      ],
      "text/plain": [
       "   user_id        isbn  rating\n",
       "0   276725  034545104X       0\n",
       "1   276726  0155061224       5"
      ]
     },
     "execution_count": 228,
     "metadata": {},
     "output_type": "execute_result"
    }
   ],
   "source": [
    "ratings_df.drop(['isbn_len', 'correct_isbn_len'], axis=1, inplace=True)\n",
    "ratings_df.head(2)"
   ]
  },
  {
   "cell_type": "markdown",
   "id": "f37eee50-c882-478f-ba4d-e4b757c55320",
   "metadata": {
    "jp-MarkdownHeadingCollapsed": true
   },
   "source": [
    "### users_df"
   ]
  },
  {
   "cell_type": "code",
   "execution_count": 230,
   "id": "dbefdc6f-5a28-4fc1-920d-f0b0de35c532",
   "metadata": {},
   "outputs": [
    {
     "data": {
      "text/html": [
       "<div>\n",
       "<style scoped>\n",
       "    .dataframe tbody tr th:only-of-type {\n",
       "        vertical-align: middle;\n",
       "    }\n",
       "\n",
       "    .dataframe tbody tr th {\n",
       "        vertical-align: top;\n",
       "    }\n",
       "\n",
       "    .dataframe thead th {\n",
       "        text-align: right;\n",
       "    }\n",
       "</style>\n",
       "<table border=\"1\" class=\"dataframe\">\n",
       "  <thead>\n",
       "    <tr style=\"text-align: right;\">\n",
       "      <th></th>\n",
       "      <th>user_id</th>\n",
       "      <th>location</th>\n",
       "      <th>age</th>\n",
       "    </tr>\n",
       "  </thead>\n",
       "  <tbody>\n",
       "    <tr>\n",
       "      <th>0</th>\n",
       "      <td>1</td>\n",
       "      <td>nyc, new york, usa</td>\n",
       "      <td>NaN</td>\n",
       "    </tr>\n",
       "    <tr>\n",
       "      <th>1</th>\n",
       "      <td>2</td>\n",
       "      <td>stockton, california, usa</td>\n",
       "      <td>18.0</td>\n",
       "    </tr>\n",
       "  </tbody>\n",
       "</table>\n",
       "</div>"
      ],
      "text/plain": [
       "   user_id                   location   age\n",
       "0        1         nyc, new york, usa   NaN\n",
       "1        2  stockton, california, usa  18.0"
      ]
     },
     "execution_count": 230,
     "metadata": {},
     "output_type": "execute_result"
    }
   ],
   "source": [
    "users_df.head(2)"
   ]
  },
  {
   "cell_type": "code",
   "execution_count": 231,
   "id": "650296ca-2dbe-41b7-9ca8-6ae1600f53d5",
   "metadata": {},
   "outputs": [
    {
     "name": "stdout",
     "output_type": "stream",
     "text": [
      "<class 'pandas.core.frame.DataFrame'>\n",
      "RangeIndex: 278858 entries, 0 to 278857\n",
      "Data columns (total 3 columns):\n",
      " #   Column    Non-Null Count   Dtype  \n",
      "---  ------    --------------   -----  \n",
      " 0   user_id   278858 non-null  int64  \n",
      " 1   location  278858 non-null  object \n",
      " 2   age       168096 non-null  float64\n",
      "dtypes: float64(1), int64(1), object(1)\n",
      "memory usage: 6.4+ MB\n"
     ]
    }
   ],
   "source": [
    "users_df.info()"
   ]
  },
  {
   "cell_type": "code",
   "execution_count": 232,
   "id": "1fc8e7bf-cd71-4273-9701-bebce8f91501",
   "metadata": {},
   "outputs": [
    {
     "data": {
      "text/html": [
       "<div>\n",
       "<style scoped>\n",
       "    .dataframe tbody tr th:only-of-type {\n",
       "        vertical-align: middle;\n",
       "    }\n",
       "\n",
       "    .dataframe tbody tr th {\n",
       "        vertical-align: top;\n",
       "    }\n",
       "\n",
       "    .dataframe thead th {\n",
       "        text-align: right;\n",
       "    }\n",
       "</style>\n",
       "<table border=\"1\" class=\"dataframe\">\n",
       "  <thead>\n",
       "    <tr style=\"text-align: right;\">\n",
       "      <th></th>\n",
       "      <th>user_id</th>\n",
       "      <th>age</th>\n",
       "    </tr>\n",
       "  </thead>\n",
       "  <tbody>\n",
       "    <tr>\n",
       "      <th>count</th>\n",
       "      <td>278858.00000</td>\n",
       "      <td>168096.000000</td>\n",
       "    </tr>\n",
       "    <tr>\n",
       "      <th>mean</th>\n",
       "      <td>139429.50000</td>\n",
       "      <td>34.751434</td>\n",
       "    </tr>\n",
       "    <tr>\n",
       "      <th>std</th>\n",
       "      <td>80499.51502</td>\n",
       "      <td>14.428097</td>\n",
       "    </tr>\n",
       "    <tr>\n",
       "      <th>min</th>\n",
       "      <td>1.00000</td>\n",
       "      <td>0.000000</td>\n",
       "    </tr>\n",
       "    <tr>\n",
       "      <th>25%</th>\n",
       "      <td>69715.25000</td>\n",
       "      <td>24.000000</td>\n",
       "    </tr>\n",
       "    <tr>\n",
       "      <th>50%</th>\n",
       "      <td>139429.50000</td>\n",
       "      <td>32.000000</td>\n",
       "    </tr>\n",
       "    <tr>\n",
       "      <th>75%</th>\n",
       "      <td>209143.75000</td>\n",
       "      <td>44.000000</td>\n",
       "    </tr>\n",
       "    <tr>\n",
       "      <th>max</th>\n",
       "      <td>278858.00000</td>\n",
       "      <td>244.000000</td>\n",
       "    </tr>\n",
       "  </tbody>\n",
       "</table>\n",
       "</div>"
      ],
      "text/plain": [
       "            user_id            age\n",
       "count  278858.00000  168096.000000\n",
       "mean   139429.50000      34.751434\n",
       "std     80499.51502      14.428097\n",
       "min         1.00000       0.000000\n",
       "25%     69715.25000      24.000000\n",
       "50%    139429.50000      32.000000\n",
       "75%    209143.75000      44.000000\n",
       "max    278858.00000     244.000000"
      ]
     },
     "execution_count": 232,
     "metadata": {},
     "output_type": "execute_result"
    }
   ],
   "source": [
    "users_df.describe()"
   ]
  },
  {
   "cell_type": "code",
   "execution_count": 233,
   "id": "326e7da0-c8cb-4145-afbb-ceaf10ebc7cd",
   "metadata": {},
   "outputs": [
    {
     "data": {
      "text/html": [
       "<div>\n",
       "<style scoped>\n",
       "    .dataframe tbody tr th:only-of-type {\n",
       "        vertical-align: middle;\n",
       "    }\n",
       "\n",
       "    .dataframe tbody tr th {\n",
       "        vertical-align: top;\n",
       "    }\n",
       "\n",
       "    .dataframe thead th {\n",
       "        text-align: right;\n",
       "    }\n",
       "</style>\n",
       "<table border=\"1\" class=\"dataframe\">\n",
       "  <thead>\n",
       "    <tr style=\"text-align: right;\">\n",
       "      <th></th>\n",
       "      <th>column</th>\n",
       "      <th>missing_count</th>\n",
       "      <th>missing_percentage</th>\n",
       "    </tr>\n",
       "  </thead>\n",
       "  <tbody>\n",
       "    <tr>\n",
       "      <th>0</th>\n",
       "      <td>user_id</td>\n",
       "      <td>0</td>\n",
       "      <td>0.000000</td>\n",
       "    </tr>\n",
       "    <tr>\n",
       "      <th>1</th>\n",
       "      <td>location</td>\n",
       "      <td>0</td>\n",
       "      <td>0.000000</td>\n",
       "    </tr>\n",
       "    <tr>\n",
       "      <th>2</th>\n",
       "      <td>age</td>\n",
       "      <td>110762</td>\n",
       "      <td>39.719857</td>\n",
       "    </tr>\n",
       "  </tbody>\n",
       "</table>\n",
       "</div>"
      ],
      "text/plain": [
       "     column  missing_count  missing_percentage\n",
       "0   user_id              0            0.000000\n",
       "1  location              0            0.000000\n",
       "2       age         110762           39.719857"
      ]
     },
     "execution_count": 233,
     "metadata": {},
     "output_type": "execute_result"
    }
   ],
   "source": [
    "missing_info_df = pd.DataFrame({\n",
    "    'missing_count': users_df.isnull().sum(),\n",
    "    'missing_percentage': (users_df.isnull().sum() / len(users_df)) * 100\n",
    "}).reset_index().rename(columns={'index': 'column'})\n",
    "\n",
    "missing_info_df"
   ]
  },
  {
   "cell_type": "markdown",
   "id": "e542167a-e27f-4efd-b35f-0dc10bd95137",
   "metadata": {},
   "source": [
    "The following conclusions can be drawn from the obtained results:\n",
    "- The number of unique values for the **user_id** field is equal to the number of elements in the dataset and starts with 1, which indicates the fact that the data of the dataset was obtained from a certain database.\n",
    "- For the \"Book Recommendation System\" application, information about the place of residence of users is not important (at least for the 1st version of the system), so the database will not have a **location** field.\n",
    "- Despite the fact that the **age** field has a large number of missing values (~40%), it can still be made a field in the user table (so the user.age field simply will not have the NOT NULL constraint). However, from the database point of view, the 'age' field in the 'user' table:\n",
    "  - Is not required for recommender system;\n",
    "  - In the database, it is better to store 'birth_date', not 'age'. Also, on the UI during registration, users enter data about their birthday much more often than their age.\n",
    "  - Therefore, for the current version of the program, the 'user' table will not store data about the user's age."
   ]
  },
  {
   "cell_type": "markdown",
   "id": "60dfc4dd-07a4-4592-ae57-9b043215f81e",
   "metadata": {},
   "source": [
    "### ratings_df"
   ]
  },
  {
   "cell_type": "code",
   "execution_count": 234,
   "id": "d102b147-cfef-4d9d-9d22-467951d3e8ce",
   "metadata": {},
   "outputs": [
    {
     "data": {
      "text/html": [
       "<div>\n",
       "<style scoped>\n",
       "    .dataframe tbody tr th:only-of-type {\n",
       "        vertical-align: middle;\n",
       "    }\n",
       "\n",
       "    .dataframe tbody tr th {\n",
       "        vertical-align: top;\n",
       "    }\n",
       "\n",
       "    .dataframe thead th {\n",
       "        text-align: right;\n",
       "    }\n",
       "</style>\n",
       "<table border=\"1\" class=\"dataframe\">\n",
       "  <thead>\n",
       "    <tr style=\"text-align: right;\">\n",
       "      <th></th>\n",
       "      <th>user_id</th>\n",
       "      <th>isbn</th>\n",
       "      <th>rating</th>\n",
       "    </tr>\n",
       "  </thead>\n",
       "  <tbody>\n",
       "    <tr>\n",
       "      <th>0</th>\n",
       "      <td>276725</td>\n",
       "      <td>034545104X</td>\n",
       "      <td>0</td>\n",
       "    </tr>\n",
       "    <tr>\n",
       "      <th>1</th>\n",
       "      <td>276726</td>\n",
       "      <td>0155061224</td>\n",
       "      <td>5</td>\n",
       "    </tr>\n",
       "  </tbody>\n",
       "</table>\n",
       "</div>"
      ],
      "text/plain": [
       "   user_id        isbn  rating\n",
       "0   276725  034545104X       0\n",
       "1   276726  0155061224       5"
      ]
     },
     "execution_count": 234,
     "metadata": {},
     "output_type": "execute_result"
    }
   ],
   "source": [
    "ratings_df.head(2)"
   ]
  },
  {
   "cell_type": "code",
   "execution_count": 239,
   "id": "de004cef-1b86-43bc-8d79-7d06f418553a",
   "metadata": {},
   "outputs": [
    {
     "data": {
      "text/html": [
       "<div>\n",
       "<style scoped>\n",
       "    .dataframe tbody tr th:only-of-type {\n",
       "        vertical-align: middle;\n",
       "    }\n",
       "\n",
       "    .dataframe tbody tr th {\n",
       "        vertical-align: top;\n",
       "    }\n",
       "\n",
       "    .dataframe thead th {\n",
       "        text-align: right;\n",
       "    }\n",
       "</style>\n",
       "<table border=\"1\" class=\"dataframe\">\n",
       "  <thead>\n",
       "    <tr style=\"text-align: right;\">\n",
       "      <th></th>\n",
       "      <th>column</th>\n",
       "      <th>missing_count</th>\n",
       "      <th>missing_percentage</th>\n",
       "    </tr>\n",
       "  </thead>\n",
       "  <tbody>\n",
       "    <tr>\n",
       "      <th>0</th>\n",
       "      <td>user_id</td>\n",
       "      <td>0</td>\n",
       "      <td>0.0</td>\n",
       "    </tr>\n",
       "    <tr>\n",
       "      <th>1</th>\n",
       "      <td>isbn</td>\n",
       "      <td>0</td>\n",
       "      <td>0.0</td>\n",
       "    </tr>\n",
       "    <tr>\n",
       "      <th>2</th>\n",
       "      <td>rating</td>\n",
       "      <td>0</td>\n",
       "      <td>0.0</td>\n",
       "    </tr>\n",
       "  </tbody>\n",
       "</table>\n",
       "</div>"
      ],
      "text/plain": [
       "    column  missing_count  missing_percentage\n",
       "0  user_id              0                 0.0\n",
       "1     isbn              0                 0.0\n",
       "2   rating              0                 0.0"
      ]
     },
     "execution_count": 239,
     "metadata": {},
     "output_type": "execute_result"
    }
   ],
   "source": [
    "missing_info_df = pd.DataFrame({\n",
    "    'missing_count': ratings_df.isnull().sum(),\n",
    "    'missing_percentage': (ratings_df.isnull().sum() / len(ratings_df)) * 100\n",
    "}).reset_index().rename(columns={'index': 'column'})\n",
    "\n",
    "missing_info_df"
   ]
  },
  {
   "cell_type": "code",
   "execution_count": 240,
   "id": "b59cde85-4073-4ccc-8795-b8fe0267c36c",
   "metadata": {},
   "outputs": [
    {
     "data": {
      "text/html": [
       "<div>\n",
       "<style scoped>\n",
       "    .dataframe tbody tr th:only-of-type {\n",
       "        vertical-align: middle;\n",
       "    }\n",
       "\n",
       "    .dataframe tbody tr th {\n",
       "        vertical-align: top;\n",
       "    }\n",
       "\n",
       "    .dataframe thead th {\n",
       "        text-align: right;\n",
       "    }\n",
       "</style>\n",
       "<table border=\"1\" class=\"dataframe\">\n",
       "  <thead>\n",
       "    <tr style=\"text-align: right;\">\n",
       "      <th></th>\n",
       "      <th>user_id</th>\n",
       "      <th>rating</th>\n",
       "    </tr>\n",
       "  </thead>\n",
       "  <tbody>\n",
       "    <tr>\n",
       "      <th>count</th>\n",
       "      <td>1.139367e+06</td>\n",
       "      <td>1.139367e+06</td>\n",
       "    </tr>\n",
       "    <tr>\n",
       "      <th>mean</th>\n",
       "      <td>1.403823e+05</td>\n",
       "      <td>2.861988e+00</td>\n",
       "    </tr>\n",
       "    <tr>\n",
       "      <th>std</th>\n",
       "      <td>8.055153e+04</td>\n",
       "      <td>3.853216e+00</td>\n",
       "    </tr>\n",
       "    <tr>\n",
       "      <th>min</th>\n",
       "      <td>2.000000e+00</td>\n",
       "      <td>0.000000e+00</td>\n",
       "    </tr>\n",
       "    <tr>\n",
       "      <th>25%</th>\n",
       "      <td>7.037900e+04</td>\n",
       "      <td>0.000000e+00</td>\n",
       "    </tr>\n",
       "    <tr>\n",
       "      <th>50%</th>\n",
       "      <td>1.409740e+05</td>\n",
       "      <td>0.000000e+00</td>\n",
       "    </tr>\n",
       "    <tr>\n",
       "      <th>75%</th>\n",
       "      <td>2.109590e+05</td>\n",
       "      <td>7.000000e+00</td>\n",
       "    </tr>\n",
       "    <tr>\n",
       "      <th>max</th>\n",
       "      <td>2.788540e+05</td>\n",
       "      <td>1.000000e+01</td>\n",
       "    </tr>\n",
       "  </tbody>\n",
       "</table>\n",
       "</div>"
      ],
      "text/plain": [
       "            user_id        rating\n",
       "count  1.139367e+06  1.139367e+06\n",
       "mean   1.403823e+05  2.861988e+00\n",
       "std    8.055153e+04  3.853216e+00\n",
       "min    2.000000e+00  0.000000e+00\n",
       "25%    7.037900e+04  0.000000e+00\n",
       "50%    1.409740e+05  0.000000e+00\n",
       "75%    2.109590e+05  7.000000e+00\n",
       "max    2.788540e+05  1.000000e+01"
      ]
     },
     "execution_count": 240,
     "metadata": {},
     "output_type": "execute_result"
    }
   ],
   "source": [
    "ratings_df.describe()"
   ]
  },
  {
   "cell_type": "markdown",
   "id": "1f9bc362-788b-43ab-b9ac-993431483799",
   "metadata": {},
   "source": [
    "For ratings_df, it is worth checking whether this dataset contains any other users and books, in addition to those specified in the users_df and books_df dataframes."
   ]
  },
  {
   "cell_type": "markdown",
   "id": "ed3fb6f4-3a2b-4b2e-9c07-05ae89da17b1",
   "metadata": {
    "jp-MarkdownHeadingCollapsed": true
   },
   "source": [
    "#### Check users"
   ]
  },
  {
   "cell_type": "code",
   "execution_count": 241,
   "id": "28edab26-9b5e-429d-a5d9-69473ed13a9e",
   "metadata": {},
   "outputs": [
    {
     "data": {
      "text/html": [
       "<div>\n",
       "<style scoped>\n",
       "    .dataframe tbody tr th:only-of-type {\n",
       "        vertical-align: middle;\n",
       "    }\n",
       "\n",
       "    .dataframe tbody tr th {\n",
       "        vertical-align: top;\n",
       "    }\n",
       "\n",
       "    .dataframe thead th {\n",
       "        text-align: right;\n",
       "    }\n",
       "</style>\n",
       "<table border=\"1\" class=\"dataframe\">\n",
       "  <thead>\n",
       "    <tr style=\"text-align: right;\">\n",
       "      <th></th>\n",
       "      <th>user_id</th>\n",
       "      <th>location</th>\n",
       "      <th>age</th>\n",
       "    </tr>\n",
       "  </thead>\n",
       "  <tbody>\n",
       "    <tr>\n",
       "      <th>0</th>\n",
       "      <td>1</td>\n",
       "      <td>nyc, new york, usa</td>\n",
       "      <td>NaN</td>\n",
       "    </tr>\n",
       "    <tr>\n",
       "      <th>1</th>\n",
       "      <td>2</td>\n",
       "      <td>stockton, california, usa</td>\n",
       "      <td>18.0</td>\n",
       "    </tr>\n",
       "  </tbody>\n",
       "</table>\n",
       "</div>"
      ],
      "text/plain": [
       "   user_id                   location   age\n",
       "0        1         nyc, new york, usa   NaN\n",
       "1        2  stockton, california, usa  18.0"
      ]
     },
     "execution_count": 241,
     "metadata": {},
     "output_type": "execute_result"
    }
   ],
   "source": [
    "users_df.head(2)"
   ]
  },
  {
   "cell_type": "code",
   "execution_count": 242,
   "id": "45db1785-73c0-48a0-a69f-424d6d03824d",
   "metadata": {},
   "outputs": [
    {
     "name": "stdout",
     "output_type": "stream",
     "text": [
      "User IDs in ratings_df but not in users_df: []\n"
     ]
    }
   ],
   "source": [
    "# Perform a left merge to find user_ids in ratings_df not in users_df\n",
    "merged_df = ratings_df.merge(users_df, on='user_id', how='left', indicator=True)\n",
    "\n",
    "# Filter the rows where the merge indicator shows they are not in users_df\n",
    "missing_users_df = merged_df[merged_df['_merge'] == 'left_only']\n",
    "\n",
    "# Extract the unique user_id values\n",
    "missing_user_ids = missing_users_df['user_id'].unique()\n",
    "\n",
    "print(f\"User IDs in ratings_df but not in users_df: {missing_user_ids}\")"
   ]
  },
  {
   "cell_type": "markdown",
   "id": "ccfd9001-9d07-48aa-987b-da318f338edc",
   "metadata": {},
   "source": [
    "##### An alternative method of checking"
   ]
  },
  {
   "cell_type": "code",
   "execution_count": 243,
   "id": "ac317193-431e-4288-8b25-1f79c5d315fb",
   "metadata": {},
   "outputs": [
    {
     "name": "stdout",
     "output_type": "stream",
     "text": [
      "len(users_df) = 278858\n",
      "len(unique_users_df_ids) = 278858\n"
     ]
    }
   ],
   "source": [
    "unique_users_df_ids = set(users_df['user_id'].unique())\n",
    "\n",
    "print(f\"len(users_df) = {len(users_df)}\")\n",
    "print(f\"len(unique_users_df_ids) = {len(unique_users_df_ids)}\")"
   ]
  },
  {
   "cell_type": "code",
   "execution_count": 244,
   "id": "20a99d5f-3a89-497f-98ba-5b64f459c325",
   "metadata": {},
   "outputs": [
    {
     "data": {
      "text/html": [
       "<div>\n",
       "<style scoped>\n",
       "    .dataframe tbody tr th:only-of-type {\n",
       "        vertical-align: middle;\n",
       "    }\n",
       "\n",
       "    .dataframe tbody tr th {\n",
       "        vertical-align: top;\n",
       "    }\n",
       "\n",
       "    .dataframe thead th {\n",
       "        text-align: right;\n",
       "    }\n",
       "</style>\n",
       "<table border=\"1\" class=\"dataframe\">\n",
       "  <thead>\n",
       "    <tr style=\"text-align: right;\">\n",
       "      <th></th>\n",
       "      <th>user_id</th>\n",
       "      <th>isbn</th>\n",
       "      <th>rating</th>\n",
       "    </tr>\n",
       "  </thead>\n",
       "  <tbody>\n",
       "  </tbody>\n",
       "</table>\n",
       "</div>"
      ],
      "text/plain": [
       "Empty DataFrame\n",
       "Columns: [user_id, isbn, rating]\n",
       "Index: []"
      ]
     },
     "execution_count": 244,
     "metadata": {},
     "output_type": "execute_result"
    }
   ],
   "source": [
    "ratings_df[ratings_df['user_id'].apply(lambda user_id: user_id not in unique_users_df_ids)]"
   ]
  },
  {
   "cell_type": "markdown",
   "id": "51b6dd0a-80de-4c9b-9459-18fe3bceffe2",
   "metadata": {},
   "source": [
    "The obtained results show that ratings_df contains ratings of only those users who are present in users_df.   \n",
    "This is important, because when transferring data to the database, the rating table will have the user_id field as FK, and if there is no corresponding user in the user table, an error will be received."
   ]
  },
  {
   "cell_type": "markdown",
   "id": "a05b0be9-2f1b-4914-96ac-f5fb348176e8",
   "metadata": {
    "jp-MarkdownHeadingCollapsed": true
   },
   "source": [
    "#### Check books"
   ]
  },
  {
   "cell_type": "code",
   "execution_count": 245,
   "id": "ced4cc39-7a6e-4759-9591-468cb9e9556e",
   "metadata": {},
   "outputs": [
    {
     "name": "stdout",
     "output_type": "stream",
     "text": [
      "Book isbns in ratings_df but not in books_df: ['3257224281' '0600570967' '3442437407' ... '0140260676' '0385258259'\n",
      " '0670849871']\n"
     ]
    }
   ],
   "source": [
    "# Perform a left merge to find user_ids in ratings_df not in users_df\n",
    "merged_df = ratings_df.merge(books_df, on='isbn', how='left', indicator=True)\n",
    "\n",
    "# Filter the rows where the merge indicator shows they are not in books_df\n",
    "missing_books_df = merged_df[merged_df['_merge'] == 'left_only']\n",
    "\n",
    "# Extract the unique isbn values\n",
    "missing_book_isbns = missing_books_df['isbn'].unique()\n",
    "\n",
    "print(f\"Book isbns in ratings_df but not in books_df: {missing_book_isbns}\")"
   ]
  },
  {
   "cell_type": "code",
   "execution_count": 247,
   "id": "7c6e1540-9109-4dcc-ba8e-9ba28070edf5",
   "metadata": {},
   "outputs": [
    {
     "name": "stdout",
     "output_type": "stream",
     "text": [
      "len(unique_ratings_df_isbns) = 332289\n",
      "len(missing_book_isbns) = 62139\n"
     ]
    }
   ],
   "source": [
    "unique_ratings_df_isbns = ratings_df['isbn'].unique()\n",
    "\n",
    "print(f\"len(unique_ratings_df_isbns) = {len(unique_ratings_df_isbns)}\")\n",
    "print(f\"len(missing_book_isbns) = {len(missing_book_isbns)}\")"
   ]
  },
  {
   "cell_type": "markdown",
   "id": "70af34e9-9117-4051-914d-83f451507acc",
   "metadata": {},
   "source": [
    "Let's check, using the example of several books, whether there are really books in the dataframe ratings_df, about which there is no data in books_df."
   ]
  },
  {
   "cell_type": "code",
   "execution_count": 248,
   "id": "234e04bf-8583-443d-93f1-b8a2d5086a04",
   "metadata": {},
   "outputs": [
    {
     "data": {
      "text/plain": [
       "array(['3257224281', '0600570967', '3442437407', '033390804X',\n",
       "       '8440682697'], dtype=object)"
      ]
     },
     "execution_count": 248,
     "metadata": {},
     "output_type": "execute_result"
    }
   ],
   "source": [
    "missing_book_isbns[:5]"
   ]
  },
  {
   "cell_type": "code",
   "execution_count": 249,
   "id": "f3fdbdcf-423a-4188-9b4b-27194b964aaa",
   "metadata": {},
   "outputs": [
    {
     "data": {
      "text/html": [
       "<div>\n",
       "<style scoped>\n",
       "    .dataframe tbody tr th:only-of-type {\n",
       "        vertical-align: middle;\n",
       "    }\n",
       "\n",
       "    .dataframe tbody tr th {\n",
       "        vertical-align: top;\n",
       "    }\n",
       "\n",
       "    .dataframe thead th {\n",
       "        text-align: right;\n",
       "    }\n",
       "</style>\n",
       "<table border=\"1\" class=\"dataframe\">\n",
       "  <thead>\n",
       "    <tr style=\"text-align: right;\">\n",
       "      <th></th>\n",
       "      <th>isbn</th>\n",
       "      <th>title</th>\n",
       "      <th>author</th>\n",
       "      <th>publication_year</th>\n",
       "      <th>publisher</th>\n",
       "      <th>image_url</th>\n",
       "    </tr>\n",
       "  </thead>\n",
       "  <tbody>\n",
       "  </tbody>\n",
       "</table>\n",
       "</div>"
      ],
      "text/plain": [
       "Empty DataFrame\n",
       "Columns: [isbn, title, author, publication_year, publisher, image_url]\n",
       "Index: []"
      ]
     },
     "execution_count": 249,
     "metadata": {},
     "output_type": "execute_result"
    }
   ],
   "source": [
    "books_df[books_df['isbn'] == '3257224281']"
   ]
  },
  {
   "cell_type": "code",
   "execution_count": 251,
   "id": "f6dcf2aa-d824-4039-8fa5-c4dcb9a78c12",
   "metadata": {},
   "outputs": [
    {
     "data": {
      "text/html": [
       "<div>\n",
       "<style scoped>\n",
       "    .dataframe tbody tr th:only-of-type {\n",
       "        vertical-align: middle;\n",
       "    }\n",
       "\n",
       "    .dataframe tbody tr th {\n",
       "        vertical-align: top;\n",
       "    }\n",
       "\n",
       "    .dataframe thead th {\n",
       "        text-align: right;\n",
       "    }\n",
       "</style>\n",
       "<table border=\"1\" class=\"dataframe\">\n",
       "  <thead>\n",
       "    <tr style=\"text-align: right;\">\n",
       "      <th></th>\n",
       "      <th>isbn</th>\n",
       "      <th>title</th>\n",
       "      <th>author</th>\n",
       "      <th>publication_year</th>\n",
       "      <th>publisher</th>\n",
       "      <th>image_url</th>\n",
       "    </tr>\n",
       "  </thead>\n",
       "  <tbody>\n",
       "  </tbody>\n",
       "</table>\n",
       "</div>"
      ],
      "text/plain": [
       "Empty DataFrame\n",
       "Columns: [isbn, title, author, publication_year, publisher, image_url]\n",
       "Index: []"
      ]
     },
     "execution_count": 251,
     "metadata": {},
     "output_type": "execute_result"
    }
   ],
   "source": [
    "books_df[books_df['isbn'] == '0600570967']"
   ]
  },
  {
   "cell_type": "code",
   "execution_count": 250,
   "id": "4e2457e9-5db3-486f-a635-f5994b7cd29e",
   "metadata": {},
   "outputs": [
    {
     "data": {
      "text/html": [
       "<div>\n",
       "<style scoped>\n",
       "    .dataframe tbody tr th:only-of-type {\n",
       "        vertical-align: middle;\n",
       "    }\n",
       "\n",
       "    .dataframe tbody tr th {\n",
       "        vertical-align: top;\n",
       "    }\n",
       "\n",
       "    .dataframe thead th {\n",
       "        text-align: right;\n",
       "    }\n",
       "</style>\n",
       "<table border=\"1\" class=\"dataframe\">\n",
       "  <thead>\n",
       "    <tr style=\"text-align: right;\">\n",
       "      <th></th>\n",
       "      <th>isbn</th>\n",
       "      <th>title</th>\n",
       "      <th>author</th>\n",
       "      <th>publication_year</th>\n",
       "      <th>publisher</th>\n",
       "      <th>image_url</th>\n",
       "    </tr>\n",
       "  </thead>\n",
       "  <tbody>\n",
       "  </tbody>\n",
       "</table>\n",
       "</div>"
      ],
      "text/plain": [
       "Empty DataFrame\n",
       "Columns: [isbn, title, author, publication_year, publisher, image_url]\n",
       "Index: []"
      ]
     },
     "execution_count": 250,
     "metadata": {},
     "output_type": "execute_result"
    }
   ],
   "source": [
    "books_df[books_df['isbn'].apply(lambda isbn: isbn in missing_book_isbns)]"
   ]
  },
  {
   "cell_type": "markdown",
   "id": "70d1b015-a881-4bf4-bfff-48ec04bdd731",
   "metadata": {},
   "source": [
    "The obtained results show that there are books in the dataframe ratings_df, about which there is no data in books_df."
   ]
  },
  {
   "cell_type": "markdown",
   "id": "4af7a332-86d9-4270-bca1-00219b7a794e",
   "metadata": {
    "jp-MarkdownHeadingCollapsed": true
   },
   "source": [
    "##### An alternative method of checking"
   ]
  },
  {
   "cell_type": "code",
   "execution_count": 252,
   "id": "c81723a1-be9c-4a9c-8b35-0838090bd814",
   "metadata": {},
   "outputs": [
    {
     "name": "stdout",
     "output_type": "stream",
     "text": [
      "len(books_df) = 271358\n",
      "len(unique_books_df_isbns) = 271358\n"
     ]
    }
   ],
   "source": [
    "unique_books_df_isbns = set(books_df['isbn'].unique())\n",
    "\n",
    "print(f\"len(books_df) = {len(books_df)}\")\n",
    "print(f\"len(unique_books_df_isbns) = {len(unique_books_df_isbns)}\")"
   ]
  },
  {
   "cell_type": "code",
   "execution_count": 257,
   "id": "eb2609fb-c552-4a12-813d-568d39c3a42d",
   "metadata": {},
   "outputs": [
    {
     "name": "stdout",
     "output_type": "stream",
     "text": [
      "len(ratings_df) = 1139367\n",
      "len(ratings_df[ratings_df['isbn'].isin(unique_books_df_isbns)]) = 1031136\n"
     ]
    }
   ],
   "source": [
    "print(f\"len(ratings_df) = {len(ratings_df)}\")\n",
    "print(f\"len(ratings_df[ratings_df['isbn'].isin(unique_books_df_isbns)]) = {len(ratings_df[ratings_df['isbn'].isin(unique_books_df_isbns)])}\")"
   ]
  },
  {
   "cell_type": "code",
   "execution_count": 259,
   "id": "71fe67af-f069-4002-b4ed-f75af085abce",
   "metadata": {},
   "outputs": [
    {
     "data": {
      "text/html": [
       "<div>\n",
       "<style scoped>\n",
       "    .dataframe tbody tr th:only-of-type {\n",
       "        vertical-align: middle;\n",
       "    }\n",
       "\n",
       "    .dataframe tbody tr th {\n",
       "        vertical-align: top;\n",
       "    }\n",
       "\n",
       "    .dataframe thead th {\n",
       "        text-align: right;\n",
       "    }\n",
       "</style>\n",
       "<table border=\"1\" class=\"dataframe\">\n",
       "  <thead>\n",
       "    <tr style=\"text-align: right;\">\n",
       "      <th></th>\n",
       "      <th>user_id</th>\n",
       "      <th>isbn</th>\n",
       "      <th>rating</th>\n",
       "    </tr>\n",
       "  </thead>\n",
       "  <tbody>\n",
       "    <tr>\n",
       "      <th>6</th>\n",
       "      <td>276736</td>\n",
       "      <td>3257224281</td>\n",
       "      <td>8</td>\n",
       "    </tr>\n",
       "    <tr>\n",
       "      <th>7</th>\n",
       "      <td>276737</td>\n",
       "      <td>0600570967</td>\n",
       "      <td>6</td>\n",
       "    </tr>\n",
       "    <tr>\n",
       "      <th>25</th>\n",
       "      <td>276748</td>\n",
       "      <td>3442437407</td>\n",
       "      <td>0</td>\n",
       "    </tr>\n",
       "    <tr>\n",
       "      <th>26</th>\n",
       "      <td>276751</td>\n",
       "      <td>033390804X</td>\n",
       "      <td>0</td>\n",
       "    </tr>\n",
       "    <tr>\n",
       "      <th>30</th>\n",
       "      <td>276760</td>\n",
       "      <td>8440682697</td>\n",
       "      <td>10</td>\n",
       "    </tr>\n",
       "  </tbody>\n",
       "</table>\n",
       "</div>"
      ],
      "text/plain": [
       "    user_id        isbn  rating\n",
       "6    276736  3257224281       8\n",
       "7    276737  0600570967       6\n",
       "25   276748  3442437407       0\n",
       "26   276751  033390804X       0\n",
       "30   276760  8440682697      10"
      ]
     },
     "execution_count": 259,
     "metadata": {},
     "output_type": "execute_result"
    }
   ],
   "source": [
    "ratings_df[~ratings_df['isbn'].isin(unique_books_df_isbns)].head()"
   ]
  },
  {
   "cell_type": "code",
   "execution_count": 262,
   "id": "d802d871-99e5-4de0-92bb-cc2531e23c6c",
   "metadata": {},
   "outputs": [
    {
     "data": {
      "text/html": [
       "<div>\n",
       "<style scoped>\n",
       "    .dataframe tbody tr th:only-of-type {\n",
       "        vertical-align: middle;\n",
       "    }\n",
       "\n",
       "    .dataframe tbody tr th {\n",
       "        vertical-align: top;\n",
       "    }\n",
       "\n",
       "    .dataframe thead th {\n",
       "        text-align: right;\n",
       "    }\n",
       "</style>\n",
       "<table border=\"1\" class=\"dataframe\">\n",
       "  <thead>\n",
       "    <tr style=\"text-align: right;\">\n",
       "      <th></th>\n",
       "      <th>isbn</th>\n",
       "      <th>title</th>\n",
       "      <th>author</th>\n",
       "      <th>publication_year</th>\n",
       "      <th>publisher</th>\n",
       "      <th>image_url</th>\n",
       "    </tr>\n",
       "  </thead>\n",
       "  <tbody>\n",
       "  </tbody>\n",
       "</table>\n",
       "</div>"
      ],
      "text/plain": [
       "Empty DataFrame\n",
       "Columns: [isbn, title, author, publication_year, publisher, image_url]\n",
       "Index: []"
      ]
     },
     "execution_count": 262,
     "metadata": {},
     "output_type": "execute_result"
    }
   ],
   "source": [
    "books_df[books_df['isbn'] == '3257224281']"
   ]
  },
  {
   "cell_type": "code",
   "execution_count": 261,
   "id": "8048492c-fa27-42dc-a310-0ca452471df9",
   "metadata": {},
   "outputs": [
    {
     "name": "stdout",
     "output_type": "stream",
     "text": [
      "len(missing_book_isbns): 62139\n",
      "Book isbns in ratings_df but not in books_df: ['3257224281' '0600570967' '3442437407' ... '0140260676' '0385258259'\n",
      " '0670849871']\n"
     ]
    }
   ],
   "source": [
    "missing_books_df = ratings_df[~ratings_df['isbn'].isin(unique_books_df_isbns)]\n",
    "\n",
    "# Extract the unique isbn values\n",
    "missing_book_isbns = missing_books_df['isbn'].unique()\n",
    "\n",
    "print(f\"len(missing_book_isbns): {len(missing_book_isbns)}\")\n",
    "print(f\"Book isbns in ratings_df but not in books_df: {missing_book_isbns}\")"
   ]
  },
  {
   "cell_type": "markdown",
   "id": "3b8b0c82-188c-4720-a8e7-524707d0a00b",
   "metadata": {},
   "source": [
    "#### Solve the problem with books"
   ]
  },
  {
   "cell_type": "markdown",
   "id": "3fa4d9ad-7067-4993-a9b8-ee970dbcec98",
   "metadata": {},
   "source": [
    "Since in the database the rating table will have the isbn field as a FK to the isbn field of the book table, it is necessary that the ratings_df dataframe contains only those books that are available in books_df.  \n",
    "Therefore, we need to edit the ratings_df dataframe accordingly."
   ]
  },
  {
   "cell_type": "code",
   "execution_count": 263,
   "id": "6ecc8105-2830-45f1-9d99-d3a1ed3fd1df",
   "metadata": {},
   "outputs": [
    {
     "name": "stdout",
     "output_type": "stream",
     "text": [
      "len(books_df) = 271358\n",
      "len(unique_books_df_isbns) = 271358\n"
     ]
    }
   ],
   "source": [
    "unique_books_df_isbns = set(books_df['isbn'].unique())\n",
    "\n",
    "print(f\"len(books_df) = {len(books_df)}\")\n",
    "print(f\"len(unique_books_df_isbns) = {len(unique_books_df_isbns)}\")"
   ]
  },
  {
   "cell_type": "code",
   "execution_count": 264,
   "id": "fd67d2ea-8fe8-4f54-8625-312713b54bd3",
   "metadata": {},
   "outputs": [
    {
     "name": "stdout",
     "output_type": "stream",
     "text": [
      "len(ratings_df) before filtering: 1139367\n",
      "len(ratings_df) after filtering: 1031136\n"
     ]
    }
   ],
   "source": [
    "# Filter ratings_df to include only rows where isbn is present in books_df\n",
    "print(f\"len(ratings_df) before filtering: {len(ratings_df)}\")\n",
    "ratings_df = ratings_df[ratings_df['isbn'].isin(unique_books_df_isbns)]\n",
    "print(f\"len(ratings_df) after filtering: {len(ratings_df)}\")"
   ]
  },
  {
   "cell_type": "markdown",
   "id": "7d34141c-7662-4df2-8973-6bf3857bd516",
   "metadata": {
    "jp-MarkdownHeadingCollapsed": true
   },
   "source": [
    "#### Additional check of the 'rating' column"
   ]
  },
  {
   "cell_type": "code",
   "execution_count": 265,
   "id": "de325267-fa68-45ab-8d30-38652c7d170f",
   "metadata": {},
   "outputs": [
    {
     "data": {
      "text/html": [
       "<div>\n",
       "<style scoped>\n",
       "    .dataframe tbody tr th:only-of-type {\n",
       "        vertical-align: middle;\n",
       "    }\n",
       "\n",
       "    .dataframe tbody tr th {\n",
       "        vertical-align: top;\n",
       "    }\n",
       "\n",
       "    .dataframe thead th {\n",
       "        text-align: right;\n",
       "    }\n",
       "</style>\n",
       "<table border=\"1\" class=\"dataframe\">\n",
       "  <thead>\n",
       "    <tr style=\"text-align: right;\">\n",
       "      <th></th>\n",
       "      <th>user_id</th>\n",
       "      <th>isbn</th>\n",
       "      <th>rating</th>\n",
       "    </tr>\n",
       "  </thead>\n",
       "  <tbody>\n",
       "    <tr>\n",
       "      <th>0</th>\n",
       "      <td>276725</td>\n",
       "      <td>034545104X</td>\n",
       "      <td>0</td>\n",
       "    </tr>\n",
       "    <tr>\n",
       "      <th>1</th>\n",
       "      <td>276726</td>\n",
       "      <td>0155061224</td>\n",
       "      <td>5</td>\n",
       "    </tr>\n",
       "  </tbody>\n",
       "</table>\n",
       "</div>"
      ],
      "text/plain": [
       "   user_id        isbn  rating\n",
       "0   276725  034545104X       0\n",
       "1   276726  0155061224       5"
      ]
     },
     "execution_count": 265,
     "metadata": {},
     "output_type": "execute_result"
    }
   ],
   "source": [
    "ratings_df.head(2)"
   ]
  },
  {
   "cell_type": "markdown",
   "id": "7d7dfe49-86a6-4b86-92d6-2e4156227ed0",
   "metadata": {},
   "source": [
    "Let's check the range of values in which the values of the 'rating' column lie"
   ]
  },
  {
   "cell_type": "code",
   "execution_count": 267,
   "id": "df624de2-4432-4a40-910a-854c1a995d09",
   "metadata": {},
   "outputs": [
    {
     "name": "stdout",
     "output_type": "stream",
     "text": [
      "ratings_df['rating'].min() = 0; ratings_df['rating'].max() = 10\n"
     ]
    }
   ],
   "source": [
    "print(f\"ratings_df['rating'].min() = {ratings_df['rating'].min()}; ratings_df['rating'].max() = {ratings_df['rating'].max()}\")"
   ]
  },
  {
   "cell_type": "markdown",
   "id": "9e395c27-a493-4adc-9c2c-dc5299d7c437",
   "metadata": {},
   "source": [
    "### Save results into separate files"
   ]
  },
  {
   "cell_type": "markdown",
   "id": "5c8e59a6-8bd4-40bf-83da-28716afc481f",
   "metadata": {},
   "source": [
    "#### Additional validation of datasets before saving"
   ]
  },
  {
   "cell_type": "code",
   "execution_count": 271,
   "id": "0d4f73da-35bf-4064-ba2e-4846cd0ffabd",
   "metadata": {},
   "outputs": [
    {
     "name": "stdout",
     "output_type": "stream",
     "text": [
      "books_df['isbn_len'].unique() = [10]\n",
      "ratings_df['isbn_len'].unique() = [10]\n",
      "\n",
      "len(ratings_df) = 1031136\n"
     ]
    }
   ],
   "source": [
    "books_df['isbn_len'] = books_df['isbn'].apply(lambda x: len(x))\n",
    "ratings_df['isbn_len'] = ratings_df['isbn'].apply(lambda x: len(x))\n",
    "\n",
    "# There should be only 1 value - 10\n",
    "print(f\"books_df['isbn_len'].unique() = {books_df['isbn_len'].unique()}\")\n",
    "print(f\"ratings_df['isbn_len'].unique() = {ratings_df['isbn_len'].unique()}\\n\")\n",
    "\n",
    "books_df.drop('isbn_len', axis=1, inplace=True)\n",
    "ratings_df.drop('isbn_len', axis=1, inplace=True)\n",
    "\n",
    "# len(ratings_df) should be equal to 1031136\n",
    "print(f\"len(ratings_df) = {len(ratings_df)}\")"
   ]
  },
  {
   "cell_type": "code",
   "execution_count": 272,
   "id": "7890da39-49f5-4516-8dfc-746d278d7109",
   "metadata": {},
   "outputs": [
    {
     "data": {
      "text/html": [
       "<div>\n",
       "<style scoped>\n",
       "    .dataframe tbody tr th:only-of-type {\n",
       "        vertical-align: middle;\n",
       "    }\n",
       "\n",
       "    .dataframe tbody tr th {\n",
       "        vertical-align: top;\n",
       "    }\n",
       "\n",
       "    .dataframe thead th {\n",
       "        text-align: right;\n",
       "    }\n",
       "</style>\n",
       "<table border=\"1\" class=\"dataframe\">\n",
       "  <thead>\n",
       "    <tr style=\"text-align: right;\">\n",
       "      <th></th>\n",
       "      <th>isbn</th>\n",
       "      <th>title</th>\n",
       "      <th>author</th>\n",
       "      <th>publication_year</th>\n",
       "      <th>publisher</th>\n",
       "      <th>image_url</th>\n",
       "    </tr>\n",
       "  </thead>\n",
       "  <tbody>\n",
       "    <tr>\n",
       "      <th>0</th>\n",
       "      <td>0195153448</td>\n",
       "      <td>Classical Mythology</td>\n",
       "      <td>Mark P. O. Morford</td>\n",
       "      <td>2002</td>\n",
       "      <td>Oxford University Press</td>\n",
       "      <td>http://images.amazon.com/images/P/0195153448.0...</td>\n",
       "    </tr>\n",
       "    <tr>\n",
       "      <th>1</th>\n",
       "      <td>0002005018</td>\n",
       "      <td>Clara Callan</td>\n",
       "      <td>Richard Bruce Wright</td>\n",
       "      <td>2001</td>\n",
       "      <td>HarperFlamingo Canada</td>\n",
       "      <td>http://images.amazon.com/images/P/0002005018.0...</td>\n",
       "    </tr>\n",
       "  </tbody>\n",
       "</table>\n",
       "</div>"
      ],
      "text/plain": [
       "         isbn                title                author  publication_year  \\\n",
       "0  0195153448  Classical Mythology    Mark P. O. Morford              2002   \n",
       "1  0002005018         Clara Callan  Richard Bruce Wright              2001   \n",
       "\n",
       "                 publisher                                          image_url  \n",
       "0  Oxford University Press  http://images.amazon.com/images/P/0195153448.0...  \n",
       "1    HarperFlamingo Canada  http://images.amazon.com/images/P/0002005018.0...  "
      ]
     },
     "execution_count": 272,
     "metadata": {},
     "output_type": "execute_result"
    }
   ],
   "source": [
    "books_df.head(2)"
   ]
  },
  {
   "cell_type": "code",
   "execution_count": 273,
   "id": "ab16c9f9-5eb1-4a47-9110-30ac3087b4e6",
   "metadata": {},
   "outputs": [
    {
     "data": {
      "text/html": [
       "<div>\n",
       "<style scoped>\n",
       "    .dataframe tbody tr th:only-of-type {\n",
       "        vertical-align: middle;\n",
       "    }\n",
       "\n",
       "    .dataframe tbody tr th {\n",
       "        vertical-align: top;\n",
       "    }\n",
       "\n",
       "    .dataframe thead th {\n",
       "        text-align: right;\n",
       "    }\n",
       "</style>\n",
       "<table border=\"1\" class=\"dataframe\">\n",
       "  <thead>\n",
       "    <tr style=\"text-align: right;\">\n",
       "      <th></th>\n",
       "      <th>user_id</th>\n",
       "      <th>isbn</th>\n",
       "      <th>rating</th>\n",
       "    </tr>\n",
       "  </thead>\n",
       "  <tbody>\n",
       "    <tr>\n",
       "      <th>0</th>\n",
       "      <td>276725</td>\n",
       "      <td>034545104X</td>\n",
       "      <td>0</td>\n",
       "    </tr>\n",
       "    <tr>\n",
       "      <th>1</th>\n",
       "      <td>276726</td>\n",
       "      <td>0155061224</td>\n",
       "      <td>5</td>\n",
       "    </tr>\n",
       "  </tbody>\n",
       "</table>\n",
       "</div>"
      ],
      "text/plain": [
       "   user_id        isbn  rating\n",
       "0   276725  034545104X       0\n",
       "1   276726  0155061224       5"
      ]
     },
     "execution_count": 273,
     "metadata": {},
     "output_type": "execute_result"
    }
   ],
   "source": [
    "ratings_df.head(2)"
   ]
  },
  {
   "cell_type": "markdown",
   "id": "a4c07893-9cf5-434d-9437-e4471c349bfc",
   "metadata": {},
   "source": [
    "#### Save results into separate files"
   ]
  },
  {
   "cell_type": "code",
   "execution_count": 274,
   "id": "446f5087-480f-4b54-8e95-aa46d7e1d551",
   "metadata": {},
   "outputs": [
    {
     "name": "stdout",
     "output_type": "stream",
     "text": [
      "books_df.shape = (271358, 6); check_books_df.shape = (271358, 6)\n"
     ]
    },
    {
     "data": {
      "text/html": [
       "<div>\n",
       "<style scoped>\n",
       "    .dataframe tbody tr th:only-of-type {\n",
       "        vertical-align: middle;\n",
       "    }\n",
       "\n",
       "    .dataframe tbody tr th {\n",
       "        vertical-align: top;\n",
       "    }\n",
       "\n",
       "    .dataframe thead th {\n",
       "        text-align: right;\n",
       "    }\n",
       "</style>\n",
       "<table border=\"1\" class=\"dataframe\">\n",
       "  <thead>\n",
       "    <tr style=\"text-align: right;\">\n",
       "      <th></th>\n",
       "      <th>isbn</th>\n",
       "      <th>title</th>\n",
       "      <th>author</th>\n",
       "      <th>publication_year</th>\n",
       "      <th>publisher</th>\n",
       "      <th>image_url</th>\n",
       "    </tr>\n",
       "  </thead>\n",
       "  <tbody>\n",
       "    <tr>\n",
       "      <th>0</th>\n",
       "      <td>0195153448</td>\n",
       "      <td>Classical Mythology</td>\n",
       "      <td>Mark P. O. Morford</td>\n",
       "      <td>2002</td>\n",
       "      <td>Oxford University Press</td>\n",
       "      <td>http://images.amazon.com/images/P/0195153448.0...</td>\n",
       "    </tr>\n",
       "    <tr>\n",
       "      <th>1</th>\n",
       "      <td>0002005018</td>\n",
       "      <td>Clara Callan</td>\n",
       "      <td>Richard Bruce Wright</td>\n",
       "      <td>2001</td>\n",
       "      <td>HarperFlamingo Canada</td>\n",
       "      <td>http://images.amazon.com/images/P/0002005018.0...</td>\n",
       "    </tr>\n",
       "    <tr>\n",
       "      <th>2</th>\n",
       "      <td>0060973129</td>\n",
       "      <td>Decision in Normandy</td>\n",
       "      <td>Carlo D'Este</td>\n",
       "      <td>1991</td>\n",
       "      <td>HarperPerennial</td>\n",
       "      <td>http://images.amazon.com/images/P/0060973129.0...</td>\n",
       "    </tr>\n",
       "  </tbody>\n",
       "</table>\n",
       "</div>"
      ],
      "text/plain": [
       "         isbn                 title                author  publication_year  \\\n",
       "0  0195153448   Classical Mythology    Mark P. O. Morford              2002   \n",
       "1  0002005018          Clara Callan  Richard Bruce Wright              2001   \n",
       "2  0060973129  Decision in Normandy          Carlo D'Este              1991   \n",
       "\n",
       "                 publisher                                          image_url  \n",
       "0  Oxford University Press  http://images.amazon.com/images/P/0195153448.0...  \n",
       "1    HarperFlamingo Canada  http://images.amazon.com/images/P/0002005018.0...  \n",
       "2          HarperPerennial  http://images.amazon.com/images/P/0060973129.0...  "
      ]
     },
     "execution_count": 274,
     "metadata": {},
     "output_type": "execute_result"
    }
   ],
   "source": [
    "books_df.to_csv('../data/db_data/Books.csv', index=False)\n",
    "check_books_df = pd.read_csv('../data/db_data/Books.csv')\n",
    "\n",
    "print(f\"books_df.shape = {books_df.shape}; check_books_df.shape = {check_books_df.shape}\")\n",
    "check_books_df.head(3)"
   ]
  },
  {
   "cell_type": "code",
   "execution_count": 275,
   "id": "430d5674-adb8-456d-8a99-091a2a7a47f8",
   "metadata": {},
   "outputs": [
    {
     "name": "stdout",
     "output_type": "stream",
     "text": [
      "users_df.shape = (278858, 3); check_users_df.shape = (278858, 3)\n"
     ]
    },
    {
     "data": {
      "text/html": [
       "<div>\n",
       "<style scoped>\n",
       "    .dataframe tbody tr th:only-of-type {\n",
       "        vertical-align: middle;\n",
       "    }\n",
       "\n",
       "    .dataframe tbody tr th {\n",
       "        vertical-align: top;\n",
       "    }\n",
       "\n",
       "    .dataframe thead th {\n",
       "        text-align: right;\n",
       "    }\n",
       "</style>\n",
       "<table border=\"1\" class=\"dataframe\">\n",
       "  <thead>\n",
       "    <tr style=\"text-align: right;\">\n",
       "      <th></th>\n",
       "      <th>user_id</th>\n",
       "      <th>location</th>\n",
       "      <th>age</th>\n",
       "    </tr>\n",
       "  </thead>\n",
       "  <tbody>\n",
       "    <tr>\n",
       "      <th>0</th>\n",
       "      <td>1</td>\n",
       "      <td>nyc, new york, usa</td>\n",
       "      <td>NaN</td>\n",
       "    </tr>\n",
       "    <tr>\n",
       "      <th>1</th>\n",
       "      <td>2</td>\n",
       "      <td>stockton, california, usa</td>\n",
       "      <td>18.0</td>\n",
       "    </tr>\n",
       "    <tr>\n",
       "      <th>2</th>\n",
       "      <td>3</td>\n",
       "      <td>moscow, yukon territory, russia</td>\n",
       "      <td>NaN</td>\n",
       "    </tr>\n",
       "  </tbody>\n",
       "</table>\n",
       "</div>"
      ],
      "text/plain": [
       "   user_id                         location   age\n",
       "0        1               nyc, new york, usa   NaN\n",
       "1        2        stockton, california, usa  18.0\n",
       "2        3  moscow, yukon territory, russia   NaN"
      ]
     },
     "execution_count": 275,
     "metadata": {},
     "output_type": "execute_result"
    }
   ],
   "source": [
    "users_df.to_csv('../data/db_data/Users.csv', index=False)\n",
    "check_users_df = pd.read_csv('../data/db_data/Users.csv')\n",
    "\n",
    "print(f\"users_df.shape = {users_df.shape}; check_users_df.shape = {check_users_df.shape}\")\n",
    "check_users_df.head(3)"
   ]
  },
  {
   "cell_type": "code",
   "execution_count": 276,
   "id": "64b74929-3a12-4040-9633-e928c893abd3",
   "metadata": {},
   "outputs": [
    {
     "name": "stdout",
     "output_type": "stream",
     "text": [
      "ratings_df.shape = (1031136, 3); check_ratings_df.shape = (1031136, 3)\n"
     ]
    },
    {
     "data": {
      "text/html": [
       "<div>\n",
       "<style scoped>\n",
       "    .dataframe tbody tr th:only-of-type {\n",
       "        vertical-align: middle;\n",
       "    }\n",
       "\n",
       "    .dataframe tbody tr th {\n",
       "        vertical-align: top;\n",
       "    }\n",
       "\n",
       "    .dataframe thead th {\n",
       "        text-align: right;\n",
       "    }\n",
       "</style>\n",
       "<table border=\"1\" class=\"dataframe\">\n",
       "  <thead>\n",
       "    <tr style=\"text-align: right;\">\n",
       "      <th></th>\n",
       "      <th>user_id</th>\n",
       "      <th>isbn</th>\n",
       "      <th>rating</th>\n",
       "    </tr>\n",
       "  </thead>\n",
       "  <tbody>\n",
       "    <tr>\n",
       "      <th>0</th>\n",
       "      <td>276725</td>\n",
       "      <td>034545104X</td>\n",
       "      <td>0</td>\n",
       "    </tr>\n",
       "    <tr>\n",
       "      <th>1</th>\n",
       "      <td>276726</td>\n",
       "      <td>0155061224</td>\n",
       "      <td>5</td>\n",
       "    </tr>\n",
       "    <tr>\n",
       "      <th>2</th>\n",
       "      <td>276727</td>\n",
       "      <td>0446520802</td>\n",
       "      <td>0</td>\n",
       "    </tr>\n",
       "  </tbody>\n",
       "</table>\n",
       "</div>"
      ],
      "text/plain": [
       "   user_id        isbn  rating\n",
       "0   276725  034545104X       0\n",
       "1   276726  0155061224       5\n",
       "2   276727  0446520802       0"
      ]
     },
     "execution_count": 276,
     "metadata": {},
     "output_type": "execute_result"
    }
   ],
   "source": [
    "ratings_df.to_csv('../data/db_data/Ratings.csv', index=False)\n",
    "check_ratings_df = pd.read_csv('../data/db_data/Ratings.csv')\n",
    "\n",
    "print(f\"ratings_df.shape = {ratings_df.shape}; check_ratings_df.shape = {check_ratings_df.shape}\")\n",
    "check_ratings_df.head(3)"
   ]
  },
  {
   "cell_type": "code",
   "execution_count": 277,
   "id": "d9519210-4336-4e55-9e92-33145622c085",
   "metadata": {},
   "outputs": [
    {
     "name": "stdout",
     "output_type": "stream",
     "text": [
      "check_books_df['isbn_len'].unique() = [10]\n",
      "check_ratings_df['isbn_len'].unique() = [10]\n",
      "\n",
      "len(check_ratings_df) = 1031136\n"
     ]
    }
   ],
   "source": [
    "check_books_df['isbn_len'] = check_books_df['isbn'].apply(lambda x: len(x))\n",
    "check_ratings_df['isbn_len'] = check_ratings_df['isbn'].apply(lambda x: len(x))\n",
    "\n",
    "# There should be only 1 value - 10\n",
    "print(f\"check_books_df['isbn_len'].unique() = {check_books_df['isbn_len'].unique()}\")\n",
    "print(f\"check_ratings_df['isbn_len'].unique() = {check_ratings_df['isbn_len'].unique()}\\n\")\n",
    "\n",
    "# len(ratings_df) should be equal to 1031136\n",
    "print(f\"len(check_ratings_df) = {len(check_ratings_df)}\")"
   ]
  }
 ],
 "metadata": {
  "kernelspec": {
   "display_name": "Python 3 (ipykernel)",
   "language": "python",
   "name": "python3"
  },
  "language_info": {
   "codemirror_mode": {
    "name": "ipython",
    "version": 3
   },
   "file_extension": ".py",
   "mimetype": "text/x-python",
   "name": "python",
   "nbconvert_exporter": "python",
   "pygments_lexer": "ipython3",
   "version": "3.10.8"
  }
 },
 "nbformat": 4,
 "nbformat_minor": 5
}
